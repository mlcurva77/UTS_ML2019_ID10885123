{
  "nbformat": 4,
  "nbformat_minor": 0,
  "metadata": {
    "colab": {
      "name": "Untitled2.ipynb",
      "version": "0.3.2",
      "provenance": [],
      "include_colab_link": true
    },
    "kernelspec": {
      "name": "python3",
      "display_name": "Python 3"
    }
  },
  "cells": [
    {
      "cell_type": "markdown",
      "metadata": {
        "id": "view-in-github",
        "colab_type": "text"
      },
      "source": [
        "<a href=\"https://colab.research.google.com/github/mlcurva77/UTS_ML2019_ID10885123/blob/master/ML2019_ID10885123_A2_Report.ipynb\" target=\"_parent\"><img src=\"https://colab.research.google.com/assets/colab-badge.svg\" alt=\"Open In Colab\"/></a>"
      ]
    },
    {
      "cell_type": "code",
      "metadata": {
        "id": "nkVDrKQG-Wvk",
        "colab_type": "code",
        "colab": {}
      },
      "source": [
        ""
      ],
      "execution_count": 0,
      "outputs": []
    },
    {
      "cell_type": "markdown",
      "metadata": {
        "id": "Kyh5C-3P_YPh",
        "colab_type": "text"
      },
      "source": [
        "# Overview"
      ]
    },
    {
      "cell_type": "markdown",
      "metadata": {
        "id": "63GAm_i-_a0a",
        "colab_type": "text"
      },
      "source": [
        "This report aims to analyse a portfolio of documents from Ernst and Young (EY) to learn about the company’s values and what is important to them when working with other organisations. The report will also demonstrate the use of NLTK and Gensim to examine the documents and derive meaningful insights. "
      ]
    },
    {
      "cell_type": "markdown",
      "metadata": {
        "id": "RFI5CYym_fnm",
        "colab_type": "text"
      },
      "source": [
        ""
      ]
    },
    {
      "cell_type": "markdown",
      "metadata": {
        "id": "FvPbmSmO_tD6",
        "colab_type": "text"
      },
      "source": [
        "# Data Description"
      ]
    },
    {
      "cell_type": "markdown",
      "metadata": {
        "id": "UKvXT227_xJL",
        "colab_type": "text"
      },
      "source": [
        "There were twenty-eight (28) text documents from EY with varying content and sizes. All documents were loaded in GoogleColab from the Google Drive directory. The list of files are shown below with the corresponding number of words per document.\\\n",
        "\n",
        "713 01_AFR1.txt\\\n",
        "751 01_AFR2.txt\\\n",
        "1360 01_AFR3.txt\\\n",
        "906 01_AFR4.txt\\\n",
        "399 02_EY1.txt\\\n",
        "694 02_EY2.txt\\\n",
        "3577 02_EY3.txt\\\n",
        "12457 02_EY4.txt\\\n",
        "6403 02_EY5.txt\\\n",
        "7583 02_EY6.txt\\\n",
        "14264 02_EY7.txt\\\n",
        "821 02_EY8.txt\\\n",
        "1460 03_EY1.txt\\\n",
        "949 03_EY10.txt\\\n",
        "1305 03_EY2.txt\\\n",
        "1044 03_EY3.txt\\\n",
        "515 03_EY4.txt\\\n",
        "560 03_EY5.txt\\\n",
        "865 03_EY6.txt\\\n",
        "1371 03_EY7.txt\\\n",
        "1245 03_EY8.txt\\\n",
        "1201 03_EY9.txt\\\n",
        "3603 04_EY1.txt\\\n",
        "402 05_UNSW1.txt\\\n",
        "1345 05_UQ1.txt\\\n",
        "697 05_USYD1.txt\\\n",
        "578 05_UTS1.txt\\\n",
        "856 05_UWA1.txt\\\n",
        "\n",
        "All the documents are unstructured which require being transformed for analysis. The following transformation were performed on the "
      ]
    }
  ]
}
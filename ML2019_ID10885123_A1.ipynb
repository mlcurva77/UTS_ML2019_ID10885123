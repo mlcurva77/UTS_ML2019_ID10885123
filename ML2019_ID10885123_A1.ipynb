{
  "nbformat": 4,
  "nbformat_minor": 0,
  "metadata": {
    "colab": {
      "name": "Untitled1.ipynb",
      "version": "0.3.2",
      "provenance": [],
      "toc_visible": true,
      "include_colab_link": true
    },
    "kernelspec": {
      "name": "python3",
      "display_name": "Python 3"
    }
  },
  "cells": [
    {
      "cell_type": "markdown",
      "metadata": {
        "id": "view-in-github",
        "colab_type": "text"
      },
      "source": [
        "<a href=\"https://colab.research.google.com/github/mlcurva77/UTS_ML2019_ID10885123/blob/master/ML2019_ID10885123_A1.ipynb\" target=\"_parent\"><img src=\"https://colab.research.google.com/assets/colab-badge.svg\" alt=\"Open In Colab\"/></a>"
      ]
    },
    {
      "cell_type": "markdown",
      "metadata": {
        "id": "P6y3eAts0Upt",
        "colab_type": "text"
      },
      "source": [
        "# Review Report on Eigenfaces vs. Fisherfaces: Recognition Using Class Specific Linear Projection {-}\n",
        "### *Machine Learning - Assignment AT1 - 10885123*\n",
        "https://github.com/mlcurva77/UTS_ML2019_ID10885123/blob/master/ML2019_ID10885123_A1.ipynb"
      ]
    },
    {
      "cell_type": "markdown",
      "metadata": {
        "id": "3Iblfznywi6W",
        "colab_type": "text"
      },
      "source": [
        "#Introduction"
      ]
    },
    {
      "cell_type": "markdown",
      "metadata": {
        "id": "yKC5Q-v-wqd3",
        "colab_type": "text"
      },
      "source": [
        "The advancement in Face Recognition technology has been fascinating. The application of Face Recognition is now widespread with modern security systems such as mobile security, law enforcement, airports, building security, identification technology and surveillance systems adapting the use of Face Recognition algorithms. Such application is deemed complex due to constraints and variability factors resulting in various technical challenges. Some of the variability factors considered in Face Recognition includes lighting, pose, facial expression, position, orientation, skin colours, presence of glasses, and image resolution.\n",
        ">\n",
        "\n",
        "In the past decade, various algorithms had been proposed to address the face recognition problem. Although a lot of progress was made to address small variations in light, facial expression and pose, significant differences in the images remained challenging.\n",
        ">\n",
        "\n",
        "This report provides a review of the \"Eigenfaces vs Fisherfaces: Recognition Using Class Specific Linear Projection\" paper which proposed a new algorithm technique called Fisherfaces. The method uses Fisher's Linear Discriminant maximising the ratio of the between-class scatter to within-class scatter. Fisherfaces was proven to be insensitive to significant variations in lighting and facial expressions as compared to Correlation, Eigenfaces and Linear Subspaces methods.\t\n",
        ">\n",
        "The motivation of the Fisherfaces method was based on two observations;\n",
        "  \n",
        "1. All of the images of a Lambertian surface, taken from a fixed viewpoint, but under varying illumination, lie in a 3D linear subspace of the high-dimensional image space. (Belhumeur, Hespanha & Kriegman 1997). This is a technique in which a 3D form is reconstructed using three or more images of the same object each lit from a different and known direction and estimating surface normals at each pixel coordinate (Hansen n.d.).\n",
        "\n",
        "2. Differences in the regions of the images of shadowing, specularities, and facial expressions contradicts the statement above. Significant variations to the features mentioned will result in deviation in linear subspace, affecting the accuracy of the recognition results.\n",
        "\n",
        "The objective of the paper is to find a Face Recognition algorithm that would result to a linear projection of the face images from the high-dimensional image space to a lower-dimensional image space that is not affected by changes to lighting direction and facial expression.\n"
      ]
    },
    {
      "cell_type": "markdown",
      "metadata": {
        "id": "PExywOr7w_pE",
        "colab_type": "text"
      },
      "source": [
        "#Content"
      ]
    },
    {
      "cell_type": "markdown",
      "metadata": {
        "id": "hGj8TyaYxUtf",
        "colab_type": "text"
      },
      "source": [
        "The paper discussed four Face Recognition algorithms and compared the four methods by conducting experiments on databases of images taken under different lighting, facial expression and eye wear. The methods used were\n",
        "\n",
        ">>•\tCorrelation\n",
        "\n",
        ">>•\tEigenfaces\n",
        "\n",
        ">>•\tLinear Subspaces\n",
        "\n",
        ">>•\tFisherfaces\n",
        "\n",
        "The comparison utilised a combination of images from Harvard and Yale databases (490 images). Note that the variation in the pose was not considered in the comparison.\n",
        "\n",
        "\n",
        ">1) Correlation\n",
        "\n",
        ">Correlation is a discriminant classifier which finds a division in the feature space that separates the classes. The test image is recognised by finding the closest training label in the image space. Normalising the mean to zero is similar to finding the correlation between the training image and the test image. The training image and test image with the highest positive correlation would be the closest match. The normalisation process also meant that the results were independent of the light source.\n",
        "\n",
        ">The Correlation has known disadvantages which include the following;\n",
        "\n",
        ">>•\tImages taken under different lighting conditions will have features that are not tightly clustered together, which will give inaccurate results.\n",
        "\n",
        ">>•\tThe method is computationally expensive.\n",
        "\n",
        "\n",
        ">2) Eigenfaces\n",
        "\n",
        ">Eigenfaces is an algorithm that uses Principal Component Analysis (PCA) which reduces dimensionality by projecting the original samples to a lower-dimensional subspace maximising the scatter of all the images. The method is less computationally intensive as it uses less number of features. \n",
        "\n",
        ">The method works by normalising the training set by subtracting the mean face, which gives only the unique features of each face. The Covariance matrix is then calculated using the dot product of the normalised images and its transpose equivalent as represented by the equation below;\n"
      ]
    },
    {
      "cell_type": "markdown",
      "metadata": {
        "id": "-e-Hrbpxxvxc",
        "colab_type": "text"
      },
      "source": [
        "$$ S_T \\sum^{N}_{k+1}(x_k - \\mu)(x_k - \\mu)^T $$\n",
        "\n",
        ">Where n is the number of sample images, x is the dimensions of the original image, and $ \\mu \\sum R^n $ is the dimensions of the mean face. $(x_k - \\mu)$ represents the normalised image and $(x_k - \\mu)^T$ is the transpose equivalent. \n",
        "\n",
        ">The Eigenvectors $ y^k $ of the linearly transformed features are determined using the formula below;\n",
        "\n",
        ">Where $ x_k $ is the dot product of $S^T$ (Covariance) and $W \\sum R^ {n×m} $ (dimensions of the original image) as shown below;\n",
        "\n",
        "$$ y_k = W^TS_TW $$\n",
        "\n",
        ">The Eigenvectors with the largest eigenvalues determine the features causing the most significant variation between images. These Eigenvectors are also known as Eigenfaces.\n",
        "\n",
        "$$ W_{opt} = argmax _w|W^TS_TW| $$\n",
        "\n",
        ">One of the main disadvantages of the Eigenfaces method is its sensitivity to variation in light. The most significant difference detected represented by the largest eigenvalues, is the changes in the illumination of each image.\n",
        "\n",
        "\n",
        ">3) Linear Subspaces\n",
        "\n",
        ">Linear Subspace method performs face recognition by reconstructing the albedo and surface normal of the face using three or more pictures of the face taken under different light sources.  Note that the images were taken from the same viewpoint in which the camera was in a fixed position. \n",
        "\n",
        ">Photometric Stereo is one variation of Linear Subspace methods. Photometric Stereo determines the albedo and surface normal by calculating the image intensity using the following equation;\n",
        "\n",
        "$$ E(p) = a(p)n(p)^Ts $$\n",
        "\n",
        ">Where $E(p)$ is the intensity of the image, $a(p)$ is the albedo of the surface, $n(p)$ is the surface normal and s is the product of the light source intensity and light source direction.\n",
        "\n",
        ">Assuming the image is a Lambertian surface and there is no noise or shadowing, Linear Subspace method is insensitive to variation in lighting. However, this assumption may be difficult to achieve because an image will have shadows and differences in facial expression that would not agree with the linear subspace model.\n",
        "\n",
        ">Linear Subspace model is also computationally intensive as you need to store three or more images in the memory for each face. Additionally, the distance to the linear subspace will need to be measured for each person."
      ]
    },
    {
      "cell_type": "markdown",
      "metadata": {
        "id": "7NTWnFzlyQtK",
        "colab_type": "text"
      },
      "source": [
        ">4) Fisherfaces\n",
        "\n",
        ">Fisherface is an algorithm that uses a combination of Principal Component Analysis (PCA) and Linear Discriminant Analysis (LDA) methods. LDA is sometimes known as Fisher’s Linear Discriminant (FLD). The PCA method is used to solve singular problems by reducing the dimensions before being used to perform the LDA process (Anggo & Arapu 2018).  \n",
        "\n",
        ">PCA algorithm finds the direction of the highest variance in the data while FLD or LDA determines the maximum ratio of the between-class scatter and the within-class scatter in the data. Figure 1 illustrates the difference between the PCA and FLD for a two-class problem where data for each class lies near a linear subspace.\n",
        "\n",
        "<figure>\n",
        "<center>\n",
        "<img src=\"https://github.com/mlcurva77/Machine-Learning/blob/master/Figure_1.jpg?raw=true\" width=\"300\"/>\n",
        "</figure>\n",
        "\n",
        ">The formula below is used to optimise the ratio between-class scatter and the within-class scatter of the data;\n",
        "\n",
        "$$ W^T_{opt} = W^T_{fld}W^T_{pca} $$\n",
        "\n",
        "  \n",
        "\n",
        ">where $ W_{pca} = arg max|W^TS_TW| $\n",
        "\n"
      ]
    },
    {
      "cell_type": "markdown",
      "metadata": {
        "id": "jtnb9f5xCBWl",
        "colab_type": "text"
      },
      "source": [
        "## Conclusion"
      ]
    },
    {
      "cell_type": "markdown",
      "metadata": {
        "id": "YK5xJq5SCJMZ",
        "colab_type": "text"
      },
      "source": [
        " \n",
        "The paper concluded the following;\n",
        "\n",
        "1.\tAll methods perform well when the test image used is similar to the training image.\n",
        "  \n",
        "2.\tFisherface method is the most insensitive to lighting as compared to all other methods.\n",
        "  \n",
        "3.\tRemoving the first three PCA components improved the sensitivity of the Eigenface method to lighting. The first three PCA components capture the variations in lighting.\n",
        "  \n",
        "4.\tAs more PCA components used in Eigenface method, the result is close to Correlation. Removing the first three components improves the accuracy of the method due to increased dimensionality of the features. However, the performance saturates at about 45 principal components.\n",
        "  \n",
        "5.\tFisherface method is the most insensitive to lighting and facial expression. Linear Subspace method is inaccurate when subjected to variation in facial expression."
      ]
    },
    {
      "cell_type": "markdown",
      "metadata": {
        "id": "ojaqr1dpyhaE",
        "colab_type": "text"
      },
      "source": [
        "# Innovation"
      ]
    },
    {
      "cell_type": "markdown",
      "metadata": {
        "id": "fEfo4utPyjz6",
        "colab_type": "text"
      },
      "source": [
        "Various algorithms had been proposed in the past to address the face recognition problem. Although a lot of progress was made to address small variations in light, facial expression and pose, significant differences in the images remained challenging. The objective of the paper is to find a Face Recognition algorithm that would be insensitive to lighting, facial expression and eyewear.\n",
        "\n",
        "Four Face Recognition algorithms were compared by conducting experiments on images from Harvard and Yale databases. The methods used were\n",
        ">>•\tCorrelation\n",
        "\n",
        ">>•\tEigenfaces\n",
        "\n",
        ">>•\tLinear Subspaces\n",
        "\n",
        ">>•\tFisherfaces\n",
        "\n",
        "Correlation and Eigenface algorithms are linear discriminant classification methods. However, both approaches are less optimal in separating between classes, which makes both algorithms sensitive to variations in lighting when applied to facial recognition. Linear Subspace method was proven to be insensitive to a difference in lighting with the assumption that the image is a Lambertian surface, and there is no noise or shadowing in the picture.\n",
        "\n",
        "In the paper, Belheumeur proposed the Fischerface method for face recognition. The technique used a combination of PCA and FDA algorithms. Fischerface is an improved version of the Eigenface algorithm.  The PCA is used to solve singular problems by reducing the dimensions before being used to perform the LDA process. However, the PCA dimension reduction process will cause some loss of discriminant information useful in the LDA process  (Anggo & Arapu 2018).\n",
        "\n",
        "Although Fisherface method have improvements on sensitivity to lighting and variations in facial expressions, it is still computationally intensive similar to the other techniques.\n"
      ]
    },
    {
      "cell_type": "markdown",
      "metadata": {
        "id": "jIKh7p6PyrSG",
        "colab_type": "text"
      },
      "source": [
        "# Technical Quality"
      ]
    },
    {
      "cell_type": "markdown",
      "metadata": {
        "id": "zdTJG4Bkyvqc",
        "colab_type": "text"
      },
      "source": [
        "The paper was quite difficult to follow for people with limited knowledge on Correlation, Eigenface, Linear Subspace, the application of PCA and LDA. Additional readings and online research were required for me to understand the context presented in the paper. Although there were a lot of references used in the paper to help explain the methods, the time was limited to read all the research papers. \n",
        "\n",
        "For Eigenface, I needed to review the concept of PCA and how it is applied to face recognition. There is an online lecture in Udacity on Eigenfaces, which helped a lot in understanding the Eigenface method. \n",
        "Linear Subspace is even more confusing. There were few terminologies such as Lambertian surface, surface normal and albedo that I have to look up online to understand what Linear Subspace is all about. \n",
        "\n",
        "Understanding the difference between PCA and LDA is key to understanding the difference between Eigenface and Fisherface. So I spent significant time understanding the difference between PCA and LDA from online references.\n",
        "\n",
        "The results of the experiments were easy to understand. The tests conducted were compared using graphs and tables to show the differences between the techniques. However, the results will be difficult to replicate as the details in the paper were not detailed enough to replay the experiment.\n"
      ]
    },
    {
      "cell_type": "markdown",
      "metadata": {
        "id": "_uqsjIITyx6k",
        "colab_type": "text"
      },
      "source": [
        "# Application and X-factor"
      ]
    },
    {
      "cell_type": "markdown",
      "metadata": {
        "id": "huaIHebDzCCv",
        "colab_type": "text"
      },
      "source": [
        "The application of Face Recognition is everywhere with modern security systems such as mobile security, law enforcement, airports, building security, identification technology and surveillance systems adapting the use of Face Recognition algorithms. Such application is deemed complex due to constraints and variability factors resulting in various technical challenges.\n",
        "\n",
        "Fisherface became one of the popular algorithms used in face recognition and proven to be more effective than Eigenface because of the separation of classes during the training process. Although the sensitivity to lighting and facial expression have significantly improved compared to Eigenface and Linear Subspace, the Fisherface method still had problems with the blurring effect of the image, scaling factors and variation in poses (Anggo & Arapu 2018). The technique can be improved further by conducting more experiments using higher scale images and images with varying poses.\n"
      ]
    },
    {
      "cell_type": "markdown",
      "metadata": {
        "id": "L_QDFjlVzGSc",
        "colab_type": "text"
      },
      "source": [
        "# Presentation"
      ]
    },
    {
      "cell_type": "markdown",
      "metadata": {
        "id": "CUfPBgf9JeWo",
        "colab_type": "text"
      },
      "source": [
        "The overall presentation of the paper was excellent. The problem statement and the objective of the study were outlined and articulated clearly. The authors discussed each of the methods with the merits and disadvantages highlighted for each. The author started talking about Correlation, the most straightforward algorithm among the four. It was followed by Eigenface, which is a better method in feature dimensionality reduction. Linear Subspace was discussed next comparing Correlation and Eigenface on sensitivity to variation in lighting. Finally, Fisherface was discussed, concluding that it was the best of the four methods given that it is the least sensitive to differences in light and facial expressions. The paper can be improved by adding more details on the computation used for each of the methods so that it is easier to understand when attempting to replicate the experiments."
      ]
    },
    {
      "cell_type": "markdown",
      "metadata": {
        "id": "8jWaZCspJyC6",
        "colab_type": "text"
      },
      "source": [
        "#References"
      ]
    },
    {
      "cell_type": "markdown",
      "metadata": {
        "id": "gDlWLWxkJ0Ha",
        "colab_type": "text"
      },
      "source": [
        ">Anggo, M. & Arapu, L. 2018, ‘Face Recognition Using Fisherface Method’, Journal of Physics: Conference Series, vol. 1028, p. 012119.\n",
        "\n",
        ">Belhumeur, P.N., Hespanha, J.P. & Kriegman, D.J. 1997, ‘Eigenfaces vs. Fisherfaces: Recognition Using Class Specific Linear Projection’, IEEE TRANSACTIONS ON PATTERN ANALYSIS AND MACHINE INTELLIGENCE, vol. 19, no. 7, p. 10.\n",
        "\n",
        ">Chellappa, R., Wilson, C.L. & Sirohey, S. 1995, ‘Human and machine recognition of faces: a survey’, Proceedings of the IEEE, vol. 83, no. 5, pp. 705–41.\n",
        "\n",
        ">Data Science Courses 2015, Ali Ghodsi, Lec 4: PCA,Fisher’s Discriminant Analysis (FDA), viewed 23 August 2019, <https://www.youtube.com/watch?v=hGKt0yy9q_E&t=3183s>.\n",
        "\n",
        ">Hansen, M.F. n.d., 3D Face Recognition Using Photometric Stereo, p. 321.\n",
        "\n",
        ">Turk, M.A. & Pentland, A. ‘Sandy’ 1991, ‘Eigenfaces for Recognition’, Journal of Cognitive Neuroscience, vol. 3, pp. 71–86.\n",
        "\n",
        ">Udacity 2015, Eigenfaces, viewed 23 August 2019, <https://www.youtube.com/watch?v=jQOZrXZTXcw>.\n",
        "\n"
      ]
    }
  ]
}
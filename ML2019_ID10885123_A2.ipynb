{
  "nbformat": 4,
  "nbformat_minor": 0,
  "metadata": {
    "kernelspec": {
      "display_name": "Python 3",
      "language": "python",
      "name": "python3"
    },
    "language_info": {
      "codemirror_mode": {
        "name": "ipython",
        "version": 3
      },
      "file_extension": ".py",
      "mimetype": "text/x-python",
      "name": "python",
      "nbconvert_exporter": "python",
      "pygments_lexer": "ipython3",
      "version": "3.7.1"
    },
    "colab": {
      "name": "ML2019_ID10885123_A2.ipynb",
      "version": "0.3.2",
      "provenance": [],
      "include_colab_link": true
    }
  },
  "cells": [
    {
      "cell_type": "markdown",
      "metadata": {
        "id": "view-in-github",
        "colab_type": "text"
      },
      "source": [
        "<a href=\"https://colab.research.google.com/github/mlcurva77/UTS_ML2019_ID10885123/blob/master/ML2019_ID10885123_A2.ipynb\" target=\"_parent\"><img src=\"https://colab.research.google.com/assets/colab-badge.svg\" alt=\"Open In Colab\"/></a>"
      ]
    },
    {
      "cell_type": "markdown",
      "metadata": {
        "id": "1q9AvPyWq-D2",
        "colab_type": "text"
      },
      "source": [
        "# Text Analytics and Topic Modelling"
      ]
    },
    {
      "cell_type": "markdown",
      "metadata": {
        "id": "RS0nj12pKdiR",
        "colab_type": "text"
      },
      "source": [
        "## 1. Overview"
      ]
    },
    {
      "cell_type": "markdown",
      "metadata": {
        "id": "zzACOeTFKkbP",
        "colab_type": "text"
      },
      "source": [
        "Any company or organisation generates a significant amount of documentation to record information about their business. The process of analysing the documents takes a lot of time and resources, which makes it slow and inefficient. Text Analytics helps to resolve this issue. Text Analytics is the automated process of analysing text documents and deriving meaningful information from unstructured data.\n",
        "\n",
        "This report aims to analyse a portfolio of documents from Ernst and Young (EY) to learn about the company’s values and what is important to them when working with other organisations.  Text Analytics and Topic Modelling will be used to examine and derive meaningful insights from the documents. The Natural Language Toolkit (NLTK) was used for performing Text Analytics and Gensim for Topic Modelling. "
      ]
    },
    {
      "cell_type": "markdown",
      "metadata": {
        "id": "4aIaT6pYKnP-",
        "colab_type": "text"
      },
      "source": [
        "## 2. Data Description"
      ]
    },
    {
      "cell_type": "markdown",
      "metadata": {
        "id": "Yq1AVhJgKpBT",
        "colab_type": "text"
      },
      "source": [
        "There were twenty-eight (28) text documents from EY with varying content and sizes. All documents were loaded in GoogleColab from the Google Drive directory. The list of files is shown below with the corresponding number of words per document.\n",
        "\n",
        "| Number of Words | File Name |\n",
        "|---| --- |\n",
        "| 713 | 01_AFR1.txt\n",
        "| 751\t| 01_AFR2.txt\n",
        "| 1360\t| 01_AFR3.txt\n",
        "| 906\t| 01_AFR4.txt\n",
        "| 399\t| 02_EY1.txt\n",
        "| 694\t| 02_EY2.txt\n",
        "| 3577\t| 02_EY3.txt\n",
        "| 12457\t| 02_EY4.txt\n",
        "| 6403\t| 02_EY5.txt\n",
        "| 7583\t| 02_EY6.txt\n",
        "| 14264\t| 02_EY7.txt\n",
        "| 821\t| 02_EY8.txt\n",
        "| 1460\t| 03_EY1.txt\n",
        "| 949\t| 03_EY10.txt\n",
        "| 1305\t| 03_EY2.txt\n",
        "| 1044\t| 03_EY3.txt\n",
        "| 515\t| 03_EY4.txt\n",
        "| 560\t| 03_EY5.txt\n",
        "| 865\t| 03_EY6.txt\n",
        "| 1371\t| 03_EY7.txt\n",
        "| 1245\t| 03_EY8.txt\n",
        "| 1201\t| 03_EY9.txt\n",
        "| 3603\t| 04_EY1.txt\n",
        "| 402\t| 05_UNSW1.txt\n",
        "| 1345\t| 05_UQ1.txt\n",
        "| 697\t| 05_USYD1.txt\n",
        "| 578\t| 05_UTS1.txt\n",
        "| 856\t| 05_UWA1.txt"
      ]
    },
    {
      "cell_type": "markdown",
      "metadata": {
        "id": "DG5X8kZcOg5n",
        "colab_type": "text"
      },
      "source": [
        "## 3. Text Analytics using NLTK"
      ]
    },
    {
      "cell_type": "markdown",
      "metadata": {
        "id": "VA7mEGiAOlQZ",
        "colab_type": "text"
      },
      "source": [
        "This section illustrates how to use the classes in NLTK for text transformation. \n",
        "\n",
        "All the documents are unstructured, which require to be transformed for analysis. NLTK was mainly used to explore and understand the datasets. \n",
        "\n",
        "Each document needs to be tokenised because the data is unstructured. Tokenisation is the process of breaking down a text paragraph into sentences or words. The following transformation was performed on the documents after the documents were tokenised.\n",
        "\n",
        "* Removal of punctuation using the string package.\n",
        "* Change words to lower case.\n",
        "* Removal of common English stopwords. Stopwords are considered noise in the data and do not add value to the analysis. Some examples of stopwords includes is, am, are, this, a, an, the, etc.\n",
        "* Stemming and Lemmatization. Stemming and Lemmatization are language normalisation process, which reduces words to their word root word."
      ]
    },
    {
      "cell_type": "markdown",
      "metadata": {
        "id": "CUIG-VN1tjq2",
        "colab_type": "text"
      },
      "source": [
        "### 3.10 Loading the Packages\n",
        "\n",
        "The following packages were used for Text Analytics and Topic Modelling;\n",
        "\n",
        "*   NLTK - The Natural Language Toolkit (NLTK) is an open source Python library for Natural Language Processing.\n",
        "*   re - This module provides regular expression matching operations similar to those found in Perl.\n",
        "* numpy - NumPy is the fundamental package for scientific computing with Python. \n",
        "* Gensim - Gensim is a Python library for topic modelling, document indexing and similarity retrieval with large corpora.\n",
        "* pyLDAvis - Python library for interactive topic model visualization.\n",
        "* matplotlib - plotting library for the Python programming language and its numerical mathematics extension NumPy.  \n",
        "* Using spaCy for POS tagging. spaCy is a package used for tagging, parsing and named entity recognition.\n",
        "\n"
      ]
    },
    {
      "cell_type": "code",
      "metadata": {
        "id": "47nF31JoWKLa",
        "colab_type": "code",
        "colab": {}
      },
      "source": [
        "#Loading NLTK\n",
        "import nltk\n",
        "!pip install -q nltk==3.4.3\n",
        "\n",
        "nltk.download('punkt')\n",
        "nltk.download('stopwords')\n",
        "nltk.download('wordnet')\n",
        "from nltk.stem import WordNetLemmatizer, SnowballStemmer\n",
        "from nltk.stem.porter import *\n",
        "\n",
        "# spacy for lemmatization\n",
        "import spacy\n",
        "\n",
        "import re\n",
        "import numpy as np\n",
        "import pandas as pd\n",
        "from pprint import pprint\n",
        "\n",
        "# Gensim\n",
        "import gensim\n",
        "import gensim.corpora as corpora\n",
        "from gensim.utils import simple_preprocess\n",
        "from gensim.models import CoherenceModel\n",
        "\n",
        "# Plotting tools\n",
        "!pip install pyLDAvis\n",
        "import pyLDAvis\n",
        "import pyLDAvis.gensim  \n",
        "import matplotlib.pyplot as plt\n",
        "%matplotlib inline\n",
        "\n",
        "# Enable logging for gensim - optional\n",
        "import logging\n",
        "logging.basicConfig(format='%(asctime)s : %(levelname)s : %(message)s', level=logging.ERROR)\n",
        "\n",
        "import warnings\n",
        "warnings.filterwarnings(\"ignore\",category=DeprecationWarning)\n"
      ],
      "execution_count": 0,
      "outputs": []
    },
    {
      "cell_type": "markdown",
      "metadata": {
        "id": "t1wsEscBsXqH",
        "colab_type": "text"
      },
      "source": [
        "### 3.12 Connecting to GoogleColab and Google drive"
      ]
    },
    {
      "cell_type": "code",
      "metadata": {
        "id": "A5YqZBDBYjfE",
        "colab_type": "code",
        "outputId": "af08e568-575b-467c-9268-78eae7b40485",
        "colab": {
          "base_uri": "https://localhost:8080/",
          "height": 122
        }
      },
      "source": [
        "inGoogleColab = True\n",
        "\n",
        "from google.colab import drive\n",
        "drive.mount('/content/drive/')"
      ],
      "execution_count": 2,
      "outputs": [
        {
          "output_type": "stream",
          "text": [
            "Go to this URL in a browser: https://accounts.google.com/o/oauth2/auth?client_id=947318989803-6bn6qk8qdgf4n4g3pfee6491hc0brc4i.apps.googleusercontent.com&redirect_uri=urn%3Aietf%3Awg%3Aoauth%3A2.0%3Aoob&scope=email%20https%3A%2F%2Fwww.googleapis.com%2Fauth%2Fdocs.test%20https%3A%2F%2Fwww.googleapis.com%2Fauth%2Fdrive%20https%3A%2F%2Fwww.googleapis.com%2Fauth%2Fdrive.photos.readonly%20https%3A%2F%2Fwww.googleapis.com%2Fauth%2Fpeopleapi.readonly&response_type=code\n",
            "\n",
            "Enter your authorization code:\n",
            "··········\n",
            "Mounted at /content/drive/\n"
          ],
          "name": "stdout"
        }
      ]
    },
    {
      "cell_type": "markdown",
      "metadata": {
        "id": "r1hF3SSF32Vi",
        "colab_type": "text"
      },
      "source": [
        "### 3.13 Loading the EY documents for analysis and Topic Modelling."
      ]
    },
    {
      "cell_type": "code",
      "metadata": {
        "id": "7GzFKJEDWKLe",
        "colab_type": "code",
        "outputId": "089dc80b-1f53-42fd-99bf-30f8881a3b0f",
        "colab": {
          "base_uri": "https://localhost:8080/",
          "height": 34
        }
      },
      "source": [
        "import os\n",
        "from nltk.corpus import PlaintextCorpusReader\n",
        "\n",
        "# Setting the directory path to my google drive\n",
        "folderpath_base = '/content/drive/My Drive/Docs'\n",
        "\n",
        "# .txt file names as file IDs\n",
        "file_ids = \".*.txt\"\n",
        "corpus = nltk.corpus.reader.PlaintextCorpusReader(folderpath_base, file_ids,encoding='latin-1')\n",
        "\n",
        "#print(corpus.fileids())\n",
        "print(corpus)"
      ],
      "execution_count": 4,
      "outputs": [
        {
          "output_type": "stream",
          "text": [
            "<PlaintextCorpusReader in '/content/drive/My Drive/Docs'>\n"
          ],
          "name": "stdout"
        }
      ]
    },
    {
      "cell_type": "code",
      "metadata": {
        "id": "mnucOTi_WKLi",
        "colab_type": "code",
        "outputId": "3d93b1d7-cccc-45c6-d83d-963677402b2c",
        "colab": {
          "base_uri": "https://localhost:8080/",
          "height": 493
        }
      },
      "source": [
        "# for-loop through file IDs and print out word count. \n",
        "# Listing the EY filenames to be used for analysis.\n",
        "\n",
        "for f in corpus.fileids():\n",
        "    print(len(corpus.words(f)), f)"
      ],
      "execution_count": 5,
      "outputs": [
        {
          "output_type": "stream",
          "text": [
            "713 01_AFR1.txt\n",
            "751 01_AFR2.txt\n",
            "1360 01_AFR3.txt\n",
            "906 01_AFR4.txt\n",
            "399 02_EY1.txt\n",
            "694 02_EY2.txt\n",
            "3577 02_EY3.txt\n",
            "12457 02_EY4.txt\n",
            "6403 02_EY5.txt\n",
            "7583 02_EY6.txt\n",
            "14264 02_EY7.txt\n",
            "821 02_EY8.txt\n",
            "1460 03_EY1.txt\n",
            "949 03_EY10.txt\n",
            "1305 03_EY2.txt\n",
            "1044 03_EY3.txt\n",
            "515 03_EY4.txt\n",
            "560 03_EY5.txt\n",
            "865 03_EY6.txt\n",
            "1371 03_EY7.txt\n",
            "1245 03_EY8.txt\n",
            "1201 03_EY9.txt\n",
            "3603 04_EY1.txt\n",
            "402 05_UNSW1.txt\n",
            "1345 05_UQ1.txt\n",
            "697 05_USYD1.txt\n",
            "578 05_UTS1.txt\n",
            "856 05_UWA1.txt\n"
          ],
          "name": "stdout"
        }
      ]
    },
    {
      "cell_type": "code",
      "metadata": {
        "id": "TDmOW3EfWKLk",
        "colab_type": "code",
        "outputId": "492169c3-63ba-4e2a-999b-7cea249be44a",
        "colab": {
          "base_uri": "https://localhost:8080/",
          "height": 34
        }
      },
      "source": [
        "# Corpus size in number of words\n",
        "print(len(corpus.words()))"
      ],
      "execution_count": 6,
      "outputs": [
        {
          "output_type": "stream",
          "text": [
            "67924\n"
          ],
          "name": "stdout"
        }
      ]
    },
    {
      "cell_type": "markdown",
      "metadata": {
        "id": "se1qHlyeyahG",
        "colab_type": "text"
      },
      "source": [
        "### 3.14 Tokenisation\n",
        "The documents required to be tokenised to break down the paragraphs into sentences or words. The **words** and **sents** functionalities in NLTK are used to perform tokenization."
      ]
    },
    {
      "cell_type": "code",
      "metadata": {
        "id": "-89uK_2kWKLp",
        "colab_type": "code",
        "outputId": "dec8b6b5-abbf-40b1-e1a9-5308d41f0581",
        "colab": {
          "base_uri": "https://localhost:8080/",
          "height": 54
        }
      },
      "source": [
        "# Words breaks text paragraphs into words. Note that punctuations are treated as individual words in tokenization.\n",
        "\n",
        "tokenized_word = corpus.words()\n",
        "print(tokenized_word[:60])"
      ],
      "execution_count": 8,
      "outputs": [
        {
          "output_type": "stream",
          "text": [
            "['US', 'business', 'leader', 'Kay', 'Koplovitz', 'forges', 'new', 'ground', 'for', 'female', 'entrepreneurs', 'by', 'Joanne', 'Gray', 'Women', 'in', 'science', 'and', 'technology', 'are', 'gaining', 'a', 'higher', 'profile', 'in', 'Australia', 'as', 'entrepreneurs', ',', 'says', 'Kay', 'Koplovitz', ',', 'a', 'leading', 'successful', 'businesswoman', 'in', 'the', 'US', 'and', 'founder', 'of', 'USA', 'Network', '.', 'Her', 'successful', 'incubator', ',', 'Springboard', 'Enterprises', ',', 'launched', 'in', 'Australia', 'five', 'years', 'ago', ',']\n"
          ],
          "name": "stdout"
        }
      ]
    },
    {
      "cell_type": "markdown",
      "metadata": {
        "id": "Qj4NgYFD1B6f",
        "colab_type": "text"
      },
      "source": [
        "### 3.15 Removal of punctuation.\n",
        "Punctuations do not add value to the text analysis so these needed to be removed. The **string.punctuation** is a pre-initialized string used as string constant in Python. The **string.punctuation** will give all sets of punctuation."
      ]
    },
    {
      "cell_type": "code",
      "metadata": {
        "id": "262kQUoJzq7M",
        "colab_type": "code",
        "colab": {
          "base_uri": "https://localhost:8080/",
          "height": 71
        },
        "outputId": "ecdbbd01-dec9-4e67-9883-79d44f425420"
      },
      "source": [
        "#\n",
        "import string\n",
        "exclude = set(string.punctuation) \n",
        "print(exclude)\n",
        "\n",
        "nopunctuation_word=[]\n",
        "for w in tokenized_word:\n",
        "    if w not in exclude:\n",
        "        nopunctuation_word.append(w)\n",
        "        \n",
        "print(\"nopunctuation:\",nopunctuation_word[:60])"
      ],
      "execution_count": 10,
      "outputs": [
        {
          "output_type": "stream",
          "text": [
            "{'(', '*', \"'\", '&', '[', '`', '%', '.', '+', ',', '<', '/', '-', '?', '\\\\', '~', '!', '}', '@', ':', '|', '$', ')', '=', ']', '{', '\"', '^', '#', ';', '>', '_'}\n",
            "nopunctuation: ['US', 'business', 'leader', 'Kay', 'Koplovitz', 'forges', 'new', 'ground', 'for', 'female', 'entrepreneurs', 'by', 'Joanne', 'Gray', 'Women', 'in', 'science', 'and', 'technology', 'are', 'gaining', 'a', 'higher', 'profile', 'in', 'Australia', 'as', 'entrepreneurs', 'says', 'Kay', 'Koplovitz', 'a', 'leading', 'successful', 'businesswoman', 'in', 'the', 'US', 'and', 'founder', 'of', 'USA', 'Network', 'Her', 'successful', 'incubator', 'Springboard', 'Enterprises', 'launched', 'in', 'Australia', 'five', 'years', 'ago', 'trains', 'women', 'founders', 'with', 'potentially', 'high']\n"
          ],
          "name": "stdout"
        }
      ]
    },
    {
      "cell_type": "markdown",
      "metadata": {
        "id": "uC6k9h_OzKBv",
        "colab_type": "text"
      },
      "source": [
        "### 3.16 Frequency Distribution (before transformation)\n",
        "The FreqDist class is used to encode “frequency distributions”, which count the number of times that each outcome of an experiment occurs. I'm using FreqDist to plot the frequency distribution of the most common words prior to performing additional transformation in the text. The most common words are shown below. Notice that the common stopwords (i.e. the, and, to, etc.) appear in the list."
      ]
    },
    {
      "cell_type": "code",
      "metadata": {
        "id": "29Yr-ffwWKLr",
        "colab_type": "code",
        "outputId": "cf5ccf35-b854-43f9-aa60-b6c9ccb8cba1",
        "colab": {
          "base_uri": "https://localhost:8080/",
          "height": 204
        }
      },
      "source": [
        "from nltk.probability import FreqDist\n",
        "\n",
        "fdist = FreqDist(nopunctuation_word)\n",
        "print(fdist)\n",
        "fdist.most_common(10)"
      ],
      "execution_count": 12,
      "outputs": [
        {
          "output_type": "stream",
          "text": [
            "<FreqDist with 7473 samples and 60961 outcomes>\n"
          ],
          "name": "stdout"
        },
        {
          "output_type": "execute_result",
          "data": {
            "text/plain": [
              "[('the', 2501),\n",
              " ('and', 2416),\n",
              " ('to', 1785),\n",
              " ('of', 1748),\n",
              " ('in', 1046),\n",
              " ('a', 989),\n",
              " ('EY', 636),\n",
              " ('for', 593),\n",
              " ('\\x92', 539),\n",
              " ('is', 532)]"
            ]
          },
          "metadata": {
            "tags": []
          },
          "execution_count": 12
        }
      ]
    },
    {
      "cell_type": "code",
      "metadata": {
        "id": "U7NwxdCfWKLt",
        "colab_type": "code",
        "outputId": "518f607c-36ec-4afb-b9df-d3eb18d11ab7",
        "colab": {
          "base_uri": "https://localhost:8080/",
          "height": 310
        }
      },
      "source": [
        "# The graph below shows the most common words across all 28 documents prior to performing additional transformation in the text.\n",
        "\n",
        "import matplotlib.pyplot as plt\n",
        "fdist.plot(20,cumulative=False)\n",
        "plt.show()"
      ],
      "execution_count": 14,
      "outputs": [
        {
          "output_type": "display_data",
          "data": {
            "image/png": "[encoded data removed]",
            "text/plain": [
              "<Figure size 432x288 with 1 Axes>"
            ]
          },
          "metadata": {
            "tags": []
          }
        }
      ]
    },
    {
      "cell_type": "markdown",
      "metadata": {
        "id": "BXzVmkQY8Num",
        "colab_type": "text"
      },
      "source": [
        "### 3.17 Remove common english stopwords.\n",
        "Convert all words to lowercase. The lower() methods returns the lowercased string from the given string. It converts all uppercase characters to lowercase. Then, remove the common english stopwords to remove the noise from the data. Add any additional stopwords in your list as required."
      ]
    },
    {
      "cell_type": "code",
      "metadata": {
        "id": "P0ULf45kWKLx",
        "colab_type": "code",
        "outputId": "90202997-0c62-4f0e-8db5-1447143a03cf",
        "colab": {
          "base_uri": "https://localhost:8080/",
          "height": 105
        }
      },
      "source": [
        "from nltk.corpus import stopwords\n",
        "\n",
        "# Convert all words to lowercase.\n",
        "lower_word = [word.lower() for word in nopunctuation_word]\n",
        "print(\"lowercase:\", lower_word[:20])\n",
        "\n",
        "# Initialise stop_words to contain the commom english topwords.\n",
        "stop_words=stopwords.words(\"english\")\n",
        "print(\"stopwords:\", stop_words[:20])\n",
        "\n",
        "# Add additional words in the stopwords list that do not add value to the analysis.\n",
        "\n",
        "stop_words.extend([\"can\", \"say\",\"one\",\"way\",\"use\",\"here\",\"I\",\n",
        "                 \"also\",\"howev\",\"tell\",\"will\",\"help\",\"also\",\n",
        "                 \"much\",\"need\",\"take\",\"tend\",\"even\",\"us\",\"US\"\n",
        "                 \"like\",\"particular\",\"rather\",\"said\",\"EY\",\"ey\"\n",
        "                 \"get\",\"well\",\"make\",\"ask\",\"come\",\"end\",\n",
        "                 \"first\",\"two\",\"help\",\"often\",\"may\",\n",
        "                 \"might\",\"see\",\"someth\",\"thing\",\"point\",\n",
        "                 \"post\",\"look\",\"right\",\"now\",\"think\",\"'ve \",\n",
        "                 \"'re \",\"anoth\",\"put\",\"set\",\"new\",\"good\",\n",
        "                 \"want\",\"sure\",\"kind\",\"larg\",\"yes,\",\"day\",\"etc\",\n",
        "                 \"quit\",\"sinc\",\"attempt\",\"lack\",\"seen\",\"awar\",\n",
        "                 \"littl\",\"ever\",\"moreov\",\"though\",\"found\",\"abl\",\n",
        "                 \"enough\",\"far\",\"earli\",\"away\",\"achiev\",\"draw\",\n",
        "                 \"last\",\"never\",\"brief\",\"bit\",\"entir\",\"brief\",\n",
        "                 \"great\",\"lot\",\"include\",\"provide\",\"year\",\"new\",\"help\",\n",
        "                 \"includ\",\"one\",\"require\",\"use\",\"make\",\"better\",\n",
        "                 \"way\",\"like\",\"across\",\"valu\",\"provide\",\"young\",\"continu\",\n",
        "                 \"tropfest\",\"ernst\",\"four\",\"limit\",\"and\",\"however\", \"\\x92\", \"\\x93\",\"\\x94\",\n",
        "                 \"\\x95\",\"\\x96\",\"\\x97\",\"\\x98\",\"\\x99\",\"the\",\"in\",\"because\",\"includ\",\"this\",\"those\",\"where\",\"ey\",\"aaditya\",\n",
        "                  \"includ\",\"go\",\"get\",\"many\",\"less\",\"year\",\"number\",\"give\"])\n",
        "\n",
        "filtered_word=[]\n",
        "for w in lower_word:\n",
        "    if w not in stop_words:\n",
        "        filtered_word.append(w)\n",
        "\n",
        "print(\"nopunctuation:\",nopunctuation_word[:20])\n",
        "print(\"Filtered:\",filtered_word[:20])"
      ],
      "execution_count": 23,
      "outputs": [
        {
          "output_type": "stream",
          "text": [
            "lowercase: ['us', 'business', 'leader', 'kay', 'koplovitz', 'forges', 'new', 'ground', 'for', 'female', 'entrepreneurs', 'by', 'joanne', 'gray', 'women', 'in', 'science', 'and', 'technology', 'are']\n",
            "stopwords: ['i', 'me', 'my', 'myself', 'we', 'our', 'ours', 'ourselves', 'you', \"you're\", \"you've\", \"you'll\", \"you'd\", 'your', 'yours', 'yourself', 'yourselves', 'he', 'him', 'his']\n",
            "nopunctuation: ['US', 'business', 'leader', 'Kay', 'Koplovitz', 'forges', 'new', 'ground', 'for', 'female', 'entrepreneurs', 'by', 'Joanne', 'Gray', 'Women', 'in', 'science', 'and', 'technology', 'are']\n",
            "Filtered: ['business', 'leader', 'kay', 'koplovitz', 'forges', 'ground', 'female', 'entrepreneurs', 'joanne', 'gray', 'women', 'science', 'technology', 'gaining', 'higher', 'profile', 'australia', 'entrepreneurs', 'says', 'kay']\n"
          ],
          "name": "stdout"
        }
      ]
    },
    {
      "cell_type": "markdown",
      "metadata": {
        "id": "JXil8eWiBBiE",
        "colab_type": "text"
      },
      "source": [
        "### 3.18 Stemming and Lemmatization\n",
        "Stemming is a process of linguistic normalization, which reduces words to their word root word. Lemmatization reduces words to their base word, which transforms root word with the use of vocabulary and morphological analysis."
      ]
    },
    {
      "cell_type": "code",
      "metadata": {
        "id": "MMa79iy5WKL0",
        "colab_type": "code",
        "outputId": "fd09244f-ac66-40d6-f6d0-fa532521a2d0",
        "colab": {
          "base_uri": "https://localhost:8080/",
          "height": 71
        }
      },
      "source": [
        "# Use ps.stem for Stemming.\n",
        "\n",
        "from nltk.stem import PorterStemmer\n",
        "ps = PorterStemmer()\n",
        "\n",
        "stemmed_word=[]\n",
        "for w in filtered_word:\n",
        "    stemmed_word.append(ps.stem(w))\n",
        "\n",
        "print(\"filtered:\",filtered_word[:20])\n",
        "print(\"Stemmed:\",stemmed_word[:20])"
      ],
      "execution_count": 25,
      "outputs": [
        {
          "output_type": "stream",
          "text": [
            "filtered: ['business', 'leader', 'kay', 'koplovitz', 'forges', 'ground', 'female', 'entrepreneurs', 'joanne', 'gray', 'women', 'science', 'technology', 'gaining', 'higher', 'profile', 'australia', 'entrepreneurs', 'says', 'kay']\n",
            "Stemmed: ['busi', 'leader', 'kay', 'koplovitz', 'forg', 'ground', 'femal', 'entrepreneur', 'joann', 'gray', 'women', 'scienc', 'technolog', 'gain', 'higher', 'profil', 'australia', 'entrepreneur', 'say', 'kay']\n"
          ],
          "name": "stdout"
        }
      ]
    },
    {
      "cell_type": "code",
      "metadata": {
        "id": "IopnC8CCWKL5",
        "colab_type": "code",
        "outputId": "97b12a39-b37e-44f0-84ba-bf5e8fa13d2a",
        "colab": {
          "base_uri": "https://localhost:8080/",
          "height": 71
        }
      },
      "source": [
        "# Use lem.lemmatize for Lemmatization.\n",
        "\n",
        "from nltk.stem.wordnet import WordNetLemmatizer\n",
        "lem = WordNetLemmatizer()\n",
        "\n",
        "clean_word=[]\n",
        "for w in stemmed_word:\n",
        "    clean_word.append(lem.lemmatize(w,\"v\"))\n",
        "\n",
        "print(\"Stemmed:\",stemmed_word[:20])\n",
        "print(\"Lemmatized:\",clean_word[:20])"
      ],
      "execution_count": 27,
      "outputs": [
        {
          "output_type": "stream",
          "text": [
            "Stemmed: ['busi', 'leader', 'kay', 'koplovitz', 'forg', 'ground', 'femal', 'entrepreneur', 'joann', 'gray', 'women', 'scienc', 'technolog', 'gain', 'higher', 'profil', 'australia', 'entrepreneur', 'say', 'kay']\n",
            "Lemmatized: ['busi', 'leader', 'kay', 'koplovitz', 'forg', 'grind', 'femal', 'entrepreneur', 'joann', 'gray', 'women', 'scienc', 'technolog', 'gain', 'higher', 'profil', 'australia', 'entrepreneur', 'say', 'kay']\n"
          ],
          "name": "stdout"
        }
      ]
    },
    {
      "cell_type": "code",
      "metadata": {
        "id": "923Sah4oWKL7",
        "colab_type": "code",
        "colab": {}
      },
      "source": [
        "#clean_word = [word.lower() for word in lm_word]\n",
        "#print(clean_word[:100])"
      ],
      "execution_count": 0,
      "outputs": []
    },
    {
      "cell_type": "markdown",
      "metadata": {
        "id": "WJc8juPOC7pK",
        "colab_type": "text"
      },
      "source": [
        "### 3.19 Frequency Distribution (after transformation)\n",
        "The graph below shows the top 20 most common words found in the corpus. Noticed that the words shown are keywords that can provide some insights from the documents."
      ]
    },
    {
      "cell_type": "code",
      "metadata": {
        "id": "2icg2jiDWKL9",
        "colab_type": "code",
        "outputId": "9dbc0b03-70dc-4720-ed85-50f9f1def2e9",
        "colab": {
          "base_uri": "https://localhost:8080/",
          "height": 342
        }
      },
      "source": [
        "fdist = FreqDist(clean_word)\n",
        "print(fdist)\n",
        "fdist.most_common(20)\n",
        "\n",
        "import matplotlib.pyplot as plt\n",
        "fdist.plot(20,cumulative=False)\n",
        "plt.show()"
      ],
      "execution_count": 30,
      "outputs": [
        {
          "output_type": "stream",
          "text": [
            "<FreqDist with 4194 samples and 33517 outcomes>\n"
          ],
          "name": "stdout"
        },
        {
          "output_type": "display_data",
          "data": {
            "image/png": "[encoded data removed]",
            "text/plain": [
              "<Figure size 432x288 with 1 Axes>"
            ]
          },
          "metadata": {
            "tags": []
          }
        }
      ]
    },
    {
      "cell_type": "markdown",
      "metadata": {
        "id": "prAASls-FDGt",
        "colab_type": "text"
      },
      "source": [
        "### 3.20 Plotting the word distribution using wordcloud."
      ]
    },
    {
      "cell_type": "code",
      "metadata": {
        "id": "cTtA2FR2WKL_",
        "colab_type": "code",
        "outputId": "4a655afb-f5f4-4f60-db6b-fe5f22b1153b",
        "colab": {
          "base_uri": "https://localhost:8080/",
          "height": 253
        }
      },
      "source": [
        "from nltk.corpus import webtext\n",
        "from nltk.probability import FreqDist\n",
        "from wordcloud import WordCloud\n",
        "import matplotlib.pyplot as plt\n",
        "nltk.download('webtext')\n",
        " \n",
        "data_analysis = nltk.FreqDist(clean_word)\n",
        " \n",
        "filter_words = dict([(m, n) for m, n in data_analysis.items() if len(m) > 1])\n",
        " \n",
        "wcloud = WordCloud().generate_from_frequencies(filter_words)\n",
        " \n",
        "# Plotting the wordcloud\n",
        "plt.imshow(wcloud, interpolation=\"bilinear\")\n",
        " \n",
        "plt.axis(\"on\")\n",
        "(-0.5, 699.5, 499.5, -0.5)\n",
        "plt.show()"
      ],
      "execution_count": 31,
      "outputs": [
        {
          "output_type": "stream",
          "text": [
            "[nltk_data] Downloading package webtext to /root/nltk_data...\n",
            "[nltk_data]   Unzipping corpora/webtext.zip.\n"
          ],
          "name": "stdout"
        },
        {
          "output_type": "display_data",
          "data": {
            "image/png": "[encoded data removed]",
            "text/plain": [
              "<Figure size 432x288 with 1 Axes>"
            ]
          },
          "metadata": {
            "tags": []
          }
        }
      ]
    },
    {
      "cell_type": "markdown",
      "metadata": {
        "id": "NuwJiYPsYWuE",
        "colab_type": "text"
      },
      "source": [
        "## 4.0 Topic Modelling using Gensim\n",
        "Topic Modeling is a technique to extract the hidden topics from large volumes of text. Latent Dirichlet Allocation(LDA) is a popular algorithm for topic modeling with excellent implementations in the Python’s Gensim package.\n",
        "\n",
        "This section illustrates how to use Latent Dirichlet Allocation (LDA) from Gensim package to derive insights from the EY documents. The LDA algorithm considers each document as a collection of topics in a certain proportion. And each topic as a collection of keywords, again, in a certain proportion.\n",
        "\n",
        "Once you provide the algorithm with the number of topics, all it does is rearrange the topics distribution within the documents and keywords distribution within the topics to obtain a good composition of topic-keywords distribution."
      ]
    },
    {
      "cell_type": "markdown",
      "metadata": {
        "id": "t9lF2s3sLvEJ",
        "colab_type": "text"
      },
      "source": [
        "### 4.11 Tokenization into sentences and words."
      ]
    },
    {
      "cell_type": "code",
      "metadata": {
        "id": "R_Ga5yjdWKLn",
        "colab_type": "code",
        "outputId": "c9ed7aaf-1294-4d97-b948-7289a0770606",
        "colab": {
          "base_uri": "https://localhost:8080/",
          "height": 54
        }
      },
      "source": [
        "# Tokenized the text into sentences. The sents class in NLTK will create a list of a collection of sentences for each document.\n",
        "\n",
        "tokenized_sent = corpus.sents()\n",
        "print(tokenized_sent[0])"
      ],
      "execution_count": 34,
      "outputs": [
        {
          "output_type": "stream",
          "text": [
            "['US', 'business', 'leader', 'Kay', 'Koplovitz', 'forges', 'new', 'ground', 'for', 'female', 'entrepreneurs', 'by', 'Joanne', 'Gray', 'Women', 'in', 'science', 'and', 'technology', 'are', 'gaining', 'a', 'higher', 'profile', 'in', 'Australia', 'as', 'entrepreneurs', ',', 'says', 'Kay', 'Koplovitz', ',', 'a', 'leading', 'successful', 'businesswoman', 'in', 'the', 'US', 'and', 'founder', 'of', 'USA', 'Network', '.']\n"
          ],
          "name": "stdout"
        }
      ]
    },
    {
      "cell_type": "code",
      "metadata": {
        "id": "i1R_gMn58g6o",
        "colab_type": "code",
        "outputId": "b9acc11f-a921-4f08-be20-d4a1322dd490",
        "colab": {
          "base_uri": "https://localhost:8080/",
          "height": 54
        }
      },
      "source": [
        "# The logic below will create a list of words from the list of collection of sentences.\n",
        "\n",
        "def sent_to_words(sentences):\n",
        "    for sentence in sentences:\n",
        "        #print(sentence)\n",
        "        yield(gensim.utils.simple_preprocess(str(sentence), deacc=True))# deacc=True removes punctuations\n",
        "\n",
        "tokenized_words = list(sent_to_words(tokenized_sent))\n",
        "\n",
        "print(tokenized_words[:2])"
      ],
      "execution_count": 42,
      "outputs": [
        {
          "output_type": "stream",
          "text": [
            "[['us', 'business', 'leader', 'kay', 'koplovitz', 'forges', 'new', 'ground', 'for', 'female', 'entrepreneurs', 'by', 'joanne', 'gray', 'women', 'in', 'science', 'and', 'technology', 'are', 'gaining', 'higher', 'profile', 'in', 'australia', 'as', 'entrepreneurs', 'says', 'kay', 'koplovitz', 'leading', 'successful', 'businesswoman', 'in', 'the', 'us', 'and', 'founder', 'of', 'usa', 'network'], ['her', 'successful', 'incubator', 'springboard', 'enterprises', 'launched', 'in', 'australia', 'five', 'years', 'ago', 'trains', 'women', 'founders', 'with', 'potentially', 'high', 'growth', 'businesses', 'to', 'raise', 'venture', 'capital', 'with', 'week', 'course', 'and', 'two', 'day', 'boot', 'camp', 'which', 'runs', 'this', 'week']]\n"
          ],
          "name": "stdout"
        }
      ]
    },
    {
      "cell_type": "markdown",
      "metadata": {
        "id": "Q8NKZzEIL9s6",
        "colab_type": "text"
      },
      "source": [
        "### 4.12 Define Bigrams and Trigrams\n",
        "Bigrams are two words frequently occurring together in the document. Trigrams are 3 words frequently occurring.\n",
        "\n",
        "Gensim’s Phrases model can build and implement the bigrams, trigrams, quadgrams and more. The two important arguments to Phrases are min_count and threshold. The higher the values of these param, the harder it is for words to be combined to bigrams."
      ]
    },
    {
      "cell_type": "code",
      "metadata": {
        "id": "ckonue-E9Z6b",
        "colab_type": "code",
        "outputId": "881799a9-4eeb-40a9-ad6d-167a5272d2c5",
        "colab": {
          "base_uri": "https://localhost:8080/",
          "height": 68
        }
      },
      "source": [
        "# Build the bigram and trigram models\n",
        "bigram = gensim.models.Phrases(tokenized_words, min_count=5, threshold=30) # higher threshold fewer phrases.\n",
        "trigram = gensim.models.Phrases(bigram[tokenized_words], threshold=30)  \n",
        "\n",
        "# Faster way to get a sentence clubbed as a trigram/bigram\n",
        "bigram_mod = gensim.models.phrases.Phraser(bigram)\n",
        "trigram_mod = gensim.models.phrases.Phraser(trigram)\n",
        "\n",
        "# See trigram example\n",
        "print(trigram_mod[bigram_mod[tokenized_words[2]]])"
      ],
      "execution_count": 43,
      "outputs": [
        {
          "output_type": "stream",
          "text": [
            "/usr/local/lib/python3.6/dist-packages/gensim/models/phrases.py:598: UserWarning: For a faster implementation, use the gensim.models.phrases.Phraser class\n",
            "  warnings.warn(\"For a faster implementation, use the gensim.models.phrases.Phraser class\")\n"
          ],
          "name": "stderr"
        },
        {
          "output_type": "stream",
          "text": [
            "['women', 'are', 'coming', 'up', 'with', 'enormously', 'important', 'disruptive', 'technologies', 'in', 'science', 'she_said']\n"
          ],
          "name": "stdout"
        }
      ]
    },
    {
      "cell_type": "markdown",
      "metadata": {
        "id": "jKWKnSl7NIbu",
        "colab_type": "text"
      },
      "source": [
        "### 4.13 Remove common english stopwords, make bigrams and lemmatize.\n",
        "Remove the common english stopwords to remove the noise from the data. Add any additional stopwords in your list as required."
      ]
    },
    {
      "cell_type": "code",
      "metadata": {
        "id": "Q8OB2pUWWKLv",
        "colab_type": "code",
        "colab": {}
      },
      "source": [
        "from nltk.corpus import stopwords\n",
        "stop_words=stopwords.words(\"english\")\n",
        "\n",
        "stop_words.extend([\"can\", \"say\",\"one\",\"way\",\"use\",\"here\",\"I\",\n",
        "                 \"also\",\"howev\",\"tell\",\"will\",\"help\",\"also\",\n",
        "                 \"much\",\"need\",\"take\",\"tend\",\"even\",\"us\",\"US\"\n",
        "                 \"like\",\"particular\",\"rather\",\"said\",\"EY\",\"ey\"\n",
        "                 \"get\",\"well\",\"make\",\"ask\",\"come\",\"end\",\n",
        "                 \"first\",\"two\",\"help\",\"often\",\"may\",\n",
        "                 \"might\",\"see\",\"someth\",\"thing\",\"point\",\n",
        "                 \"post\",\"look\",\"right\",\"now\",\"think\",\"'ve \",\n",
        "                 \"'re \",\"anoth\",\"put\",\"set\",\"new\",\"good\",\n",
        "                 \"want\",\"sure\",\"kind\",\"larg\",\"yes,\",\"day\",\"etc\",\n",
        "                 \"quit\",\"sinc\",\"attempt\",\"lack\",\"seen\",\"awar\",\n",
        "                 \"littl\",\"ever\",\"moreov\",\"though\",\"found\",\"abl\",\n",
        "                 \"enough\",\"far\",\"earli\",\"away\",\"achiev\",\"draw\",\n",
        "                 \"last\",\"never\",\"brief\",\"bit\",\"entir\",\"brief\",\n",
        "                 \"great\",\"lot\",\"include\",\"provide\",\"year\",\"new\",\"help\",\n",
        "                 \"includ\",\"one\",\"require\",\"use\",\"make\",\"better\",\n",
        "                 \"way\",\"like\",\"across\",\"valu\",\"provide\",\"young\",\"continu\",\n",
        "                 \"tropfest\",\"ernst\",\"four\",\"limit\",\"and\",\"however\", \"\\x92\", \"\\x93\",\"\\x94\",\n",
        "                 \"\\x95\",\"\\x96\",\"\\x97\",\"\\x98\",\"\\x99\",\"the\",\"in\",\"because\",\"includ\",\"this\",\"those\",\"where\",\"ey\",\"aaditya\",\n",
        "                  \"includ\",\"go\",\"get\",\"many\",\"less\",\"year\",\"number\",\"give\",\"include\",\"return\",\n",
        "                  \"australia\",\"china\",\"give\"])"
      ],
      "execution_count": 0,
      "outputs": []
    },
    {
      "cell_type": "code",
      "metadata": {
        "id": "AzJLBf4Q9uXI",
        "colab_type": "code",
        "colab": {}
      },
      "source": [
        "# Define functions for stopwords, bigrams, trigrams and lemmatization\n",
        "def remove_stopwords(texts):\n",
        "    return [[word for word in simple_preprocess(str(doc)) if word not in stop_words] for doc in texts]\n",
        "\n",
        "def make_bigrams(texts):\n",
        "    return [bigram_mod[doc] for doc in texts]\n",
        "\n",
        "def make_trigrams(texts):\n",
        "    return [trigram_mod[bigram_mod[doc]] for doc in texts]\n",
        "\n",
        "def lemmatization(texts, allowed_postags=['NOUN', 'ADJ', 'VERB', 'ADV']):\n",
        "    \"\"\"https://spacy.io/api/annotation\"\"\"\n",
        "    texts_out = []\n",
        "    for sent in texts:\n",
        "        doc = nlp(\" \".join(sent)) \n",
        "        texts_out.append([token.lemma_ for token in doc if token.pos_ in allowed_postags])\n",
        "    return texts_out"
      ],
      "execution_count": 0,
      "outputs": []
    },
    {
      "cell_type": "code",
      "metadata": {
        "id": "OqWzJKNg-JlD",
        "colab_type": "code",
        "outputId": "7ca1be23-f42e-4552-f2eb-983f5c5ffae0",
        "colab": {
          "base_uri": "https://localhost:8080/",
          "height": 54
        }
      },
      "source": [
        "# Remove Stop Words\n",
        "tokenized_words_nostops = remove_stopwords(tokenized_words)\n",
        "\n",
        "# Form Bigrams\n",
        "tokenized_words_bigrams = make_bigrams(tokenized_words_nostops)\n",
        "\n",
        "# Initialize spacy 'en' model, keeping only tagger component (for efficiency)\n",
        "# python3 -m spacy download en\n",
        "nlp = spacy.load('en', disable=['parser', 'ner'])\n",
        "\n",
        "# Do lemmatization keeping only noun, adj, vb, adv\n",
        "clean_data = lemmatization(tokenized_words_bigrams, allowed_postags=['NOUN', 'ADJ', 'VERB', 'ADV'])\n",
        "\n",
        "print(clean_data[:1])\n"
      ],
      "execution_count": 112,
      "outputs": [
        {
          "output_type": "stream",
          "text": [
            "[['business', 'leader', 'kay', 'koplovitz', 'forge', 'ground', 'female', 'entrepreneur', 'gray', 'woman', 'science', 'technology', 'gain', 'high', 'profile', 'entrepreneur', 'say', 'kay', 'koplovitz', 'lead', 'successful', 'businesswoman', 'founder', 'usa', 'network']]\n"
          ],
          "name": "stdout"
        }
      ]
    },
    {
      "cell_type": "markdown",
      "metadata": {
        "id": "wJyzlUULPT7c",
        "colab_type": "text"
      },
      "source": [
        "### 4.14 Create Dictionary and Corpus for LDA model\n",
        "The two main inputs to the LDA topic model are the dictionary(id2word) and the corpus. Gensim creates a unique id for each word in the document. The produced corpus is a mapping of (word_id, word_frequency)."
      ]
    },
    {
      "cell_type": "code",
      "metadata": {
        "id": "s1pNzHWJ-aXM",
        "colab_type": "code",
        "outputId": "38e8e3f6-2cf4-4018-b35c-9198631dd891",
        "colab": {
          "base_uri": "https://localhost:8080/",
          "height": 71
        }
      },
      "source": [
        "# Create Dictionary\n",
        "id2word = corpora.Dictionary(clean_data)\n",
        "\n",
        "# Create Corpus\n",
        "texts = clean_data\n",
        "\n",
        "# Term Document Frequency\n",
        "corpus = [id2word.doc2bow(text) for text in texts]\n",
        "\n",
        "# Shows the mapping of (word_id, word_frequency).\n",
        "print(corpus[:3])\n",
        "print(len(corpus))"
      ],
      "execution_count": 113,
      "outputs": [
        {
          "output_type": "stream",
          "text": [
            "[[(0, 1), (1, 1), (2, 2), (3, 1), (4, 1), (5, 1), (6, 1), (7, 1), (8, 1), (9, 1), (10, 2), (11, 2), (12, 1), (13, 1), (14, 1), (15, 1), (16, 1), (17, 1), (18, 1), (19, 1), (20, 1), (21, 1)], [(0, 1), (5, 1), (9, 1), (18, 1), (21, 1), (22, 1), (23, 1), (24, 1), (25, 1), (26, 1), (27, 1), (28, 1), (29, 1), (30, 1), (31, 1), (32, 1), (33, 1), (34, 1), (35, 1), (36, 2)], [(17, 1), (19, 1), (21, 1), (37, 1), (38, 1), (39, 1), (40, 1)]]\n",
            "2337\n"
          ],
          "name": "stdout"
        }
      ]
    },
    {
      "cell_type": "code",
      "metadata": {
        "id": "GDFGaAOr-fGd",
        "colab_type": "code",
        "outputId": "85c1b1b6-41d3-4621-8b41-29bc466b6b09",
        "colab": {
          "base_uri": "https://localhost:8080/",
          "height": 408
        }
      },
      "source": [
        "# Print what word corresponds to a given id.\n",
        "print(id2word[1])\n",
        "\n",
        "# Human readable format of corpus (term-frequency)\n",
        "[[(id2word[id], freq) for id, freq in cp] for cp in corpus[:1]]"
      ],
      "execution_count": 114,
      "outputs": [
        {
          "output_type": "stream",
          "text": [
            "businesswoman\n"
          ],
          "name": "stdout"
        },
        {
          "output_type": "execute_result",
          "data": {
            "text/plain": [
              "[[('business', 1),\n",
              "  ('businesswoman', 1),\n",
              "  ('entrepreneur', 2),\n",
              "  ('female', 1),\n",
              "  ('forge', 1),\n",
              "  ('founder', 1),\n",
              "  ('gain', 1),\n",
              "  ('gray', 1),\n",
              "  ('ground', 1),\n",
              "  ('high', 1),\n",
              "  ('kay', 2),\n",
              "  ('koplovitz', 2),\n",
              "  ('lead', 1),\n",
              "  ('leader', 1),\n",
              "  ('network', 1),\n",
              "  ('profile', 1),\n",
              "  ('say', 1),\n",
              "  ('science', 1),\n",
              "  ('successful', 1),\n",
              "  ('technology', 1),\n",
              "  ('usa', 1),\n",
              "  ('woman', 1)]]"
            ]
          },
          "metadata": {
            "tags": []
          },
          "execution_count": 114
        }
      ]
    },
    {
      "cell_type": "markdown",
      "metadata": {
        "id": "okU60jt9RmWO",
        "colab_type": "text"
      },
      "source": [
        "### 4.15 Build the Topic Model using LDA.\n",
        "The corpus and dictionary are now ready to train the LDA model. In addition, the following needs to be provided;\n",
        "* number of topics\n",
        "* random state - either a randomState object or a seed to generate one. Useful for reproducibility.\n",
        "* alpha and eta hyperparameters for sparsity of the topics (both defaults to 1.0/num_topics prior )\n",
        "* chunksize - the number of documents to be used in each training chunk\n",
        "* update_every - determines how often the model parameters should be updated \n",
        "* passes - the total number of training passes."
      ]
    },
    {
      "cell_type": "code",
      "metadata": {
        "id": "jRX6eHXh-3D1",
        "colab_type": "code",
        "colab": {}
      },
      "source": [
        "# Build LDA model\n",
        "lda_model = gensim.models.ldamodel.LdaModel(corpus=corpus,\n",
        "                                           id2word=id2word,\n",
        "                                           num_topics=10, \n",
        "                                           random_state=100, \n",
        "                                           update_every=1,\n",
        "                                           chunksize=15,\n",
        "                                           passes=30,\n",
        "                                           alpha='auto',\n",
        "                                           per_word_topics=True)"
      ],
      "execution_count": 0,
      "outputs": []
    },
    {
      "cell_type": "markdown",
      "metadata": {
        "id": "wlTdrpk-WJVS",
        "colab_type": "text"
      },
      "source": [
        "### 4.16 View the keywords in the top 6 topics\n",
        "Below shows the top 6 topics where each topic is a combination of keywords and each keyword contributes a certain weightage to the topic.\n",
        "\n",
        "lda_model.print_topics() is used to show the keywords for each topic and the weightage(importance) of each keyword.\n",
        "\n",
        "Example:\n",
        "Topic 1 - shows that the keywords to this topic are business, opportunity, experience, company, include, community, apply, australia, issue and datum.\n",
        "The word \"business\" is the most important word with the highest weight of 0.062 among the keywords."
      ]
    },
    {
      "cell_type": "code",
      "metadata": {
        "id": "BfI23JNZ-90A",
        "colab_type": "code",
        "outputId": "804f313d-f4ad-4e2b-92b1-58c6b68d887f",
        "colab": {
          "base_uri": "https://localhost:8080/",
          "height": 697
        }
      },
      "source": [
        "# Print the Keyword in the 10 topics\n",
        "pprint(lda_model.print_topics())\n",
        "doc_lda = lda_model[corpus]"
      ],
      "execution_count": 116,
      "outputs": [
        {
          "output_type": "stream",
          "text": [
            "[(0,\n",
            "  '0.042*\"engineering\" + 0.039*\"world\" + 0.036*\"partner\" + '\n",
            "  '0.026*\"sustainability\" + 0.024*\"waste\" + 0.023*\"rank\" + 0.021*\"practice\" + '\n",
            "  '0.018*\"science\" + 0.017*\"mathematic\" + 0.014*\"corporation\"'),\n",
            " (1,\n",
            "  '0.057*\"program\" + 0.049*\"firm\" + 0.045*\"work\" + 0.040*\"service\" + '\n",
            "  '0.036*\"idea\" + 0.032*\"big\" + 0.029*\"time\" + 0.026*\"people\" + 0.020*\"global\" '\n",
            "  '+ 0.019*\"develop\"'),\n",
            " (2,\n",
            "  '0.042*\"win\" + 0.029*\"client\" + 0.024*\"professional\" + 0.022*\"career\" + '\n",
            "  '0.019*\"demonstrate\" + 0.019*\"step\" + 0.019*\"purpose\" + 0.017*\"discipline\" + '\n",
            "  '0.015*\"international\" + 0.014*\"solve\"'),\n",
            " (3,\n",
            "  '0.069*\"student\" + 0.040*\"university\" + 0.034*\"project\" + 0.025*\"research\" + '\n",
            "  '0.023*\"experience\" + 0.020*\"create\" + 0.017*\"technology\" + 0.014*\"support\" '\n",
            "  '+ 0.013*\"panel\" + 0.012*\"role\"'),\n",
            " (4,\n",
            "  '0.036*\"follow\" + 0.028*\"accounting\" + 0.028*\"week\" + 0.021*\"base\" + '\n",
            "  '0.021*\"consider\" + 0.020*\"information\" + 0.019*\"price\" + 0.017*\"offer\" + '\n",
            "  '0.016*\"relationship\" + 0.015*\"interest\"'),\n",
            " (5,\n",
            "  '0.092*\"business\" + 0.053*\"scholarship\" + 0.029*\"award\" + 0.020*\"lead\" + '\n",
            "  '0.018*\"employer\" + 0.016*\"sponsor\" + 0.016*\"show\" + 0.015*\"leader\" + '\n",
            "  '0.013*\"entrepreneur\" + 0.011*\"establish\"'),\n",
            " (6,\n",
            "  '0.064*\"team\" + 0.031*\"encourage\" + 0.026*\"benefit\" + 0.020*\"least\" + '\n",
            "  '0.020*\"apply\" + 0.019*\"large\" + 0.018*\"value\" + 0.017*\"similar\" + '\n",
            "  '0.015*\"member\" + 0.014*\"committee\"'),\n",
            " (7,\n",
            "  '0.062*\"organisation\" + 0.038*\"head\" + 0.028*\"report\" + 0.026*\"impact\" + '\n",
            "  '0.026*\"equipment\" + 0.023*\"must\" + 0.020*\"learn\" + 0.017*\"alliance\" + '\n",
            "  '0.016*\"month\" + 0.016*\"available\"'),\n",
            " (8,\n",
            "  '0.028*\"skill\" + 0.024*\"future\" + 0.023*\"provide\" + 0.022*\"event\" + '\n",
            "  '0.020*\"area\" + 0.020*\"build\" + 0.017*\"risk\" + 0.016*\"applicant\" + '\n",
            "  '0.015*\"list\" + 0.015*\"year\"'),\n",
            " (9,\n",
            "  '0.034*\"company\" + 0.034*\"financial\" + 0.029*\"opportunity\" + 0.019*\"audit\" + '\n",
            "  '0.019*\"problem\" + 0.018*\"include\" + 0.018*\"industry\" + 0.016*\"tax\" + '\n",
            "  '0.016*\"hold\" + 0.015*\"analytic\"')]\n"
          ],
          "name": "stdout"
        }
      ]
    },
    {
      "cell_type": "markdown",
      "metadata": {
        "id": "YChZDDfUZl66",
        "colab_type": "text"
      },
      "source": [
        "### 4.17 Compute Perplexity and Coherence Score\n",
        "Model perplexity and topic coherence provide a convenient measure to judge how good a given topic model is. I have tried different combinations and found that the highest coherence score that I can get is around 0.40."
      ]
    },
    {
      "cell_type": "code",
      "metadata": {
        "id": "Ihk4OzdKApvf",
        "colab_type": "code",
        "outputId": "c76a64ee-12f3-48e6-f082-1c0e9ec238bb",
        "colab": {
          "base_uri": "https://localhost:8080/",
          "height": 85
        }
      },
      "source": [
        "# Compute Perplexity\n",
        "print('\\nPerplexity: ', lda_model.log_perplexity(corpus))  # a measure of how good the model is. lower the better.\n",
        "\n",
        "# Compute Coherence Score\n",
        "coherence_model_lda = CoherenceModel(model=lda_model, texts=data_lemmatized, dictionary=id2word, coherence='c_v')\n",
        "coherence_lda = coherence_model_lda.get_coherence()\n",
        "print('\\nCoherence Score: ', coherence_lda)"
      ],
      "execution_count": 117,
      "outputs": [
        {
          "output_type": "stream",
          "text": [
            "\n",
            "Perplexity:  -9.761178842152672\n",
            "\n",
            "Coherence Score:  0.4607864210439218\n"
          ],
          "name": "stdout"
        }
      ]
    },
    {
      "cell_type": "markdown",
      "metadata": {
        "id": "I1Qkd1-2hGOV",
        "colab_type": "text"
      },
      "source": [
        "### 4.18 Interactive visualisation of the topics."
      ]
    },
    {
      "cell_type": "code",
      "metadata": {
        "id": "IKe4dlKkBYsy",
        "colab_type": "code",
        "colab": {
          "base_uri": "https://localhost:8080/",
          "height": 997
        },
        "outputId": "5f95af18-5bf4-4c71-d8e0-470d2c75fb46"
      },
      "source": [
        "# Visualize the topics\n",
        "pyLDAvis.enable_notebook()\n",
        "vis = pyLDAvis.gensim.prepare(lda_model, corpus, id2word)\n",
        "vis"
      ],
      "execution_count": 109,
      "outputs": [
        {
          "output_type": "stream",
          "text": [
            "/usr/local/lib/python3.6/dist-packages/pyLDAvis/_prepare.py:257: FutureWarning: Sorting because non-concatenation axis is not aligned. A future version\n",
            "of pandas will change to not sort by default.\n",
            "\n",
            "To accept the future behavior, pass 'sort=False'.\n",
            "\n",
            "To retain the current behavior and silence the warning, pass 'sort=True'.\n",
            "\n",
            "  return pd.concat([default_term_info] + list(topic_dfs))\n"
          ],
          "name": "stderr"
        },
        {
          "output_type": "execute_result",
          "data": {
            "text/html": [
              "\n",
              "<link rel=\"stylesheet\" type=\"text/css\" href=\"https://cdn.rawgit.com/bmabey/pyLDAvis/files/ldavis.v1.0.0.css\">\n",
              "\n",
              "\n",
              "<div id=\"ldavis_el1171402763991415366444308064\"></div>\n",
              "<script type=\"text/javascript\">\n",
              "\n",
              "var ldavis_el1171402763991415366444308064_data = {\"mdsDat\": {\"x\": [0.3012514950153978, -0.09051743859122993, -0.0405551421817612, -0.05009337086381414, -0.025978520665558735, -0.037957315980307424, -0.02837463360424383, -0.0277750731284823], \"y\": [-0.042986299147420706, -0.2728788214426362, 0.10400429887647558, 0.05845923222285117, 0.0526030855421913, 0.040774303789551596, 0.03813781131544459, 0.021886388843542756], \"topics\": [1, 2, 3, 4, 5, 6, 7, 8], \"cluster\": [1, 1, 1, 1, 1, 1, 1, 1], \"Freq\": [16.803178787231445, 15.953892707824707, 15.063436508178711, 14.315825462341309, 11.04488468170166, 10.969329833984375, 8.874425888061523, 6.975031852722168]}, \"tinfo\": {\"Category\": [\"Default\", \"Default\", \"Default\", \"Default\", \"Default\", \"Default\", \"Default\", \"Default\", \"Default\", \"Default\", \"Default\", \"Default\", \"Default\", \"Default\", \"Default\", \"Default\", \"Default\", \"Default\", \"Default\", \"Default\", \"Default\", \"Default\", \"Default\", \"Default\", \"Default\", \"Default\", \"Default\", \"Default\", \"Default\", \"Default\", \"Topic1\", \"Topic1\", \"Topic1\", \"Topic1\", \"Topic1\", \"Topic1\", \"Topic1\", \"Topic1\", \"Topic1\", \"Topic1\", \"Topic1\", \"Topic1\", \"Topic1\", \"Topic1\", \"Topic1\", \"Topic1\", \"Topic1\", \"Topic1\", \"Topic1\", \"Topic1\", \"Topic1\", \"Topic1\", \"Topic1\", \"Topic1\", \"Topic1\", \"Topic1\", \"Topic1\", \"Topic1\", \"Topic1\", \"Topic1\", \"Topic1\", \"Topic1\", \"Topic2\", \"Topic2\", \"Topic2\", \"Topic2\", \"Topic2\", \"Topic2\", \"Topic2\", \"Topic2\", \"Topic2\", \"Topic2\", \"Topic2\", \"Topic2\", \"Topic2\", \"Topic2\", \"Topic2\", \"Topic2\", \"Topic2\", \"Topic2\", \"Topic2\", \"Topic2\", \"Topic2\", \"Topic2\", \"Topic2\", \"Topic2\", \"Topic2\", \"Topic2\", \"Topic2\", \"Topic2\", \"Topic2\", \"Topic2\", \"Topic3\", \"Topic3\", \"Topic3\", \"Topic3\", \"Topic3\", \"Topic3\", \"Topic3\", \"Topic3\", \"Topic3\", \"Topic3\", \"Topic3\", \"Topic3\", \"Topic3\", \"Topic3\", \"Topic3\", \"Topic3\", \"Topic3\", \"Topic3\", \"Topic3\", \"Topic3\", \"Topic3\", \"Topic3\", \"Topic3\", \"Topic3\", \"Topic3\", \"Topic3\", \"Topic3\", \"Topic3\", \"Topic3\", \"Topic3\", \"Topic3\", \"Topic4\", \"Topic4\", \"Topic4\", \"Topic4\", \"Topic4\", \"Topic4\", \"Topic4\", \"Topic4\", \"Topic4\", \"Topic4\", \"Topic4\", \"Topic4\", \"Topic4\", \"Topic4\", \"Topic4\", \"Topic4\", \"Topic4\", \"Topic4\", \"Topic4\", \"Topic4\", \"Topic4\", \"Topic4\", \"Topic4\", \"Topic4\", \"Topic4\", \"Topic4\", \"Topic4\", \"Topic4\", \"Topic4\", \"Topic4\", \"Topic4\", \"Topic4\", \"Topic5\", \"Topic5\", \"Topic5\", \"Topic5\", \"Topic5\", \"Topic5\", \"Topic5\", \"Topic5\", \"Topic5\", \"Topic5\", \"Topic5\", \"Topic5\", \"Topic5\", \"Topic5\", \"Topic5\", \"Topic5\", \"Topic5\", \"Topic5\", \"Topic5\", \"Topic5\", \"Topic5\", \"Topic5\", \"Topic5\", \"Topic5\", \"Topic5\", \"Topic5\", \"Topic5\", \"Topic5\", \"Topic5\", \"Topic5\", \"Topic5\", \"Topic5\", \"Topic5\", \"Topic6\", \"Topic6\", \"Topic6\", \"Topic6\", \"Topic6\", \"Topic6\", \"Topic6\", \"Topic6\", \"Topic6\", \"Topic6\", \"Topic6\", \"Topic6\", \"Topic6\", \"Topic6\", \"Topic6\", \"Topic6\", \"Topic6\", \"Topic6\", \"Topic6\", \"Topic6\", \"Topic6\", \"Topic6\", \"Topic6\", \"Topic6\", \"Topic6\", \"Topic6\", \"Topic6\", \"Topic6\", \"Topic6\", \"Topic6\", \"Topic7\", \"Topic7\", \"Topic7\", \"Topic7\", \"Topic7\", \"Topic7\", \"Topic7\", \"Topic7\", \"Topic7\", \"Topic7\", \"Topic7\", \"Topic7\", \"Topic7\", \"Topic7\", \"Topic7\", \"Topic7\", \"Topic7\", \"Topic7\", \"Topic7\", \"Topic7\", \"Topic7\", \"Topic7\", \"Topic7\", \"Topic7\", \"Topic7\", \"Topic7\", \"Topic7\", \"Topic7\", \"Topic7\", \"Topic7\", \"Topic7\", \"Topic7\", \"Topic7\", \"Topic7\", \"Topic7\", \"Topic8\", \"Topic8\", \"Topic8\", \"Topic8\", \"Topic8\", \"Topic8\", \"Topic8\", \"Topic8\", \"Topic8\", \"Topic8\", \"Topic8\", \"Topic8\", \"Topic8\", \"Topic8\", \"Topic8\", \"Topic8\", \"Topic8\", \"Topic8\", \"Topic8\", \"Topic8\", \"Topic8\", \"Topic8\", \"Topic8\", \"Topic8\", \"Topic8\", \"Topic8\", \"Topic8\", \"Topic8\", \"Topic8\", \"Topic8\", \"Topic8\", \"Topic8\", \"Topic8\", \"Topic8\"], \"Freq\": [307.0, 312.0, 211.0, 182.0, 176.0, 152.0, 147.0, 140.0, 169.0, 127.0, 161.0, 140.0, 109.0, 135.0, 135.0, 134.0, 103.0, 101.0, 113.0, 115.0, 104.0, 100.0, 74.0, 93.0, 89.0, 77.0, 77.0, 65.0, 83.0, 83.0, 134.4448699951172, 134.27816772460938, 114.57642364501953, 133.52635192871094, 160.04263305664062, 88.45943450927734, 73.87818145751953, 70.06563568115234, 67.58258056640625, 74.2183609008789, 62.391212463378906, 61.578861236572266, 60.28443145751953, 56.140838623046875, 53.924644470214844, 54.87496566772461, 47.812828063964844, 47.137290954589844, 44.00773239135742, 41.9959831237793, 41.161956787109375, 39.76695251464844, 39.20465087890625, 37.36308670043945, 36.07765579223633, 35.392486572265625, 33.43583297729492, 32.63740921020508, 32.75543975830078, 31.695762634277344, 31.729854583740234, 31.81689453125, 312.1187744140625, 169.04153442382812, 99.46568298339844, 85.73519134521484, 84.61138153076172, 66.39246368408203, 59.13233947753906, 59.36081314086914, 55.47476577758789, 54.59486389160156, 52.3546257019043, 51.5733642578125, 50.14777755737305, 46.844120025634766, 45.92839813232422, 44.77850341796875, 43.24915313720703, 38.832698822021484, 37.616722106933594, 36.940452575683594, 33.62224197387695, 33.258262634277344, 32.77116394042969, 32.703651428222656, 33.146358489990234, 32.39427947998047, 36.644718170166016, 31.911470413208008, 32.60586166381836, 28.306821823120117, 306.4254455566406, 92.81526947021484, 83.16291809082031, 83.12492370605469, 75.5172348022461, 71.7354736328125, 71.38663482666016, 67.8582534790039, 67.53627014160156, 65.84752655029297, 60.623497009277344, 54.334537506103516, 53.89518356323242, 49.86241149902344, 48.973350524902344, 48.87630844116211, 48.2240104675293, 45.53186798095703, 44.52494812011719, 44.336509704589844, 36.81803512573242, 37.043052673339844, 35.65300369262695, 35.53804016113281, 31.870336532592773, 32.963775634765625, 30.477079391479492, 29.520307540893555, 29.049436569213867, 29.02228355407715, 30.97645378112793, 139.36402893066406, 112.97998046875, 88.5989761352539, 103.1356201171875, 62.92345428466797, 55.592803955078125, 54.62657165527344, 50.72248077392578, 49.20075988769531, 46.163761138916016, 45.508056640625, 39.6363410949707, 38.69176483154297, 38.09654235839844, 37.74700164794922, 41.04505920410156, 35.75567626953125, 35.66175079345703, 57.65874099731445, 34.17543411254883, 33.52592086791992, 32.45395278930664, 30.003305435180664, 29.49810791015625, 29.328691482543945, 27.617158889770508, 27.94057273864746, 27.14573097229004, 26.65033531188965, 26.536596298217773, 27.134000778198242, 33.473365783691406, 211.02398681640625, 181.9197998046875, 151.5320281982422, 146.98062133789062, 108.80233764648438, 68.97754669189453, 50.50565719604492, 44.827327728271484, 40.06157684326172, 31.699697494506836, 30.29517364501953, 28.97243881225586, 29.09589958190918, 27.303050994873047, 26.8360595703125, 26.956789016723633, 25.706111907958984, 24.73287010192871, 23.774267196655273, 23.171119689941406, 20.862215042114258, 19.839025497436523, 19.754751205444336, 23.001609802246094, 17.829179763793945, 16.070222854614258, 15.697319030761719, 15.62816047668457, 16.219762802124023, 14.732978820800781, 16.491514205932617, 42.45079040527344, 15.870408058166504, 175.81024169921875, 140.10035705566406, 126.283447265625, 100.63493347167969, 76.8858871459961, 77.0247802734375, 46.598426818847656, 43.07721710205078, 42.23052215576172, 42.05450439453125, 36.439388275146484, 30.741914749145508, 30.20013999938965, 29.79585838317871, 33.357234954833984, 39.92049026489258, 25.368566513061523, 23.334257125854492, 22.3148193359375, 22.114822387695312, 21.114574432373047, 20.927841186523438, 20.482646942138672, 19.18649673461914, 19.944324493408203, 19.423133850097656, 19.048917770385742, 18.535743713378906, 18.209293365478516, 17.54658317565918, 73.57197570800781, 64.98442840576172, 53.92823791503906, 44.098873138427734, 43.856964111328125, 57.701637268066406, 38.4510383605957, 33.527156829833984, 32.77717971801758, 31.703739166259766, 30.92729377746582, 30.532304763793945, 40.378746032714844, 29.272682189941406, 29.053524017333984, 26.131866455078125, 25.145845413208008, 22.594112396240234, 22.73609161376953, 20.068191528320312, 19.52251625061035, 18.78080940246582, 19.665283203125, 17.676679611206055, 16.34531593322754, 17.83725357055664, 15.637320518493652, 15.683961868286133, 14.33088493347168, 13.947084426879883, 97.2948989868164, 25.792335510253906, 19.338619232177734, 38.098079681396484, 16.701818466186523, 48.838191986083984, 48.03971862792969, 47.573936462402344, 46.8057975769043, 34.63991165161133, 30.23201560974121, 30.16691780090332, 28.923479080200195, 27.532217025756836, 27.317089080810547, 25.980228424072266, 25.39858055114746, 22.405811309814453, 20.802539825439453, 20.347694396972656, 19.296337127685547, 18.51407241821289, 18.364192962646484, 17.429039001464844, 15.969569206237793, 15.752914428710938, 14.879842758178711, 14.53547191619873, 15.933890342712402, 13.125842094421387, 12.886773109436035, 12.523905754089355, 12.01965618133545, 11.309009552001953, 10.005696296691895, 14.776673316955566, 11.945134162902832, 13.754672050476074, 12.030248641967773], \"Term\": [\"student\", \"business\", \"program\", \"firm\", \"work\", \"university\", \"service\", \"idea\", \"team\", \"organisation\", \"scholarship\", \"big\", \"time\", \"company\", \"financial\", \"project\", \"engineering\", \"people\", \"research\", \"opportunity\", \"win\", \"award\", \"tax\", \"world\", \"create\", \"head\", \"global\", \"issue\", \"skill\", \"encourage\", \"company\", \"financial\", \"opportunity\", \"project\", \"scholarship\", \"experience\", \"include\", \"industry\", \"follow\", \"problem\", \"hold\", \"analytic\", \"study\", \"report\", \"sustainability\", \"period\", \"top\", \"australian\", \"datum\", \"would\", \"mean\", \"date\", \"national\", \"school\", \"require\", \"member\", \"become\", \"address\", \"committee\", \"life\", \"international\", \"scholar\", \"business\", \"team\", \"award\", \"audit\", \"partner\", \"lead\", \"build\", \"employer\", \"sponsor\", \"show\", \"leader\", \"apply\", \"practice\", \"demonstrate\", \"uk\", \"learn\", \"entrepreneur\", \"establish\", \"good\", \"high\", \"survey\", \"corporation\", \"help\", \"part\", \"computer\", \"run\", \"participant\", \"initiative\", \"equality\", \"success\", \"student\", \"world\", \"skill\", \"encourage\", \"technology\", \"client\", \"future\", \"provide\", \"benefit\", \"event\", \"area\", \"career\", \"rank\", \"risk\", \"large\", \"value\", \"real\", \"list\", \"base\", \"year\", \"development\", \"hope\", \"standard\", \"environment\", \"case\", \"host\", \"level\", \"brand\", \"present\", \"investment\", \"bachelor\", \"big\", \"research\", \"create\", \"win\", \"support\", \"role\", \"competition\", \"staff\", \"employee\", \"purpose\", \"organization\", \"great\", \"market\", \"professional_service\", \"social\", \"discipline\", \"offer\", \"engage\", \"panel\", \"solve\", \"money\", \"focus\", \"take\", \"place\", \"name\", \"start\", \"environmental\", \"building\", \"working_world\", \"collaboration\", \"collaborate\", \"survive\", \"program\", \"firm\", \"university\", \"service\", \"time\", \"develop\", \"week\", \"must\", \"step\", \"solution\", \"sustainable\", \"course\", \"early\", \"interest\", \"get\", \"complete\", \"back\", \"accountant\", \"model\", \"form\", \"increasingly\", \"capability\", \"diverse\", \"campus\", \"participate\", \"sector\", \"design\", \"space\", \"delivery\", \"operation\", \"western\", \"application\", \"donate\", \"work\", \"idea\", \"organisation\", \"people\", \"global\", \"head\", \"potential\", \"community\", \"give\", \"judge\", \"price\", \"challenge\", \"understand\", \"currently\", \"rule\", \"similar\", \"announce\", \"free\", \"face\", \"need\", \"member_firm\", \"former\", \"plan\", \"feel\", \"item\", \"charge\", \"founder\", \"chairman\", \"know\", \"meet\", \"tax\", \"issue\", \"least\", \"science\", \"consider\", \"equipment\", \"alliance\", \"key\", \"growth\", \"receive\", \"management\", \"come\", \"mathematic\", \"office\", \"education\", \"corporate\", \"integrate\", \"due\", \"capital\", \"melbourne\", \"digital\", \"insight\", \"commerce\", \"select\", \"manager\", \"advisory_service\", \"strategic\", \"site\", \"line\", \"advisory\", \"engineering\", \"bank\", \"eligible\", \"bachelor\", \"data_analytics\", \"accounting\", \"professional\", \"impact\", \"waste\", \"information\", \"month\", \"available\", \"october\", \"strategy\", \"relationship\", \"make\", \"claim\", \"network\", \"everyone\", \"describe\", \"expect\", \"cost\", \"assist\", \"launch\", \"range\", \"actual\", \"allow\", \"attend\", \"body\", \"total\", \"determine\", \"clear\", \"overall\", \"already\", \"executive\", \"universum\", \"highlight\", \"bachelor\", \"detect\"], \"Total\": [307.0, 312.0, 211.0, 182.0, 176.0, 152.0, 147.0, 140.0, 169.0, 127.0, 161.0, 140.0, 109.0, 135.0, 135.0, 134.0, 103.0, 101.0, 113.0, 115.0, 104.0, 100.0, 74.0, 93.0, 89.0, 77.0, 77.0, 65.0, 83.0, 83.0, 135.20645141601562, 135.04127502441406, 115.33906555175781, 134.5594024658203, 161.3430938720703, 89.22254943847656, 74.64025115966797, 70.82891845703125, 68.34640502929688, 75.09644317626953, 63.15528869628906, 62.3470344543457, 61.04833984375, 56.90287399291992, 54.689369201660156, 55.670101165771484, 48.57455062866211, 47.90083312988281, 44.77006912231445, 42.760101318359375, 41.93317413330078, 40.529788970947266, 39.968650817871094, 38.1277961730957, 36.84282684326172, 36.15499496459961, 34.19724655151367, 33.39996337890625, 33.53590393066406, 32.45813751220703, 32.493247985839844, 55.67865753173828, 312.8677978515625, 169.7917938232422, 100.21743774414062, 86.48442077636719, 85.36018371582031, 67.14089965820312, 59.88080978393555, 60.11432647705078, 56.227725982666016, 55.34462356567383, 53.10322570800781, 52.323814392089844, 50.89875793457031, 47.59674072265625, 46.69352340698242, 45.528079986572266, 43.99753189086914, 39.58268737792969, 38.365211486816406, 37.68885803222656, 34.372703552246094, 34.0082893371582, 33.51909255981445, 33.45199203491211, 33.908790588378906, 33.1446418762207, 37.500152587890625, 32.66059875488281, 33.41231918334961, 29.05683708190918, 307.1761474609375, 93.56265258789062, 83.91179656982422, 83.87422943115234, 76.26732635498047, 72.4829330444336, 72.13438415527344, 68.60661315917969, 68.28545379638672, 66.59618377685547, 61.37244415283203, 55.08271026611328, 54.6450080871582, 50.61211013793945, 49.72105407714844, 49.62422561645508, 48.9774169921875, 46.28687286376953, 45.27277755737305, 45.08418273925781, 37.566123962402344, 37.799800872802734, 36.40236282348633, 36.287227630615234, 32.62102127075195, 33.74897766113281, 31.225629806518555, 30.268108367919922, 29.7988338470459, 29.772663116455078, 143.147216796875, 140.1123046875, 113.73072052001953, 89.3470458984375, 104.08389282226562, 63.6707878112793, 56.340824127197266, 55.41312026977539, 51.47392654418945, 49.947959899902344, 46.911380767822266, 46.25505065917969, 40.3843879699707, 39.43925857543945, 38.84526443481445, 38.494781494140625, 41.89209747314453, 36.504058837890625, 36.4093017578125, 58.91560363769531, 34.92586135864258, 34.27451705932617, 33.20140075683594, 30.750686645507812, 30.24565887451172, 30.093555450439453, 28.364795684814453, 28.70505142211914, 27.89350128173828, 27.397567749023438, 27.28638458251953, 27.9167423248291, 38.312957763671875, 211.7886199951172, 182.68408203125, 152.2989959716797, 147.7458038330078, 109.56645202636719, 69.74211883544922, 51.271690368652344, 45.59425735473633, 40.828208923339844, 32.46445083618164, 31.059247970581055, 29.73921012878418, 29.870216369628906, 28.075332641601562, 27.60000991821289, 27.728046417236328, 26.473669052124023, 25.512083053588867, 24.538002014160156, 23.93577766418457, 21.628877639770508, 20.602766036987305, 20.52174186706543, 23.923263549804688, 18.593454360961914, 16.841747283935547, 16.461463928222656, 16.3938045501709, 17.021696090698242, 15.503219604492188, 17.468467712402344, 66.54912567138672, 18.34808349609375, 176.56893920898438, 140.8628692626953, 127.04631805419922, 101.39307403564453, 77.64411926269531, 77.79554748535156, 47.35807800292969, 43.83584213256836, 42.99075698852539, 42.83064651489258, 37.24809265136719, 31.500411987304688, 30.958959579467773, 30.55884552001953, 34.3497314453125, 41.140323638916016, 26.164405822753906, 24.10111427307129, 23.07549285888672, 22.875335693359375, 21.873432159423828, 21.688735961914062, 21.240814208984375, 19.944862365722656, 20.751056671142578, 20.21829605102539, 19.82954978942871, 19.295469284057617, 18.967681884765625, 18.307767868041992, 74.32018280029297, 65.7318344116211, 54.699501037597656, 44.848655700683594, 44.62948989868164, 58.83161544799805, 39.20425796508789, 34.279747009277344, 33.524356842041016, 32.45167922973633, 31.675291061401367, 31.27977752685547, 41.40123748779297, 30.020353317260742, 29.801227569580078, 26.879220962524414, 25.896455764770508, 23.34463882446289, 23.516324996948242, 20.853153228759766, 20.29288673400879, 19.52813148498535, 20.457233428955078, 18.432161331176758, 17.09300994873047, 18.676979064941406, 16.38410186767578, 16.449474334716797, 15.077927589416504, 14.699716567993164, 103.03972625732422, 30.3217830657959, 23.51897430419922, 143.147216796875, 51.55695343017578, 49.61109161376953, 48.809574127197266, 48.34453201293945, 47.599483489990234, 35.41181564331055, 31.001848220825195, 30.938352584838867, 29.713239669799805, 28.30084991455078, 28.086957931518555, 26.748815536499023, 26.172727584838867, 23.174427032470703, 21.576974868774414, 21.1185302734375, 20.073989868164062, 19.283973693847656, 19.13396644592285, 18.199344635009766, 16.744461059570312, 16.52864646911621, 15.648514747619629, 15.322102546691895, 16.828163146972656, 13.895857810974121, 13.669571876525879, 13.293951034545898, 12.812585830688477, 12.091665267944336, 10.774160385131836, 16.32901382446289, 13.952033042907715, 143.147216796875, 21.143917083740234], \"loglift\": [30.0, 29.0, 28.0, 27.0, 26.0, 25.0, 24.0, 23.0, 22.0, 21.0, 20.0, 19.0, 18.0, 17.0, 16.0, 15.0, 14.0, 13.0, 12.0, 11.0, 10.0, 9.0, 8.0, 7.0, 6.0, 5.0, 4.0, 3.0, 2.0, 1.0, 1.777999997138977, 1.777899980545044, 1.7769999504089355, 1.7759000062942505, 1.7755000591278076, 1.774999976158142, 1.773300051689148, 1.7727999687194824, 1.7724000215530396, 1.7718000411987305, 1.771399974822998, 1.7711999416351318, 1.7710000276565552, 1.7700999975204468, 1.7695000171661377, 1.7691999673843384, 1.767799973487854, 1.7675000429153442, 1.7663999795913696, 1.7655999660491943, 1.7649999856948853, 1.7646000385284424, 1.764299988746643, 1.7632999420166016, 1.7625999450683594, 1.7623000144958496, 1.7611000537872314, 1.7604999542236328, 1.76010000705719, 1.7597999572753906, 1.7597999572753906, 1.2239999771118164, 1.8330999612808228, 1.8309999704360962, 1.8279000520706177, 1.826799988746643, 1.82669997215271, 1.8243000507354736, 1.8229000568389893, 1.8229000568389893, 1.8220000267028809, 1.8217999935150146, 1.8213000297546387, 1.8209999799728394, 1.8206000328063965, 1.8194999694824219, 1.8188999891281128, 1.8188999891281128, 1.8183000087738037, 1.8163000345230103, 1.8157999515533447, 1.8154000043869019, 1.8134000301361084, 1.8131999969482422, 1.8128999471664429, 1.8128000497817993, 1.8127000331878662, 1.812600016593933, 1.812399983406067, 1.8122999668121338, 1.8109999895095825, 1.8092999458312988, 1.8904999494552612, 1.8848999738693237, 1.8839000463485718, 1.8839000463485718, 1.8830000162124634, 1.8825000524520874, 1.8825000524520874, 1.8818999528884888, 1.8818999528884888, 1.881600022315979, 1.8805999755859375, 1.8791999816894531, 1.87909996509552, 1.878000020980835, 1.8776999711990356, 1.8776999711990356, 1.8774000406265259, 1.8765000104904175, 1.8761999607086182, 1.8761999607086182, 1.8727999925613403, 1.8726999759674072, 1.8720999956130981, 1.871999979019165, 1.8696000576019287, 1.8694000244140625, 1.8686000108718872, 1.867900013923645, 1.867400050163269, 1.867400050163269, 0.36230000853538513, 1.9384000301361084, 1.9371999502182007, 1.9354000091552734, 1.9347000122070312, 1.9320000410079956, 1.930400013923645, 1.9294999837875366, 1.9291000366210938, 1.9286999702453613, 1.9277000427246094, 1.9275000095367432, 1.9250999689102173, 1.9247000217437744, 1.924299955368042, 1.9242000579833984, 1.9234000444412231, 1.9230999946594238, 1.9230999946594238, 1.9221999645233154, 1.9220999479293823, 1.9217000007629395, 1.9210000038146973, 1.9191999435424805, 1.9187999963760376, 1.9180999994277954, 1.917099952697754, 1.9168000221252441, 1.916599988937378, 1.916200041770935, 1.9158999919891357, 1.9154000282287598, 1.8087999820709229, 2.1995999813079834, 2.1989998817443848, 2.198199987411499, 2.197999954223633, 2.196199893951416, 2.192199945449829, 2.1881000995635986, 2.186199903488159, 2.1842000484466553, 2.1793999671936035, 2.178299903869629, 2.1770999431610107, 2.1768999099731445, 2.175299882888794, 2.175100088119507, 2.174999952316284, 2.173799991607666, 2.1721999645233154, 2.171600103378296, 2.1707000732421875, 2.167099952697754, 2.1654000282287598, 2.16510009765625, 2.1638998985290527, 2.1612000465393066, 2.1563000679016113, 2.1556999683380127, 2.155400037765503, 2.154900074005127, 2.1521999835968018, 2.145699977874756, 1.753600001335144, 2.0580999851226807, 2.2058000564575195, 2.2046000957489014, 2.2039999961853027, 2.2026000022888184, 2.2002999782562256, 2.2000999450683594, 2.1939001083374023, 2.1926000118255615, 2.192199945449829, 2.191800117492676, 2.1881000995635986, 2.185699939727783, 2.18530011177063, 2.184799909591675, 2.1807000637054443, 2.180000066757202, 2.1791999340057373, 2.1777000427246094, 2.176500082015991, 2.176300048828125, 2.174799919128418, 2.1744000911712646, 2.1737000942230225, 2.171299934387207, 2.1703999042510986, 2.1698999404907227, 2.1698999404907227, 2.1698999404907227, 2.169300079345703, 2.16759991645813, 2.411900043487549, 2.410599946975708, 2.4077999591827393, 2.405100107192993, 2.4045000076293945, 2.402600049972534, 2.402600049972534, 2.3998000621795654, 2.3994998931884766, 2.398699998855591, 2.398099899291992, 2.3977999687194824, 2.3970000743865967, 2.3968000411987305, 2.3966000080108643, 2.3938000202178955, 2.3926000595092773, 2.3893001079559326, 2.3882999420166016, 2.3835999965667725, 2.3833000659942627, 2.382999897003174, 2.382499933242798, 2.3801000118255615, 2.3773000240325928, 2.375999927520752, 2.3752999305725098, 2.374300003051758, 2.3712000846862793, 2.3694000244140625, 2.3645999431610107, 2.260200023651123, 2.226300001144409, 1.0982999801635742, 1.294800043106079, 2.6470999717712402, 2.646899938583374, 2.6468000411987305, 2.6459999084472656, 2.6407999992370605, 2.637700080871582, 2.6375999450683594, 2.6359000205993652, 2.6352999210357666, 2.634999990463257, 2.633699893951416, 2.6328001022338867, 2.6291000843048096, 2.626300096511841, 2.625699996948242, 2.623300075531006, 2.6221001148223877, 2.621799945831299, 2.6196000576019287, 2.615499973297119, 2.614799976348877, 2.612499952316284, 2.610100030899048, 2.6082000732421875, 2.605799913406372, 2.6038999557495117, 2.6031999588012695, 2.598900079727173, 2.595900058746338, 2.5887999534606934, 2.5629000663757324, 2.507499933242798, 0.32030001282691956, 2.098900079727173], \"logprob\": [30.0, 29.0, 28.0, 27.0, 26.0, 25.0, 24.0, 23.0, 22.0, 21.0, 20.0, 19.0, 18.0, 17.0, 16.0, 15.0, 14.0, 13.0, 12.0, 11.0, 10.0, 9.0, 8.0, 7.0, 6.0, 5.0, 4.0, 3.0, 2.0, 1.0, -3.610100030899048, -3.611299991607666, -3.7699999809265137, -3.617000102996826, -3.435800075531006, -4.02869987487793, -4.208799839019775, -4.2617998123168945, -4.297900199890137, -4.20419979095459, -4.377799987792969, -4.390900135040283, -4.412199974060059, -4.483399868011475, -4.52370023727417, -4.506199836730957, -4.644000053405762, -4.658199787139893, -4.726900100708008, -4.77370023727417, -4.793700218200684, -4.828199863433838, -4.84250020980835, -4.890600204467773, -4.925600051879883, -4.944799900054932, -5.0015997886657715, -5.0258002281188965, -5.022200107574463, -5.055099964141846, -5.053999900817871, -5.051300048828125, -2.7160000801086426, -3.329200029373169, -3.859600067138672, -4.0081000328063965, -4.021299839019775, -4.263800144195557, -4.3796000480651855, -4.375800132751465, -4.44350004196167, -4.459400177001953, -4.501299858093262, -4.51639986038208, -4.544400215148926, -4.612599849700928, -4.632299900054932, -4.657700061798096, -4.692399978637695, -4.800099849700928, -4.831900119781494, -4.850100040435791, -4.944200038909912, -4.955100059509277, -4.969799995422363, -4.97189998626709, -4.958499908447266, -4.981400012969971, -4.858099937438965, -4.996399879455566, -4.974899768829346, -5.116300106048584, -2.677000045776367, -3.871299982070923, -3.9811999797821045, -3.981600046157837, -4.077600002288818, -4.129000186920166, -4.133800029754639, -4.184500217437744, -4.189300060272217, -4.214600086212158, -4.297299861907959, -4.406799793243408, -4.414899826049805, -4.492700099945068, -4.510700225830078, -4.512700080871582, -4.526100158691406, -4.583499908447266, -4.605899810791016, -4.610099792480469, -4.796000003814697, -4.789899826049805, -4.828100204467773, -4.831399917602539, -4.940299987792969, -4.906499862670898, -4.985000133514404, -5.016900062561035, -5.0329999923706055, -5.033899784088135, -4.968699932098389, -3.4140000343322754, -3.623800039291382, -3.8668999671936035, -3.7149999141693115, -4.209099769592285, -4.333000183105469, -4.350500106811523, -4.424699783325195, -4.455100059509277, -4.518899917602539, -4.533199787139893, -4.671299934387207, -4.695400238037109, -4.710899829864502, -4.720099925994873, -4.63640022277832, -4.7743000984191895, -4.7769999504089355, -4.296500205993652, -4.819499969482422, -4.838699817657471, -4.871200084686279, -4.949699878692627, -4.966700077056885, -4.972499847412109, -5.032599925994873, -5.020999908447266, -5.049799919128418, -5.06820011138916, -5.072500228881836, -5.050300121307373, -4.8403000831604, -2.7397000789642334, -2.8880999088287354, -3.0708999633789062, -3.1013998985290527, -3.402100086212158, -3.8578999042510986, -4.169600009918213, -4.28879976272583, -4.401199817657471, -4.635300159454346, -4.680699825286865, -4.725299835205078, -4.721099853515625, -4.7846999168396, -4.8018999099731445, -4.797399997711182, -4.844900131225586, -4.883500099182129, -4.922999858856201, -4.948699951171875, -5.053699970245361, -5.104000091552734, -5.10830020904541, -4.956099987030029, -5.2108001708984375, -5.314700126647949, -5.338200092315674, -5.342599868774414, -5.3053998947143555, -5.401599884033203, -5.28879976272583, -4.343299865722656, -5.327199935913086, -2.9154000282287598, -3.142400026321411, -3.246299982070923, -3.473299980163574, -3.742500066757202, -3.7407000064849854, -4.243199825286865, -4.321800231933594, -4.341599941253662, -4.345799922943115, -4.489099979400635, -4.659200191497803, -4.6768999099731445, -4.690400123596191, -4.577499866485596, -4.397900104522705, -4.85129976272583, -4.934899806976318, -4.979499816894531, -4.988500118255615, -5.034800052642822, -5.043700218200684, -5.065199851989746, -5.1305999755859375, -5.091800212860107, -5.118299961090088, -5.137800216674805, -5.16510009765625, -5.1828999519348145, -5.219900131225586, -3.5745999813079834, -3.698699951171875, -3.885200023651123, -4.086400032043457, -4.091899871826172, -3.8176000118255615, -4.223499774932861, -4.360499858856201, -4.3831000328063965, -4.416399955749512, -4.441199779510498, -4.454100131988525, -4.174600124359131, -4.496200084686279, -4.503699779510498, -4.6097002029418945, -4.648200035095215, -4.755199909210205, -4.748899936676025, -4.873700141906738, -4.901299953460693, -4.940000057220459, -4.894000053405762, -5.0005998611450195, -5.07889986038208, -4.991600036621094, -5.123199939727783, -5.120200157165527, -5.210400104522705, -5.237599849700928, -3.295099973678589, -4.622799873352051, -4.910799980163574, -4.232699871063232, -5.057300090789795, -3.743499994277954, -3.759999990463257, -3.769700050354004, -3.7860000133514404, -4.086999893188477, -4.223100185394287, -4.225299835205078, -4.267399787902832, -4.316699981689453, -4.32450008392334, -4.37470006942749, -4.397299766540527, -4.52269983291626, -4.59689998626709, -4.619100093841553, -4.672100067138672, -4.713500022888184, -4.72160005569458, -4.773900032043457, -4.861299991607666, -4.875, -4.932000160217285, -4.955399990081787, -4.86359977722168, -5.057400226593018, -5.075799942016602, -5.104400157928467, -5.145500183105469, -5.206399917602539, -5.32889986038208, -4.939000129699707, -5.151700019836426, -5.0106000900268555, -5.144599914550781]}, \"token.table\": {\"Topic\": [5, 8, 8, 1, 7, 7, 7, 8, 8, 1, 6, 1, 2, 3, 4, 5, 6, 7, 8, 2, 3, 8, 8, 2, 1, 8, 2, 1, 2, 3, 4, 5, 6, 7, 8, 5, 1, 2, 3, 4, 5, 6, 7, 8, 3, 1, 3, 4, 8, 3, 2, 4, 2, 5, 5, 7, 3, 3, 6, 6, 6, 8, 8, 3, 4, 4, 7, 7, 1, 6, 1, 4, 5, 2, 7, 7, 2, 8, 5, 4, 6, 1, 2, 3, 4, 5, 6, 7, 8, 1, 1, 5, 2, 8, 5, 1, 2, 3, 4, 5, 6, 7, 8, 8, 5, 3, 7, 4, 5, 4, 5, 7, 5, 7, 1, 2, 5, 6, 7, 4, 2, 3, 4, 1, 2, 3, 4, 5, 6, 7, 2, 3, 4, 2, 7, 2, 3, 8, 8, 8, 1, 6, 6, 1, 5, 4, 1, 5, 6, 6, 6, 3, 5, 6, 6, 2, 4, 7, 6, 2, 2, 8, 1, 3, 3, 6, 8, 1, 5, 1, 8, 2, 7, 7, 5, 1, 3, 7, 6, 6, 7, 6, 3, 8, 2, 2, 2, 7, 3, 1, 7, 3, 8, 7, 7, 4, 7, 1, 6, 7, 1, 6, 5, 4, 8, 5, 4, 1, 6, 8, 8, 4, 7, 5, 1, 6, 4, 8, 4, 2, 2, 5, 2, 6, 1, 4, 6, 6, 2, 3, 6, 1, 8, 4, 5, 1, 3, 4, 8, 3, 3, 7, 8, 1, 1, 4, 3, 4, 6, 2, 1, 2, 3, 4, 5, 6, 7, 8, 1, 1, 7, 5, 7, 5, 2, 6, 7, 3, 4, 5, 4, 5, 2, 4, 3, 4, 5, 7, 8, 3, 1, 2, 4, 2, 1, 2, 3, 4, 6, 7, 8, 1, 5, 4, 7, 2, 3, 5, 1, 8, 2, 6, 5, 8, 3, 8, 5, 5, 4, 6, 4, 3, 1, 3], \"Freq\": [0.9799278378486633, 0.9876823425292969, 0.9680163264274597, 0.9880250096321106, 0.9523993134498596, 0.9637532830238342, 0.9692824482917786, 0.9585574269294739, 0.9097175598144531, 0.9944338202476501, 0.9554965496063232, 0.07513246685266495, 0.04507948085665703, 0.04507948085665703, 0.04507948085665703, 0.6311126947402954, 0.07513246685266495, 0.06010597199201584, 0.01502649299800396, 0.993811309337616, 0.9939314126968384, 0.940735399723053, 0.9789779186248779, 0.9943987727165222, 0.9811937808990479, 0.9696702361106873, 0.9878520369529724, 0.15368793904781342, 0.048900704830884933, 0.2165602743625641, 0.08382978290319443, 0.09780140966176987, 0.034929074347019196, 0.2654609680175781, 0.09780140966176987, 0.982107937335968, 0.03297959268093109, 0.03297959268093109, 0.03297959268093109, 0.03297959268093109, 0.03297959268093109, 0.03297959268093109, 0.857469379901886, 0.03297959268093109, 0.9939748048782349, 0.964989960193634, 0.9958196878433228, 0.9920613169670105, 0.9507870674133301, 0.991142213344574, 0.9852905869483948, 0.9679673910140991, 0.9972262978553772, 0.9614073038101196, 0.9707434177398682, 0.9780439734458923, 0.9803439378738403, 0.9809625148773193, 0.984687089920044, 0.9841141104698181, 0.9397428631782532, 0.9551927447319031, 0.9778883457183838, 0.9933372735977173, 0.9671615362167358, 0.9895045161247253, 0.9910556674003601, 0.9776493310928345, 0.9840199947357178, 0.9809324741363525, 0.9910769462585449, 0.9925447106361389, 0.9737433195114136, 0.9731989502906799, 0.9858952164649963, 0.967289924621582, 0.9703516364097595, 0.9852741360664368, 0.9751436114311218, 0.9961157441139221, 0.9817124605178833, 0.07758410274982452, 0.03879205137491226, 0.15516820549964905, 0.05818807706236839, 0.27154436707496643, 0.03879205137491226, 0.3297324478626251, 0.03879205137491226, 0.986928403377533, 0.9827994704246521, 0.9399768114089966, 0.98746258020401, 0.9470356106758118, 0.9719670414924622, 0.09458985179662704, 0.04729492589831352, 0.04729492589831352, 0.04729492589831352, 0.04729492589831352, 0.14188477396965027, 0.04729492589831352, 0.5675390958786011, 0.9510173201560974, 0.9893590807914734, 0.9849299192428589, 0.985567033290863, 0.9787048697471619, 0.9745761156082153, 0.05450160428881645, 0.8720256686210632, 0.9852369427680969, 0.9708667397499084, 0.9731142520904541, 0.04251886159181595, 0.04251886159181595, 0.04251886159181595, 0.04251886159181595, 0.8078583478927612, 0.9810210466384888, 0.9814631938934326, 0.9895768761634827, 0.9887583255767822, 0.009704994969069958, 0.009704994969069958, 0.009704994969069958, 0.009704994969069958, 0.009704994969069958, 0.009704994969069958, 0.941384494304657, 0.9773275256156921, 0.9920846223831177, 0.9754380583763123, 0.9876596927642822, 0.9858644604682922, 0.9852792620658875, 0.9910477995872498, 0.973259687423706, 0.9281465411186218, 0.946498453617096, 0.9862977266311646, 0.9533924460411072, 0.9526262879371643, 0.9922891855239868, 0.9962553977966309, 0.9638147354125977, 0.9949316382408142, 0.9609046578407288, 0.9682445526123047, 0.9581660032272339, 0.9543127417564392, 0.9842740297317505, 0.9782605171203613, 0.9769541621208191, 0.9917042255401611, 0.9904806613922119, 0.9904817938804626, 0.9843589067459106, 0.9897738695144653, 0.984513521194458, 0.9817224740982056, 0.8600897192955017, 0.9817071557044983, 0.9788411259651184, 0.9778074026107788, 0.9938744306564331, 0.9928734302520752, 0.991422176361084, 0.9709241390228271, 0.9882968664169312, 0.9883706569671631, 0.9797738194465637, 0.9729553461074829, 0.9653830528259277, 0.9616982936859131, 0.9848200082778931, 0.9740478992462158, 0.98886638879776, 0.9638063311576843, 0.9806062579154968, 0.9918392896652222, 0.9489825963973999, 0.9854980111122131, 0.934099555015564, 0.9830073714256287, 0.9792248606681824, 0.9884009957313538, 0.9872119426727295, 0.9607492089271545, 0.9858852624893188, 0.9285095930099487, 0.9938023090362549, 0.9720056653022766, 0.9786808490753174, 0.9360551238059998, 0.9888623952865601, 0.9661546945571899, 0.9777461886405945, 0.9831892251968384, 0.9590875506401062, 0.9680543541908264, 0.9600688219070435, 0.9780747294425964, 0.9919906258583069, 0.967684268951416, 0.9869663715362549, 0.9636614918708801, 0.9757647514343262, 0.9617345333099365, 0.9493222832679749, 0.9759958982467651, 0.9861916899681091, 0.9660112857818604, 0.967540979385376, 0.9970602989196777, 0.9917643070220947, 0.9944859743118286, 0.9365791082382202, 0.9844590425491333, 0.9864883422851562, 0.9866626262664795, 0.96808260679245, 0.9957804083824158, 0.9961232542991638, 0.9879630208015442, 0.9588152766227722, 0.941583514213562, 0.9924389123916626, 0.9823422431945801, 0.9731924533843994, 0.9664924144744873, 0.9853995442390442, 0.9834136366844177, 0.9782401919364929, 0.9962763786315918, 0.995842695236206, 0.9911580681800842, 0.9805722832679749, 0.955539882183075, 0.9881963729858398, 0.9800435304641724, 0.9860814809799194, 0.961300253868103, 0.9841330647468567, 0.9771237373352051, 0.9935749769210815, 0.9879058599472046, 0.9939506649971008, 0.9607061743736267, 0.965465247631073, 0.5747265219688416, 0.10776121914386749, 0.0718408152461052, 0.053880609571933746, 0.1436816304922104, 0.0359204076230526, 0.0179602038115263, 0.0179602038115263, 0.9916755557060242, 0.9704206585884094, 0.9810773730278015, 0.9500201940536499, 0.9765539765357971, 0.9949521422386169, 0.9937731623649597, 0.9722821116447449, 0.9726754426956177, 0.989133894443512, 0.98714679479599, 0.9856935739517212, 0.9734906554222107, 0.975978434085846, 0.9781650900840759, 0.9907928705215454, 0.988946795463562, 0.9871391654014587, 0.9797148108482361, 0.9765564203262329, 0.9893695712089539, 0.9961711168289185, 0.9828277230262756, 0.9636286497116089, 0.9894647598266602, 0.98915696144104, 0.026100829243659973, 0.026100829243659973, 0.026100829243659973, 0.8613274097442627, 0.026100829243659973, 0.026100829243659973, 0.026100829243659973, 0.9873948097229004, 0.9658958911895752, 0.9755879640579224, 0.9956918358802795, 0.995336651802063, 0.9964948892593384, 0.9948300719261169, 0.9881717562675476, 0.9355306029319763, 0.9851473569869995, 0.9690248370170593, 0.998036801815033, 0.9186102747917175, 0.9874209761619568, 0.9874056577682495, 0.9947009682655334, 0.9159361124038696, 0.989586353302002, 0.9967778325080872, 0.9854889512062073, 0.9939863681793213, 0.9822240471839905, 0.9759520292282104], \"Term\": [\"accountant\", \"accounting\", \"actual\", \"address\", \"advisory\", \"advisory_service\", \"alliance\", \"allow\", \"already\", \"analytic\", \"announce\", \"application\", \"application\", \"application\", \"application\", \"application\", \"application\", \"application\", \"application\", \"apply\", \"area\", \"assist\", \"attend\", \"audit\", \"australian\", \"available\", \"award\", \"bachelor\", \"bachelor\", \"bachelor\", \"bachelor\", \"bachelor\", \"bachelor\", \"bachelor\", \"bachelor\", \"back\", \"bank\", \"bank\", \"bank\", \"bank\", \"bank\", \"bank\", \"bank\", \"bank\", \"base\", \"become\", \"benefit\", \"big\", \"body\", \"brand\", \"build\", \"building\", \"business\", \"campus\", \"capability\", \"capital\", \"career\", \"case\", \"chairman\", \"challenge\", \"charge\", \"claim\", \"clear\", \"client\", \"collaborate\", \"collaboration\", \"come\", \"commerce\", \"committee\", \"community\", \"company\", \"competition\", \"complete\", \"computer\", \"consider\", \"corporate\", \"corporation\", \"cost\", \"course\", \"create\", \"currently\", \"data_analytics\", \"data_analytics\", \"data_analytics\", \"data_analytics\", \"data_analytics\", \"data_analytics\", \"data_analytics\", \"data_analytics\", \"date\", \"datum\", \"delivery\", \"demonstrate\", \"describe\", \"design\", \"detect\", \"detect\", \"detect\", \"detect\", \"detect\", \"detect\", \"detect\", \"detect\", \"determine\", \"develop\", \"development\", \"digital\", \"discipline\", \"diverse\", \"donate\", \"donate\", \"due\", \"early\", \"education\", \"eligible\", \"eligible\", \"eligible\", \"eligible\", \"eligible\", \"employee\", \"employer\", \"encourage\", \"engage\", \"engineering\", \"engineering\", \"engineering\", \"engineering\", \"engineering\", \"engineering\", \"engineering\", \"entrepreneur\", \"environment\", \"environmental\", \"equality\", \"equipment\", \"establish\", \"event\", \"everyone\", \"executive\", \"expect\", \"experience\", \"face\", \"feel\", \"financial\", \"firm\", \"focus\", \"follow\", \"form\", \"former\", \"founder\", \"free\", \"future\", \"get\", \"give\", \"global\", \"good\", \"great\", \"growth\", \"head\", \"help\", \"high\", \"highlight\", \"hold\", \"hope\", \"host\", \"idea\", \"impact\", \"include\", \"increasingly\", \"industry\", \"information\", \"initiative\", \"insight\", \"integrate\", \"interest\", \"international\", \"investment\", \"issue\", \"item\", \"judge\", \"key\", \"know\", \"large\", \"launch\", \"lead\", \"leader\", \"learn\", \"least\", \"level\", \"life\", \"line\", \"list\", \"make\", \"management\", \"manager\", \"market\", \"mathematic\", \"mean\", \"meet\", \"melbourne\", \"member\", \"member_firm\", \"model\", \"money\", \"month\", \"must\", \"name\", \"national\", \"need\", \"network\", \"october\", \"offer\", \"office\", \"operation\", \"opportunity\", \"organisation\", \"organization\", \"overall\", \"panel\", \"part\", \"participant\", \"participate\", \"partner\", \"people\", \"period\", \"place\", \"plan\", \"potential\", \"practice\", \"present\", \"price\", \"problem\", \"professional\", \"professional_service\", \"program\", \"project\", \"provide\", \"purpose\", \"range\", \"rank\", \"real\", \"receive\", \"relationship\", \"report\", \"require\", \"research\", \"risk\", \"role\", \"rule\", \"run\", \"scholar\", \"scholar\", \"scholar\", \"scholar\", \"scholar\", \"scholar\", \"scholar\", \"scholar\", \"scholarship\", \"school\", \"science\", \"sector\", \"select\", \"service\", \"show\", \"similar\", \"site\", \"skill\", \"social\", \"solution\", \"solve\", \"space\", \"sponsor\", \"staff\", \"standard\", \"start\", \"step\", \"strategic\", \"strategy\", \"student\", \"study\", \"success\", \"support\", \"survey\", \"survive\", \"survive\", \"survive\", \"survive\", \"survive\", \"survive\", \"survive\", \"sustainability\", \"sustainable\", \"take\", \"tax\", \"team\", \"technology\", \"time\", \"top\", \"total\", \"uk\", \"understand\", \"university\", \"universum\", \"value\", \"waste\", \"week\", \"western\", \"win\", \"work\", \"working_world\", \"world\", \"would\", \"year\"]}, \"R\": 30, \"lambda.step\": 0.01, \"plot.opts\": {\"xlab\": \"PC1\", \"ylab\": \"PC2\"}, \"topic.order\": [5, 6, 7, 4, 3, 1, 2, 8]};\n",
              "\n",
              "function LDAvis_load_lib(url, callback){\n",
              "  var s = document.createElement('script');\n",
              "  s.src = url;\n",
              "  s.async = true;\n",
              "  s.onreadystatechange = s.onload = callback;\n",
              "  s.onerror = function(){console.warn(\"failed to load library \" + url);};\n",
              "  document.getElementsByTagName(\"head\")[0].appendChild(s);\n",
              "}\n",
              "\n",
              "if(typeof(LDAvis) !== \"undefined\"){\n",
              "   // already loaded: just create the visualization\n",
              "   !function(LDAvis){\n",
              "       new LDAvis(\"#\" + \"ldavis_el1171402763991415366444308064\", ldavis_el1171402763991415366444308064_data);\n",
              "   }(LDAvis);\n",
              "}else if(typeof define === \"function\" && define.amd){\n",
              "   // require.js is available: use it to load d3/LDAvis\n",
              "   require.config({paths: {d3: \"https://cdnjs.cloudflare.com/ajax/libs/d3/3.5.5/d3.min\"}});\n",
              "   require([\"d3\"], function(d3){\n",
              "      window.d3 = d3;\n",
              "      LDAvis_load_lib(\"https://cdn.rawgit.com/bmabey/pyLDAvis/files/ldavis.v1.0.0.js\", function(){\n",
              "        new LDAvis(\"#\" + \"ldavis_el1171402763991415366444308064\", ldavis_el1171402763991415366444308064_data);\n",
              "      });\n",
              "    });\n",
              "}else{\n",
              "    // require.js not available: dynamically load d3 & LDAvis\n",
              "    LDAvis_load_lib(\"https://cdnjs.cloudflare.com/ajax/libs/d3/3.5.5/d3.min.js\", function(){\n",
              "         LDAvis_load_lib(\"https://cdn.rawgit.com/bmabey/pyLDAvis/files/ldavis.v1.0.0.js\", function(){\n",
              "                 new LDAvis(\"#\" + \"ldavis_el1171402763991415366444308064\", ldavis_el1171402763991415366444308064_data);\n",
              "            })\n",
              "         });\n",
              "}\n",
              "</script>"
            ],
            "text/plain": [
              "PreparedData(topic_coordinates=              x         y  topics  cluster       Freq\n",
              "topic                                                \n",
              "4      0.301251 -0.042986       1        1  16.803179\n",
              "5     -0.090517 -0.272879       2        1  15.953893\n",
              "6     -0.040555  0.104004       3        1  15.063437\n",
              "3     -0.050093  0.058459       4        1  14.315825\n",
              "2     -0.025979  0.052603       5        1  11.044885\n",
              "0     -0.037957  0.040774       6        1  10.969330\n",
              "1     -0.028375  0.038138       7        1   8.874426\n",
              "7     -0.027775  0.021886       8        1   6.975032, topic_info=     Category        Freq          Term       Total  loglift  logprob\n",
              "137   Default  307.000000       student  307.000000  30.0000  30.0000\n",
              "0     Default  312.000000      business  312.000000  29.0000  29.0000\n",
              "107   Default  211.000000       program  211.000000  28.0000  28.0000\n",
              "194   Default  182.000000          firm  182.000000  27.0000  27.0000\n",
              "160   Default  176.000000          work  176.000000  26.0000  26.0000\n",
              "138   Default  152.000000    university  152.000000  25.0000  25.0000\n",
              "120   Default  147.000000       service  147.000000  24.0000  24.0000\n",
              "144   Default  140.000000          idea  140.000000  23.0000  23.0000\n",
              "570   Default  169.000000          team  169.000000  22.0000  22.0000\n",
              "709   Default  127.000000  organisation  127.000000  21.0000  21.0000\n",
              "3628  Default  161.000000   scholarship  161.000000  20.0000  20.0000\n",
              "186   Default  140.000000           big  140.000000  19.0000  19.0000\n",
              "110   Default  109.000000          time  109.000000  18.0000  18.0000\n",
              "262   Default  135.000000       company  135.000000  17.0000  17.0000\n",
              "265   Default  135.000000     financial  135.000000  16.0000  16.0000\n",
              "1271  Default  134.000000       project  134.000000  15.0000  15.0000\n",
              "509   Default  103.000000   engineering  103.000000  14.0000  14.0000\n",
              "184   Default  101.000000        people  101.000000  13.0000  13.0000\n",
              "553   Default  113.000000      research  113.000000  12.0000  12.0000\n",
              "728   Default  115.000000   opportunity  115.000000  11.0000  11.0000\n",
              "2484  Default  104.000000           win  104.000000  10.0000  10.0000\n",
              "821   Default  100.000000         award  100.000000   9.0000   9.0000\n",
              "256   Default   74.000000           tax   74.000000   8.0000   8.0000\n",
              "90    Default   93.000000         world   93.000000   7.0000   7.0000\n",
              "491   Default   89.000000        create   89.000000   6.0000   6.0000\n",
              "57    Default   77.000000          head   77.000000   5.0000   5.0000\n",
              "146   Default   77.000000        global   77.000000   4.0000   4.0000\n",
              "253   Default   65.000000         issue   65.000000   3.0000   3.0000\n",
              "1130  Default   83.000000         skill   83.000000   2.0000   2.0000\n",
              "784   Default   83.000000     encourage   83.000000   1.0000   1.0000\n",
              "...       ...         ...           ...         ...      ...      ...\n",
              "840    Topic8   34.639912   information   35.411816   2.6408  -4.0870\n",
              "1325   Topic8   30.232016         month   31.001848   2.6377  -4.2231\n",
              "84     Topic8   30.166918     available   30.938353   2.6376  -4.2253\n",
              "272    Topic8   28.923479       october   29.713240   2.6359  -4.2674\n",
              "430    Topic8   27.532217      strategy   28.300850   2.6353  -4.3167\n",
              "660    Topic8   27.317089  relationship   28.086958   2.6350  -4.3245\n",
              "429    Topic8   25.980228          make   26.748816   2.6337  -4.3747\n",
              "1786   Topic8   25.398581         claim   26.172728   2.6328  -4.3973\n",
              "14     Topic8   22.405811       network   23.174427   2.6291  -4.5227\n",
              "744    Topic8   20.802540      everyone   21.576975   2.6263  -4.5969\n",
              "983    Topic8   20.347694      describe   21.118530   2.6257  -4.6191\n",
              "1507   Topic8   19.296337        expect   20.073990   2.6233  -4.6721\n",
              "418    Topic8   18.514072          cost   19.283974   2.6221  -4.7135\n",
              "707    Topic8   18.364193        assist   19.133966   2.6218  -4.7216\n",
              "29     Topic8   17.429039        launch   18.199345   2.6196  -4.7739\n",
              "409    Topic8   15.969569         range   16.744461   2.6155  -4.8613\n",
              "1040   Topic8   15.752914        actual   16.528646   2.6148  -4.8750\n",
              "720    Topic8   14.879843         allow   15.648515   2.6125  -4.9320\n",
              "128    Topic8   14.535472        attend   15.322103   2.6101  -4.9554\n",
              "1131   Topic8   15.933890          body   16.828163   2.6082  -4.8636\n",
              "94     Topic8   13.125842         total   13.895858   2.6058  -5.0574\n",
              "1016   Topic8   12.886773     determine   13.669572   2.6039  -5.0758\n",
              "619    Topic8   12.523906         clear   13.293951   2.6032  -5.1044\n",
              "214    Topic8   12.019656       overall   12.812586   2.5989  -5.1455\n",
              "1011   Topic8   11.309010       already   12.091665   2.5959  -5.2064\n",
              "877    Topic8   10.005696     executive   10.774160   2.5888  -5.3289\n",
              "3385   Topic8   14.776673     universum   16.329014   2.5629  -4.9390\n",
              "2898   Topic8   11.945134     highlight   13.952033   2.5075  -5.1517\n",
              "4454   Topic8   13.754672      bachelor  143.147217   0.3203  -5.0106\n",
              "3747   Topic8   12.030249        detect   21.143917   2.0989  -5.1446\n",
              "\n",
              "[287 rows x 6 columns], token_table=      Topic      Freq              Term\n",
              "term                                   \n",
              "1612      5  0.979928        accountant\n",
              "354       8  0.987682        accounting\n",
              "1040      8  0.968016            actual\n",
              "1412      1  0.988025           address\n",
              "246       7  0.952399          advisory\n",
              "1359      7  0.963753  advisory_service\n",
              "1918      7  0.969282          alliance\n",
              "720       8  0.958557             allow\n",
              "1011      8  0.909718           already\n",
              "1675      1  0.994434          analytic\n",
              "593       6  0.955497          announce\n",
              "1035      1  0.075132       application\n",
              "1035      2  0.045079       application\n",
              "1035      3  0.045079       application\n",
              "1035      4  0.045079       application\n",
              "1035      5  0.631113       application\n",
              "1035      6  0.075132       application\n",
              "1035      7  0.060106       application\n",
              "1035      8  0.015026       application\n",
              "830       2  0.993811             apply\n",
              "362       3  0.993931              area\n",
              "707       8  0.940735            assist\n",
              "128       8  0.978978            attend\n",
              "1285      2  0.994399             audit\n",
              "258       1  0.981194        australian\n",
              "84        8  0.969670         available\n",
              "821       2  0.987852             award\n",
              "4454      1  0.153688          bachelor\n",
              "4454      2  0.048901          bachelor\n",
              "4454      3  0.216560          bachelor\n",
              "...     ...       ...               ...\n",
              "2798      1  0.026101           survive\n",
              "2798      2  0.026101           survive\n",
              "2798      3  0.026101           survive\n",
              "2798      4  0.861327           survive\n",
              "2798      6  0.026101           survive\n",
              "2798      7  0.026101           survive\n",
              "2798      8  0.026101           survive\n",
              "3162      1  0.987395    sustainability\n",
              "1179      5  0.965896       sustainable\n",
              "1027      4  0.975588              take\n",
              "256       7  0.995692               tax\n",
              "570       2  0.995337              team\n",
              "19        3  0.996495        technology\n",
              "110       5  0.994830              time\n",
              "219       1  0.988172               top\n",
              "94        8  0.935531             total\n",
              "1337      2  0.985147                uk\n",
              "740       6  0.969025        understand\n",
              "138       5  0.998037        university\n",
              "3385      8  0.918610         universum\n",
              "377       3  0.987421             value\n",
              "2226      8  0.987406             waste\n",
              "36        5  0.994701              week\n",
              "737       5  0.915936           western\n",
              "2484      4  0.989586               win\n",
              "160       6  0.996778              work\n",
              "749       4  0.985489     working_world\n",
              "90        3  0.993986             world\n",
              "300       1  0.982224             would\n",
              "330       3  0.975952              year\n",
              "\n",
              "[314 rows x 3 columns], R=30, lambda_step=0.01, plot_opts={'xlab': 'PC1', 'ylab': 'PC2'}, topic_order=[5, 6, 7, 4, 3, 1, 2, 8])"
            ]
          },
          "metadata": {
            "tags": []
          },
          "execution_count": 109
        }
      ]
    }
  ]
}
{
  "nbformat": 4,
  "nbformat_minor": 0,
  "metadata": {
    "kernelspec": {
      "display_name": "Python 3",
      "language": "python",
      "name": "python3"
    },
    "language_info": {
      "codemirror_mode": {
        "name": "ipython",
        "version": 3
      },
      "file_extension": ".py",
      "mimetype": "text/x-python",
      "name": "python",
      "nbconvert_exporter": "python",
      "pygments_lexer": "ipython3",
      "version": "3.7.1"
    },
    "colab": {
      "name": "ML2019_ID10885123_A2.ipynb",
      "version": "0.3.2",
      "provenance": [],
      "include_colab_link": true
    }
  },
  "cells": [
    {
      "cell_type": "markdown",
      "metadata": {
        "id": "view-in-github",
        "colab_type": "text"
      },
      "source": [
        "<a href=\"https://colab.research.google.com/github/mlcurva77/UTS_ML2019_ID10885123/blob/master/ML2019_ID10885123_A2.ipynb\" target=\"_parent\"><img src=\"https://colab.research.google.com/assets/colab-badge.svg\" alt=\"Open In Colab\"/></a>"
      ]
    },
    {
      "cell_type": "code",
      "metadata": {
        "id": "47nF31JoWKLa",
        "colab_type": "code",
        "colab": {
          "base_uri": "https://localhost:8080/",
          "height": 496
        },
        "outputId": "07df7c75-1603-4bbb-dad4-4edf7d680f50"
      },
      "source": [
        "#Loading NLTK\n",
        "import nltk\n",
        "nltk.download('punkt')\n",
        "nltk.download('stopwords')\n",
        "nltk.download('wordnet')\n",
        "\n",
        "!pip install -q nltk==3.4.3\n",
        "\n",
        "import re\n",
        "import numpy as np\n",
        "import pandas as pd\n",
        "from pprint import pprint\n",
        "\n",
        "# Gensim\n",
        "import gensim\n",
        "import gensim.corpora as corpora\n",
        "from gensim.utils import simple_preprocess\n",
        "from gensim.models import CoherenceModel\n",
        "\n",
        "# spacy for lemmatization\n",
        "import spacy\n",
        "\n",
        "# Plotting tools\n",
        "!pip install pyLDAvis\n",
        "import pyLDAvis\n",
        "import pyLDAvis.gensim  # don't skip this\n",
        "import matplotlib.pyplot as plt\n",
        "%matplotlib inline\n",
        "\n",
        "# Enable logging for gensim - optional\n",
        "import logging\n",
        "logging.basicConfig(format='%(asctime)s : %(levelname)s : %(message)s', level=logging.ERROR)\n",
        "\n",
        "import warnings\n",
        "warnings.filterwarnings(\"ignore\",category=DeprecationWarning)\n"
      ],
      "execution_count": 1,
      "outputs": [
        {
          "output_type": "stream",
          "text": [
            "[nltk_data] Downloading package punkt to /root/nltk_data...\n",
            "[nltk_data]   Package punkt is already up-to-date!\n",
            "[nltk_data] Downloading package stopwords to /root/nltk_data...\n",
            "[nltk_data]   Package stopwords is already up-to-date!\n",
            "[nltk_data] Downloading package wordnet to /root/nltk_data...\n",
            "[nltk_data]   Package wordnet is already up-to-date!\n"
          ],
          "name": "stderr"
        },
        {
          "output_type": "stream",
          "text": [
            "Requirement already satisfied: pyLDAvis in /usr/local/lib/python3.6/dist-packages (2.1.2)\n",
            "Requirement already satisfied: jinja2>=2.7.2 in /usr/local/lib/python3.6/dist-packages (from pyLDAvis) (2.10.1)\n",
            "Requirement already satisfied: numexpr in /usr/local/lib/python3.6/dist-packages (from pyLDAvis) (2.7.0)\n",
            "Requirement already satisfied: pytest in /usr/local/lib/python3.6/dist-packages (from pyLDAvis) (3.6.4)\n",
            "Requirement already satisfied: scipy>=0.18.0 in /usr/local/lib/python3.6/dist-packages (from pyLDAvis) (1.3.1)\n",
            "Requirement already satisfied: wheel>=0.23.0 in /usr/local/lib/python3.6/dist-packages (from pyLDAvis) (0.33.6)\n",
            "Requirement already satisfied: pandas>=0.17.0 in /usr/local/lib/python3.6/dist-packages (from pyLDAvis) (0.24.2)\n",
            "Requirement already satisfied: funcy in /usr/local/lib/python3.6/dist-packages (from pyLDAvis) (1.13)\n",
            "Requirement already satisfied: future in /usr/local/lib/python3.6/dist-packages (from pyLDAvis) (0.16.0)\n",
            "Requirement already satisfied: joblib>=0.8.4 in /usr/local/lib/python3.6/dist-packages (from pyLDAvis) (0.13.2)\n",
            "Requirement already satisfied: numpy>=1.9.2 in /usr/local/lib/python3.6/dist-packages (from pyLDAvis) (1.16.4)\n",
            "Requirement already satisfied: MarkupSafe>=0.23 in /usr/local/lib/python3.6/dist-packages (from jinja2>=2.7.2->pyLDAvis) (1.1.1)\n",
            "Requirement already satisfied: attrs>=17.4.0 in /usr/local/lib/python3.6/dist-packages (from pytest->pyLDAvis) (19.1.0)\n",
            "Requirement already satisfied: pluggy<0.8,>=0.5 in /usr/local/lib/python3.6/dist-packages (from pytest->pyLDAvis) (0.7.1)\n",
            "Requirement already satisfied: six>=1.10.0 in /usr/local/lib/python3.6/dist-packages (from pytest->pyLDAvis) (1.12.0)\n",
            "Requirement already satisfied: py>=1.5.0 in /usr/local/lib/python3.6/dist-packages (from pytest->pyLDAvis) (1.8.0)\n",
            "Requirement already satisfied: more-itertools>=4.0.0 in /usr/local/lib/python3.6/dist-packages (from pytest->pyLDAvis) (7.2.0)\n",
            "Requirement already satisfied: setuptools in /usr/local/lib/python3.6/dist-packages (from pytest->pyLDAvis) (41.2.0)\n",
            "Requirement already satisfied: atomicwrites>=1.0 in /usr/local/lib/python3.6/dist-packages (from pytest->pyLDAvis) (1.3.0)\n",
            "Requirement already satisfied: pytz>=2011k in /usr/local/lib/python3.6/dist-packages (from pandas>=0.17.0->pyLDAvis) (2018.9)\n",
            "Requirement already satisfied: python-dateutil>=2.5.0 in /usr/local/lib/python3.6/dist-packages (from pandas>=0.17.0->pyLDAvis) (2.5.3)\n"
          ],
          "name": "stdout"
        }
      ]
    },
    {
      "cell_type": "code",
      "metadata": {
        "id": "A5YqZBDBYjfE",
        "colab_type": "code",
        "colab": {
          "base_uri": "https://localhost:8080/",
          "height": 34
        },
        "outputId": "0eaa2acf-6bd1-4e41-c085-eabea589954b"
      },
      "source": [
        "inGoogleColab = True\n",
        "folderpath_base = '/content/drive/My Drive/Docs'\n",
        "\n",
        "\n",
        "from google.colab import drive\n",
        "drive.mount('/content/drive/')"
      ],
      "execution_count": 30,
      "outputs": [
        {
          "output_type": "stream",
          "text": [
            "Drive already mounted at /content/drive/; to attempt to forcibly remount, call drive.mount(\"/content/drive/\", force_remount=True).\n"
          ],
          "name": "stdout"
        }
      ]
    },
    {
      "cell_type": "code",
      "metadata": {
        "id": "2dqdXA60ZjLt",
        "colab_type": "code",
        "colab": {
          "base_uri": "https://localhost:8080/",
          "height": 34
        },
        "outputId": "8f1e70d9-282e-40d8-89e2-6b6c35d53fc2"
      },
      "source": [
        "print(folderpath_base)"
      ],
      "execution_count": 3,
      "outputs": [
        {
          "output_type": "stream",
          "text": [
            "/content/drive/My Drive/Docs\n"
          ],
          "name": "stdout"
        }
      ]
    },
    {
      "cell_type": "code",
      "metadata": {
        "id": "7GzFKJEDWKLe",
        "colab_type": "code",
        "colab": {
          "base_uri": "https://localhost:8080/",
          "height": 34
        },
        "outputId": "14abf469-c2b6-4ae2-cbd8-8f5dafbc6126"
      },
      "source": [
        "import os\n",
        "from nltk.corpus import PlaintextCorpusReader\n",
        "\n",
        "#print(os.getcwd())\n",
        "#corpus_root = os.getcwd() + \"\\Docs\"\n",
        "#print (corpus_root)\n",
        "\n",
        "# .txt file names as file IDs\n",
        "file_ids = \".*.txt\"\n",
        "#corpus = nltk.corpus.reader.PlaintextCorpusReader(corpus_root, file_ids,encoding='latin-1')\n",
        "corpus = nltk.corpus.reader.PlaintextCorpusReader(folderpath_base, file_ids,encoding='latin-1')\n",
        "\n",
        "#print(corpus.fileids())\n",
        "print(corpus)"
      ],
      "execution_count": 4,
      "outputs": [
        {
          "output_type": "stream",
          "text": [
            "<PlaintextCorpusReader in '/content/drive/My Drive/Docs'>\n"
          ],
          "name": "stdout"
        }
      ]
    },
    {
      "cell_type": "code",
      "metadata": {
        "id": "mnucOTi_WKLi",
        "colab_type": "code",
        "colab": {
          "base_uri": "https://localhost:8080/",
          "height": 493
        },
        "outputId": "84bd9ed2-06d5-4fa5-bf60-452858372ac9"
      },
      "source": [
        "# for-loop through file IDs and print out word count. \n",
        "for f in corpus.fileids():\n",
        "    print(len(corpus.words(f)), f)"
      ],
      "execution_count": 5,
      "outputs": [
        {
          "output_type": "stream",
          "text": [
            "713 01_AFR1.txt\n",
            "751 01_AFR2.txt\n",
            "1360 01_AFR3.txt\n",
            "906 01_AFR4.txt\n",
            "399 02_EY1.txt\n",
            "694 02_EY2.txt\n",
            "3577 02_EY3.txt\n",
            "12457 02_EY4.txt\n",
            "6403 02_EY5.txt\n",
            "7583 02_EY6.txt\n",
            "14264 02_EY7.txt\n",
            "821 02_EY8.txt\n",
            "1460 03_EY1.txt\n",
            "949 03_EY10.txt\n",
            "1305 03_EY2.txt\n",
            "1044 03_EY3.txt\n",
            "515 03_EY4.txt\n",
            "560 03_EY5.txt\n",
            "865 03_EY6.txt\n",
            "1371 03_EY7.txt\n",
            "1245 03_EY8.txt\n",
            "1201 03_EY9.txt\n",
            "3603 04_EY1.txt\n",
            "402 05_UNSW1.txt\n",
            "1345 05_UQ1.txt\n",
            "697 05_USYD1.txt\n",
            "578 05_UTS1.txt\n",
            "856 05_UWA1.txt\n"
          ],
          "name": "stdout"
        }
      ]
    },
    {
      "cell_type": "code",
      "metadata": {
        "id": "TDmOW3EfWKLk",
        "colab_type": "code",
        "colab": {
          "base_uri": "https://localhost:8080/",
          "height": 34
        },
        "outputId": "b9e45944-cefb-481b-f42c-01c306c64e37"
      },
      "source": [
        "# Corpus size in number of words\n",
        "print(len(corpus.words()))"
      ],
      "execution_count": 6,
      "outputs": [
        {
          "output_type": "stream",
          "text": [
            "67924\n"
          ],
          "name": "stdout"
        }
      ]
    },
    {
      "cell_type": "code",
      "metadata": {
        "id": "R_Ga5yjdWKLn",
        "colab_type": "code",
        "colab": {
          "base_uri": "https://localhost:8080/",
          "height": 54
        },
        "outputId": "2955ead5-99e8-4fc8-ce38-d7a4fdd1164e"
      },
      "source": [
        "#tokenized_sent = corpus.sents()\n",
        "#print(tokenized_sent)\n",
        "\n",
        "tokenized_sent = corpus.sents()\n",
        "print(tokenized_sent[0])"
      ],
      "execution_count": 7,
      "outputs": [
        {
          "output_type": "stream",
          "text": [
            "['US', 'business', 'leader', 'Kay', 'Koplovitz', 'forges', 'new', 'ground', 'for', 'female', 'entrepreneurs', 'by', 'Joanne', 'Gray', 'Women', 'in', 'science', 'and', 'technology', 'are', 'gaining', 'a', 'higher', 'profile', 'in', 'Australia', 'as', 'entrepreneurs', ',', 'says', 'Kay', 'Koplovitz', ',', 'a', 'leading', 'successful', 'businesswoman', 'in', 'the', 'US', 'and', 'founder', 'of', 'USA', 'Network', '.']\n"
          ],
          "name": "stdout"
        }
      ]
    },
    {
      "cell_type": "code",
      "metadata": {
        "id": "i1R_gMn58g6o",
        "colab_type": "code",
        "colab": {
          "base_uri": "https://localhost:8080/",
          "height": 54
        },
        "outputId": "d4b3f32b-a479-48b5-a7c1-6d19664d0b30"
      },
      "source": [
        "def sent_to_words(sentences):\n",
        "    for sentence in sentences:\n",
        "        yield(gensim.utils.simple_preprocess(str(sentence), deacc=True))  # deacc=True removes punctuations\n",
        "\n",
        "data_words = list(sent_to_words(tokenized_sent))\n",
        "\n",
        "print(data_words[:2])"
      ],
      "execution_count": 8,
      "outputs": [
        {
          "output_type": "stream",
          "text": [
            "[['us', 'business', 'leader', 'kay', 'koplovitz', 'forges', 'new', 'ground', 'for', 'female', 'entrepreneurs', 'by', 'joanne', 'gray', 'women', 'in', 'science', 'and', 'technology', 'are', 'gaining', 'higher', 'profile', 'in', 'australia', 'as', 'entrepreneurs', 'says', 'kay', 'koplovitz', 'leading', 'successful', 'businesswoman', 'in', 'the', 'us', 'and', 'founder', 'of', 'usa', 'network'], ['her', 'successful', 'incubator', 'springboard', 'enterprises', 'launched', 'in', 'australia', 'five', 'years', 'ago', 'trains', 'women', 'founders', 'with', 'potentially', 'high', 'growth', 'businesses', 'to', 'raise', 'venture', 'capital', 'with', 'week', 'course', 'and', 'two', 'day', 'boot', 'camp', 'which', 'runs', 'this', 'week']]\n"
          ],
          "name": "stdout"
        }
      ]
    },
    {
      "cell_type": "code",
      "metadata": {
        "id": "ckonue-E9Z6b",
        "colab_type": "code",
        "colab": {
          "base_uri": "https://localhost:8080/",
          "height": 88
        },
        "outputId": "77877c0c-7f92-4f78-f55f-5ed190be3433"
      },
      "source": [
        "# Build the bigram and trigram models\n",
        "bigram = gensim.models.Phrases(data_words, min_count=5, threshold=100) # higher threshold fewer phrases.\n",
        "trigram = gensim.models.Phrases(bigram[data_words], threshold=100)  \n",
        "\n",
        "# Faster way to get a sentence clubbed as a trigram/bigram\n",
        "bigram_mod = gensim.models.phrases.Phraser(bigram)\n",
        "trigram_mod = gensim.models.phrases.Phraser(trigram)\n",
        "\n",
        "# See trigram example\n",
        "print(trigram_mod[bigram_mod[data_words[1]]])"
      ],
      "execution_count": 9,
      "outputs": [
        {
          "output_type": "stream",
          "text": [
            "/usr/local/lib/python3.6/dist-packages/gensim/models/phrases.py:598: UserWarning: For a faster implementation, use the gensim.models.phrases.Phraser class\n",
            "  warnings.warn(\"For a faster implementation, use the gensim.models.phrases.Phraser class\")\n"
          ],
          "name": "stderr"
        },
        {
          "output_type": "stream",
          "text": [
            "['her', 'successful', 'incubator', 'springboard', 'enterprises', 'launched', 'in', 'australia', 'five', 'years_ago', 'trains', 'women', 'founders', 'with', 'potentially', 'high', 'growth', 'businesses', 'to', 'raise', 'venture_capital', 'with', 'week', 'course', 'and', 'two', 'day', 'boot', 'camp', 'which', 'runs', 'this', 'week']\n"
          ],
          "name": "stdout"
        }
      ]
    },
    {
      "cell_type": "code",
      "metadata": {
        "id": "Q8OB2pUWWKLv",
        "colab_type": "code",
        "colab": {
          "base_uri": "https://localhost:8080/",
          "height": 88
        },
        "outputId": "37a734ff-d9d6-46f6-8145-421309a8e95c"
      },
      "source": [
        "from nltk.corpus import stopwords\n",
        "stop_words=stopwords.words(\"english\")\n",
        "print(len(stop_words))\n",
        "\n",
        "stop_words.extend([\"can\", \"say\",\"one\",\"way\",\"use\",\"here\",\"I\",\n",
        "                 \"also\",\"howev\",\"tell\",\"will\",\"help\",\"also\",\n",
        "                 \"much\",\"need\",\"take\",\"tend\",\"even\",\"us\",\"US\"\n",
        "                 \"like\",\"particular\",\"rather\",\"said\",\"EY\",\"ey\"\n",
        "                 \"get\",\"well\",\"make\",\"ask\",\"come\",\"end\",\n",
        "                 \"first\",\"two\",\"help\",\"often\",\"may\",\n",
        "                 \"might\",\"see\",\"someth\",\"thing\",\"point\",\n",
        "                 \"post\",\"look\",\"right\",\"now\",\"think\",\"'ve \",\n",
        "                 \"'re \",\"anoth\",\"put\",\"set\",\"new\",\"good\",\n",
        "                 \"want\",\"sure\",\"kind\",\"larg\",\"yes,\",\"day\",\"etc\",\n",
        "                 \"quit\",\"sinc\",\"attempt\",\"lack\",\"seen\",\"awar\",\n",
        "                 \"littl\",\"ever\",\"moreov\",\"though\",\"found\",\"abl\",\n",
        "                 \"enough\",\"far\",\"earli\",\"away\",\"achiev\",\"draw\",\n",
        "                 \"last\",\"never\",\"brief\",\"bit\",\"entir\",\"brief\",\n",
        "                 \"great\",\"lot\",\"include\",\"provide\",\"year\",\"new\",\"help\",\n",
        "                 \"includ\",\"one\",\"require\",\"use\",\"make\",\"better\",\n",
        "                 \"way\",\"like\",\"across\",\"valu\",\"provide\",\"young\",\"continu\",\n",
        "                 \"tropfest\",\"ernst\",\"four\",\"limit\",\"and\",\"however\", \"\\x92\", \"\\x93\",\"\\x94\",\n",
        "                 \"\\x95\",\"\\x96\",\"\\x97\",\"\\x98\",\"\\x99\",\"the\",\"in\",\"because\",\"includ\",\"this\",\"those\",\"where\"])\n",
        "print(len(stop_words))\n",
        "print(stop_words)"
      ],
      "execution_count": 12,
      "outputs": [
        {
          "output_type": "stream",
          "text": [
            "179\n",
            "303\n",
            "['i', 'me', 'my', 'myself', 'we', 'our', 'ours', 'ourselves', 'you', \"you're\", \"you've\", \"you'll\", \"you'd\", 'your', 'yours', 'yourself', 'yourselves', 'he', 'him', 'his', 'himself', 'she', \"she's\", 'her', 'hers', 'herself', 'it', \"it's\", 'its', 'itself', 'they', 'them', 'their', 'theirs', 'themselves', 'what', 'which', 'who', 'whom', 'this', 'that', \"that'll\", 'these', 'those', 'am', 'is', 'are', 'was', 'were', 'be', 'been', 'being', 'have', 'has', 'had', 'having', 'do', 'does', 'did', 'doing', 'a', 'an', 'the', 'and', 'but', 'if', 'or', 'because', 'as', 'until', 'while', 'of', 'at', 'by', 'for', 'with', 'about', 'against', 'between', 'into', 'through', 'during', 'before', 'after', 'above', 'below', 'to', 'from', 'up', 'down', 'in', 'out', 'on', 'off', 'over', 'under', 'again', 'further', 'then', 'once', 'here', 'there', 'when', 'where', 'why', 'how', 'all', 'any', 'both', 'each', 'few', 'more', 'most', 'other', 'some', 'such', 'no', 'nor', 'not', 'only', 'own', 'same', 'so', 'than', 'too', 'very', 's', 't', 'can', 'will', 'just', 'don', \"don't\", 'should', \"should've\", 'now', 'd', 'll', 'm', 'o', 're', 've', 'y', 'ain', 'aren', \"aren't\", 'couldn', \"couldn't\", 'didn', \"didn't\", 'doesn', \"doesn't\", 'hadn', \"hadn't\", 'hasn', \"hasn't\", 'haven', \"haven't\", 'isn', \"isn't\", 'ma', 'mightn', \"mightn't\", 'mustn', \"mustn't\", 'needn', \"needn't\", 'shan', \"shan't\", 'shouldn', \"shouldn't\", 'wasn', \"wasn't\", 'weren', \"weren't\", 'won', \"won't\", 'wouldn', \"wouldn't\", 'can', 'say', 'one', 'way', 'use', 'here', 'I', 'also', 'howev', 'tell', 'will', 'help', 'also', 'much', 'need', 'take', 'tend', 'even', 'us', 'USlike', 'particular', 'rather', 'said', 'EY', 'eyget', 'well', 'make', 'ask', 'come', 'end', 'first', 'two', 'help', 'often', 'may', 'might', 'see', 'someth', 'thing', 'point', 'post', 'look', 'right', 'now', 'think', \"'ve \", \"'re \", 'anoth', 'put', 'set', 'new', 'good', 'want', 'sure', 'kind', 'larg', 'yes,', 'day', 'etc', 'quit', 'sinc', 'attempt', 'lack', 'seen', 'awar', 'littl', 'ever', 'moreov', 'though', 'found', 'abl', 'enough', 'far', 'earli', 'away', 'achiev', 'draw', 'last', 'never', 'brief', 'bit', 'entir', 'brief', 'great', 'lot', 'include', 'provide', 'year', 'new', 'help', 'includ', 'one', 'require', 'use', 'make', 'better', 'way', 'like', 'across', 'valu', 'provide', 'young', 'continu', 'tropfest', 'ernst', 'four', 'limit', 'and', 'however', '\\x92', '\\x93', '\\x94', '\\x95', '\\x96', '\\x97', '\\x98', '\\x99', 'the', 'in', 'because', 'includ', 'this', 'those', 'where']\n"
          ],
          "name": "stdout"
        }
      ]
    },
    {
      "cell_type": "code",
      "metadata": {
        "id": "AzJLBf4Q9uXI",
        "colab_type": "code",
        "colab": {}
      },
      "source": [
        "# Define functions for stopwords, bigrams, trigrams and lemmatization\n",
        "def remove_stopwords(texts):\n",
        "    return [[word for word in simple_preprocess(str(doc)) if word not in stop_words] for doc in texts]\n",
        "\n",
        "def make_bigrams(texts):\n",
        "    return [bigram_mod[doc] for doc in texts]\n",
        "\n",
        "def make_trigrams(texts):\n",
        "    return [trigram_mod[bigram_mod[doc]] for doc in texts]\n",
        "\n",
        "def lemmatization(texts, allowed_postags=['NOUN', 'ADJ', 'VERB', 'ADV']):\n",
        "    \"\"\"https://spacy.io/api/annotation\"\"\"\n",
        "    texts_out = []\n",
        "    for sent in texts:\n",
        "        doc = nlp(\" \".join(sent)) \n",
        "        texts_out.append([token.lemma_ for token in doc if token.pos_ in allowed_postags])\n",
        "    return texts_out"
      ],
      "execution_count": 0,
      "outputs": []
    },
    {
      "cell_type": "code",
      "metadata": {
        "id": "OqWzJKNg-JlD",
        "colab_type": "code",
        "colab": {
          "base_uri": "https://localhost:8080/",
          "height": 54
        },
        "outputId": "e6294119-3ccf-41c9-dfe9-82aaaec2203a"
      },
      "source": [
        "# Remove Stop Words\n",
        "data_words_nostops = remove_stopwords(data_words)\n",
        "\n",
        "# Form Bigrams\n",
        "data_words_bigrams = make_bigrams(data_words_nostops)\n",
        "\n",
        "# Initialize spacy 'en' model, keeping only tagger component (for efficiency)\n",
        "# python3 -m spacy download en\n",
        "nlp = spacy.load('en', disable=['parser', 'ner'])\n",
        "\n",
        "# Do lemmatization keeping only noun, adj, vb, adv\n",
        "data_lemmatized = lemmatization(data_words_bigrams, allowed_postags=['NOUN', 'ADJ', 'VERB', 'ADV'])\n",
        "\n",
        "print(data_lemmatized[:1])"
      ],
      "execution_count": 14,
      "outputs": [
        {
          "output_type": "stream",
          "text": [
            "[['business', 'leader', 'kay', 'koplovitz', 'forge', 'ground', 'female', 'entrepreneur', 'gray', 'woman', 'science', 'technology', 'gain', 'high', 'profile', 'australia', 'entrepreneur', 'say', 'kay', 'koplovitz', 'lead', 'successful', 'businesswoman', 'founder', 'usa', 'network']]\n"
          ],
          "name": "stdout"
        }
      ]
    },
    {
      "cell_type": "code",
      "metadata": {
        "id": "s1pNzHWJ-aXM",
        "colab_type": "code",
        "colab": {
          "base_uri": "https://localhost:8080/",
          "height": 54
        },
        "outputId": "1decdea0-ae1b-4c29-8942-fe5ec2013b5c"
      },
      "source": [
        "# Create Dictionary\n",
        "id2word = corpora.Dictionary(data_lemmatized)\n",
        "\n",
        "# Create Corpus\n",
        "texts = data_lemmatized\n",
        "\n",
        "# Term Document Frequency\n",
        "corpus = [id2word.doc2bow(text) for text in texts]\n",
        "\n",
        "# View\n",
        "print(corpus[:1])"
      ],
      "execution_count": 15,
      "outputs": [
        {
          "output_type": "stream",
          "text": [
            "[[(0, 1), (1, 1), (2, 1), (3, 2), (4, 1), (5, 1), (6, 1), (7, 1), (8, 1), (9, 1), (10, 1), (11, 2), (12, 2), (13, 1), (14, 1), (15, 1), (16, 1), (17, 1), (18, 1), (19, 1), (20, 1), (21, 1), (22, 1)]]\n"
          ],
          "name": "stdout"
        }
      ]
    },
    {
      "cell_type": "code",
      "metadata": {
        "id": "GDFGaAOr-fGd",
        "colab_type": "code",
        "colab": {
          "base_uri": "https://localhost:8080/",
          "height": 34
        },
        "outputId": "b0fc9bd2-7608-4c32-8084-730f92b06c7d"
      },
      "source": [
        "id2word[1]"
      ],
      "execution_count": 16,
      "outputs": [
        {
          "output_type": "execute_result",
          "data": {
            "text/plain": [
              "'business'"
            ]
          },
          "metadata": {
            "tags": []
          },
          "execution_count": 16
        }
      ]
    },
    {
      "cell_type": "code",
      "metadata": {
        "id": "T57DfcPD-j3Y",
        "colab_type": "code",
        "colab": {
          "base_uri": "https://localhost:8080/",
          "height": 408
        },
        "outputId": "d3e94f0f-7ff3-4b1f-ac2c-106d7da7dec8"
      },
      "source": [
        "# Human readable format of corpus (term-frequency)\n",
        "[[(id2word[id], freq) for id, freq in cp] for cp in corpus[:1]]"
      ],
      "execution_count": 17,
      "outputs": [
        {
          "output_type": "execute_result",
          "data": {
            "text/plain": [
              "[[('australia', 1),\n",
              "  ('business', 1),\n",
              "  ('businesswoman', 1),\n",
              "  ('entrepreneur', 2),\n",
              "  ('female', 1),\n",
              "  ('forge', 1),\n",
              "  ('founder', 1),\n",
              "  ('gain', 1),\n",
              "  ('gray', 1),\n",
              "  ('ground', 1),\n",
              "  ('high', 1),\n",
              "  ('kay', 2),\n",
              "  ('koplovitz', 2),\n",
              "  ('lead', 1),\n",
              "  ('leader', 1),\n",
              "  ('network', 1),\n",
              "  ('profile', 1),\n",
              "  ('say', 1),\n",
              "  ('science', 1),\n",
              "  ('successful', 1),\n",
              "  ('technology', 1),\n",
              "  ('usa', 1),\n",
              "  ('woman', 1)]]"
            ]
          },
          "metadata": {
            "tags": []
          },
          "execution_count": 17
        }
      ]
    },
    {
      "cell_type": "code",
      "metadata": {
        "id": "jRX6eHXh-3D1",
        "colab_type": "code",
        "colab": {}
      },
      "source": [
        "# Build LDA model\n",
        "lda_model = gensim.models.ldamodel.LdaModel(corpus=corpus,\n",
        "                                           id2word=id2word,\n",
        "                                           num_topics=4, \n",
        "                                           random_state=100,\n",
        "                                           update_every=1,\n",
        "                                           chunksize=100,\n",
        "                                           passes=30,\n",
        "                                           alpha='auto',\n",
        "                                           per_word_topics=True)"
      ],
      "execution_count": 0,
      "outputs": []
    },
    {
      "cell_type": "code",
      "metadata": {
        "id": "BfI23JNZ-90A",
        "colab_type": "code",
        "colab": {
          "base_uri": "https://localhost:8080/",
          "height": 289
        },
        "outputId": "b0945cd1-96b2-420a-832d-0fbf597428d7"
      },
      "source": [
        "# Print the Keyword in the 10 topics\n",
        "pprint(lda_model.print_topics())\n",
        "doc_lda = lda_model[corpus]"
      ],
      "execution_count": 27,
      "outputs": [
        {
          "output_type": "stream",
          "text": [
            "[(0,\n",
            "  '0.039*\"ey\" + 0.034*\"business\" + 0.019*\"company\" + 0.018*\"aaditya\" + '\n",
            "  '0.014*\"idea\" + 0.012*\"work\" + 0.011*\"create\" + 0.009*\"build\" + '\n",
            "  '0.009*\"world\" + 0.009*\"win\"'),\n",
            " (1,\n",
            "  '0.028*\"service\" + 0.011*\"project\" + 0.010*\"future\" + 0.009*\"value\" + '\n",
            "  '0.008*\"technology\" + 0.008*\"problem\" + 0.008*\"event\" + 0.007*\"base\" + '\n",
            "  '0.007*\"top\" + 0.007*\"big\"'),\n",
            " (2,\n",
            "  '0.022*\"student\" + 0.020*\"program\" + 0.019*\"people\" + 0.017*\"university\" + '\n",
            "  '0.013*\"team\" + 0.011*\"client\" + 0.011*\"financial\" + 0.010*\"organisation\" + '\n",
            "  '0.010*\"firm\" + 0.009*\"time\"'),\n",
            " (3,\n",
            "  '0.049*\"ey\" + 0.022*\"global\" + 0.017*\"professional\" + 0.016*\"audit\" + '\n",
            "  '0.015*\"analytic\" + 0.015*\"engineering\" + 0.014*\"partner\" + 0.013*\"bachelor\" '\n",
            "  '+ 0.010*\"firm\" + 0.009*\"area\"')]\n"
          ],
          "name": "stdout"
        }
      ]
    },
    {
      "cell_type": "code",
      "metadata": {
        "id": "Ihk4OzdKApvf",
        "colab_type": "code",
        "colab": {
          "base_uri": "https://localhost:8080/",
          "height": 85
        },
        "outputId": "afc25d0a-eecd-42f1-f7e6-e76c434b2561"
      },
      "source": [
        "# Compute Perplexity\n",
        "print('\\nPerplexity: ', lda_model.log_perplexity(corpus))  # a measure of how good the model is. lower the better.\n",
        "\n",
        "# Compute Coherence Score\n",
        "coherence_model_lda = CoherenceModel(model=lda_model, texts=data_lemmatized, dictionary=id2word, coherence='c_v')\n",
        "coherence_lda = coherence_model_lda.get_coherence()\n",
        "print('\\nCoherence Score: ', coherence_lda)"
      ],
      "execution_count": 28,
      "outputs": [
        {
          "output_type": "stream",
          "text": [
            "\n",
            "Perplexity:  -7.8550233828177625\n",
            "\n",
            "Coherence Score:  0.36458808049477537\n"
          ],
          "name": "stdout"
        }
      ]
    },
    {
      "cell_type": "code",
      "metadata": {
        "id": "IKe4dlKkBYsy",
        "colab_type": "code",
        "colab": {
          "base_uri": "https://localhost:8080/",
          "height": 1000
        },
        "outputId": "ad1d8cc3-97a9-471f-e959-c05b8e0c1a69"
      },
      "source": [
        "# Visualize the topics\n",
        "pyLDAvis.enable_notebook()\n",
        "vis = pyLDAvis.gensim.prepare(lda_model, corpus, id2word)\n",
        "vis"
      ],
      "execution_count": 29,
      "outputs": [
        {
          "output_type": "stream",
          "text": [
            "/usr/local/lib/python3.6/dist-packages/pyLDAvis/_prepare.py:257: FutureWarning: Sorting because non-concatenation axis is not aligned. A future version\n",
            "of pandas will change to not sort by default.\n",
            "\n",
            "To accept the future behavior, pass 'sort=False'.\n",
            "\n",
            "To retain the current behavior and silence the warning, pass 'sort=True'.\n",
            "\n",
            "  return pd.concat([default_term_info] + list(topic_dfs))\n"
          ],
          "name": "stderr"
        },
        {
          "output_type": "execute_result",
          "data": {
            "text/html": [
              "\n",
              "<link rel=\"stylesheet\" type=\"text/css\" href=\"https://cdn.rawgit.com/bmabey/pyLDAvis/files/ldavis.v1.0.0.css\">\n",
              "\n",
              "\n",
              "<div id=\"ldavis_el1143140418891861352544274093\"></div>\n",
              "<script type=\"text/javascript\">\n",
              "\n",
              "var ldavis_el1143140418891861352544274093_data = {\"mdsDat\": {\"x\": [0.3051204135552538, -0.11359109595976957, -0.15249523506902635, -0.03903408252645797], \"y\": [0.024209423596201745, -0.25458152782360133, 0.24072221862676496, -0.01035011439936539], \"topics\": [1, 2, 3, 4], \"cluster\": [1, 1, 1, 1], \"Freq\": [29.67037582397461, 25.731536865234375, 24.765535354614258, 19.832557678222656]}, \"tinfo\": {\"Category\": [\"Default\", \"Default\", \"Default\", \"Default\", \"Default\", \"Default\", \"Default\", \"Default\", \"Default\", \"Default\", \"Default\", \"Default\", \"Default\", \"Default\", \"Default\", \"Default\", \"Default\", \"Default\", \"Default\", \"Default\", \"Default\", \"Default\", \"Default\", \"Default\", \"Default\", \"Default\", \"Default\", \"Default\", \"Default\", \"Default\", \"Topic1\", \"Topic1\", \"Topic1\", \"Topic1\", \"Topic1\", \"Topic1\", \"Topic1\", \"Topic1\", \"Topic1\", \"Topic1\", \"Topic1\", \"Topic1\", \"Topic1\", \"Topic1\", \"Topic1\", \"Topic1\", \"Topic1\", \"Topic1\", \"Topic1\", \"Topic1\", \"Topic1\", \"Topic1\", \"Topic1\", \"Topic1\", \"Topic1\", \"Topic1\", \"Topic1\", \"Topic1\", \"Topic1\", \"Topic1\", \"Topic1\", \"Topic1\", \"Topic1\", \"Topic1\", \"Topic1\", \"Topic1\", \"Topic1\", \"Topic1\", \"Topic1\", \"Topic2\", \"Topic2\", \"Topic2\", \"Topic2\", \"Topic2\", \"Topic2\", \"Topic2\", \"Topic2\", \"Topic2\", \"Topic2\", \"Topic2\", \"Topic2\", \"Topic2\", \"Topic2\", \"Topic2\", \"Topic2\", \"Topic2\", \"Topic2\", \"Topic2\", \"Topic2\", \"Topic2\", \"Topic2\", \"Topic2\", \"Topic2\", \"Topic2\", \"Topic2\", \"Topic2\", \"Topic2\", \"Topic2\", \"Topic2\", \"Topic2\", \"Topic2\", \"Topic2\", \"Topic2\", \"Topic2\", \"Topic3\", \"Topic3\", \"Topic3\", \"Topic3\", \"Topic3\", \"Topic3\", \"Topic3\", \"Topic3\", \"Topic3\", \"Topic3\", \"Topic3\", \"Topic3\", \"Topic3\", \"Topic3\", \"Topic3\", \"Topic3\", \"Topic3\", \"Topic3\", \"Topic3\", \"Topic3\", \"Topic3\", \"Topic3\", \"Topic3\", \"Topic3\", \"Topic3\", \"Topic3\", \"Topic3\", \"Topic3\", \"Topic3\", \"Topic3\", \"Topic3\", \"Topic3\", \"Topic3\", \"Topic3\", \"Topic3\", \"Topic3\", \"Topic3\", \"Topic3\", \"Topic4\", \"Topic4\", \"Topic4\", \"Topic4\", \"Topic4\", \"Topic4\", \"Topic4\", \"Topic4\", \"Topic4\", \"Topic4\", \"Topic4\", \"Topic4\", \"Topic4\", \"Topic4\", \"Topic4\", \"Topic4\", \"Topic4\", \"Topic4\", \"Topic4\", \"Topic4\", \"Topic4\", \"Topic4\", \"Topic4\", \"Topic4\", \"Topic4\", \"Topic4\", \"Topic4\", \"Topic4\", \"Topic4\", \"Topic4\", \"Topic4\", \"Topic4\", \"Topic4\", \"Topic4\", \"Topic4\", \"Topic4\"], \"Freq\": [601.0, 259.0, 224.0, 203.0, 187.0, 138.0, 180.0, 148.0, 136.0, 154.0, 105.0, 97.0, 95.0, 108.0, 93.0, 87.0, 117.0, 82.0, 103.0, 102.0, 82.0, 95.0, 85.0, 152.0, 81.0, 88.0, 155.0, 87.0, 73.0, 72.0, 203.05404663085938, 186.35293579101562, 179.55050659179688, 153.33773803710938, 116.80227661132812, 102.32776641845703, 102.04252624511719, 95.01152801513672, 87.50859069824219, 86.42822265625, 81.74700927734375, 76.31864929199219, 73.97660064697266, 64.85965728759766, 65.62401580810547, 57.89633560180664, 51.50273132324219, 49.08774185180664, 47.32405471801758, 45.45900344848633, 47.11882781982422, 42.164833068847656, 43.07081604003906, 38.805091857910156, 37.38019943237305, 36.67272186279297, 36.135772705078125, 35.71673583984375, 35.01631164550781, 32.70893096923828, 35.18271255493164, 43.48238754272461, 75.39202880859375, 69.25569915771484, 66.51934051513672, 92.82720184326172, 43.08358383178711, 63.23079299926758, 43.003379821777344, 223.36770629882812, 84.37248229980469, 80.86149597167969, 72.09148406982422, 64.49424743652344, 59.74797821044922, 60.342952728271484, 59.50066375732422, 60.327247619628906, 51.5328254699707, 48.65812301635742, 49.188053131103516, 45.72861099243164, 46.04555130004883, 47.34182357788086, 44.832759857177734, 43.222896575927734, 44.56224822998047, 43.36600875854492, 42.15266036987305, 40.84418487548828, 39.53816604614258, 40.15932846069336, 39.96540832519531, 38.47181701660156, 38.96662902832031, 37.5109748840332, 35.425270080566406, 39.956058502197266, 36.00600051879883, 38.74783706665039, 38.09709167480469, 49.50264358520508, 52.25773239135742, 53.68178939819336, 258.7801818847656, 147.83934020996094, 107.9605712890625, 81.98291015625, 72.30854797363281, 70.0527572631836, 135.16839599609375, 65.97711944580078, 66.32199096679688, 71.33795166015625, 61.354129791259766, 59.967552185058594, 57.666412353515625, 60.89590072631836, 55.450191497802734, 56.55316925048828, 56.985084533691406, 54.548126220703125, 54.15104293823242, 62.519569396972656, 49.06867980957031, 47.19123840332031, 46.02908706665039, 40.572303771972656, 39.9185676574707, 38.146202087402344, 39.02488327026367, 35.3910026550293, 37.02197265625, 35.80644607543945, 37.29140090942383, 38.48316192626953, 42.644874572753906, 298.8874816894531, 71.83690643310547, 92.03042602539062, 44.79222106933594, 62.418006896972656, 137.83761596679688, 104.45154571533203, 96.65251159667969, 86.53285217285156, 94.29312896728516, 81.0911636352539, 92.33602142333984, 56.57921600341797, 46.51658630371094, 45.19132995605469, 37.343875885009766, 35.779232025146484, 34.57246780395508, 37.754737854003906, 29.742586135864258, 27.708284378051758, 28.706228256225586, 25.65252685546875, 25.431583404541016, 26.382247924804688, 25.201162338256836, 23.703006744384766, 29.26007652282715, 26.348953247070312, 27.050899505615234, 22.35135841369629, 23.94844627380371, 24.559938430786133, 26.405986785888672, 28.527191162109375, 44.350990295410156, 302.5274658203125, 31.660106658935547, 59.101158142089844, 27.928932189941406, 30.89919662475586], \"Term\": [\"ey\", \"business\", \"service\", \"student\", \"program\", \"global\", \"people\", \"company\", \"aaditya\", \"university\", \"professional\", \"audit\", \"analytic\", \"idea\", \"engineering\", \"partner\", \"team\", \"bachelor\", \"client\", \"financial\", \"create\", \"organisation\", \"project\", \"firm\", \"future\", \"time\", \"work\", \"research\", \"build\", \"win\", \"student\", \"program\", \"people\", \"university\", \"team\", \"client\", \"financial\", \"organisation\", \"time\", \"research\", \"market\", \"provide\", \"experience\", \"industry\", \"scholarship\", \"impact\", \"year\", \"learn\", \"focus\", \"number\", \"follow\", \"strategy\", \"australian\", \"study\", \"engagement\", \"risk\", \"offer\", \"make\", \"head\", \"level\", \"would\", \"waste\", \"opportunity\", \"support\", \"datum\", \"firm\", \"report\", \"work\", \"develop\", \"service\", \"project\", \"future\", \"value\", \"technology\", \"base\", \"problem\", \"top\", \"event\", \"role\", \"change\", \"get\", \"public\", \"education\", \"tax\", \"go\", \"social\", \"become\", \"brand\", \"development\", \"life\", \"use\", \"deliver\", \"sustainable\", \"government\", \"engage\", \"economic\", \"sector\", \"hold\", \"investment\", \"rank\", \"return\", \"electrical\", \"australia\", \"big\", \"business\", \"company\", \"idea\", \"create\", \"build\", \"leader\", \"aaditya\", \"entrepreneur\", \"organization\", \"win\", \"lead\", \"employee\", \"purpose\", \"model\", \"woman\", \"community\", \"skill\", \"many\", \"help\", \"award\", \"benefit\", \"encourage\", \"panel\", \"volunteer\", \"potential\", \"give\", \"large\", \"leadership\", \"judge\", \"good\", \"competition\", \"sustainability\", \"recycling\", \"ey\", \"world\", \"work\", \"growth\", \"big\", \"global\", \"professional\", \"audit\", \"partner\", \"analytic\", \"bachelor\", \"engineering\", \"area\", \"limit\", \"member\", \"practice\", \"standard\", \"science\", \"limited\", \"policy\", \"corporation\", \"design\", \"review\", \"board\", \"list\", \"china\", \"account\", \"must\", \"training\", \"october\", \"internal\", \"country\", \"lehman\", \"mathematic\", \"sydney\", \"equipment\", \"ey\", \"group\", \"firm\", \"international\", \"australia\"], \"Total\": [601.0, 259.0, 224.0, 203.0, 187.0, 138.0, 180.0, 148.0, 136.0, 154.0, 105.0, 97.0, 95.0, 108.0, 93.0, 87.0, 117.0, 82.0, 103.0, 102.0, 82.0, 95.0, 85.0, 152.0, 81.0, 88.0, 155.0, 87.0, 73.0, 72.0, 203.8362579345703, 187.0874481201172, 180.2841796875, 154.0684814453125, 117.5356216430664, 103.05443572998047, 102.81414794921875, 95.76824188232422, 88.23228454589844, 87.1716079711914, 82.47428894042969, 77.04571533203125, 74.7000503540039, 65.5981216430664, 66.46285247802734, 58.65304946899414, 52.23259353637695, 49.82440948486328, 48.04926300048828, 46.18717956542969, 47.88804244995117, 42.897987365722656, 43.86011505126953, 39.54131317138672, 38.09709930419922, 37.401824951171875, 36.86317825317383, 36.44926834106445, 35.75487518310547, 33.42538070678711, 35.961700439453125, 44.613704681396484, 98.2873306274414, 93.99419403076172, 90.98104858398438, 152.4331817626953, 52.863224029541016, 155.7787322998047, 72.02699279785156, 224.07427978515625, 85.1413345336914, 81.60122680664062, 72.78201293945312, 65.22632598876953, 60.46717071533203, 61.09042739868164, 60.246395111083984, 61.153438568115234, 52.25997543334961, 49.34750747680664, 49.90597152709961, 46.40667724609375, 46.75601577758789, 48.086769104003906, 45.54609298706055, 43.91398239135742, 45.28078842163086, 44.0771369934082, 42.88119125366211, 41.550418853759766, 40.23228454589844, 40.87682342529297, 40.68904495239258, 39.17434310913086, 39.68484115600586, 38.237735748291016, 36.11731719970703, 40.76597595214844, 36.73622131347656, 39.55158233642578, 38.91065216064453, 51.212257385253906, 84.4913330078125, 116.62091827392578, 259.55523681640625, 148.60719299316406, 108.78974151611328, 82.73310852050781, 73.05162048339844, 70.79051208496094, 136.60922241210938, 66.70110321044922, 67.06464385986328, 72.16584014892578, 62.10942459106445, 60.724945068359375, 58.408416748046875, 61.69429397583008, 56.1834831237793, 57.302791595458984, 57.758277893066406, 55.29083251953125, 54.89032745361328, 63.38139343261719, 49.85640335083008, 47.97781753540039, 46.842647552490234, 41.336055755615234, 40.69704055786133, 38.91128921508789, 39.82399368286133, 36.134586334228516, 37.80241394042969, 36.561588287353516, 38.10553741455078, 39.365177154541016, 43.78920364379883, 601.920654296875, 96.93191528320312, 155.7787322998047, 54.37621307373047, 116.62091827392578, 138.54542541503906, 105.16845703125, 97.34544372558594, 87.25369262695312, 95.20060729980469, 82.01356506347656, 93.42986297607422, 57.31058883666992, 47.24409484863281, 45.907554626464844, 38.05380630493164, 36.47075653076172, 35.31825637817383, 38.585365295410156, 30.435834884643555, 28.416786193847656, 29.452360153198242, 26.347333908081055, 26.144596099853516, 27.128751754760742, 25.92616844177246, 24.40280532836914, 30.1325626373291, 27.161569595336914, 27.891464233398438, 23.05718421936035, 24.707557678222656, 25.35236167907715, 27.277307510375977, 29.480623245239258, 45.915794372558594, 601.920654296875, 40.16654586791992, 152.4331817626953, 35.867103576660156, 84.4913330078125], \"loglift\": [30.0, 29.0, 28.0, 27.0, 26.0, 25.0, 24.0, 23.0, 22.0, 21.0, 20.0, 19.0, 18.0, 17.0, 16.0, 15.0, 14.0, 13.0, 12.0, 11.0, 10.0, 9.0, 8.0, 7.0, 6.0, 5.0, 4.0, 3.0, 2.0, 1.0, 1.2111999988555908, 1.2110999822616577, 1.2108999490737915, 1.2102999687194824, 1.208799958229065, 1.207900047302246, 1.2074999809265137, 1.2071000337600708, 1.2067999839782715, 1.2065000534057617, 1.2062000036239624, 1.2055000066757202, 1.205299973487854, 1.2036999464035034, 1.202299952507019, 1.2020000219345093, 1.2008999586105347, 1.2000999450683594, 1.1998000144958496, 1.1991000175476074, 1.198799967765808, 1.1978000402450562, 1.1969000101089478, 1.1962000131607056, 1.1959999799728394, 1.1952999830245972, 1.195099949836731, 1.194700002670288, 1.194100022315979, 1.1934000253677368, 1.1930999755859375, 1.1892999410629272, 0.9498000144958496, 0.909600019454956, 0.9018999934196472, 0.718999981880188, 1.0104999542236328, 0.313400000333786, 0.6992999911308289, 1.3543000221252441, 1.3483999967575073, 1.3482999801635742, 1.3479000329971313, 1.3461999893188477, 1.3454999923706055, 1.3451000452041626, 1.3450000286102295, 1.3438999652862549, 1.343400001525879, 1.343400001525879, 1.343000054359436, 1.3427000045776367, 1.3421000242233276, 1.3417999744415283, 1.3416999578475952, 1.341599941253662, 1.3415000438690186, 1.3411999940872192, 1.3402999639511108, 1.3402999639511108, 1.340000033378601, 1.3396999835968018, 1.3394999504089355, 1.339400053024292, 1.3392000198364258, 1.3382999897003174, 1.3380999565124512, 1.337399959564209, 1.337399959564209, 1.336899995803833, 1.336300015449524, 1.3235000371932983, 0.8769999742507935, 0.58160001039505, 1.392699956893921, 1.3904999494552612, 1.388100028038025, 1.3866000175476074, 1.3854999542236328, 1.385200023651123, 1.38510000705719, 1.3847999572753906, 1.384600043296814, 1.3841999769210815, 1.3834999799728394, 1.3832000494003296, 1.3828999996185303, 1.382699966430664, 1.382599949836731, 1.3825000524520874, 1.382200002670288, 1.382200002670288, 1.382200002670288, 1.3819999694824219, 1.3797999620437622, 1.3791999816894531, 1.3782000541687012, 1.3770999908447266, 1.3763999938964844, 1.3759000301361084, 1.3753999471664429, 1.374899983406067, 1.374899983406067, 1.3747999668121338, 1.3740999698638916, 1.3731000423431396, 1.3691999912261963, 0.6956999897956848, 1.0960999727249146, 0.8694000244140625, 1.201799988746643, 0.7706000208854675, 1.6126999855041504, 1.6109999418258667, 1.610700011253357, 1.6095000505447388, 1.608299970626831, 1.6065000295639038, 1.6060999631881714, 1.6050000190734863, 1.6023000478744507, 1.6021000146865845, 1.5989999771118164, 1.5987000465393066, 1.596500039100647, 1.5960999727249146, 1.5947999954223633, 1.5925999879837036, 1.5922000408172607, 1.5910999774932861, 1.5901999473571777, 1.589900016784668, 1.5894999504089355, 1.5887000560760498, 1.5885000228881836, 1.587499976158142, 1.5872000455856323, 1.5867999792099, 1.5865999460220337, 1.5860999822616577, 1.5853999853134155, 1.5850000381469727, 1.5831999778747559, 0.9298999905586243, 1.3798999786376953, 0.6704000234603882, 1.3676999807357788, 0.6118999719619751], \"logprob\": [30.0, 29.0, 28.0, 27.0, 26.0, 25.0, 24.0, 23.0, 22.0, 21.0, 20.0, 19.0, 18.0, 17.0, 16.0, 15.0, 14.0, 13.0, 12.0, 11.0, 10.0, 9.0, 8.0, 7.0, 6.0, 5.0, 4.0, 3.0, 2.0, 1.0, -3.8160998821258545, -3.901900053024292, -3.9391000270843506, -4.09689998626709, -4.36899995803833, -4.501299858093262, -4.5040998458862305, -4.575500011444092, -4.657800197601318, -4.670199871063232, -4.725900173187256, -4.794600009918213, -4.825799942016602, -4.957300186157227, -4.9456000328063965, -5.070899963378906, -5.187900066375732, -5.235899925231934, -5.272500038146973, -5.312699794769287, -5.276899814605713, -5.387899875640869, -5.366700172424316, -5.4710001945495605, -5.508399963378906, -5.527500152587891, -5.542200088500977, -5.553899765014648, -5.573699951171875, -5.641900062561035, -5.568999767303467, -5.3572001457214355, -4.80679988861084, -4.89169979095459, -4.932000160217285, -4.598800182342529, -5.366399765014648, -4.982699871063232, -5.368199825286865, -3.5782999992370605, -4.5518999099731445, -4.594399929046631, -4.709199905395508, -4.820499897003174, -4.896999835968018, -4.88700008392334, -4.901100158691406, -4.88730001449585, -5.044899940490723, -5.10230016708374, -5.091400146484375, -5.164400100708008, -5.15749979019165, -5.129700183868408, -5.184199810028076, -5.220699787139893, -5.190199851989746, -5.217400074005127, -5.245800018310547, -5.277299880981445, -5.309800148010254, -5.2941999435424805, -5.299099922180176, -5.337200164794922, -5.324399948120117, -5.362500190734863, -5.4197001457214355, -5.299300193786621, -5.40339994430542, -5.329999923706055, -5.3470001220703125, -5.085100173950195, -5.030900001525879, -5.004000186920166, -3.3928000926971436, -3.952699899673462, -4.267099857330322, -4.542300224304199, -4.667900085449219, -4.6996002197265625, -4.042300224304199, -4.759500026702881, -4.754300117492676, -4.681399822235107, -4.832200050354004, -4.855000019073486, -4.894199848175049, -4.839700222015381, -4.933300018310547, -4.913599967956543, -4.906000137329102, -4.949699878692627, -4.957099914550781, -4.813300132751465, -5.055600166320801, -5.094600200653076, -5.11959981918335, -5.245699882507324, -5.26200008392334, -5.307400226593018, -5.284599781036377, -5.382400035858154, -5.337299823760986, -5.370699882507324, -5.330100059509277, -5.298600196838379, -5.195899963378906, -3.248800039291382, -4.6743998527526855, -4.426700115203857, -5.1468000411987305, -4.815000057220459, -3.800600051879883, -4.078000068664551, -4.155600070953369, -4.266200065612793, -4.180300235748291, -4.331099987030029, -4.201300144195557, -4.691100120544434, -4.886899948120117, -4.915800094604492, -5.106500148773193, -5.1493000984191895, -5.183599948883057, -5.095600128173828, -5.334099769592285, -5.40500020980835, -5.36959981918335, -5.482100009918213, -5.490699768066406, -5.453999996185303, -5.499800205230713, -5.561100006103516, -5.350500106811523, -5.4552998542785645, -5.428999900817871, -5.619800090789795, -5.55079984664917, -5.525599956512451, -5.453100204467773, -5.375800132751465, -4.934599876403809, -3.0144999027252197, -5.271599769592285, -4.64739990234375, -5.396999835968018, -5.296000003814697]}, \"token.table\": {\"Topic\": [1, 2, 3, 4, 4, 4, 4, 1, 2, 4, 1, 3, 4, 2, 2, 3, 2, 3, 4, 2, 3, 3, 2, 4, 1, 3, 3, 3, 4, 4, 3, 1, 4, 2, 4, 1, 3, 2, 2, 2, 2, 3, 3, 3, 2, 1, 4, 3, 1, 2, 4, 2, 1, 3, 4, 1, 1, 4, 1, 1, 2, 2, 3, 4, 2, 3, 2, 1, 4, 2, 3, 1, 3, 2, 3, 1, 1, 4, 1, 4, 2, 3, 3, 3, 3, 3, 1, 4, 1, 2, 4, 4, 4, 1, 3, 1, 4, 4, 3, 4, 1, 4, 1, 1, 3, 1, 3, 3, 4, 1, 4, 3, 4, 2, 4, 1, 2, 1, 2, 3, 2, 3, 1, 4, 1, 2, 4, 1, 2, 1, 4, 2, 2, 3, 2, 4, 1, 1, 1, 1, 3, 3, 2, 4, 2, 1, 2, 1, 2, 4, 1, 2, 2, 3, 1, 3, 3, 1, 3, 2, 3, 1, 1], \"Freq\": [0.007320149801671505, 0.007320149801671505, 0.9882202744483948, 0.9834935069084167, 0.9873886704444885, 0.9945806264877319, 0.9964513778686523, 0.011835533194243908, 0.6154477596282959, 0.36690154671669006, 0.9803895950317383, 0.9939825534820557, 0.9876415133476257, 0.9922739863395691, 0.9937989711761475, 0.982822597026825, 0.46303871273994446, 0.5316370129585266, 0.9562205672264099, 0.9755624532699585, 0.9856044054031372, 0.9978607892990112, 0.9929579496383667, 0.9642766714096069, 0.9897681474685669, 0.9947159290313721, 0.995914101600647, 0.9709874987602234, 0.9853330850601196, 0.9713627099990845, 0.9911388754844666, 0.7364171147346497, 0.26379120349884033, 0.978549599647522, 0.9846409559249878, 0.596998393535614, 0.4026268422603607, 0.9794504046440125, 0.9937826991081238, 0.9838306307792664, 0.9763287901878357, 0.01952657476067543, 0.9880618453025818, 0.9796193838119507, 0.9827430248260498, 0.971202552318573, 0.9846958518028259, 0.9894888997077942, 0.021778998896479607, 0.021778998896479607, 0.9582759141921997, 0.9811385869979858, 0.9906285405158997, 0.49674320220947266, 0.5033885836601257, 0.992081344127655, 0.6101033687591553, 0.38705483078956604, 0.9781627655029297, 0.9814558625221252, 0.9926321506500244, 0.9818464517593384, 0.9765803217887878, 0.9960631728172302, 0.9880101084709167, 0.9846399426460266, 0.9700226187705994, 0.19917072355747223, 0.7966828942298889, 0.1655135452747345, 0.8275677561759949, 0.9788874983787537, 0.9837799072265625, 0.9812104105949402, 0.9927406907081604, 0.9888659119606018, 0.9908820390701294, 0.9541494846343994, 0.19516490399837494, 0.7806596159934998, 0.97995924949646, 0.9787734746932983, 0.9793091416358948, 0.9821375608444214, 0.9888330698013306, 0.9686011075973511, 0.9834536910057068, 0.9861014485359192, 0.9872736930847168, 0.986752986907959, 0.9948333501815796, 0.9848293662071228, 0.9583927989006042, 0.9876741170883179, 0.9947399497032166, 0.9942492246627808, 0.9531732797622681, 0.9802308082580566, 0.9887462258338928, 0.9624139666557312, 0.9742963314056396, 0.9680380821228027, 0.976584255695343, 0.7630688548088074, 0.22383353114128113, 0.991978108882904, 0.9841251373291016, 0.982011079788208, 0.9970924854278564, 0.99842369556427, 0.9856802225112915, 0.9828724265098572, 0.9723074436187744, 0.9821506142616272, 0.9888896346092224, 0.9941874742507935, 0.9865947961807251, 0.986427366733551, 0.991236686706543, 0.9930075407028198, 0.9860541224479675, 0.9819772243499756, 0.8134199380874634, 0.17025068402290344, 0.9865597486495972, 0.9765963554382324, 0.9868171215057373, 0.9892565608024597, 0.9950253367424011, 0.9930359125137329, 0.9909889101982117, 0.9690642356872559, 0.9952057003974915, 0.9868715405464172, 0.97918701171875, 0.9870921969413757, 0.9790669083595276, 0.9958974123001099, 0.9863101840019226, 0.7340878844261169, 0.25533491373062134, 0.9653201699256897, 0.9830656051635742, 0.9836969971656799, 0.9773998260498047, 0.9954429268836975, 0.9811989068984985, 0.9973673224449158, 0.9959102272987366, 0.957234799861908, 0.9930648803710938, 0.9942263960838318, 0.989255428314209, 0.9918701648712158, 0.9638293981552124, 0.9838449954986572, 0.9789353609085083, 0.40441977977752686, 0.5905812382698059, 0.2579129934310913, 0.7427893877029419, 0.9732576608657837, 0.9955469369888306], \"Term\": [\"aaditya\", \"aaditya\", \"aaditya\", \"account\", \"analytic\", \"area\", \"audit\", \"australia\", \"australia\", \"australia\", \"australian\", \"award\", \"bachelor\", \"base\", \"become\", \"benefit\", \"big\", \"big\", \"board\", \"brand\", \"build\", \"business\", \"change\", \"china\", \"client\", \"community\", \"company\", \"competition\", \"corporation\", \"country\", \"create\", \"datum\", \"datum\", \"deliver\", \"design\", \"develop\", \"develop\", \"development\", \"economic\", \"education\", \"electrical\", \"electrical\", \"employee\", \"encourage\", \"engage\", \"engagement\", \"engineering\", \"entrepreneur\", \"equipment\", \"equipment\", \"equipment\", \"event\", \"experience\", \"ey\", \"ey\", \"financial\", \"firm\", \"firm\", \"focus\", \"follow\", \"future\", \"get\", \"give\", \"global\", \"go\", \"good\", \"government\", \"group\", \"group\", \"growth\", \"growth\", \"head\", \"help\", \"hold\", \"idea\", \"impact\", \"industry\", \"internal\", \"international\", \"international\", \"investment\", \"judge\", \"large\", \"lead\", \"leader\", \"leadership\", \"learn\", \"lehman\", \"level\", \"life\", \"limit\", \"limited\", \"list\", \"make\", \"many\", \"market\", \"mathematic\", \"member\", \"model\", \"must\", \"number\", \"october\", \"offer\", \"opportunity\", \"opportunity\", \"organisation\", \"organization\", \"panel\", \"partner\", \"people\", \"policy\", \"potential\", \"practice\", \"problem\", \"professional\", \"program\", \"project\", \"provide\", \"public\", \"purpose\", \"rank\", \"recycling\", \"report\", \"report\", \"research\", \"return\", \"review\", \"risk\", \"role\", \"scholarship\", \"science\", \"sector\", \"service\", \"skill\", \"social\", \"standard\", \"strategy\", \"student\", \"study\", \"support\", \"support\", \"sustainability\", \"sustainable\", \"sydney\", \"tax\", \"team\", \"technology\", \"time\", \"top\", \"training\", \"university\", \"use\", \"value\", \"volunteer\", \"waste\", \"win\", \"woman\", \"work\", \"work\", \"world\", \"world\", \"would\", \"year\"]}, \"R\": 30, \"lambda.step\": 0.01, \"plot.opts\": {\"xlab\": \"PC1\", \"ylab\": \"PC2\"}, \"topic.order\": [3, 2, 1, 4]};\n",
              "\n",
              "function LDAvis_load_lib(url, callback){\n",
              "  var s = document.createElement('script');\n",
              "  s.src = url;\n",
              "  s.async = true;\n",
              "  s.onreadystatechange = s.onload = callback;\n",
              "  s.onerror = function(){console.warn(\"failed to load library \" + url);};\n",
              "  document.getElementsByTagName(\"head\")[0].appendChild(s);\n",
              "}\n",
              "\n",
              "if(typeof(LDAvis) !== \"undefined\"){\n",
              "   // already loaded: just create the visualization\n",
              "   !function(LDAvis){\n",
              "       new LDAvis(\"#\" + \"ldavis_el1143140418891861352544274093\", ldavis_el1143140418891861352544274093_data);\n",
              "   }(LDAvis);\n",
              "}else if(typeof define === \"function\" && define.amd){\n",
              "   // require.js is available: use it to load d3/LDAvis\n",
              "   require.config({paths: {d3: \"https://cdnjs.cloudflare.com/ajax/libs/d3/3.5.5/d3.min\"}});\n",
              "   require([\"d3\"], function(d3){\n",
              "      window.d3 = d3;\n",
              "      LDAvis_load_lib(\"https://cdn.rawgit.com/bmabey/pyLDAvis/files/ldavis.v1.0.0.js\", function(){\n",
              "        new LDAvis(\"#\" + \"ldavis_el1143140418891861352544274093\", ldavis_el1143140418891861352544274093_data);\n",
              "      });\n",
              "    });\n",
              "}else{\n",
              "    // require.js not available: dynamically load d3 & LDAvis\n",
              "    LDAvis_load_lib(\"https://cdnjs.cloudflare.com/ajax/libs/d3/3.5.5/d3.min.js\", function(){\n",
              "         LDAvis_load_lib(\"https://cdn.rawgit.com/bmabey/pyLDAvis/files/ldavis.v1.0.0.js\", function(){\n",
              "                 new LDAvis(\"#\" + \"ldavis_el1143140418891861352544274093\", ldavis_el1143140418891861352544274093_data);\n",
              "            })\n",
              "         });\n",
              "}\n",
              "</script>"
            ],
            "text/plain": [
              "PreparedData(topic_coordinates=              x         y  topics  cluster       Freq\n",
              "topic                                                \n",
              "2      0.305120  0.024209       1        1  29.670376\n",
              "1     -0.113591 -0.254582       2        1  25.731537\n",
              "0     -0.152495  0.240722       3        1  24.765535\n",
              "3     -0.039034 -0.010350       4        1  19.832558, topic_info=     Category        Freq           Term       Total  loglift  logprob\n",
              "118   Default  601.000000             ey  601.000000  30.0000  30.0000\n",
              "1     Default  259.000000       business  259.000000  29.0000  29.0000\n",
              "123   Default  224.000000        service  224.000000  28.0000  28.0000\n",
              "140   Default  203.000000        student  203.000000  27.0000  27.0000\n",
              "109   Default  187.000000        program  187.000000  26.0000  26.0000\n",
              "149   Default  138.000000         global  138.000000  25.0000  25.0000\n",
              "187   Default  180.000000         people  180.000000  24.0000  24.0000\n",
              "267   Default  148.000000        company  148.000000  23.0000  23.0000\n",
              "4471  Default  136.000000        aaditya  136.000000  22.0000  22.0000\n",
              "141   Default  154.000000     university  154.000000  21.0000  21.0000\n",
              "202   Default  105.000000   professional  105.000000  20.0000  20.0000\n",
              "1274  Default   97.000000          audit   97.000000  19.0000  19.0000\n",
              "520   Default   95.000000       analytic   95.000000  18.0000  18.0000\n",
              "147   Default  108.000000           idea  108.000000  17.0000  17.0000\n",
              "513   Default   93.000000    engineering   93.000000  16.0000  16.0000\n",
              "585   Default   87.000000        partner   87.000000  15.0000  15.0000\n",
              "575   Default  117.000000           team  117.000000  14.0000  14.0000\n",
              "4417  Default   82.000000       bachelor   82.000000  13.0000  13.0000\n",
              "361   Default  103.000000         client  103.000000  12.0000  12.0000\n",
              "270   Default  102.000000      financial  102.000000  11.0000  11.0000\n",
              "495   Default   82.000000         create   82.000000  10.0000  10.0000\n",
              "713   Default   95.000000   organisation   95.000000   9.0000   9.0000\n",
              "1266  Default   85.000000        project   85.000000   8.0000   8.0000\n",
              "197   Default  152.000000           firm  152.000000   7.0000   7.0000\n",
              "352   Default   81.000000         future   81.000000   6.0000   6.0000\n",
              "112   Default   88.000000           time   88.000000   5.0000   5.0000\n",
              "163   Default  155.000000           work  155.000000   4.0000   4.0000\n",
              "558   Default   87.000000       research   87.000000   3.0000   3.0000\n",
              "65    Default   73.000000          build   73.000000   2.0000   2.0000\n",
              "2320  Default   72.000000            win   72.000000   1.0000   1.0000\n",
              "...       ...         ...            ...         ...      ...      ...\n",
              "513    Topic4   92.336021    engineering   93.429863   1.6061  -4.2013\n",
              "367    Topic4   56.579216           area   57.310589   1.6050  -4.6911\n",
              "1121   Topic4   46.516586          limit   47.244095   1.6023  -4.8869\n",
              "1320   Topic4   45.191330         member   45.907555   1.6021  -4.9158\n",
              "307    Topic4   37.343876       practice   38.053806   1.5990  -5.1065\n",
              "380    Topic4   35.779232       standard   36.470757   1.5987  -5.1493\n",
              "18     Topic4   34.572468        science   35.318256   1.5965  -5.1836\n",
              "1327   Topic4   37.754738        limited   38.585365   1.5961  -5.0956\n",
              "323    Topic4   29.742586         policy   30.435835   1.5948  -5.3341\n",
              "1289   Topic4   27.708284    corporation   28.416786   1.5926  -5.4050\n",
              "952    Topic4   28.706228         design   29.452360   1.5922  -5.3696\n",
              "282    Topic4   25.652527         review   26.347334   1.5911  -5.4821\n",
              "694    Topic4   25.431583          board   26.144596   1.5902  -5.4907\n",
              "353    Topic4   26.382248           list   27.128752   1.5899  -5.4540\n",
              "1947   Topic4   25.201162          china   25.926168   1.5895  -5.4998\n",
              "1142   Topic4   23.703007        account   24.402805   1.5887  -5.5611\n",
              "970    Topic4   29.260077           must   30.132563   1.5885  -5.3505\n",
              "84     Topic4   26.348953       training   27.161570   1.5875  -5.4553\n",
              "277    Topic4   27.050900        october   27.891464   1.5872  -5.4290\n",
              "641    Topic4   22.351358       internal   23.057184   1.5868  -5.6198\n",
              "1347   Topic4   23.948446        country   24.707558   1.5866  -5.5508\n",
              "4285   Topic4   24.559938         lehman   25.352362   1.5861  -5.5256\n",
              "3261   Topic4   26.405987     mathematic   27.277308   1.5854  -5.4531\n",
              "606    Topic4   28.527191         sydney   29.480623   1.5850  -5.3758\n",
              "3463   Topic4   44.350990      equipment   45.915794   1.5832  -4.9346\n",
              "118    Topic4  302.527466             ey  601.920654   0.9299  -3.0145\n",
              "298    Topic4   31.660107          group   40.166546   1.3799  -5.2716\n",
              "197    Topic4   59.101158           firm  152.433182   0.6704  -4.6474\n",
              "697    Topic4   27.928932  international   35.867104   1.3677  -5.3970\n",
              "0      Topic4   30.899197      australia   84.491333   0.6119  -5.2960\n",
              "\n",
              "[178 rows x 6 columns], token_table=      Topic      Freq            Term\n",
              "term                                 \n",
              "4471      1  0.007320         aaditya\n",
              "4471      2  0.007320         aaditya\n",
              "4471      3  0.988220         aaditya\n",
              "1142      4  0.983494         account\n",
              "520       4  0.987389        analytic\n",
              "367       4  0.994581            area\n",
              "1274      4  0.996451           audit\n",
              "0         1  0.011836       australia\n",
              "0         2  0.615448       australia\n",
              "0         4  0.366902       australia\n",
              "263       1  0.980390      australian\n",
              "824       3  0.993983           award\n",
              "4417      4  0.987642        bachelor\n",
              "336       2  0.992274            base\n",
              "252       2  0.993799          become\n",
              "810       3  0.982823         benefit\n",
              "189       2  0.463039             big\n",
              "189       3  0.531637             big\n",
              "694       4  0.956221           board\n",
              "350       2  0.975562           brand\n",
              "65        3  0.985604           build\n",
              "1         3  0.997861        business\n",
              "289       2  0.992958          change\n",
              "1947      4  0.964277           china\n",
              "361       1  0.989768          client\n",
              "535       3  0.994716       community\n",
              "267       3  0.995914         company\n",
              "451       3  0.970987     competition\n",
              "1289      4  0.985333     corporation\n",
              "1347      4  0.971363         country\n",
              "...     ...       ...             ...\n",
              "1126      3  0.986872           skill\n",
              "550       2  0.979187          social\n",
              "380       4  0.987092        standard\n",
              "434       1  0.979067        strategy\n",
              "140       1  0.995897         student\n",
              "1157      1  0.986310           study\n",
              "48        1  0.734088         support\n",
              "48        3  0.255335         support\n",
              "3120      3  0.965320  sustainability\n",
              "1175      2  0.983066     sustainable\n",
              "606       4  0.983697          sydney\n",
              "261       2  0.977400             tax\n",
              "575       1  0.995443            team\n",
              "20        2  0.981199      technology\n",
              "112       1  0.997367            time\n",
              "224       2  0.995910             top\n",
              "84        4  0.957235        training\n",
              "141       1  0.993065      university\n",
              "967       2  0.994226             use\n",
              "382       2  0.989255           value\n",
              "1264      3  0.991870       volunteer\n",
              "2195      1  0.963829           waste\n",
              "2320      3  0.983845             win\n",
              "22        3  0.978935           woman\n",
              "163       1  0.404420            work\n",
              "163       3  0.590581            work\n",
              "92        2  0.257913           world\n",
              "92        3  0.742789           world\n",
              "305       1  0.973258           would\n",
              "335       1  0.995547            year\n",
              "\n",
              "[163 rows x 3 columns], R=30, lambda_step=0.01, plot_opts={'xlab': 'PC1', 'ylab': 'PC2'}, topic_order=[3, 2, 1, 4])"
            ]
          },
          "metadata": {
            "tags": []
          },
          "execution_count": 29
        }
      ]
    },
    {
      "cell_type": "code",
      "metadata": {
        "id": "yg0A9IvAF1SJ",
        "colab_type": "code",
        "colab": {
          "base_uri": "https://localhost:8080/",
          "height": 378
        },
        "outputId": "aa4400c8-4d21-4e62-e920-d898562b6f46"
      },
      "source": [
        "# Download File: http://mallet.cs.umass.edu/dist/mallet-2.0.8.zip\n",
        "#mallet_path = '/content/drive/My Drive/mallet-2.0.8/mallet-2.0.8/bin/mallet'\n",
        "#ldamallet = gensim.models.wrappers.LdaMallet(mallet_path, corpus=corpus, num_topics=20, id2word=id2word)"
      ],
      "execution_count": 39,
      "outputs": [
        {
          "output_type": "stream",
          "text": [
            "/usr/local/lib/python3.6/dist-packages/smart_open/smart_open_lib.py:398: UserWarning: This function is deprecated, use smart_open.open instead. See the migration notes for details: https://github.com/RaRe-Technologies/smart_open/blob/master/README.rst#migrating-to-the-new-open-function\n",
            "  'See the migration notes for details: %s' % _MIGRATION_NOTES_URL\n"
          ],
          "name": "stderr"
        },
        {
          "output_type": "error",
          "ename": "CalledProcessError",
          "evalue": "ignored",
          "traceback": [
            "\u001b[0;31m---------------------------------------------------------------------------\u001b[0m",
            "\u001b[0;31mCalledProcessError\u001b[0m                        Traceback (most recent call last)",
            "\u001b[0;32m<ipython-input-39-ca3c08682386>\u001b[0m in \u001b[0;36m<module>\u001b[0;34m()\u001b[0m\n\u001b[1;32m      1\u001b[0m \u001b[0mmallet_path\u001b[0m \u001b[0;34m=\u001b[0m \u001b[0;34m'/content/drive/My Drive/mallet-2.0.8/mallet-2.0.8/bin/mallet'\u001b[0m\u001b[0;34m\u001b[0m\u001b[0;34m\u001b[0m\u001b[0m\n\u001b[0;32m----> 2\u001b[0;31m \u001b[0mldamallet\u001b[0m \u001b[0;34m=\u001b[0m \u001b[0mgensim\u001b[0m\u001b[0;34m.\u001b[0m\u001b[0mmodels\u001b[0m\u001b[0;34m.\u001b[0m\u001b[0mwrappers\u001b[0m\u001b[0;34m.\u001b[0m\u001b[0mLdaMallet\u001b[0m\u001b[0;34m(\u001b[0m\u001b[0mmallet_path\u001b[0m\u001b[0;34m,\u001b[0m \u001b[0mcorpus\u001b[0m\u001b[0;34m=\u001b[0m\u001b[0mcorpus\u001b[0m\u001b[0;34m,\u001b[0m \u001b[0mnum_topics\u001b[0m\u001b[0;34m=\u001b[0m\u001b[0;36m20\u001b[0m\u001b[0;34m,\u001b[0m \u001b[0mid2word\u001b[0m\u001b[0;34m=\u001b[0m\u001b[0mid2word\u001b[0m\u001b[0;34m)\u001b[0m\u001b[0;34m\u001b[0m\u001b[0;34m\u001b[0m\u001b[0m\n\u001b[0m",
            "\u001b[0;32m/usr/local/lib/python3.6/dist-packages/gensim/models/wrappers/ldamallet.py\u001b[0m in \u001b[0;36m__init__\u001b[0;34m(self, mallet_path, corpus, num_topics, alpha, id2word, workers, prefix, optimize_interval, iterations, topic_threshold)\u001b[0m\n\u001b[1;32m    124\u001b[0m         \u001b[0mself\u001b[0m\u001b[0;34m.\u001b[0m\u001b[0miterations\u001b[0m \u001b[0;34m=\u001b[0m \u001b[0miterations\u001b[0m\u001b[0;34m\u001b[0m\u001b[0;34m\u001b[0m\u001b[0m\n\u001b[1;32m    125\u001b[0m         \u001b[0;32mif\u001b[0m \u001b[0mcorpus\u001b[0m \u001b[0;32mis\u001b[0m \u001b[0;32mnot\u001b[0m \u001b[0;32mNone\u001b[0m\u001b[0;34m:\u001b[0m\u001b[0;34m\u001b[0m\u001b[0;34m\u001b[0m\u001b[0m\n\u001b[0;32m--> 126\u001b[0;31m             \u001b[0mself\u001b[0m\u001b[0;34m.\u001b[0m\u001b[0mtrain\u001b[0m\u001b[0;34m(\u001b[0m\u001b[0mcorpus\u001b[0m\u001b[0;34m)\u001b[0m\u001b[0;34m\u001b[0m\u001b[0;34m\u001b[0m\u001b[0m\n\u001b[0m\u001b[1;32m    127\u001b[0m \u001b[0;34m\u001b[0m\u001b[0m\n\u001b[1;32m    128\u001b[0m     \u001b[0;32mdef\u001b[0m \u001b[0mfinferencer\u001b[0m\u001b[0;34m(\u001b[0m\u001b[0mself\u001b[0m\u001b[0;34m)\u001b[0m\u001b[0;34m:\u001b[0m\u001b[0;34m\u001b[0m\u001b[0;34m\u001b[0m\u001b[0m\n",
            "\u001b[0;32m/usr/local/lib/python3.6/dist-packages/gensim/models/wrappers/ldamallet.py\u001b[0m in \u001b[0;36mtrain\u001b[0;34m(self, corpus)\u001b[0m\n\u001b[1;32m    265\u001b[0m \u001b[0;34m\u001b[0m\u001b[0m\n\u001b[1;32m    266\u001b[0m         \"\"\"\n\u001b[0;32m--> 267\u001b[0;31m         \u001b[0mself\u001b[0m\u001b[0;34m.\u001b[0m\u001b[0mconvert_input\u001b[0m\u001b[0;34m(\u001b[0m\u001b[0mcorpus\u001b[0m\u001b[0;34m,\u001b[0m \u001b[0minfer\u001b[0m\u001b[0;34m=\u001b[0m\u001b[0;32mFalse\u001b[0m\u001b[0;34m)\u001b[0m\u001b[0;34m\u001b[0m\u001b[0;34m\u001b[0m\u001b[0m\n\u001b[0m\u001b[1;32m    268\u001b[0m         \u001b[0mcmd\u001b[0m \u001b[0;34m=\u001b[0m \u001b[0mself\u001b[0m\u001b[0;34m.\u001b[0m\u001b[0mmallet_path\u001b[0m \u001b[0;34m+\u001b[0m \u001b[0;34m' train-topics --input %s --num-topics %s  --alpha %s --optimize-interval %s '\u001b[0m\u001b[0;31m\\\u001b[0m\u001b[0;34m\u001b[0m\u001b[0;34m\u001b[0m\u001b[0m\n\u001b[1;32m    269\u001b[0m             \u001b[0;34m'--num-threads %s --output-state %s --output-doc-topics %s --output-topic-keys %s '\u001b[0m\u001b[0;31m\\\u001b[0m\u001b[0;34m\u001b[0m\u001b[0;34m\u001b[0m\u001b[0m\n",
            "\u001b[0;32m/usr/local/lib/python3.6/dist-packages/gensim/models/wrappers/ldamallet.py\u001b[0m in \u001b[0;36mconvert_input\u001b[0;34m(self, corpus, infer, serialize_corpus)\u001b[0m\n\u001b[1;32m    254\u001b[0m             \u001b[0mcmd\u001b[0m \u001b[0;34m=\u001b[0m \u001b[0mcmd\u001b[0m \u001b[0;34m%\u001b[0m \u001b[0;34m(\u001b[0m\u001b[0mself\u001b[0m\u001b[0;34m.\u001b[0m\u001b[0mfcorpustxt\u001b[0m\u001b[0;34m(\u001b[0m\u001b[0;34m)\u001b[0m\u001b[0;34m,\u001b[0m \u001b[0mself\u001b[0m\u001b[0;34m.\u001b[0m\u001b[0mfcorpusmallet\u001b[0m\u001b[0;34m(\u001b[0m\u001b[0;34m)\u001b[0m\u001b[0;34m)\u001b[0m\u001b[0;34m\u001b[0m\u001b[0;34m\u001b[0m\u001b[0m\n\u001b[1;32m    255\u001b[0m         \u001b[0mlogger\u001b[0m\u001b[0;34m.\u001b[0m\u001b[0minfo\u001b[0m\u001b[0;34m(\u001b[0m\u001b[0;34m\"converting temporary corpus to MALLET format with %s\"\u001b[0m\u001b[0;34m,\u001b[0m \u001b[0mcmd\u001b[0m\u001b[0;34m)\u001b[0m\u001b[0;34m\u001b[0m\u001b[0;34m\u001b[0m\u001b[0m\n\u001b[0;32m--> 256\u001b[0;31m         \u001b[0mcheck_output\u001b[0m\u001b[0;34m(\u001b[0m\u001b[0margs\u001b[0m\u001b[0;34m=\u001b[0m\u001b[0mcmd\u001b[0m\u001b[0;34m,\u001b[0m \u001b[0mshell\u001b[0m\u001b[0;34m=\u001b[0m\u001b[0;32mTrue\u001b[0m\u001b[0;34m)\u001b[0m\u001b[0;34m\u001b[0m\u001b[0;34m\u001b[0m\u001b[0m\n\u001b[0m\u001b[1;32m    257\u001b[0m \u001b[0;34m\u001b[0m\u001b[0m\n\u001b[1;32m    258\u001b[0m     \u001b[0;32mdef\u001b[0m \u001b[0mtrain\u001b[0m\u001b[0;34m(\u001b[0m\u001b[0mself\u001b[0m\u001b[0;34m,\u001b[0m \u001b[0mcorpus\u001b[0m\u001b[0;34m)\u001b[0m\u001b[0;34m:\u001b[0m\u001b[0;34m\u001b[0m\u001b[0;34m\u001b[0m\u001b[0m\n",
            "\u001b[0;32m/usr/local/lib/python3.6/dist-packages/gensim/utils.py\u001b[0m in \u001b[0;36mcheck_output\u001b[0;34m(stdout, *popenargs, **kwargs)\u001b[0m\n\u001b[1;32m   1877\u001b[0m             \u001b[0merror\u001b[0m \u001b[0;34m=\u001b[0m \u001b[0msubprocess\u001b[0m\u001b[0;34m.\u001b[0m\u001b[0mCalledProcessError\u001b[0m\u001b[0;34m(\u001b[0m\u001b[0mretcode\u001b[0m\u001b[0;34m,\u001b[0m \u001b[0mcmd\u001b[0m\u001b[0;34m)\u001b[0m\u001b[0;34m\u001b[0m\u001b[0;34m\u001b[0m\u001b[0m\n\u001b[1;32m   1878\u001b[0m             \u001b[0merror\u001b[0m\u001b[0;34m.\u001b[0m\u001b[0moutput\u001b[0m \u001b[0;34m=\u001b[0m \u001b[0moutput\u001b[0m\u001b[0;34m\u001b[0m\u001b[0;34m\u001b[0m\u001b[0m\n\u001b[0;32m-> 1879\u001b[0;31m             \u001b[0;32mraise\u001b[0m \u001b[0merror\u001b[0m\u001b[0;34m\u001b[0m\u001b[0;34m\u001b[0m\u001b[0m\n\u001b[0m\u001b[1;32m   1880\u001b[0m         \u001b[0;32mreturn\u001b[0m \u001b[0moutput\u001b[0m\u001b[0;34m\u001b[0m\u001b[0;34m\u001b[0m\u001b[0m\n\u001b[1;32m   1881\u001b[0m     \u001b[0;32mexcept\u001b[0m \u001b[0mKeyboardInterrupt\u001b[0m\u001b[0;34m:\u001b[0m\u001b[0;34m\u001b[0m\u001b[0;34m\u001b[0m\u001b[0m\n",
            "\u001b[0;31mCalledProcessError\u001b[0m: Command '/content/drive/My Drive/mallet-2.0.8/mallet-2.0.8/bin/mallet import-file --preserve-case --keep-sequence --remove-stopwords --token-regex \"\\S+\" --input /tmp/44a1c7_corpus.txt --output /tmp/44a1c7_corpus.mallet' returned non-zero exit status 127."
          ]
        }
      ]
    },
    {
      "cell_type": "code",
      "metadata": {
        "id": "JyZMtJ4N8Nnc",
        "colab_type": "code",
        "colab": {}
      },
      "source": [
        "def sent_to_words(sentences):\n",
        "    for sentence in sentences:\n",
        "        yield(gensim.utils.simple_preprocess(str(sentence), deacc=True))  # deacc=True removes punctuations\n",
        "\n",
        "data_words = list(sent_to_words(data))\n",
        "\n",
        "print(data_words[:1])"
      ],
      "execution_count": 0,
      "outputs": []
    },
    {
      "cell_type": "code",
      "metadata": {
        "id": "-89uK_2kWKLp",
        "colab_type": "code",
        "colab": {}
      },
      "source": [
        "import string\n",
        "exclude = set(string.punctuation) \n",
        "print(exclude)\n",
        "\n",
        "nopunctuation_word=[]\n",
        "for w in tokenized_word:\n",
        "    if w not in exclude:\n",
        "        nopunctuation_word.append(w)\n",
        "        \n",
        "print(\"nopunctuation:\",nopunctuation_word[:100])"
      ],
      "execution_count": 0,
      "outputs": []
    },
    {
      "cell_type": "code",
      "metadata": {
        "id": "29Yr-ffwWKLr",
        "colab_type": "code",
        "colab": {}
      },
      "source": [
        "from nltk.probability import FreqDist\n",
        "\n",
        "fdist = FreqDist(nopunctuation_word)\n",
        "print(fdist)\n",
        "fdist.most_common(20)"
      ],
      "execution_count": 0,
      "outputs": []
    },
    {
      "cell_type": "code",
      "metadata": {
        "id": "U7NwxdCfWKLt",
        "colab_type": "code",
        "colab": {}
      },
      "source": [
        "import matplotlib.pyplot as plt\n",
        "fdist.plot(30,cumulative=False)\n",
        "plt.show()"
      ],
      "execution_count": 0,
      "outputs": []
    },
    {
      "cell_type": "code",
      "metadata": {
        "id": "P0ULf45kWKLx",
        "colab_type": "code",
        "colab": {}
      },
      "source": [
        "lower_word = [word.lower() for word in nopunctuation_word]\n",
        "print(lower_word[:100])\n",
        "\n",
        "filtered_word=[]\n",
        "for w in lower_word:\n",
        "    if w not in stop_words:\n",
        "        filtered_word.append(w)\n",
        "#print(\"nopunctuation:\",nopunctuation_word)\n",
        "print(\"Filtered:\",filtered_word)"
      ],
      "execution_count": 0,
      "outputs": []
    },
    {
      "cell_type": "code",
      "metadata": {
        "id": "MMa79iy5WKL0",
        "colab_type": "code",
        "colab": {}
      },
      "source": [
        "from nltk.stem import PorterStemmer\n",
        "ps = PorterStemmer()\n",
        "\n",
        "stemmed_word=[]\n",
        "for w in filtered_word:\n",
        "    stemmed_word.append(ps.stem(w))\n",
        "\n",
        "#print(\"filtered:\",filtered_word)\n",
        "print(\"Stemmed:\",stemmed_word)"
      ],
      "execution_count": 0,
      "outputs": []
    },
    {
      "cell_type": "code",
      "metadata": {
        "id": "IopnC8CCWKL5",
        "colab_type": "code",
        "colab": {}
      },
      "source": [
        "from nltk.stem.wordnet import WordNetLemmatizer\n",
        "lem = WordNetLemmatizer()\n",
        "\n",
        "lm_word=[]\n",
        "for w in stemmed_word:\n",
        "    lm_word.append(lem.lemmatize(w,\"v\"))\n",
        "\n",
        "print(\"Lemmatized:\",lm_word[:100])"
      ],
      "execution_count": 0,
      "outputs": []
    },
    {
      "cell_type": "code",
      "metadata": {
        "id": "923Sah4oWKL7",
        "colab_type": "code",
        "colab": {}
      },
      "source": [
        "clean_word = [word.lower() for word in lm_word]\n",
        "print(clean_word[:100])"
      ],
      "execution_count": 0,
      "outputs": []
    },
    {
      "cell_type": "code",
      "metadata": {
        "id": "2icg2jiDWKL9",
        "colab_type": "code",
        "colab": {}
      },
      "source": [
        "fdist = FreqDist(clean_word)\n",
        "print(fdist)\n",
        "fdist.most_common(20)\n",
        "\n",
        "import matplotlib.pyplot as plt\n",
        "fdist.plot(30,cumulative=False)\n",
        "plt.show()"
      ],
      "execution_count": 0,
      "outputs": []
    },
    {
      "cell_type": "code",
      "metadata": {
        "id": "cTtA2FR2WKL_",
        "colab_type": "code",
        "colab": {}
      },
      "source": [
        "from nltk.corpus import webtext\n",
        "from nltk.probability import FreqDist\n",
        "from wordcloud import WordCloud\n",
        "import matplotlib.pyplot as plt\n",
        " \n",
        "nltk.download('webtext')\n",
        "#wt_words = webtext.words('testing.txt')  # Sample data\n",
        "data_analysis = nltk.FreqDist(clean_word)\n",
        " \n",
        "filter_words = dict([(m, n) for m, n in data_analysis.items() if len(m) > 1])\n",
        " \n",
        "wcloud = WordCloud().generate_from_frequencies(filter_words)\n",
        " \n",
        "# Plotting the wordcloud\n",
        "plt.imshow(wcloud, interpolation=\"bilinear\")\n",
        " \n",
        "plt.axis(\"on\")\n",
        "(-0.5, 499.5, 299.5, -0.5)\n",
        "plt.show()"
      ],
      "execution_count": 0,
      "outputs": []
    },
    {
      "cell_type": "code",
      "metadata": {
        "id": "LSESz5MJzF3_",
        "colab_type": "code",
        "colab": {}
      },
      "source": [
        "dictionary = corpora.Dictionary(clean_word.tolist())\n",
        "count = 0\n",
        "for k, v in dictionary.iteritems():\n",
        "    print(k, v)\n",
        "    count += 1\n",
        "    if count > 10:\n",
        "        break\n"
      ],
      "execution_count": 0,
      "outputs": []
    },
    {
      "cell_type": "code",
      "metadata": {
        "id": "_bcuz_FoWKMC",
        "colab_type": "code",
        "colab": {}
      },
      "source": [
        "# Build the bigram and trigram models\n",
        "bigram = gensim.models.Phrases(clean_word, min_count=5, threshold=100) # higher threshold fewer phrases.\n",
        "trigram = gensim.models.Phrases(bigram[clean_word], threshold=100)  \n",
        "\n",
        "# Faster way to get a sentence clubbed as a trigram/bigram\n",
        "bigram_mod = gensim.models.phrases.Phraser(bigram)\n",
        "trigram_mod = gensim.models.phrases.Phraser(trigram)\n",
        "\n",
        "# See trigram example\n",
        "print(bigram_mod[clean_word[3]])\n",
        "print(trigram_mod[bigram_mod[clean_word[3]]])\n",
        "print(bigram)"
      ],
      "execution_count": 0,
      "outputs": []
    }
  ]
}
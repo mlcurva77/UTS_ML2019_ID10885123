{
  "nbformat": 4,
  "nbformat_minor": 0,
  "metadata": {
    "colab": {
      "name": "ML2019_ID10885123_A2.ipynb",
      "provenance": []
    },
    "kernelspec": {
      "display_name": "Python 3",
      "language": "python",
      "name": "python3"
    },
    "language_info": {
      "codemirror_mode": {
        "name": "ipython",
        "version": 3
      },
      "file_extension": ".py",
      "mimetype": "text/x-python",
      "name": "python",
      "nbconvert_exporter": "python",
      "pygments_lexer": "ipython3",
      "version": "3.7.3"
    }
  },
  "cells": [
    {
      "cell_type": "markdown",
      "metadata": {
        "colab_type": "text",
        "id": "1q9AvPyWq-D2"
      },
      "source": [
        "#  Data Analytics Project: Text Analytics and Topic Modelling\n",
        "\n",
        "https://github.com/mlcurva77/UTS_ML2019_ID10885123/blob/master/ML2019_ID10885123_A2.ipynb"
      ]
    },
    {
      "cell_type": "markdown",
      "metadata": {
        "colab_type": "text",
        "id": "RS0nj12pKdiR"
      },
      "source": [
        "## 1. Overview"
      ]
    },
    {
      "cell_type": "markdown",
      "metadata": {
        "colab_type": "text",
        "id": "zzACOeTFKkbP"
      },
      "source": [
        "Any company or organisation generates a significant amount of documentation to record information about their business. The process of analysing the documents takes a lot of time and resources, which makes it slow and inefficient. Text Analytics helps to resolve this issue. Text Analytics is the automated process of analysing text documents and deriving meaningful information from unstructured data.\n",
        "\n",
        "This report aims to analyse a portfolio of documents from Ernst and Young (EY) to learn about the company’s values and what is important to them when working with other organisations.  Text Analytics and Topic Modelling will be used to examine and derive meaningful insights from the documents. The Natural Language Toolkit (NLTK) was used for performing Text Analytics and Gensim for Topic Modelling. "
      ]
    },
    {
      "cell_type": "markdown",
      "metadata": {
        "colab_type": "text",
        "id": "4aIaT6pYKnP-"
      },
      "source": [
        "## 2. Data Description"
      ]
    },
    {
      "cell_type": "markdown",
      "metadata": {
        "colab_type": "text",
        "id": "Yq1AVhJgKpBT"
      },
      "source": [
        "There were twenty-eight (28) text documents from EY with varying content and sizes. All documents were loaded in GoogleColab from the Google Drive directory. The list of files is shown below with the corresponding number of words per document.\n",
        "\n",
        "| Number of Words | File Name |\n",
        "|---| --- |\n",
        "| 713 | 01_AFR1.txt\n",
        "| 751\t| 01_AFR2.txt\n",
        "| 1360\t| 01_AFR3.txt\n",
        "| 906\t| 01_AFR4.txt\n",
        "| 399\t| 02_EY1.txt\n",
        "| 694\t| 02_EY2.txt\n",
        "| 3577\t| 02_EY3.txt\n",
        "| 12457\t| 02_EY4.txt\n",
        "| 6403\t| 02_EY5.txt\n",
        "| 7583\t| 02_EY6.txt\n",
        "| 14264\t| 02_EY7.txt\n",
        "| 821\t| 02_EY8.txt\n",
        "| 1460\t| 03_EY1.txt\n",
        "| 949\t| 03_EY10.txt\n",
        "| 1305\t| 03_EY2.txt\n",
        "| 1044\t| 03_EY3.txt\n",
        "| 515\t| 03_EY4.txt\n",
        "| 560\t| 03_EY5.txt\n",
        "| 865\t| 03_EY6.txt\n",
        "| 1371\t| 03_EY7.txt\n",
        "| 1245\t| 03_EY8.txt\n",
        "| 1201\t| 03_EY9.txt\n",
        "| 3603\t| 04_EY1.txt\n",
        "| 402\t| 05_UNSW1.txt\n",
        "| 1345\t| 05_UQ1.txt\n",
        "| 697\t| 05_USYD1.txt\n",
        "| 578\t| 05_UTS1.txt\n",
        "| 856\t| 05_UWA1.txt"
      ]
    },
    {
      "cell_type": "markdown",
      "metadata": {
        "colab_type": "text",
        "id": "DG5X8kZcOg5n"
      },
      "source": [
        "## 3. Text Analytics using NLTK"
      ]
    },
    {
      "cell_type": "markdown",
      "metadata": {
        "colab_type": "text",
        "id": "VA7mEGiAOlQZ"
      },
      "source": [
        "This section illustrates how to use the classes in NLTK for text transformation. \n",
        "\n",
        "All the documents are unstructured, which require to be transformed for analysis. NLTK was mainly used to explore and understand the datasets. \n",
        "\n",
        "Each document needs to be tokenised because the data is unstructured. Tokenisation is the process of breaking down a text paragraph into sentences or words. The following transformation was performed on the documents after the documents were tokenised.\n",
        "\n",
        "* Removal of punctuation using the string package.\n",
        "* Change words to lower case.\n",
        "* Removal of common English stopwords. Stopwords are considered noise in the data and do not add value to the analysis. Some examples of stopwords includes is, am, are, this, a, an, the, etc.\n",
        "* Stemming and Lemmatization. Stemming and Lemmatization are language normalisation process, which reduces words to their word root word."
      ]
    },
    {
      "cell_type": "markdown",
      "metadata": {
        "colab_type": "text",
        "id": "CUIG-VN1tjq2"
      },
      "source": [
        "### 3.10 Loading the Packages\n",
        "\n",
        "The following packages were used for Text Analytics and Topic Modelling;\n",
        "\n",
        "*   NLTK - The Natural Language Toolkit (NLTK) is an open source Python library for Natural Language Processing.\n",
        "*   re - This module provides regular expression matching operations similar to those found in Perl.\n",
        "* numpy - NumPy is the fundamental package for scientific computing with Python. \n",
        "* Gensim - Gensim is a Python library for topic modelling, document indexing and similarity retrieval with large corpora.\n",
        "* pyLDAvis - Python library for interactive topic model visualization.\n",
        "* matplotlib - plotting library for the Python programming language and its numerical mathematics extension NumPy.  \n",
        "* Using spaCy for POS tagging. spaCy is a package used for tagging, parsing and named entity recognition.\n",
        "\n"
      ]
    },
    {
      "cell_type": "code",
      "metadata": {
        "colab_type": "code",
        "id": "47nF31JoWKLa",
        "colab": {
          "base_uri": "https://localhost:8080/",
          "height": 476
        },
        "outputId": "e382b3c2-c333-433b-d3d8-c8efefeb6934"
      },
      "source": [
        "#Loading NLTK\n",
        "import nltk\n",
        "!pip install -q nltk==3.4.3\n",
        "\n",
        "nltk.download('punkt')\n",
        "nltk.download('stopwords')\n",
        "nltk.download('wordnet')\n",
        "from nltk.stem import WordNetLemmatizer, SnowballStemmer\n",
        "from nltk.stem.porter import *\n",
        "\n",
        "# spacy for lemmatization\n",
        "import spacy\n",
        "\n",
        "import re\n",
        "import numpy as np\n",
        "import pandas as pd\n",
        "from pprint import pprint\n",
        "\n",
        "# Gensim\n",
        "import gensim\n",
        "import gensim.corpora as corpora\n",
        "from gensim.utils import simple_preprocess\n",
        "from gensim.models import CoherenceModel\n",
        "\n",
        "# Plotting tools\n",
        "!pip install pyLDAvis\n",
        "import pyLDAvis\n",
        "import pyLDAvis.gensim  \n",
        "import matplotlib.pyplot as plt\n",
        "%matplotlib inline\n",
        "\n",
        "# Enable logging for gensim - optional\n",
        "import logging\n",
        "logging.basicConfig(format='%(asctime)s : %(levelname)s : %(message)s', level=logging.ERROR)\n",
        "\n",
        "import warnings\n",
        "warnings.filterwarnings(\"ignore\",category=DeprecationWarning)\n"
      ],
      "execution_count": 2,
      "outputs": [
        {
          "output_type": "stream",
          "text": [
            "[nltk_data] Downloading package punkt to /root/nltk_data...\n",
            "[nltk_data]   Package punkt is already up-to-date!\n",
            "[nltk_data] Downloading package stopwords to /root/nltk_data...\n",
            "[nltk_data]   Package stopwords is already up-to-date!\n",
            "[nltk_data] Downloading package wordnet to /root/nltk_data...\n",
            "[nltk_data]   Package wordnet is already up-to-date!\n",
            "Requirement already satisfied: pyLDAvis in /usr/local/lib/python3.6/dist-packages (2.1.2)\n",
            "Requirement already satisfied: scipy>=0.18.0 in /usr/local/lib/python3.6/dist-packages (from pyLDAvis) (1.3.1)\n",
            "Requirement already satisfied: numexpr in /usr/local/lib/python3.6/dist-packages (from pyLDAvis) (2.7.0)\n",
            "Requirement already satisfied: numpy>=1.9.2 in /usr/local/lib/python3.6/dist-packages (from pyLDAvis) (1.16.5)\n",
            "Requirement already satisfied: joblib>=0.8.4 in /usr/local/lib/python3.6/dist-packages (from pyLDAvis) (0.13.2)\n",
            "Requirement already satisfied: jinja2>=2.7.2 in /usr/local/lib/python3.6/dist-packages (from pyLDAvis) (2.10.1)\n",
            "Requirement already satisfied: pytest in /usr/local/lib/python3.6/dist-packages (from pyLDAvis) (3.6.4)\n",
            "Requirement already satisfied: wheel>=0.23.0 in /usr/local/lib/python3.6/dist-packages (from pyLDAvis) (0.33.6)\n",
            "Requirement already satisfied: funcy in /usr/local/lib/python3.6/dist-packages (from pyLDAvis) (1.13)\n",
            "Requirement already satisfied: future in /usr/local/lib/python3.6/dist-packages (from pyLDAvis) (0.16.0)\n",
            "Requirement already satisfied: pandas>=0.17.0 in /usr/local/lib/python3.6/dist-packages (from pyLDAvis) (0.24.2)\n",
            "Requirement already satisfied: MarkupSafe>=0.23 in /usr/local/lib/python3.6/dist-packages (from jinja2>=2.7.2->pyLDAvis) (1.1.1)\n",
            "Requirement already satisfied: more-itertools>=4.0.0 in /usr/local/lib/python3.6/dist-packages (from pytest->pyLDAvis) (7.2.0)\n",
            "Requirement already satisfied: atomicwrites>=1.0 in /usr/local/lib/python3.6/dist-packages (from pytest->pyLDAvis) (1.3.0)\n",
            "Requirement already satisfied: setuptools in /usr/local/lib/python3.6/dist-packages (from pytest->pyLDAvis) (41.2.0)\n",
            "Requirement already satisfied: six>=1.10.0 in /usr/local/lib/python3.6/dist-packages (from pytest->pyLDAvis) (1.12.0)\n",
            "Requirement already satisfied: py>=1.5.0 in /usr/local/lib/python3.6/dist-packages (from pytest->pyLDAvis) (1.8.0)\n",
            "Requirement already satisfied: pluggy<0.8,>=0.5 in /usr/local/lib/python3.6/dist-packages (from pytest->pyLDAvis) (0.7.1)\n",
            "Requirement already satisfied: attrs>=17.4.0 in /usr/local/lib/python3.6/dist-packages (from pytest->pyLDAvis) (19.1.0)\n",
            "Requirement already satisfied: pytz>=2011k in /usr/local/lib/python3.6/dist-packages (from pandas>=0.17.0->pyLDAvis) (2018.9)\n",
            "Requirement already satisfied: python-dateutil>=2.5.0 in /usr/local/lib/python3.6/dist-packages (from pandas>=0.17.0->pyLDAvis) (2.5.3)\n"
          ],
          "name": "stdout"
        }
      ]
    },
    {
      "cell_type": "markdown",
      "metadata": {
        "colab_type": "text",
        "id": "t1wsEscBsXqH"
      },
      "source": [
        "### 3.12 Connecting to GoogleColab and Google drive"
      ]
    },
    {
      "cell_type": "code",
      "metadata": {
        "colab_type": "code",
        "id": "A5YqZBDBYjfE",
        "outputId": "c08d9e68-f06a-47be-caad-5f03f88750d2",
        "colab": {
          "base_uri": "https://localhost:8080/",
          "height": 122
        }
      },
      "source": [
        "inGoogleColab = True\n",
        "\n",
        "from google.colab import drive\n",
        "drive.mount('/content/drive/')"
      ],
      "execution_count": 3,
      "outputs": [
        {
          "output_type": "stream",
          "text": [
            "Go to this URL in a browser: https://accounts.google.com/o/oauth2/auth?client_id=947318989803-6bn6qk8qdgf4n4g3pfee6491hc0brc4i.apps.googleusercontent.com&redirect_uri=urn%3Aietf%3Awg%3Aoauth%3A2.0%3Aoob&scope=email%20https%3A%2F%2Fwww.googleapis.com%2Fauth%2Fdocs.test%20https%3A%2F%2Fwww.googleapis.com%2Fauth%2Fdrive%20https%3A%2F%2Fwww.googleapis.com%2Fauth%2Fdrive.photos.readonly%20https%3A%2F%2Fwww.googleapis.com%2Fauth%2Fpeopleapi.readonly&response_type=code\n",
            "\n",
            "Enter your authorization code:\n",
            "··········\n",
            "Mounted at /content/drive/\n"
          ],
          "name": "stdout"
        }
      ]
    },
    {
      "cell_type": "markdown",
      "metadata": {
        "colab_type": "text",
        "id": "r1hF3SSF32Vi"
      },
      "source": [
        "### 3.13 Loading the EY documents for analysis and Topic Modelling."
      ]
    },
    {
      "cell_type": "code",
      "metadata": {
        "colab_type": "code",
        "id": "7GzFKJEDWKLe",
        "outputId": "e48d0f30-bad1-4a8d-d29b-12164c04e1ce",
        "colab": {
          "base_uri": "https://localhost:8080/",
          "height": 34
        }
      },
      "source": [
        "import os\n",
        "from nltk.corpus import PlaintextCorpusReader\n",
        "\n",
        "# Setting the directory path to my google drive\n",
        "folderpath_base = '/content/drive/My Drive/Docs'\n",
        "\n",
        "# .txt file names as file IDs\n",
        "file_ids = \".*.txt\"\n",
        "corpus = nltk.corpus.reader.PlaintextCorpusReader(folderpath_base, file_ids,encoding='latin-1')\n",
        "\n",
        "#print(corpus.fileids())\n",
        "print(corpus)"
      ],
      "execution_count": 4,
      "outputs": [
        {
          "output_type": "stream",
          "text": [
            "<PlaintextCorpusReader in '/content/drive/My Drive/Docs'>\n"
          ],
          "name": "stdout"
        }
      ]
    },
    {
      "cell_type": "code",
      "metadata": {
        "colab_type": "code",
        "id": "mnucOTi_WKLi",
        "outputId": "edde6795-ef83-4990-8a74-d02758fd284c",
        "colab": {
          "base_uri": "https://localhost:8080/",
          "height": 493
        }
      },
      "source": [
        "# for-loop through file IDs and print out word count. \n",
        "# Listing the EY filenames to be used for analysis.\n",
        "\n",
        "for f in corpus.fileids():\n",
        "    print(len(corpus.words(f)), f)"
      ],
      "execution_count": 5,
      "outputs": [
        {
          "output_type": "stream",
          "text": [
            "713 01_AFR1.txt\n",
            "751 01_AFR2.txt\n",
            "1360 01_AFR3.txt\n",
            "906 01_AFR4.txt\n",
            "399 02_EY1.txt\n",
            "694 02_EY2.txt\n",
            "3577 02_EY3.txt\n",
            "12457 02_EY4.txt\n",
            "6403 02_EY5.txt\n",
            "7583 02_EY6.txt\n",
            "14264 02_EY7.txt\n",
            "821 02_EY8.txt\n",
            "1460 03_EY1.txt\n",
            "949 03_EY10.txt\n",
            "1305 03_EY2.txt\n",
            "1044 03_EY3.txt\n",
            "515 03_EY4.txt\n",
            "560 03_EY5.txt\n",
            "865 03_EY6.txt\n",
            "1371 03_EY7.txt\n",
            "1245 03_EY8.txt\n",
            "1201 03_EY9.txt\n",
            "3603 04_EY1.txt\n",
            "402 05_UNSW1.txt\n",
            "1345 05_UQ1.txt\n",
            "697 05_USYD1.txt\n",
            "578 05_UTS1.txt\n",
            "856 05_UWA1.txt\n"
          ],
          "name": "stdout"
        }
      ]
    },
    {
      "cell_type": "code",
      "metadata": {
        "colab_type": "code",
        "id": "TDmOW3EfWKLk",
        "outputId": "53e2d63b-c09a-4087-a27c-a8225fe2586d",
        "colab": {
          "base_uri": "https://localhost:8080/",
          "height": 34
        }
      },
      "source": [
        "# Corpus size in number of words\n",
        "print(len(corpus.words()))"
      ],
      "execution_count": 6,
      "outputs": [
        {
          "output_type": "stream",
          "text": [
            "67924\n"
          ],
          "name": "stdout"
        }
      ]
    },
    {
      "cell_type": "markdown",
      "metadata": {
        "colab_type": "text",
        "id": "se1qHlyeyahG"
      },
      "source": [
        "### 3.14 Tokenisation\n",
        "The documents required to be tokenised to break down the paragraphs into sentences or words. The **words** and **sents** functionalities in NLTK are used to perform tokenization."
      ]
    },
    {
      "cell_type": "code",
      "metadata": {
        "colab_type": "code",
        "id": "-89uK_2kWKLp",
        "outputId": "aba33118-e2ed-4ce5-c433-9600bf8a5867",
        "colab": {
          "base_uri": "https://localhost:8080/",
          "height": 54
        }
      },
      "source": [
        "# Words breaks text paragraphs into words. Note that punctuations are treated as individual words in tokenization.\n",
        "\n",
        "tokenized_word = corpus.words()\n",
        "print(tokenized_word[:60])"
      ],
      "execution_count": 7,
      "outputs": [
        {
          "output_type": "stream",
          "text": [
            "['US', 'business', 'leader', 'Kay', 'Koplovitz', 'forges', 'new', 'ground', 'for', 'female', 'entrepreneurs', 'by', 'Joanne', 'Gray', 'Women', 'in', 'science', 'and', 'technology', 'are', 'gaining', 'a', 'higher', 'profile', 'in', 'Australia', 'as', 'entrepreneurs', ',', 'says', 'Kay', 'Koplovitz', ',', 'a', 'leading', 'successful', 'businesswoman', 'in', 'the', 'US', 'and', 'founder', 'of', 'USA', 'Network', '.', 'Her', 'successful', 'incubator', ',', 'Springboard', 'Enterprises', ',', 'launched', 'in', 'Australia', 'five', 'years', 'ago', ',']\n"
          ],
          "name": "stdout"
        }
      ]
    },
    {
      "cell_type": "markdown",
      "metadata": {
        "colab_type": "text",
        "id": "Qj4NgYFD1B6f"
      },
      "source": [
        "### 3.15 Removal of punctuation.\n",
        "Punctuations do not add value to the text analysis so these needed to be removed. The **string.punctuation** is a pre-initialized string used as string constant in Python. The **string.punctuation** will give all sets of punctuation."
      ]
    },
    {
      "cell_type": "code",
      "metadata": {
        "colab_type": "code",
        "id": "262kQUoJzq7M",
        "outputId": "92a63201-5586-4cab-e6ac-fdcef6b72d98",
        "colab": {
          "base_uri": "https://localhost:8080/",
          "height": 71
        }
      },
      "source": [
        "#\n",
        "import string\n",
        "exclude = set(string.punctuation) \n",
        "print(exclude)\n",
        "\n",
        "nopunctuation_word=[]\n",
        "for w in tokenized_word:\n",
        "    if w not in exclude:\n",
        "        nopunctuation_word.append(w)\n",
        "        \n",
        "print(\"nopunctuation:\",nopunctuation_word[:60])"
      ],
      "execution_count": 8,
      "outputs": [
        {
          "output_type": "stream",
          "text": [
            "{'>', '@', '.', '-', '_', ':', '(', '^', \"'\", '|', '?', ']', '!', '=', '~', '*', ')', '\\\\', ',', '#', '$', '{', ';', '<', '/', '`', '}', '[', '&', '+', '%', '\"'}\n",
            "nopunctuation: ['US', 'business', 'leader', 'Kay', 'Koplovitz', 'forges', 'new', 'ground', 'for', 'female', 'entrepreneurs', 'by', 'Joanne', 'Gray', 'Women', 'in', 'science', 'and', 'technology', 'are', 'gaining', 'a', 'higher', 'profile', 'in', 'Australia', 'as', 'entrepreneurs', 'says', 'Kay', 'Koplovitz', 'a', 'leading', 'successful', 'businesswoman', 'in', 'the', 'US', 'and', 'founder', 'of', 'USA', 'Network', 'Her', 'successful', 'incubator', 'Springboard', 'Enterprises', 'launched', 'in', 'Australia', 'five', 'years', 'ago', 'trains', 'women', 'founders', 'with', 'potentially', 'high']\n"
          ],
          "name": "stdout"
        }
      ]
    },
    {
      "cell_type": "markdown",
      "metadata": {
        "colab_type": "text",
        "id": "uC6k9h_OzKBv"
      },
      "source": [
        "### 3.16 Frequency Distribution (before transformation)\n",
        "The FreqDist class is used to encode “frequency distributions”, which count the number of times that each outcome of an experiment occurs. I'm using FreqDist to plot the frequency distribution of the most common words prior to performing additional transformation in the text. The most common words are shown below. Notice that the common stopwords (i.e. the, and, to, etc.) appear in the list."
      ]
    },
    {
      "cell_type": "code",
      "metadata": {
        "colab_type": "code",
        "id": "29Yr-ffwWKLr",
        "outputId": "27b0e33c-f893-493c-da78-3f1e91c75b82",
        "colab": {
          "base_uri": "https://localhost:8080/",
          "height": 204
        }
      },
      "source": [
        "from nltk.probability import FreqDist\n",
        "\n",
        "fdist = FreqDist(nopunctuation_word)\n",
        "print(fdist)\n",
        "fdist.most_common(10)"
      ],
      "execution_count": 9,
      "outputs": [
        {
          "output_type": "stream",
          "text": [
            "<FreqDist with 7473 samples and 60961 outcomes>\n"
          ],
          "name": "stdout"
        },
        {
          "output_type": "execute_result",
          "data": {
            "text/plain": [
              "[('the', 2501),\n",
              " ('and', 2416),\n",
              " ('to', 1785),\n",
              " ('of', 1748),\n",
              " ('in', 1046),\n",
              " ('a', 989),\n",
              " ('EY', 636),\n",
              " ('for', 593),\n",
              " ('\\x92', 539),\n",
              " ('is', 532)]"
            ]
          },
          "metadata": {
            "tags": []
          },
          "execution_count": 9
        }
      ]
    },
    {
      "cell_type": "code",
      "metadata": {
        "colab_type": "code",
        "id": "U7NwxdCfWKLt",
        "outputId": "8ad55034-6010-4733-a838-2751b377ae9b",
        "colab": {
          "base_uri": "https://localhost:8080/",
          "height": 310
        }
      },
      "source": [
        "# The graph below shows the most common words across all 28 documents prior to performing additional transformation in the text.\n",
        "\n",
        "import matplotlib.pyplot as plt\n",
        "fdist.plot(20,cumulative=False)\n",
        "plt.show()"
      ],
      "execution_count": 10,
      "outputs": [
        {
          "output_type": "display_data",
          "data": {
            "image/png": "[encoded data removed]",
            "text/plain": [
              "<Figure size 432x288 with 1 Axes>"
            ]
          },
          "metadata": {
            "tags": []
          }
        }
      ]
    },
    {
      "cell_type": "markdown",
      "metadata": {
        "colab_type": "text",
        "id": "BXzVmkQY8Num"
      },
      "source": [
        "### 3.17 Remove common english stopwords.\n",
        "Convert all words to lowercase. The lower() methods returns the lowercased string from the given string. It converts all uppercase characters to lowercase. Then, remove the common english stopwords to remove the noise from the data. Add any additional stopwords in your list as required."
      ]
    },
    {
      "cell_type": "code",
      "metadata": {
        "colab_type": "code",
        "id": "P0ULf45kWKLx",
        "outputId": "b2728ba6-b81d-4476-e4e9-1be37c6ac529",
        "colab": {
          "base_uri": "https://localhost:8080/",
          "height": 105
        }
      },
      "source": [
        "from nltk.corpus import stopwords\n",
        "\n",
        "# Convert all words to lowercase.\n",
        "lower_word = [word.lower() for word in nopunctuation_word]\n",
        "print(\"lowercase:\", lower_word[:20])\n",
        "\n",
        "# Initialise stop_words to contain the commom english topwords.\n",
        "stop_words=stopwords.words(\"english\")\n",
        "print(\"stopwords:\", stop_words[:20])\n",
        "\n",
        "# Add additional words in the stopwords list that do not add value to the analysis.\n",
        "\n",
        "stop_words.extend([\"can\", \"say\",\"one\",\"way\",\"use\",\"here\",\"I\",\n",
        "                 \"also\",\"howev\",\"tell\",\"will\",\"help\",\"also\",\n",
        "                 \"much\",\"need\",\"take\",\"tend\",\"even\",\"us\",\"US\"\n",
        "                 \"like\",\"particular\",\"rather\",\"said\",\"EY\",\"ey\"\n",
        "                 \"get\",\"well\",\"make\",\"ask\",\"come\",\"end\",\n",
        "                 \"first\",\"two\",\"help\",\"often\",\"may\",\n",
        "                 \"might\",\"see\",\"someth\",\"thing\",\"point\",\n",
        "                 \"post\",\"look\",\"right\",\"now\",\"think\",\"'ve \",\n",
        "                 \"'re \",\"anoth\",\"put\",\"set\",\"new\",\"good\",\n",
        "                 \"want\",\"sure\",\"kind\",\"larg\",\"yes,\",\"day\",\"etc\",\n",
        "                 \"quit\",\"sinc\",\"attempt\",\"lack\",\"seen\",\"awar\",\n",
        "                 \"littl\",\"ever\",\"moreov\",\"though\",\"found\",\"abl\",\n",
        "                 \"enough\",\"far\",\"earli\",\"away\",\"achiev\",\"draw\",\n",
        "                 \"last\",\"never\",\"brief\",\"bit\",\"entir\",\"brief\",\n",
        "                 \"great\",\"lot\",\"include\",\"provide\",\"year\",\"new\",\"help\",\n",
        "                 \"includ\",\"one\",\"require\",\"use\",\"make\",\"better\",\n",
        "                 \"way\",\"like\",\"across\",\"valu\",\"provide\",\"young\",\"continu\",\n",
        "                 \"tropfest\",\"ernst\",\"four\",\"limit\",\"and\",\"however\", \"\\x92\", \"\\x93\",\"\\x94\",\n",
        "                 \"\\x95\",\"\\x96\",\"\\x97\",\"\\x98\",\"\\x99\",\"the\",\"in\",\"because\",\"includ\",\"this\",\"those\",\"where\",\"ey\",\"aaditya\",\n",
        "                  \"includ\",\"go\",\"get\",\"many\",\"less\",\"year\",\"number\",\"give\"])\n",
        "\n",
        "filtered_word=[]\n",
        "for w in lower_word:\n",
        "    if w not in stop_words:\n",
        "        filtered_word.append(w)\n",
        "\n",
        "print(\"nopunctuation:\",nopunctuation_word[:20])\n",
        "print(\"Filtered:\",filtered_word[:20])"
      ],
      "execution_count": 11,
      "outputs": [
        {
          "output_type": "stream",
          "text": [
            "lowercase: ['us', 'business', 'leader', 'kay', 'koplovitz', 'forges', 'new', 'ground', 'for', 'female', 'entrepreneurs', 'by', 'joanne', 'gray', 'women', 'in', 'science', 'and', 'technology', 'are']\n",
            "stopwords: ['i', 'me', 'my', 'myself', 'we', 'our', 'ours', 'ourselves', 'you', \"you're\", \"you've\", \"you'll\", \"you'd\", 'your', 'yours', 'yourself', 'yourselves', 'he', 'him', 'his']\n",
            "nopunctuation: ['US', 'business', 'leader', 'Kay', 'Koplovitz', 'forges', 'new', 'ground', 'for', 'female', 'entrepreneurs', 'by', 'Joanne', 'Gray', 'Women', 'in', 'science', 'and', 'technology', 'are']\n",
            "Filtered: ['business', 'leader', 'kay', 'koplovitz', 'forges', 'ground', 'female', 'entrepreneurs', 'joanne', 'gray', 'women', 'science', 'technology', 'gaining', 'higher', 'profile', 'australia', 'entrepreneurs', 'says', 'kay']\n"
          ],
          "name": "stdout"
        }
      ]
    },
    {
      "cell_type": "markdown",
      "metadata": {
        "colab_type": "text",
        "id": "JXil8eWiBBiE"
      },
      "source": [
        "### 3.18 Stemming and Lemmatization\n",
        "Stemming is a process of linguistic normalization, which reduces words to their word root word. Lemmatization reduces words to their base word, which transforms root word with the use of vocabulary and morphological analysis."
      ]
    },
    {
      "cell_type": "code",
      "metadata": {
        "colab_type": "code",
        "id": "MMa79iy5WKL0",
        "outputId": "c192b847-4578-43e2-b04d-21aecc5f97d4",
        "colab": {
          "base_uri": "https://localhost:8080/",
          "height": 71
        }
      },
      "source": [
        "# Use ps.stem for Stemming.\n",
        "\n",
        "from nltk.stem import PorterStemmer\n",
        "ps = PorterStemmer()\n",
        "\n",
        "stemmed_word=[]\n",
        "for w in filtered_word:\n",
        "    stemmed_word.append(ps.stem(w))\n",
        "\n",
        "print(\"filtered:\",filtered_word[:20])\n",
        "print(\"Stemmed:\",stemmed_word[:20])"
      ],
      "execution_count": 12,
      "outputs": [
        {
          "output_type": "stream",
          "text": [
            "filtered: ['business', 'leader', 'kay', 'koplovitz', 'forges', 'ground', 'female', 'entrepreneurs', 'joanne', 'gray', 'women', 'science', 'technology', 'gaining', 'higher', 'profile', 'australia', 'entrepreneurs', 'says', 'kay']\n",
            "Stemmed: ['busi', 'leader', 'kay', 'koplovitz', 'forg', 'ground', 'femal', 'entrepreneur', 'joann', 'gray', 'women', 'scienc', 'technolog', 'gain', 'higher', 'profil', 'australia', 'entrepreneur', 'say', 'kay']\n"
          ],
          "name": "stdout"
        }
      ]
    },
    {
      "cell_type": "code",
      "metadata": {
        "colab_type": "code",
        "id": "IopnC8CCWKL5",
        "outputId": "961dba10-f30d-4e1a-d8c9-9d8cc5af6359",
        "colab": {
          "base_uri": "https://localhost:8080/",
          "height": 71
        }
      },
      "source": [
        "# Use lem.lemmatize for Lemmatization.\n",
        "\n",
        "from nltk.stem.wordnet import WordNetLemmatizer\n",
        "lem = WordNetLemmatizer()\n",
        "\n",
        "clean_word=[]\n",
        "for w in stemmed_word:\n",
        "    clean_word.append(lem.lemmatize(w,\"v\"))\n",
        "\n",
        "print(\"Stemmed:\",stemmed_word[:20])\n",
        "print(\"Lemmatized:\",clean_word[:20])"
      ],
      "execution_count": 13,
      "outputs": [
        {
          "output_type": "stream",
          "text": [
            "Stemmed: ['busi', 'leader', 'kay', 'koplovitz', 'forg', 'ground', 'femal', 'entrepreneur', 'joann', 'gray', 'women', 'scienc', 'technolog', 'gain', 'higher', 'profil', 'australia', 'entrepreneur', 'say', 'kay']\n",
            "Lemmatized: ['busi', 'leader', 'kay', 'koplovitz', 'forg', 'grind', 'femal', 'entrepreneur', 'joann', 'gray', 'women', 'scienc', 'technolog', 'gain', 'higher', 'profil', 'australia', 'entrepreneur', 'say', 'kay']\n"
          ],
          "name": "stdout"
        }
      ]
    },
    {
      "cell_type": "code",
      "metadata": {
        "colab_type": "code",
        "id": "923Sah4oWKL7",
        "colab": {}
      },
      "source": [
        "#clean_word = [word.lower() for word in lm_word]\n",
        "#print(clean_word[:100])"
      ],
      "execution_count": 0,
      "outputs": []
    },
    {
      "cell_type": "markdown",
      "metadata": {
        "colab_type": "text",
        "id": "WJc8juPOC7pK"
      },
      "source": [
        "### 3.19 Frequency Distribution (after transformation)\n",
        "The graph below shows the top 20 most common words found in the corpus. Noticed that the words shown are keywords that can provide some insights from the documents. The top five (5) topics are limit, service, business, audit and global."
      ]
    },
    {
      "cell_type": "code",
      "metadata": {
        "colab_type": "code",
        "id": "2icg2jiDWKL9",
        "outputId": "bd1758c3-1211-44de-91ec-b127105af5a1",
        "colab": {
          "base_uri": "https://localhost:8080/",
          "height": 342
        }
      },
      "source": [
        "fdist = FreqDist(clean_word)\n",
        "print(fdist)\n",
        "fdist.most_common(20)\n",
        "\n",
        "import matplotlib.pyplot as plt\n",
        "fdist.plot(20,cumulative=False)\n",
        "plt.show()"
      ],
      "execution_count": 15,
      "outputs": [
        {
          "output_type": "stream",
          "text": [
            "<FreqDist with 4194 samples and 33517 outcomes>\n"
          ],
          "name": "stdout"
        },
        {
          "output_type": "display_data",
          "data": {
            "image/png": "[encoded data removed]",
            "text/plain": [
              "<Figure size 432x288 with 1 Axes>"
            ]
          },
          "metadata": {
            "tags": []
          }
        }
      ]
    },
    {
      "cell_type": "markdown",
      "metadata": {
        "colab_type": "text",
        "id": "prAASls-FDGt"
      },
      "source": [
        "### 3.20 Plotting the word distribution using wordcloud.\n",
        "Wordcloud is just another way of visualising the top five(5) topics from the EY documents."
      ]
    },
    {
      "cell_type": "code",
      "metadata": {
        "colab_type": "code",
        "id": "cTtA2FR2WKL_",
        "outputId": "488927e1-4782-44b0-ecde-300efa1f71e5",
        "colab": {
          "base_uri": "https://localhost:8080/",
          "height": 253
        }
      },
      "source": [
        "from nltk.corpus import webtext\n",
        "from nltk.probability import FreqDist\n",
        "from wordcloud import WordCloud\n",
        "import matplotlib.pyplot as plt\n",
        "nltk.download('webtext')\n",
        " \n",
        "data_analysis = nltk.FreqDist(clean_word)\n",
        " \n",
        "filter_words = dict([(m, n) for m, n in data_analysis.items() if len(m) > 1])\n",
        " \n",
        "wcloud = WordCloud().generate_from_frequencies(filter_words)\n",
        " \n",
        "# Plotting the wordcloud\n",
        "plt.imshow(wcloud, interpolation=\"bilinear\")\n",
        " \n",
        "plt.axis(\"on\")\n",
        "(-0.5, 699.5, 499.5, -0.5)\n",
        "plt.show()"
      ],
      "execution_count": 16,
      "outputs": [
        {
          "output_type": "stream",
          "text": [
            "[nltk_data] Downloading package webtext to /root/nltk_data...\n",
            "[nltk_data]   Unzipping corpora/webtext.zip.\n"
          ],
          "name": "stdout"
        },
        {
          "output_type": "display_data",
          "data": {
            "image/png": "[encoded data removed]",
            "text/plain": [
              "<Figure size 432x288 with 1 Axes>"
            ]
          },
          "metadata": {
            "tags": []
          }
        }
      ]
    },
    {
      "cell_type": "markdown",
      "metadata": {
        "colab_type": "text",
        "id": "NuwJiYPsYWuE"
      },
      "source": [
        "## 4.0 Topic Modelling using Gensim\n",
        "Topic Modeling is a technique to extract the hidden topics from large volumes of text. Latent Dirichlet Allocation(LDA) is a popular algorithm for topic modeling with excellent implementations in the Python’s Gensim package.\n",
        "\n",
        "This section illustrates how to use Latent Dirichlet Allocation (LDA) from Gensim package to derive insights from the EY documents. The LDA algorithm considers each document as a collection of topics in a certain proportion. And each topic as a collection of keywords, again, in a certain proportion.\n",
        "\n",
        "Once you provide the algorithm with the number of topics, all it does is rearrange the topics distribution within the documents and keywords distribution within the topics to obtain a good composition of topic-keywords distribution."
      ]
    },
    {
      "cell_type": "markdown",
      "metadata": {
        "colab_type": "text",
        "id": "t9lF2s3sLvEJ"
      },
      "source": [
        "### 4.11 Tokenization into sentences and words."
      ]
    },
    {
      "cell_type": "code",
      "metadata": {
        "colab_type": "code",
        "id": "R_Ga5yjdWKLn",
        "outputId": "c1c6f8b0-cbbd-48c1-b089-c83635d797f9",
        "colab": {
          "base_uri": "https://localhost:8080/",
          "height": 54
        }
      },
      "source": [
        "# Tokenized the text into sentences. The sents class in NLTK will create a list of a collection of sentences for each document.\n",
        "\n",
        "tokenized_sent = corpus.sents()\n",
        "print(tokenized_sent[0])"
      ],
      "execution_count": 17,
      "outputs": [
        {
          "output_type": "stream",
          "text": [
            "['US', 'business', 'leader', 'Kay', 'Koplovitz', 'forges', 'new', 'ground', 'for', 'female', 'entrepreneurs', 'by', 'Joanne', 'Gray', 'Women', 'in', 'science', 'and', 'technology', 'are', 'gaining', 'a', 'higher', 'profile', 'in', 'Australia', 'as', 'entrepreneurs', ',', 'says', 'Kay', 'Koplovitz', ',', 'a', 'leading', 'successful', 'businesswoman', 'in', 'the', 'US', 'and', 'founder', 'of', 'USA', 'Network', '.']\n"
          ],
          "name": "stdout"
        }
      ]
    },
    {
      "cell_type": "code",
      "metadata": {
        "colab_type": "code",
        "id": "i1R_gMn58g6o",
        "outputId": "92a7def3-84d2-4c29-aabb-c8e939608cea",
        "colab": {
          "base_uri": "https://localhost:8080/",
          "height": 54
        }
      },
      "source": [
        "# The logic below will create a list of words from the list of collection of sentences.\n",
        "\n",
        "def sent_to_words(sentences):\n",
        "    for sentence in sentences:\n",
        "        #print(sentence)\n",
        "        yield(gensim.utils.simple_preprocess(str(sentence), deacc=True))# deacc=True removes punctuations\n",
        "\n",
        "tokenized_words = list(sent_to_words(tokenized_sent))\n",
        "\n",
        "print(tokenized_words[:2])"
      ],
      "execution_count": 19,
      "outputs": [
        {
          "output_type": "stream",
          "text": [
            "[['us', 'business', 'leader', 'kay', 'koplovitz', 'forges', 'new', 'ground', 'for', 'female', 'entrepreneurs', 'by', 'joanne', 'gray', 'women', 'in', 'science', 'and', 'technology', 'are', 'gaining', 'higher', 'profile', 'in', 'australia', 'as', 'entrepreneurs', 'says', 'kay', 'koplovitz', 'leading', 'successful', 'businesswoman', 'in', 'the', 'us', 'and', 'founder', 'of', 'usa', 'network'], ['her', 'successful', 'incubator', 'springboard', 'enterprises', 'launched', 'in', 'australia', 'five', 'years', 'ago', 'trains', 'women', 'founders', 'with', 'potentially', 'high', 'growth', 'businesses', 'to', 'raise', 'venture', 'capital', 'with', 'week', 'course', 'and', 'two', 'day', 'boot', 'camp', 'which', 'runs', 'this', 'week']]\n"
          ],
          "name": "stdout"
        }
      ]
    },
    {
      "cell_type": "markdown",
      "metadata": {
        "colab_type": "text",
        "id": "Q8NKZzEIL9s6"
      },
      "source": [
        "### 4.12 Define Bigrams and Trigrams\n",
        "Bigrams are two words frequently occurring together in the document. Trigrams are 3 words frequently occurring.\n",
        "\n",
        "Gensim’s Phrases model can build and implement the bigrams, trigrams, quadgrams and more. The two important arguments to Phrases are min_count and threshold. The higher the values of these param, the harder it is for words to be combined to bigrams."
      ]
    },
    {
      "cell_type": "code",
      "metadata": {
        "colab_type": "code",
        "id": "ckonue-E9Z6b",
        "outputId": "c502a3b8-9b3f-4f4e-a002-bf66d9175f90",
        "colab": {
          "base_uri": "https://localhost:8080/",
          "height": 68
        }
      },
      "source": [
        "# Build the bigram and trigram models\n",
        "bigram = gensim.models.Phrases(tokenized_words, min_count=5, threshold=30) # higher threshold fewer phrases.\n",
        "trigram = gensim.models.Phrases(bigram[tokenized_words], threshold=30)  \n",
        "\n",
        "# Faster way to get a sentence clubbed as a trigram/bigram\n",
        "bigram_mod = gensim.models.phrases.Phraser(bigram)\n",
        "trigram_mod = gensim.models.phrases.Phraser(trigram)\n",
        "\n",
        "# See trigram example\n",
        "print(trigram_mod[bigram_mod[tokenized_words[2]]])"
      ],
      "execution_count": 20,
      "outputs": [
        {
          "output_type": "stream",
          "text": [
            "/usr/local/lib/python3.6/dist-packages/gensim/models/phrases.py:598: UserWarning: For a faster implementation, use the gensim.models.phrases.Phraser class\n",
            "  warnings.warn(\"For a faster implementation, use the gensim.models.phrases.Phraser class\")\n"
          ],
          "name": "stderr"
        },
        {
          "output_type": "stream",
          "text": [
            "['women', 'are', 'coming', 'up', 'with', 'enormously', 'important', 'disruptive', 'technologies', 'in', 'science', 'she_said']\n"
          ],
          "name": "stdout"
        }
      ]
    },
    {
      "cell_type": "markdown",
      "metadata": {
        "colab_type": "text",
        "id": "jKWKnSl7NIbu"
      },
      "source": [
        "### 4.13 Remove common english stopwords, make bigrams and lemmatize.\n",
        "Remove the common english stopwords to remove the noise from the data. Add any additional stopwords in your list as required."
      ]
    },
    {
      "cell_type": "code",
      "metadata": {
        "colab_type": "code",
        "id": "Q8OB2pUWWKLv",
        "colab": {}
      },
      "source": [
        "from nltk.corpus import stopwords\n",
        "stop_words=stopwords.words(\"english\")\n",
        "\n",
        "stop_words.extend([\"can\", \"say\",\"one\",\"way\",\"use\",\"here\",\"I\",\n",
        "                 \"also\",\"howev\",\"tell\",\"will\",\"help\",\"also\",\n",
        "                 \"much\",\"need\",\"take\",\"tend\",\"even\",\"us\",\"US\"\n",
        "                 \"like\",\"particular\",\"rather\",\"said\",\"EY\",\"ey\"\n",
        "                 \"get\",\"well\",\"make\",\"ask\",\"come\",\"end\",\n",
        "                 \"first\",\"two\",\"help\",\"often\",\"may\",\n",
        "                 \"might\",\"see\",\"someth\",\"thing\",\"point\",\n",
        "                 \"post\",\"look\",\"right\",\"now\",\"think\",\"'ve \",\n",
        "                 \"'re \",\"anoth\",\"put\",\"set\",\"new\",\"good\",\n",
        "                 \"want\",\"sure\",\"kind\",\"larg\",\"yes,\",\"day\",\"etc\",\n",
        "                 \"quit\",\"sinc\",\"attempt\",\"lack\",\"seen\",\"awar\",\n",
        "                 \"littl\",\"ever\",\"moreov\",\"though\",\"found\",\"abl\",\n",
        "                 \"enough\",\"far\",\"earli\",\"away\",\"achiev\",\"draw\",\n",
        "                 \"last\",\"never\",\"brief\",\"bit\",\"entir\",\"brief\",\n",
        "                 \"great\",\"lot\",\"include\",\"provide\",\"year\",\"new\",\"help\",\n",
        "                 \"includ\",\"one\",\"require\",\"use\",\"make\",\"better\",\n",
        "                 \"way\",\"like\",\"across\",\"valu\",\"provide\",\"young\",\"continu\",\n",
        "                 \"tropfest\",\"ernst\",\"four\",\"limit\",\"and\",\"however\", \"\\x92\", \"\\x93\",\"\\x94\",\n",
        "                 \"\\x95\",\"\\x96\",\"\\x97\",\"\\x98\",\"\\x99\",\"the\",\"in\",\"because\",\"includ\",\"this\",\"those\",\"where\",\"ey\",\"aaditya\",\n",
        "                  \"includ\",\"go\",\"get\",\"many\",\"less\",\"year\",\"number\",\"give\",\"include\",\"return\",\n",
        "                  \"australia\",\"china\",\"give\"])"
      ],
      "execution_count": 0,
      "outputs": []
    },
    {
      "cell_type": "code",
      "metadata": {
        "colab_type": "code",
        "id": "AzJLBf4Q9uXI",
        "colab": {}
      },
      "source": [
        "# Define functions for stopwords, bigrams, trigrams and lemmatization\n",
        "def remove_stopwords(texts):\n",
        "    return [[word for word in simple_preprocess(str(doc)) if word not in stop_words] for doc in texts]\n",
        "\n",
        "def make_bigrams(texts):\n",
        "    return [bigram_mod[doc] for doc in texts]\n",
        "\n",
        "def make_trigrams(texts):\n",
        "    return [trigram_mod[bigram_mod[doc]] for doc in texts]\n",
        "\n",
        "def lemmatization(texts, allowed_postags=['NOUN', 'ADJ', 'VERB', 'ADV']):\n",
        "    \"\"\"https://spacy.io/api/annotation\"\"\"\n",
        "    texts_out = []\n",
        "    for sent in texts:\n",
        "        doc = nlp(\" \".join(sent)) \n",
        "        texts_out.append([token.lemma_ for token in doc if token.pos_ in allowed_postags])\n",
        "    return texts_out"
      ],
      "execution_count": 0,
      "outputs": []
    },
    {
      "cell_type": "code",
      "metadata": {
        "colab_type": "code",
        "id": "OqWzJKNg-JlD",
        "outputId": "c09e7c70-b7bf-49dc-ee97-214f09706082",
        "colab": {
          "base_uri": "https://localhost:8080/",
          "height": 54
        }
      },
      "source": [
        "# Remove Stop Words\n",
        "tokenized_words_nostops = remove_stopwords(tokenized_words)\n",
        "\n",
        "# Form Bigrams\n",
        "tokenized_words_bigrams = make_bigrams(tokenized_words_nostops)\n",
        "\n",
        "# Initialize spacy 'en' model, keeping only tagger component (for efficiency)\n",
        "# python3 -m spacy download en\n",
        "nlp = spacy.load('en', disable=['parser', 'ner'])\n",
        "\n",
        "# Do lemmatization keeping only noun, adj, vb, adv\n",
        "clean_data = lemmatization(tokenized_words_bigrams, allowed_postags=['NOUN', 'ADJ', 'VERB', 'ADV'])\n",
        "\n",
        "print(clean_data[:1])\n"
      ],
      "execution_count": 23,
      "outputs": [
        {
          "output_type": "stream",
          "text": [
            "[['business', 'leader', 'kay', 'koplovitz', 'forge', 'ground', 'female', 'entrepreneur', 'gray', 'woman', 'science', 'technology', 'gain', 'high', 'profile', 'entrepreneur', 'say', 'kay', 'koplovitz', 'lead', 'successful', 'businesswoman', 'founder', 'usa', 'network']]\n"
          ],
          "name": "stdout"
        }
      ]
    },
    {
      "cell_type": "markdown",
      "metadata": {
        "colab_type": "text",
        "id": "wJyzlUULPT7c"
      },
      "source": [
        "### 4.14 Create Dictionary and Corpus for LDA model\n",
        "The two main inputs to the LDA topic model are the dictionary(id2word) and the corpus. Gensim creates a unique id for each word in the document. The produced corpus is a mapping of (word_id, word_frequency)."
      ]
    },
    {
      "cell_type": "code",
      "metadata": {
        "colab_type": "code",
        "id": "s1pNzHWJ-aXM",
        "outputId": "631c53b1-fcc8-4011-b455-0d99c08f2e9e",
        "colab": {
          "base_uri": "https://localhost:8080/",
          "height": 71
        }
      },
      "source": [
        "# Create Dictionary\n",
        "id2word = corpora.Dictionary(clean_data)\n",
        "\n",
        "# Create Corpus\n",
        "texts = clean_data\n",
        "\n",
        "# Term Document Frequency\n",
        "corpus = [id2word.doc2bow(text) for text in texts]\n",
        "\n",
        "# Shows the mapping of (word_id, word_frequency).\n",
        "print(corpus[:3])\n",
        "print(len(corpus))"
      ],
      "execution_count": 24,
      "outputs": [
        {
          "output_type": "stream",
          "text": [
            "[[(0, 1), (1, 1), (2, 2), (3, 1), (4, 1), (5, 1), (6, 1), (7, 1), (8, 1), (9, 1), (10, 2), (11, 2), (12, 1), (13, 1), (14, 1), (15, 1), (16, 1), (17, 1), (18, 1), (19, 1), (20, 1), (21, 1)], [(0, 1), (5, 1), (9, 1), (18, 1), (21, 1), (22, 1), (23, 1), (24, 1), (25, 1), (26, 1), (27, 1), (28, 1), (29, 1), (30, 1), (31, 1), (32, 1), (33, 1), (34, 1), (35, 1), (36, 2)], [(17, 1), (19, 1), (21, 1), (37, 1), (38, 1), (39, 1), (40, 1)]]\n",
            "2337\n"
          ],
          "name": "stdout"
        }
      ]
    },
    {
      "cell_type": "code",
      "metadata": {
        "colab_type": "code",
        "id": "GDFGaAOr-fGd",
        "outputId": "3ae16647-5ed6-49e0-c430-ab588db316af",
        "colab": {
          "base_uri": "https://localhost:8080/",
          "height": 408
        }
      },
      "source": [
        "# Print what word corresponds to a given id.\n",
        "print(id2word[1])\n",
        "\n",
        "# Human readable format of corpus (term-frequency)\n",
        "[[(id2word[id], freq) for id, freq in cp] for cp in corpus[:1]]"
      ],
      "execution_count": 25,
      "outputs": [
        {
          "output_type": "stream",
          "text": [
            "businesswoman\n"
          ],
          "name": "stdout"
        },
        {
          "output_type": "execute_result",
          "data": {
            "text/plain": [
              "[[('business', 1),\n",
              "  ('businesswoman', 1),\n",
              "  ('entrepreneur', 2),\n",
              "  ('female', 1),\n",
              "  ('forge', 1),\n",
              "  ('founder', 1),\n",
              "  ('gain', 1),\n",
              "  ('gray', 1),\n",
              "  ('ground', 1),\n",
              "  ('high', 1),\n",
              "  ('kay', 2),\n",
              "  ('koplovitz', 2),\n",
              "  ('lead', 1),\n",
              "  ('leader', 1),\n",
              "  ('network', 1),\n",
              "  ('profile', 1),\n",
              "  ('say', 1),\n",
              "  ('science', 1),\n",
              "  ('successful', 1),\n",
              "  ('technology', 1),\n",
              "  ('usa', 1),\n",
              "  ('woman', 1)]]"
            ]
          },
          "metadata": {
            "tags": []
          },
          "execution_count": 25
        }
      ]
    },
    {
      "cell_type": "markdown",
      "metadata": {
        "colab_type": "text",
        "id": "okU60jt9RmWO"
      },
      "source": [
        "### 4.15 Build the Topic Model using LDA.\n",
        "The corpus and dictionary are now ready to train the LDA model. In addition, the following needs to be provided;\n",
        "* number of topics\n",
        "* random state - either a randomState object or a seed to generate one. Useful for reproducibility.\n",
        "* alpha and eta hyperparameters for sparsity of the topics (both defaults to 1.0/num_topics prior )\n",
        "* chunksize - the number of documents to be used in each training chunk\n",
        "* update_every - determines how often the model parameters should be updated \n",
        "* passes - the total number of training passes."
      ]
    },
    {
      "cell_type": "code",
      "metadata": {
        "colab_type": "code",
        "id": "jRX6eHXh-3D1",
        "colab": {}
      },
      "source": [
        "# Build LDA model\n",
        "lda_model = gensim.models.ldamodel.LdaModel(corpus=corpus,\n",
        "                                           id2word=id2word,\n",
        "                                           num_topics=10, \n",
        "                                           random_state=100, \n",
        "                                           update_every=1,\n",
        "                                           chunksize=15,\n",
        "                                           passes=30,\n",
        "                                           alpha='auto',\n",
        "                                           per_word_topics=True)"
      ],
      "execution_count": 0,
      "outputs": []
    },
    {
      "cell_type": "markdown",
      "metadata": {
        "colab_type": "text",
        "id": "wlTdrpk-WJVS"
      },
      "source": [
        "### 4.16 View the keywords in the top 10 topics\n",
        "Below shows the top 6 topics where each topic is a combination of keywords and each keyword contributes a certain weightage to the topic.\n",
        "\n",
        "lda_model.print_topics() is used to show the keywords for each topic and the weightage(importance) of each keyword.\n",
        "\n",
        "Example:\n",
        "Topic 1 - shows that the keywords to this topic are business, opportunity, experience, company, include, community, apply, australia, issue and datum.\n",
        "The word \"business\" is the most important word with the highest weight of 0.062 among the keywords."
      ]
    },
    {
      "cell_type": "code",
      "metadata": {
        "colab_type": "code",
        "id": "BfI23JNZ-90A",
        "outputId": "8b4468d7-6986-4857-d5fb-a41eb9308733",
        "colab": {
          "base_uri": "https://localhost:8080/",
          "height": 697
        }
      },
      "source": [
        "# Print the Keyword in the 10 topics\n",
        "pprint(lda_model.print_topics())\n",
        "doc_lda = lda_model[corpus]"
      ],
      "execution_count": 27,
      "outputs": [
        {
          "output_type": "stream",
          "text": [
            "[(0,\n",
            "  '0.042*\"engineering\" + 0.039*\"world\" + 0.036*\"partner\" + '\n",
            "  '0.026*\"sustainability\" + 0.024*\"waste\" + 0.023*\"rank\" + 0.021*\"practice\" + '\n",
            "  '0.018*\"science\" + 0.017*\"mathematic\" + 0.014*\"corporation\"'),\n",
            " (1,\n",
            "  '0.057*\"program\" + 0.049*\"firm\" + 0.045*\"work\" + 0.040*\"service\" + '\n",
            "  '0.036*\"idea\" + 0.032*\"big\" + 0.029*\"time\" + 0.026*\"people\" + 0.020*\"global\" '\n",
            "  '+ 0.019*\"develop\"'),\n",
            " (2,\n",
            "  '0.042*\"win\" + 0.029*\"client\" + 0.024*\"professional\" + 0.022*\"career\" + '\n",
            "  '0.019*\"demonstrate\" + 0.019*\"step\" + 0.019*\"purpose\" + 0.017*\"discipline\" + '\n",
            "  '0.015*\"international\" + 0.014*\"solve\"'),\n",
            " (3,\n",
            "  '0.069*\"student\" + 0.040*\"university\" + 0.034*\"project\" + 0.025*\"research\" + '\n",
            "  '0.023*\"experience\" + 0.020*\"create\" + 0.017*\"technology\" + 0.014*\"support\" '\n",
            "  '+ 0.013*\"panel\" + 0.012*\"role\"'),\n",
            " (4,\n",
            "  '0.036*\"follow\" + 0.028*\"accounting\" + 0.028*\"week\" + 0.021*\"base\" + '\n",
            "  '0.021*\"consider\" + 0.020*\"information\" + 0.019*\"price\" + 0.017*\"offer\" + '\n",
            "  '0.016*\"relationship\" + 0.015*\"interest\"'),\n",
            " (5,\n",
            "  '0.092*\"business\" + 0.053*\"scholarship\" + 0.029*\"award\" + 0.020*\"lead\" + '\n",
            "  '0.018*\"employer\" + 0.016*\"sponsor\" + 0.016*\"show\" + 0.015*\"leader\" + '\n",
            "  '0.013*\"entrepreneur\" + 0.011*\"establish\"'),\n",
            " (6,\n",
            "  '0.064*\"team\" + 0.031*\"encourage\" + 0.026*\"benefit\" + 0.020*\"least\" + '\n",
            "  '0.020*\"apply\" + 0.019*\"large\" + 0.018*\"value\" + 0.017*\"similar\" + '\n",
            "  '0.015*\"member\" + 0.014*\"committee\"'),\n",
            " (7,\n",
            "  '0.062*\"organisation\" + 0.038*\"head\" + 0.028*\"report\" + 0.026*\"impact\" + '\n",
            "  '0.026*\"equipment\" + 0.023*\"must\" + 0.020*\"learn\" + 0.017*\"alliance\" + '\n",
            "  '0.016*\"month\" + 0.016*\"available\"'),\n",
            " (8,\n",
            "  '0.028*\"skill\" + 0.024*\"future\" + 0.023*\"provide\" + 0.022*\"event\" + '\n",
            "  '0.020*\"area\" + 0.020*\"build\" + 0.017*\"risk\" + 0.016*\"applicant\" + '\n",
            "  '0.015*\"list\" + 0.015*\"year\"'),\n",
            " (9,\n",
            "  '0.034*\"company\" + 0.034*\"financial\" + 0.029*\"opportunity\" + 0.019*\"audit\" + '\n",
            "  '0.019*\"problem\" + 0.018*\"include\" + 0.018*\"industry\" + 0.016*\"tax\" + '\n",
            "  '0.016*\"hold\" + 0.015*\"analytic\"')]\n"
          ],
          "name": "stdout"
        }
      ]
    },
    {
      "cell_type": "markdown",
      "metadata": {
        "colab_type": "text",
        "id": "YChZDDfUZl66"
      },
      "source": [
        "### 4.17 Compute Perplexity and Coherence Score\n",
        "Model perplexity and topic coherence provide a convenient measure to judge how good a given topic model is. I have tried different combinations and found that the highest coherence score that I can get is around 0.40."
      ]
    },
    {
      "cell_type": "code",
      "metadata": {
        "colab_type": "code",
        "id": "Ihk4OzdKApvf",
        "outputId": "dacf7d21-e400-47ad-bc95-8af32c450e1a",
        "scrolled": true,
        "colab": {
          "base_uri": "https://localhost:8080/",
          "height": 85
        }
      },
      "source": [
        "# Compute Perplexity\n",
        "print('\\nPerplexity: ', lda_model.log_perplexity(corpus))  # a measure of how good the model is. lower the better.\n",
        "\n",
        "# Compute Coherence Score\n",
        "coherence_model_lda = CoherenceModel(model=lda_model, texts=clean_data, dictionary=id2word, coherence='c_v')\n",
        "coherence_lda = coherence_model_lda.get_coherence()\n",
        "print('\\nCoherence Score: ', coherence_lda)"
      ],
      "execution_count": 28,
      "outputs": [
        {
          "output_type": "stream",
          "text": [
            "\n",
            "Perplexity:  -9.761178842152672\n",
            "\n",
            "Coherence Score:  0.46108675350301553\n"
          ],
          "name": "stdout"
        }
      ]
    },
    {
      "cell_type": "markdown",
      "metadata": {
        "colab_type": "text",
        "id": "I1Qkd1-2hGOV"
      },
      "source": [
        "### 4.18 Interactive visualisation of the topics.\n",
        "The topics from the EY documents were identified using LDA (Latent Dirichlet Allocation). The number of Topics was set to 10. The chart below shows the topic distribution across the entire Corpus. The most prevalent were topics two (2) and ten (10). Topic 2 is about program, firm, work, service and idea. Topic 10 is also about company, financial, opportunity, audit and problem. The rest of the topics are overlapping, which shows that these topics are interrelated."
      ]
    },
    {
      "cell_type": "code",
      "metadata": {
        "colab_type": "code",
        "id": "IKe4dlKkBYsy",
        "outputId": "cb03c913-8ddc-4c6c-c722-6c22184455cd",
        "colab": {
          "base_uri": "https://localhost:8080/",
          "height": 997
        }
      },
      "source": [
        "# Visualize the topics\n",
        "# Note gensim starts indexing at 0 and pyLDAvis starts at 1. Therefore, topic 10 in pyLDAvis corresponds to topic 9 in Gensim (4.16).\n",
        "\n",
        "pyLDAvis.enable_notebook()\n",
        "vis = pyLDAvis.gensim.prepare(lda_model, corpus, id2word, sort_topics=False)\n",
        "vis"
      ],
      "execution_count": 29,
      "outputs": [
        {
          "output_type": "stream",
          "text": [
            "/usr/local/lib/python3.6/dist-packages/pyLDAvis/_prepare.py:257: FutureWarning: Sorting because non-concatenation axis is not aligned. A future version\n",
            "of pandas will change to not sort by default.\n",
            "\n",
            "To accept the future behavior, pass 'sort=False'.\n",
            "\n",
            "To retain the current behavior and silence the warning, pass 'sort=True'.\n",
            "\n",
            "  return pd.concat([default_term_info] + list(topic_dfs))\n"
          ],
          "name": "stderr"
        },
        {
          "output_type": "execute_result",
          "data": {
            "text/html": [
              "\n",
              "<link rel=\"stylesheet\" type=\"text/css\" href=\"https://cdn.rawgit.com/bmabey/pyLDAvis/files/ldavis.v1.0.0.css\">\n",
              "\n",
              "\n",
              "<div id=\"ldavis_el1221398054185317204783138090\"></div>\n",
              "<script type=\"text/javascript\">\n",
              "\n",
              "var ldavis_el1221398054185317204783138090_data = {\"mdsDat\": {\"x\": [0.00824982109761745, -0.2560394164776699, 0.007896695916716509, 0.0022383782976453134, 0.007747963205488564, 0.0018608413800893517, 0.0012372680523871542, 0.008300419333724787, -0.004253052473585967, 0.2227610816675867], \"y\": [-0.053889748301906765, 0.19071004227722632, -0.03517357252948618, -0.10172847018600632, -0.03766044856011915, -0.0861808144442012, -0.03984658381972807, -0.032022152630114695, -0.030534696627250682, 0.22632644482158631], \"topics\": [1, 2, 3, 4, 5, 6, 7, 8, 9, 10], \"cluster\": [1, 1, 1, 1, 1, 1, 1, 1, 1, 1], \"Freq\": [7.854978084564209, 14.138171195983887, 8.542022705078125, 13.829665184020996, 6.4961395263671875, 10.938071250915527, 7.420166015625, 5.818282604217529, 10.456816673278809, 14.505683898925781]}, \"tinfo\": {\"Category\": [\"Default\", \"Default\", \"Default\", \"Default\", \"Default\", \"Default\", \"Default\", \"Default\", \"Default\", \"Default\", \"Default\", \"Default\", \"Default\", \"Default\", \"Default\", \"Default\", \"Default\", \"Default\", \"Default\", \"Default\", \"Default\", \"Default\", \"Default\", \"Default\", \"Default\", \"Default\", \"Default\", \"Default\", \"Default\", \"Default\", \"Topic1\", \"Topic1\", \"Topic1\", \"Topic1\", \"Topic1\", \"Topic1\", \"Topic1\", \"Topic1\", \"Topic1\", \"Topic1\", \"Topic1\", \"Topic1\", \"Topic1\", \"Topic1\", \"Topic1\", \"Topic1\", \"Topic1\", \"Topic1\", \"Topic1\", \"Topic1\", \"Topic1\", \"Topic1\", \"Topic1\", \"Topic1\", \"Topic1\", \"Topic1\", \"Topic1\", \"Topic1\", \"Topic1\", \"Topic1\", \"Topic1\", \"Topic1\", \"Topic1\", \"Topic1\", \"Topic2\", \"Topic2\", \"Topic2\", \"Topic2\", \"Topic2\", \"Topic2\", \"Topic2\", \"Topic2\", \"Topic2\", \"Topic2\", \"Topic2\", \"Topic2\", \"Topic2\", \"Topic2\", \"Topic2\", \"Topic2\", \"Topic2\", \"Topic2\", \"Topic2\", \"Topic2\", \"Topic2\", \"Topic2\", \"Topic2\", \"Topic2\", \"Topic2\", \"Topic2\", \"Topic2\", \"Topic2\", \"Topic2\", \"Topic2\", \"Topic2\", \"Topic3\", \"Topic3\", \"Topic3\", \"Topic3\", \"Topic3\", \"Topic3\", \"Topic3\", \"Topic3\", \"Topic3\", \"Topic3\", \"Topic3\", \"Topic3\", \"Topic3\", \"Topic3\", \"Topic3\", \"Topic3\", \"Topic3\", \"Topic3\", \"Topic3\", \"Topic3\", \"Topic3\", \"Topic3\", \"Topic3\", \"Topic3\", \"Topic3\", \"Topic3\", \"Topic3\", \"Topic3\", \"Topic3\", \"Topic3\", \"Topic3\", \"Topic4\", \"Topic4\", \"Topic4\", \"Topic4\", \"Topic4\", \"Topic4\", \"Topic4\", \"Topic4\", \"Topic4\", \"Topic4\", \"Topic4\", \"Topic4\", \"Topic4\", \"Topic4\", \"Topic4\", \"Topic4\", \"Topic4\", \"Topic4\", \"Topic4\", \"Topic4\", \"Topic4\", \"Topic4\", \"Topic4\", \"Topic4\", \"Topic4\", \"Topic4\", \"Topic4\", \"Topic4\", \"Topic4\", \"Topic4\", \"Topic4\", \"Topic4\", \"Topic4\", \"Topic5\", \"Topic5\", \"Topic5\", \"Topic5\", \"Topic5\", \"Topic5\", \"Topic5\", \"Topic5\", \"Topic5\", \"Topic5\", \"Topic5\", \"Topic5\", \"Topic5\", \"Topic5\", \"Topic5\", \"Topic5\", \"Topic5\", \"Topic5\", \"Topic5\", \"Topic5\", \"Topic5\", \"Topic5\", \"Topic5\", \"Topic5\", \"Topic5\", \"Topic5\", \"Topic5\", \"Topic5\", \"Topic5\", \"Topic5\", \"Topic5\", \"Topic5\", \"Topic6\", \"Topic6\", \"Topic6\", \"Topic6\", \"Topic6\", \"Topic6\", \"Topic6\", \"Topic6\", \"Topic6\", \"Topic6\", \"Topic6\", \"Topic6\", \"Topic6\", \"Topic6\", \"Topic6\", \"Topic6\", \"Topic6\", \"Topic6\", \"Topic6\", \"Topic6\", \"Topic6\", \"Topic6\", \"Topic6\", \"Topic6\", \"Topic6\", \"Topic6\", \"Topic6\", \"Topic6\", \"Topic6\", \"Topic6\", \"Topic6\", \"Topic7\", \"Topic7\", \"Topic7\", \"Topic7\", \"Topic7\", \"Topic7\", \"Topic7\", \"Topic7\", \"Topic7\", \"Topic7\", \"Topic7\", \"Topic7\", \"Topic7\", \"Topic7\", \"Topic7\", \"Topic7\", \"Topic7\", \"Topic7\", \"Topic7\", \"Topic7\", \"Topic7\", \"Topic7\", \"Topic7\", \"Topic7\", \"Topic7\", \"Topic7\", \"Topic7\", \"Topic7\", \"Topic7\", \"Topic7\", \"Topic7\", \"Topic7\", \"Topic7\", \"Topic8\", \"Topic8\", \"Topic8\", \"Topic8\", \"Topic8\", \"Topic8\", \"Topic8\", \"Topic8\", \"Topic8\", \"Topic8\", \"Topic8\", \"Topic8\", \"Topic8\", \"Topic8\", \"Topic8\", \"Topic8\", \"Topic8\", \"Topic8\", \"Topic8\", \"Topic8\", \"Topic8\", \"Topic8\", \"Topic8\", \"Topic8\", \"Topic8\", \"Topic8\", \"Topic8\", \"Topic8\", \"Topic8\", \"Topic8\", \"Topic8\", \"Topic8\", \"Topic8\", \"Topic9\", \"Topic9\", \"Topic9\", \"Topic9\", \"Topic9\", \"Topic9\", \"Topic9\", \"Topic9\", \"Topic9\", \"Topic9\", \"Topic9\", \"Topic9\", \"Topic9\", \"Topic9\", \"Topic9\", \"Topic9\", \"Topic9\", \"Topic9\", \"Topic9\", \"Topic9\", \"Topic9\", \"Topic9\", \"Topic9\", \"Topic9\", \"Topic9\", \"Topic9\", \"Topic9\", \"Topic9\", \"Topic9\", \"Topic9\", \"Topic9\", \"Topic9\", \"Topic10\", \"Topic10\", \"Topic10\", \"Topic10\", \"Topic10\", \"Topic10\", \"Topic10\", \"Topic10\", \"Topic10\", \"Topic10\", \"Topic10\", \"Topic10\", \"Topic10\", \"Topic10\", \"Topic10\", \"Topic10\", \"Topic10\", \"Topic10\", \"Topic10\", \"Topic10\", \"Topic10\", \"Topic10\", \"Topic10\", \"Topic10\", \"Topic10\", \"Topic10\", \"Topic10\", \"Topic10\", \"Topic10\", \"Topic10\"], \"Freq\": [298.0, 282.0, 238.0, 205.0, 173.0, 142.0, 188.0, 166.0, 162.0, 107.0, 150.0, 144.0, 144.0, 140.0, 106.0, 135.0, 99.0, 123.0, 123.0, 90.0, 83.0, 95.0, 108.0, 104.0, 86.0, 70.0, 65.0, 74.0, 69.0, 93.0, 90.07032012939453, 82.71143341064453, 59.450225830078125, 55.53922653198242, 52.29416275024414, 49.01494216918945, 42.514984130859375, 97.86979675292969, 39.16189193725586, 32.4997444152832, 30.809322357177734, 28.151592254638672, 30.311351776123047, 24.48328971862793, 24.235410690307617, 21.206966400146484, 19.368480682373047, 18.987815856933594, 22.82512855529785, 18.621849060058594, 18.992948532104492, 17.086057662963867, 15.744577407836914, 15.06084156036377, 14.930784225463867, 14.24416446685791, 13.80092716217041, 13.01063060760498, 12.659111022949219, 12.019440650939941, 27.534391403198242, 20.73142433166504, 18.730602264404297, 14.912924766540527, 237.2631072998047, 204.5368194580078, 187.49130249023438, 165.25062561035156, 149.40782165527344, 134.6112060546875, 122.3204345703125, 107.31163787841797, 81.98191833496094, 77.54027557373047, 49.67976760864258, 45.0214958190918, 44.84687042236328, 44.75407791137695, 43.94096755981445, 36.782588958740234, 32.76675033569336, 32.55873489379883, 30.29600715637207, 30.15422821044922, 29.711912155151367, 28.962980270385742, 28.886266708374023, 28.32402992248535, 27.56781578063965, 26.711196899414062, 24.87311363220215, 23.780532836914062, 23.88532257080078, 23.567171096801758, 55.62742614746094, 106.08855438232422, 73.76997375488281, 60.3951416015625, 55.87058639526367, 48.52256774902344, 47.8754997253418, 47.39402770996094, 42.220516204833984, 37.06269073486328, 35.08282470703125, 33.48137283325195, 33.31191635131836, 32.38493728637695, 31.18708610534668, 29.56203842163086, 29.97164535522461, 26.071346282958984, 25.396785736083984, 24.52787208557129, 23.204601287841797, 22.638992309570312, 23.306238174438477, 20.55377769470215, 18.093461990356445, 17.464815139770508, 16.15053367614746, 15.615412712097168, 14.740218162536621, 15.244702339172363, 13.986624717712402, 14.112811088562012, 281.365478515625, 161.703125, 139.52345275878906, 103.57405090332031, 92.27074432373047, 81.21668243408203, 69.32750701904297, 57.67411422729492, 50.95321273803711, 50.10089874267578, 53.257659912109375, 46.49055862426758, 45.0916633605957, 44.267642974853516, 43.58708572387695, 38.96335220336914, 35.45618438720703, 34.590171813964844, 32.67802810668945, 32.465667724609375, 31.08268165588379, 30.720535278320312, 30.551677703857422, 29.499095916748047, 28.875869750976562, 27.026567459106445, 27.410429000854492, 25.611831665039062, 25.301902770996094, 24.312910079956055, 29.761348724365234, 33.23094940185547, 29.75418472290039, 69.58452606201172, 54.10747146606445, 53.190494537353516, 40.34077453613281, 39.5048828125, 38.37165069580078, 36.433067321777344, 32.34373092651367, 30.2546443939209, 28.750932693481445, 27.833560943603516, 25.36081886291504, 24.76081657409668, 24.391809463500977, 24.191774368286133, 24.323802947998047, 22.514787673950195, 20.59918212890625, 15.713844299316406, 14.447669982910156, 16.953624725341797, 14.274009704589844, 14.12399673461914, 12.525191307067871, 12.644824028015137, 11.668952941894531, 11.425267219543457, 12.186100006103516, 10.890284538269043, 10.432393074035645, 20.394207000732422, 17.922611236572266, 297.9798278808594, 172.79446411132812, 94.94831848144531, 63.368167877197266, 56.658912658691406, 52.9483642578125, 52.10533905029297, 49.96548843383789, 41.27167892456055, 37.056392669677734, 35.894107818603516, 35.248348236083984, 35.04848098754883, 31.267250061035156, 30.909496307373047, 31.16114616394043, 27.54874038696289, 26.7685489654541, 26.014659881591797, 25.941814422607422, 25.66939353942871, 25.20008659362793, 25.098676681518555, 24.873605728149414, 24.650623321533203, 24.59047508239746, 24.559925079345703, 23.634891510009766, 22.618255615234375, 22.34619903564453, 24.338956832885742, 141.47967529296875, 69.05496215820312, 56.10164260864258, 44.528953552246094, 43.15269088745117, 40.67572784423828, 40.59531021118164, 33.39559555053711, 36.857173919677734, 30.91876983642578, 30.768938064575195, 30.5959529876709, 30.720462799072266, 27.737064361572266, 22.523359298706055, 20.748647689819336, 20.130971908569336, 19.996427536010742, 18.790802001953125, 17.89828872680664, 17.74513053894043, 15.57303524017334, 14.583918571472168, 13.23147964477539, 11.895166397094727, 11.71586799621582, 11.312088966369629, 10.936949729919434, 13.402774810791016, 10.18887710571289, 12.296693801879883, 22.467702865600586, 11.388548851013184, 106.38611602783203, 64.88848114013672, 48.73308181762695, 44.437583923339844, 39.80408477783203, 44.043643951416016, 34.459007263183594, 29.18958282470703, 28.232677459716797, 28.17304229736328, 25.70917320251465, 25.090641021728516, 23.719154357910156, 22.048419952392578, 20.7814884185791, 19.424734115600586, 18.997312545776367, 17.773447036743164, 17.143327713012695, 15.606023788452148, 14.909272193908691, 14.826302528381348, 14.707610130310059, 13.8867769241333, 13.074317932128906, 11.686348915100098, 8.46731185913086, 10.966426849365234, 7.743875980377197, 7.501758575439453, 11.914813041687012, 14.15974235534668, 13.226888656616211, 86.03823852539062, 73.85067749023438, 70.19994354248047, 68.11941528320312, 62.71369552612305, 61.61917495727539, 51.578426361083984, 47.10181427001953, 45.85808181762695, 40.9333610534668, 38.07811737060547, 36.8736686706543, 36.7545280456543, 34.97996139526367, 34.068634033203125, 34.12568283081055, 32.960479736328125, 31.516626358032227, 30.52588653564453, 30.040145874023438, 28.320322036743164, 28.64576530456543, 25.12818717956543, 23.898088455200195, 24.135400772094727, 23.05992889404297, 21.86876106262207, 21.697904586791992, 21.50247573852539, 21.05059814453125, 37.671958923339844, 48.658843994140625, 144.13119506835938, 143.95379638671875, 122.82906341552734, 81.48397827148438, 79.19187927246094, 79.65512084960938, 75.10504913330078, 68.97193145751953, 66.87708282470703, 66.00959777832031, 64.61817932128906, 60.918338775634766, 58.84254837036133, 51.24424743652344, 50.521461486816406, 47.16499328613281, 45.00943374633789, 44.12062072753906, 42.61832809448242, 42.01642990112305, 38.66451644897461, 35.82893753051758, 34.973846435546875, 33.96405029296875, 33.207115173339844, 31.875764846801758, 31.624160766601562, 31.424240112304688, 30.660612106323242, 28.245744705200195], \"Term\": [\"business\", \"student\", \"program\", \"firm\", \"scholarship\", \"team\", \"work\", \"service\", \"university\", \"organisation\", \"idea\", \"company\", \"financial\", \"project\", \"win\", \"big\", \"engineering\", \"time\", \"opportunity\", \"world\", \"partner\", \"award\", \"people\", \"research\", \"skill\", \"follow\", \"head\", \"client\", \"encourage\", \"experience\", \"world\", \"partner\", \"sustainability\", \"waste\", \"rank\", \"practice\", \"science\", \"engineering\", \"mathematic\", \"corporation\", \"make\", \"investment\", \"june\", \"leadership\", \"integrate\", \"subject\", \"melbourne\", \"commerce\", \"additional\", \"city\", \"body\", \"look\", \"manager\", \"strategic\", \"structure\", \"act\", \"line\", \"multinational\", \"partnership\", \"series\", \"bank\", \"eligible\", \"bachelor\", \"lehman\", \"program\", \"firm\", \"work\", \"service\", \"idea\", \"big\", \"time\", \"people\", \"global\", \"develop\", \"potential\", \"give\", \"judge\", \"uk\", \"organization\", \"professional_service\", \"challenge\", \"course\", \"complete\", \"get\", \"management\", \"take\", \"back\", \"name\", \"success\", \"model\", \"free\", \"face\", \"sign\", \"need\", \"application\", \"win\", \"client\", \"professional\", \"career\", \"demonstrate\", \"step\", \"purpose\", \"discipline\", \"international\", \"solve\", \"growth\", \"focus\", \"receive\", \"come\", \"accountant\", \"mentor\", \"process\", \"grow\", \"continue\", \"plan\", \"item\", \"regulator\", \"matter\", \"america\", \"engagement\", \"board\", \"marketing\", \"formal\", \"september\", \"outcome\", \"courage\", \"student\", \"university\", \"project\", \"research\", \"experience\", \"create\", \"technology\", \"support\", \"role\", \"competition\", \"panel\", \"staff\", \"employee\", \"real\", \"community\", \"school\", \"market\", \"social\", \"engage\", \"october\", \"survey\", \"money\", \"understand\", \"initiative\", \"undergraduate\", \"place\", \"workplace\", \"environmental\", \"start\", \"collaboration\", \"postgraduate\", \"survive\", \"bachelor\", \"follow\", \"accounting\", \"week\", \"base\", \"consider\", \"information\", \"price\", \"offer\", \"relationship\", \"interest\", \"account\", \"announce\", \"agree\", \"form\", \"revenue\", \"campus\", \"fund\", \"bring\", \"technique\", \"raise\", \"universum\", \"determine\", \"site\", \"already\", \"scheme\", \"child\", \"comprise\", \"limited\", \"think\", \"join\", \"fine\", \"kid\", \"business\", \"scholarship\", \"award\", \"lead\", \"employer\", \"sponsor\", \"show\", \"leader\", \"entrepreneur\", \"establish\", \"good\", \"high\", \"participant\", \"help\", \"run\", \"equality\", \"office\", \"woman\", \"gain\", \"network\", \"building\", \"working_world\", \"degree\", \"co\", \"customer\", \"corporate\", \"valuable\", \"campaign\", \"auditor\", \"expect\", \"note\", \"team\", \"encourage\", \"benefit\", \"least\", \"apply\", \"large\", \"value\", \"member\", \"similar\", \"committee\", \"hope\", \"solution\", \"rule\", \"computer\", \"collaborate\", \"fail\", \"increasingly\", \"question\", \"cost\", \"reach\", \"personal\", \"important\", \"select\", \"effort\", \"thing\", \"unique\", \"thank\", \"believe\", \"representative\", \"past\", \"semester\", \"bachelor\", \"selection\", \"organisation\", \"head\", \"report\", \"impact\", \"must\", \"equipment\", \"learn\", \"alliance\", \"month\", \"available\", \"strategy\", \"currently\", \"claim\", \"education\", \"fraud\", \"everyone\", \"describe\", \"member_firm\", \"assist\", \"perform\", \"range\", \"digital\", \"actual\", \"allow\", \"operation\", \"clear\", \"hour\", \"consultation\", \"fitness\", \"south\", \"document\", \"detect\", \"data_analytics\", \"skill\", \"future\", \"provide\", \"event\", \"area\", \"build\", \"risk\", \"list\", \"year\", \"great\", \"development\", \"standard\", \"environment\", \"early\", \"part\", \"host\", \"case\", \"level\", \"brand\", \"present\", \"quality\", \"japan\", \"volunteer\", \"country\", \"field\", \"achieve\", \"commitment\", \"fall\", \"short\", \"addition\", \"agreement\", \"applicant\", \"company\", \"financial\", \"opportunity\", \"audit\", \"include\", \"problem\", \"industry\", \"tax\", \"hold\", \"analytic\", \"study\", \"issue\", \"period\", \"top\", \"australian\", \"datum\", \"would\", \"mean\", \"date\", \"national\", \"require\", \"become\", \"address\", \"life\", \"sustainable\", \"pay\", \"involve\", \"key\", \"close\", \"government\"], \"Total\": [298.0, 282.0, 238.0, 205.0, 173.0, 142.0, 188.0, 166.0, 162.0, 107.0, 150.0, 144.0, 144.0, 140.0, 106.0, 135.0, 99.0, 123.0, 123.0, 90.0, 83.0, 95.0, 108.0, 104.0, 86.0, 70.0, 65.0, 74.0, 69.0, 93.0, 90.84114074707031, 83.4822998046875, 60.22158432006836, 56.31926727294922, 53.065486907958984, 49.78617477416992, 43.2865104675293, 99.73045349121094, 39.979957580566406, 33.27067184448242, 31.580121994018555, 28.922901153564453, 31.173921585083008, 25.254228591918945, 25.00680923461914, 21.97901725769043, 20.145029067993164, 19.76426887512207, 23.7657470703125, 19.39468002319336, 19.78479766845703, 17.857038497924805, 16.51548194885254, 15.831645965576172, 15.701820373535156, 15.015737533569336, 14.571828842163086, 13.799089431762695, 13.429920196533203, 12.80148696899414, 29.53399658203125, 22.98318862915039, 139.36827087402344, 51.1276741027832, 238.03439331054688, 205.30799865722656, 188.26243591308594, 166.02195739746094, 150.1795196533203, 135.38246154785156, 123.0916519165039, 108.08271789550781, 82.75300598144531, 78.3115005493164, 50.45101547241211, 45.79296112060547, 45.62153244018555, 45.528873443603516, 44.71199417114258, 37.55392837524414, 33.53788375854492, 33.33041763305664, 31.06845474243164, 30.925329208374023, 30.483428955078125, 29.734098434448242, 29.658409118652344, 29.100496292114258, 28.339202880859375, 27.4823055267334, 25.64570426940918, 24.552093505859375, 24.66436767578125, 24.338613510131836, 71.43550109863281, 106.89457702636719, 74.5353775024414, 61.16070556640625, 56.63614273071289, 49.288997650146484, 48.641414642333984, 48.15949630737305, 43.009639739990234, 37.82848358154297, 35.848838806152344, 34.24687957763672, 34.077388763427734, 33.15048599243164, 31.95256805419922, 30.32876968383789, 30.788818359375, 26.83679962158203, 26.16214370727539, 25.293472290039062, 23.970003128051758, 23.41151237487793, 24.11504364013672, 21.31946563720703, 18.85887336730957, 18.23082160949707, 16.915956497192383, 16.381160736083984, 15.505834579467773, 16.071733474731445, 14.752433776855469, 14.888937950134277, 282.1415710449219, 162.47909545898438, 140.3266143798828, 104.35005950927734, 93.046630859375, 81.99241638183594, 70.10337829589844, 58.44975662231445, 51.72896957397461, 50.88139343261719, 54.119361877441406, 47.26677322387695, 45.86726760864258, 45.04395294189453, 44.36274337768555, 39.73928451538086, 36.231849670410156, 35.36586380004883, 33.45367431640625, 33.247032165527344, 31.858707427978516, 31.496376037597656, 31.327415466308594, 30.274864196777344, 29.68463134765625, 27.802221298217773, 28.216588973999023, 26.391098022460938, 26.077665328979492, 25.089027404785156, 31.19742202758789, 35.57683563232422, 139.36827087402344, 70.3616714477539, 54.88496780395508, 53.96765899658203, 41.11759567260742, 40.285457611083984, 39.148929595947266, 37.21900939941406, 33.12063980102539, 31.03156852722168, 29.529247283935547, 28.61084747314453, 26.14375114440918, 25.53765106201172, 25.16876792907715, 24.968536376953125, 25.141101837158203, 23.29204559326172, 21.37605094909668, 16.510408401489258, 15.224601745605469, 17.868539810180664, 15.051763534545898, 14.902097702026367, 13.30307388305664, 13.447198867797852, 12.451033592224121, 12.202587127685547, 13.019390106201172, 11.666977882385254, 11.209152221679688, 22.040828704833984, 21.40733528137207, 298.75286865234375, 173.6287841796875, 95.72168731689453, 64.1410903930664, 57.432735443115234, 53.721885681152344, 52.878509521484375, 50.7384147644043, 42.044586181640625, 37.82955551147461, 36.66705322265625, 36.02127456665039, 35.84945297241211, 32.04008865356445, 31.682762145996094, 31.942235946655273, 28.321754455566406, 27.541362762451172, 26.788034439086914, 26.7147274017334, 26.44236946105957, 25.972984313964844, 25.878232955932617, 25.646860122680664, 25.423755645751953, 25.363420486450195, 25.333765029907227, 24.412817001342773, 23.392107009887695, 23.120603561401367, 27.24819564819336, 142.26368713378906, 69.83905029296875, 56.88562774658203, 45.3155517578125, 43.936737060546875, 41.45948791503906, 41.37905502319336, 34.17947769165039, 37.759437561035156, 31.706207275390625, 31.554384231567383, 31.379812240600586, 31.530729293823242, 28.52327537536621, 23.310659408569336, 21.53863525390625, 20.915355682373047, 20.780139923095703, 19.57471466064453, 18.68240737915039, 18.529037475585938, 16.356712341308594, 15.368437767028809, 14.015193939208984, 12.678983688354492, 12.500024795532227, 12.115499496459961, 11.72057056427002, 14.378081321716309, 10.974424362182617, 13.410325050354004, 139.36827087402344, 53.059688568115234, 107.17668151855469, 65.68058776855469, 49.52311706542969, 45.22770309448242, 40.594329833984375, 44.9245491027832, 35.24913787841797, 29.980052947998047, 29.022748947143555, 28.963247299194336, 26.49904441833496, 25.88125991821289, 24.509990692138672, 22.83839225769043, 21.62578010559082, 20.21569061279297, 19.78768539428711, 18.563364028930664, 17.933372497558594, 16.39751625061035, 15.700095176696777, 15.619566917419434, 15.498343467712402, 14.67666244506836, 13.865175247192383, 12.476417541503906, 9.257929801940918, 12.003961563110352, 8.541139602661133, 8.292732238769531, 13.19397258758545, 19.917011260986328, 48.009578704833984, 86.8033447265625, 74.61557006835938, 70.96493530273438, 68.88450622558594, 63.478790283203125, 62.38405227661133, 52.34364318847656, 47.86808776855469, 46.62299346923828, 41.69829559326172, 38.843055725097656, 37.63883972167969, 37.519683837890625, 35.74699401855469, 34.83348083496094, 34.89559555053711, 33.725868225097656, 32.28172302246094, 31.290790557861328, 30.8053035736084, 29.085233688354492, 29.43950080871582, 25.89301872253418, 24.662986755371094, 24.907936096191406, 23.824974060058594, 22.633739471435547, 22.462987899780273, 22.277362823486328, 21.81557273864746, 45.782073974609375, 82.22286224365234, 144.90451049804688, 144.72731018066406, 123.60257720947266, 82.2574234008789, 79.96527099609375, 80.44584655761719, 75.87863159179688, 69.74542236328125, 67.65091705322266, 66.7839584350586, 65.39186096191406, 61.691673278808594, 59.623016357421875, 52.01758575439453, 51.29508590698242, 47.93836975097656, 45.783164978027344, 44.895938873291016, 43.39189529418945, 42.79014205932617, 39.438533782958984, 36.60223388671875, 35.74728775024414, 34.73748779296875, 33.9804801940918, 32.64912033081055, 32.39787292480469, 32.19806671142578, 31.43545150756836, 29.019227981567383], \"loglift\": [30.0, 29.0, 28.0, 27.0, 26.0, 25.0, 24.0, 23.0, 22.0, 21.0, 20.0, 19.0, 18.0, 17.0, 16.0, 15.0, 14.0, 13.0, 12.0, 11.0, 10.0, 9.0, 8.0, 7.0, 6.0, 5.0, 4.0, 3.0, 2.0, 1.0, 2.5355000495910645, 2.5346999168395996, 2.531100034713745, 2.530100107192993, 2.529400110244751, 2.52839994430542, 2.5260000228881836, 2.5251998901367188, 2.5232999324798584, 2.5206000804901123, 2.5192999839782715, 2.5169999599456787, 2.5160000324249268, 2.513000011444092, 2.512700080871582, 2.5083000659942627, 2.504699945449829, 2.5039000511169434, 2.5035998821258545, 2.5034000873565674, 2.503200054168701, 2.4999001026153564, 2.4962000846862793, 2.4941000938415527, 2.4937000274658203, 2.491300106048584, 2.4897000789642334, 2.4851999282836914, 2.4848999977111816, 2.4809999465942383, 2.473900079727173, 2.4409000873565674, 0.5371000170707703, 1.311900019645691, 1.9529999494552612, 1.9524999856948853, 1.9522000551223755, 1.9515999555587769, 1.9510999917984009, 1.950600028038025, 1.9500000476837158, 1.9491000175476074, 1.9469000101089478, 1.9464000463485718, 1.9408999681472778, 1.9392999410629272, 1.9392000436782837, 1.9391000270843506, 1.9388999938964844, 1.9355000257492065, 1.9329999685287476, 1.9328999519348145, 1.9311000108718872, 1.930999994277954, 1.9306999444961548, 1.9299999475479126, 1.929900050163269, 1.9292000532150269, 1.9286999702453613, 1.9278000593185425, 1.9256999492645264, 1.924399971961975, 1.9242000579833984, 1.9241000413894653, 1.7062000036239624, 2.4526000022888184, 2.4498000144958496, 2.4475998878479004, 2.4465999603271484, 2.444499969482422, 2.4442999362945557, 2.444200038909912, 2.441699981689453, 2.43969988822937, 2.4386000633239746, 2.4375998973846436, 2.4375, 2.436800003051758, 2.4358999729156494, 2.4346001148223877, 2.433300018310547, 2.4312000274658203, 2.430500030517578, 2.4293999671936035, 2.4277000427246094, 2.4265999794006348, 2.426100015640259, 2.4235999584198, 2.4186999797821045, 2.4172000885009766, 2.4138998985290527, 2.4123001098632812, 2.4094998836517334, 2.4072999954223633, 2.406899929046631, 2.406599998474121, 1.975600004196167, 1.9736000299453735, 1.972599983215332, 1.970900058746338, 1.9700000286102295, 1.9687999486923218, 1.9672000408172607, 1.965000033378601, 1.9631999731063843, 1.9629000425338745, 1.9622999429702759, 1.9617999792099, 1.961300015449524, 1.9609999656677246, 1.9607000350952148, 1.9586000442504883, 1.9566999673843384, 1.9562000036239624, 1.9549000263214111, 1.9545999765396118, 1.9536999464035034, 1.9534000158309937, 1.9532999992370605, 1.9523999691009521, 1.950700044631958, 1.9500999450683594, 1.9493999481201172, 1.9484000205993652, 1.948199987411499, 1.9469000101089478, 1.9312000274658203, 1.910099983215332, 0.4341999888420105, 2.722899913787842, 2.7197000980377197, 2.7195000648498535, 2.714900016784668, 2.714400053024292, 2.713900089263916, 2.712599992752075, 2.710200071334839, 2.7086000442504883, 2.7072999477386475, 2.706399917602539, 2.7035999298095703, 2.7030999660491943, 2.7026000022888184, 2.702399969100952, 2.700900077819824, 2.700000047683716, 2.696899890899658, 2.684499979019165, 2.6816000938415527, 2.6814000606536865, 2.6809000968933105, 2.680299997329712, 2.6737000942230225, 2.6723999977111816, 2.669100046157837, 2.668100118637085, 2.667799949645996, 2.66510009765625, 2.662100076675415, 2.6563000679016113, 2.556299924850464, 2.2102999687194824, 2.2081000804901123, 2.2047998905181885, 2.2007999420166016, 2.199399948120117, 2.1984000205993652, 2.198199987411499, 2.1975998878479004, 2.1944000720977783, 2.1923000812530518, 2.1916000843048096, 2.191200017929077, 2.1902999877929688, 2.188499927520752, 2.188199996948242, 2.188199996948242, 2.1851999759674072, 2.184499979019165, 2.1835999488830566, 2.1835999488830566, 2.183300018310547, 2.1826999187469482, 2.182300090789795, 2.182300090789795, 2.181999921798706, 2.181999921798706, 2.1819000244140625, 2.180500030517578, 2.17930006980896, 2.1789000034332275, 2.0999999046325684, 2.595400094985962, 2.5896999835968018, 2.587100028991699, 2.5834999084472656, 2.5829999446868896, 2.581899881362915, 2.5817999839782715, 2.5778000354766846, 2.5768001079559326, 2.5757999420166016, 2.5757999420166016, 2.575700044631958, 2.574899911880493, 2.572999954223633, 2.5666000843048096, 2.5636000633239746, 2.562700033187866, 2.5625, 2.5601000785827637, 2.5580999851226807, 2.5576999187469482, 2.5518999099731445, 2.5485999584198, 2.5434000492095947, 2.5371999740600586, 2.5362000465393066, 2.532399892807007, 2.5318000316619873, 2.5306999683380127, 2.526700019836426, 2.5143001079559326, 0.7759000062942505, 1.0621999502182007, 2.8368000984191895, 2.8320000171661377, 2.8280999660491943, 2.8264999389648438, 2.82450008392334, 2.824399948120117, 2.821500062942505, 2.8173999786376953, 2.8166000843048096, 2.816499948501587, 2.8138999938964844, 2.8131000995635986, 2.8113999366760254, 2.809000015258789, 2.80430006980896, 2.80430006980896, 2.8034000396728516, 2.8006999492645264, 2.799099922180176, 2.7946999073028564, 2.7925000190734863, 2.7920000553131104, 2.791800022125244, 2.788800001144409, 2.785399913787842, 2.778700113296509, 2.7548999786376953, 2.7537999153137207, 2.7462000846862793, 2.7439000606536865, 2.7421998977661133, 2.503000020980835, 1.5549999475479126, 2.2490999698638916, 2.2476000785827637, 2.2471001148223877, 2.2467000484466553, 2.245800018310547, 2.2455999851226807, 2.2432000637054443, 2.24180006980896, 2.2414000034332275, 2.2393999099731445, 2.23799991607666, 2.2374000549316406, 2.237299919128418, 2.2362000942230225, 2.2356998920440674, 2.235599994659424, 2.234999895095825, 2.2339000701904297, 2.2332000732421875, 2.232800006866455, 2.231300115585327, 2.230600118637085, 2.2279000282287598, 2.2263998985290527, 2.2263998985290527, 2.2253000736236572, 2.2235000133514404, 2.223299980163574, 2.2225000858306885, 2.2221999168395996, 2.0629000663757324, 1.733299970626831, 1.9253000020980835, 1.9253000020980835, 1.924399971961975, 1.9212000370025635, 1.9208999872207642, 1.920799970626831, 1.9204000234603882, 1.9194999933242798, 1.919100046157837, 1.9190000295639038, 1.9186999797821045, 1.9179999828338623, 1.9175000190734863, 1.9156999588012695, 1.9154000282287598, 1.9143999814987183, 1.913599967956543, 1.9132000207901, 1.912600040435791, 1.9124000072479248, 1.9107999801635742, 1.9092999696731567, 1.9088000059127808, 1.9081000089645386, 1.9076000452041626, 1.9067000150680542, 1.906499981880188, 1.9062999486923218, 1.9056999683380127, 1.9035999774932861], \"logprob\": [30.0, 29.0, 28.0, 27.0, 26.0, 25.0, 24.0, 23.0, 22.0, 21.0, 20.0, 19.0, 18.0, 17.0, 16.0, 15.0, 14.0, 13.0, 12.0, 11.0, 10.0, 9.0, 8.0, 7.0, 6.0, 5.0, 4.0, 3.0, 2.0, 1.0, -3.250200033187866, -3.3355000019073486, -3.6656999588012695, -3.7337000370025635, -3.7939000129699707, -3.8587000370025635, -4.000999927520752, -3.1672000885009766, -4.083099842071533, -4.269599914550781, -4.322999954223633, -4.4131999015808105, -4.339300155639648, -4.552800178527832, -4.563000202178955, -4.696499824523926, -4.787199974060059, -4.807000160217285, -4.623000144958496, -4.826499938964844, -4.80679988861084, -4.912600040435791, -4.99429988861084, -5.038700103759766, -5.047399997711182, -5.0945000648498535, -5.126100063323975, -5.185100078582764, -5.212500095367432, -5.2642998695373535, -4.435400009155273, -4.719200134277344, -4.820700168609619, -5.048600196838379, -2.8694000244140625, -3.0178000926971436, -3.10479998588562, -3.231100082397461, -3.331899881362915, -3.436199903488159, -3.531899929046631, -3.6628000736236572, -3.9321000576019287, -3.987799882888794, -4.433000087738037, -4.531400203704834, -4.535299777984619, -4.537399768829346, -4.555699825286865, -4.733500003814697, -4.849100112915039, -4.855500221252441, -4.927499771118164, -4.932199954986572, -4.947000026702881, -4.972499847412109, -4.975200176239014, -4.994900226593018, -5.021900177001953, -5.053500175476074, -5.124800205230713, -5.1697001457214355, -5.165299892425537, -5.178699970245361, -4.319900035858154, -3.1703999042510986, -3.5336999893188477, -3.733799934387207, -3.8115999698638916, -3.952699899673462, -3.966099977493286, -3.9762001037597656, -4.091800212860107, -4.222099781036377, -4.2769999504089355, -4.323699951171875, -4.328800201416016, -4.35699987411499, -4.394700050354004, -4.448200225830078, -4.4344000816345215, -4.573800086975098, -4.600100040435791, -4.634900093078613, -4.690299987792969, -4.715000152587891, -4.685999870300293, -4.811600208282471, -4.9390997886657715, -4.9745001792907715, -5.052700042724609, -5.086400032043457, -5.144100189208984, -5.110400199890137, -5.196599960327148, -5.187600135803223, -2.676800012588501, -3.2307000160217285, -3.3782999515533447, -3.6761999130249023, -3.791800022125244, -3.9193999767303467, -4.077700138092041, -4.26170015335083, -4.3856000900268555, -4.402500152587891, -4.341400146484375, -4.477200031280518, -4.507800102233887, -4.526199817657471, -4.5416998863220215, -4.653900146484375, -4.748199939727783, -4.772900104522705, -4.829800128936768, -4.836299896240234, -4.879799842834473, -4.891600131988525, -4.89709997177124, -4.93209981918335, -4.953499794006348, -5.019700050354004, -5.0055999755859375, -5.073400020599365, -5.085599899291992, -5.125500202178955, -4.923299789428711, -4.813000202178955, -4.923500061035156, -3.3183000087738037, -3.5699000358581543, -3.5869998931884766, -3.8635001182556152, -3.884500026702881, -3.913599967956543, -3.965399980545044, -4.084499835968018, -4.151199817657471, -4.202199935913086, -4.234600067138672, -4.327700138092041, -4.351600170135498, -4.366600036621094, -4.374899864196777, -4.3694000244140625, -4.446700096130371, -4.535600185394287, -4.806300163269043, -4.890399932861328, -4.730400085449219, -4.902500152587891, -4.913000106811523, -5.033100128173828, -5.023600101470947, -5.104000091552734, -5.125100135803223, -5.0605998039245605, -5.172999858856201, -5.216000080108643, -4.545599937438965, -4.674799919128418, -2.3849000930786133, -2.929800033569336, -3.528599977493286, -3.933000087738037, -4.044899940490723, -4.112599849700928, -4.128699779510498, -4.170599937438965, -4.361800193786621, -4.4695000648498535, -4.501399993896484, -4.519499778747559, -4.525199890136719, -4.639400005340576, -4.650899887084961, -4.6427998542785645, -4.765999794006348, -4.7947001457214355, -4.823299884796143, -4.826099872589111, -4.836599826812744, -4.855100154876709, -4.859099864959717, -4.868100166320801, -4.877099990844727, -4.8796000480651855, -4.880799770355225, -4.9191999435424805, -4.963200092315674, -4.975299835205078, -4.889900207519531, -2.7416999340057373, -3.4590001106262207, -3.6666998863220215, -3.897700071334839, -3.9291000366210938, -3.988300085067749, -3.9902000427246094, -4.185500144958496, -4.0868000984191895, -4.262499809265137, -4.267399787902832, -4.2729997634887695, -4.269000053405762, -4.371099948883057, -4.5792999267578125, -4.661399841308594, -4.6915998458862305, -4.698299884796143, -4.760499954223633, -4.809199810028076, -4.817800045013428, -4.948299884796143, -5.013999938964844, -5.111299991607666, -5.217800140380859, -5.232900142669678, -5.26800012588501, -5.301700115203857, -5.098400115966797, -5.372600078582764, -5.184599876403809, -4.5817999839782715, -5.261300086975098, -2.783600091934204, -3.2780001163482666, -3.564300060272217, -3.656599998474121, -3.766700029373169, -3.6654999256134033, -3.910900115966797, -4.076900005340576, -4.110199928283691, -4.112299919128418, -4.203800201416016, -4.2281999588012695, -4.28439998626709, -4.357399940490723, -4.416600227355957, -4.484099864959717, -4.506400108337402, -4.572999954223633, -4.609099864959717, -4.703000068664551, -4.748700141906738, -4.754300117492676, -4.76230001449585, -4.819799900054932, -4.880000114440918, -4.992300033569336, -5.314499855041504, -5.055799961090088, -5.403800010681152, -5.4355998039245605, -4.972899913787842, -4.800300121307373, -4.8684000968933105, -3.5820999145507812, -3.7348999977111816, -3.785599946975708, -3.815700054168701, -3.898400068283081, -3.9159998893737793, -4.093800067901611, -4.184599876403809, -4.211400032043457, -4.324999809265137, -4.397299766540527, -4.4293999671936035, -4.432700157165527, -4.4822001457214355, -4.508600234985352, -4.506899833679199, -4.541600227355957, -4.586400032043457, -4.6184000968933105, -4.634399890899658, -4.693399906158447, -4.6819000244140625, -4.812900066375732, -4.863100051879883, -4.853300094604492, -4.898799896240234, -4.951900005340576, -4.959700107574463, -4.968800067901611, -4.989999771118164, -4.4079999923706055, -4.152100086212158, -3.3935000896453857, -3.394700050354004, -3.5534000396728516, -3.9637999534606934, -3.9923999309539795, -3.9865000247955322, -4.045300006866455, -4.130499839782715, -4.161399841308594, -4.1743998527526855, -4.195700168609619, -4.254700183868408, -4.289400100708008, -4.427599906921387, -4.441800117492676, -4.5106000900268555, -4.557400226593018, -4.577300071716309, -4.6118998527526855, -4.626200199127197, -4.7093000411987305, -4.7855000495910645, -4.809599876403809, -4.838900089263916, -4.861499786376953, -4.902400016784668, -4.910299777984619, -4.916600227355957, -4.941199779510498, -5.0233001708984375]}, \"token.table\": {\"Topic\": [5, 3, 5, 9, 1, 8, 9, 1, 10, 5, 2, 4, 6, 8, 9, 10, 8, 8, 5, 3, 10, 5, 2, 3, 4, 5, 6, 7, 8, 9, 10, 1, 2, 3, 4, 5, 6, 7, 8, 9, 10, 7, 9, 8, 10, 6, 10, 8, 6, 1, 2, 3, 4, 5, 6, 7, 8, 9, 10, 2, 1, 5, 10, 7, 7, 2, 3, 1, 9, 5, 9, 6, 6, 6, 5, 3, 9, 2, 5, 1, 8, 8, 3, 10, 6, 7, 4, 3, 1, 9, 7, 4, 10, 4, 2, 5, 7, 5, 8, 3, 6, 1, 7, 9, 3, 2, 4, 8, 6, 1, 2, 3, 4, 5, 7, 8, 9, 10, 10, 10, 6, 3, 8, 1, 3, 8, 10, 5, 2, 9, 8, 3, 8, 9, 8, 7, 1, 4, 6, 7, 4, 3, 1, 6, 9, 4, 6, 8, 6, 9, 8, 6, 4, 2, 7, 9, 9, 10, 5, 2, 8, 3, 5, 5, 3, 8, 2, 5, 9, 6, 2, 2, 2, 6, 10, 9, 3, 3, 8, 6, 6, 10, 7, 9, 8, 2, 8, 7, 10, 7, 10, 5, 4, 1, 5, 3, 1, 10, 10, 3, 9, 5, 2, 1, 10, 1, 3, 4, 5, 7, 6, 6, 1, 8, 7, 1, 2, 3, 4, 5, 6, 7, 8, 9, 10, 9, 10, 5, 1, 9, 1, 1, 2, 1, 4, 3, 1, 3, 10, 1, 7, 8, 3, 2, 4, 8, 1, 8, 2, 10, 2, 6, 6, 4, 5, 6, 8, 10, 8, 2, 3, 4, 9, 6, 1, 1, 7, 10, 2, 8, 10, 7, 4, 3, 4, 2, 1, 9, 5, 10, 3, 3, 2, 2, 4, 9, 3, 9, 7, 5, 8, 1, 7, 4, 3, 3, 5, 8, 7, 10, 4, 5, 9, 4, 7, 6, 5, 6, 4, 1, 7, 1, 2, 3, 4, 5, 6, 7, 8, 9, 10, 7, 3, 1, 2, 9, 6, 2, 7, 5, 9, 4, 7, 3, 8, 6, 4, 9, 4, 3, 1, 8, 1, 4, 10, 1, 2, 4, 4, 4, 1, 10, 2, 10, 7, 5, 4, 7, 7, 5, 2, 10, 2, 4, 4, 7, 4, 5, 6, 7, 9, 1, 5, 3, 6, 2, 6, 4, 1, 10, 9], \"Freq\": [0.9786497950553894, 0.9891598224639893, 0.9838759303092957, 0.9653735756874084, 0.9323551058769226, 0.9678453803062439, 0.9626151323318481, 0.9677793979644775, 0.9790952801704407, 0.9789467453956604, 0.043685220181941986, 0.021842610090970993, 0.021842610090970993, 0.043685220181941986, 0.8300191760063171, 0.021842610090970993, 0.967309832572937, 0.9538953304290771, 0.9772177338600159, 0.9544578790664673, 0.9882612824440002, 0.9562514424324036, 0.12162067741155624, 0.01216206792742014, 0.15810687839984894, 0.036486200988292694, 0.01216206792742014, 0.01216206792742014, 0.02432413585484028, 0.5959413051605225, 0.02432413585484028, 0.01399864163249731, 0.7839239239692688, 0.01399864163249731, 0.02799728326499462, 0.01399864163249731, 0.02799728326499462, 0.04199592396616936, 0.02799728326499462, 0.01399864163249731, 0.02799728326499462, 0.978679895401001, 0.9924574494361877, 0.9479533433914185, 0.9847135543823242, 0.983237624168396, 0.9942472577095032, 0.9667424559593201, 0.9924605488777161, 0.13632945716381073, 0.08610281348228455, 0.07175233960151672, 0.21525703370571136, 0.02870093658566475, 0.08610281348228455, 0.15785515308380127, 0.07892757654190063, 0.07175233960151672, 0.07175233960151672, 0.9778002500534058, 0.9480599761009216, 0.9728195071220398, 0.9835465550422668, 0.9385208487510681, 0.9844314455986023, 0.9971749782562256, 0.945852518081665, 0.9603332877159119, 0.9907068610191345, 0.982407808303833, 0.9938437342643738, 0.9832704067230225, 0.9974799752235413, 0.9830901622772217, 0.9546120762825012, 0.9887679219245911, 0.978477418422699, 0.9839618802070618, 0.9637753963470459, 0.97965008020401, 0.9791925549507141, 0.9618145823478699, 0.9928171634674072, 0.9861477613449097, 0.9747781753540039, 0.9866730570793152, 0.9565934538841248, 0.9701880812644958, 0.961330771446228, 0.972000241279602, 0.9777265191078186, 0.9918232560157776, 0.9937579035758972, 0.9826775193214417, 0.9656096696853638, 0.9014481902122498, 0.9816544651985168, 0.9929141402244568, 0.9163641333580017, 0.9883973002433777, 0.9856714606285095, 0.9618080258369446, 0.9706399440765381, 0.9731181263923645, 0.940295398235321, 0.9900866150856018, 0.9878962635993958, 0.9659498929977417, 0.9833322763442993, 0.06248753145337105, 0.10414588451385498, 0.020829176530241966, 0.06248753145337105, 0.020829176530241966, 0.1458042412996292, 0.2707793116569519, 0.06248753145337105, 0.2707793116569519, 0.9909684658050537, 0.9804254770278931, 0.9660628437995911, 0.9941366910934448, 0.9601931571960449, 0.10041667520999908, 0.05020833760499954, 0.70291668176651, 0.10041667520999908, 0.9301235675811768, 0.9960222840309143, 0.9782958626747131, 0.9603339433670044, 0.9765252470970154, 0.9095062017440796, 0.9791033267974854, 0.9632902145385742, 0.9275647401809692, 0.9137113094329834, 0.9810917973518372, 0.9924653768539429, 0.9879859685897827, 0.9864387512207031, 0.9324867725372314, 0.9826486706733704, 0.9751552939414978, 0.98614901304245, 0.985180675983429, 0.9705018997192383, 0.9794199466705322, 0.9780712127685547, 0.9871595501899719, 0.9398639798164368, 0.951532244682312, 0.9887515306472778, 0.9775133728981018, 0.9749921560287476, 0.9793888330459595, 0.9635483026504517, 0.9949746131896973, 0.9074069261550903, 0.9984998106956482, 0.9366431832313538, 0.9683840870857239, 0.9948598146438599, 0.9535627961158752, 0.967377781867981, 0.9710632562637329, 0.9748221039772034, 0.9874615669250488, 0.9917501211166382, 0.9705826044082642, 0.9700785875320435, 0.9826837778091431, 0.9909005761146545, 0.9818078279495239, 0.9648774862289429, 0.9832535982131958, 0.9555791616439819, 0.963591456413269, 0.9896379113197327, 0.9675378799438477, 0.9716480374336243, 0.9903783202171326, 0.9824308156967163, 0.9743350148200989, 0.864124059677124, 0.9921459555625916, 0.9728550910949707, 0.9781916737556458, 0.9879288673400879, 0.9562352299690247, 0.9884205460548401, 0.9706523418426514, 0.9578903317451477, 0.9597386121749878, 0.9820771813392639, 0.9780989289283752, 0.9680910110473633, 0.9877191781997681, 0.9887882471084595, 0.9824226498603821, 0.985071063041687, 0.8921281099319458, 0.9863763451576233, 0.9623428583145142, 0.9627907276153564, 0.0467129610478878, 0.0467129610478878, 0.0467129610478878, 0.840833306312561, 0.9889171719551086, 0.9822096824645996, 0.9854466319084167, 0.9503359198570251, 0.9645625948905945, 0.9930365681648254, 0.2933831810951233, 0.05867663770914078, 0.17602990567684174, 0.07823551446199417, 0.13691215217113495, 0.039117757230997086, 0.039117757230997086, 0.039117757230997086, 0.09779439866542816, 0.05867663770914078, 0.9912729859352112, 0.9787696599960327, 0.9217021465301514, 0.9607579112052917, 0.9818649888038635, 0.9520055651664734, 0.9816301465034485, 0.9841412305831909, 0.9687879681587219, 0.9660009145736694, 0.9767317771911621, 0.9754887819290161, 0.985015332698822, 0.9800441265106201, 0.9431607127189636, 0.9654916524887085, 0.9696518182754517, 0.9743797183036804, 0.9824503064155579, 0.9842402338981628, 0.964760422706604, 0.942091166973114, 0.9853593111038208, 0.962182879447937, 0.981534481048584, 0.9860873818397522, 0.9732459187507629, 0.8807922601699829, 0.9624919295310974, 0.9661648869514465, 0.9886392951011658, 0.93760085105896, 0.995124876499176, 0.9890211224555969, 0.9840759634971619, 0.9489959478378296, 0.979316771030426, 0.9760724306106567, 0.9763050079345703, 0.9942227005958557, 0.9679878950119019, 0.9112095236778259, 0.9801182746887207, 0.9899824857711792, 0.9757575392723083, 0.989550769329071, 0.9714481830596924, 0.9711454510688782, 0.959532618522644, 0.9616179466247559, 0.9910603165626526, 0.9842090010643005, 0.9738582968711853, 0.9672476649284363, 0.9944577813148499, 0.9688189625740051, 0.98102205991745, 0.9852498173713684, 0.9956544637680054, 0.9976724982261658, 0.9864026308059692, 0.9759238362312317, 0.9626877903938293, 0.9624574184417725, 0.9195643067359924, 0.9554082155227661, 0.979921281337738, 0.9634732604026794, 0.9768236875534058, 0.9652950763702393, 0.9537615180015564, 0.9667574763298035, 0.98943692445755, 0.9041540026664734, 0.9888805747032166, 0.9966453313827515, 0.9612097144126892, 0.9934348464012146, 0.9859079122543335, 0.9831678867340088, 0.9784500598907471, 0.966744065284729, 0.9963786005973816, 0.9813966155052185, 0.9933810830116272, 0.9760263562202454, 0.09423349797725677, 0.13192689418792725, 0.07538679987192154, 0.13192689418792725, 0.018846699967980385, 0.03769339993596077, 0.2073136866092682, 0.018846699967980385, 0.13192689418792725, 0.13192689418792725, 0.8948329091072083, 0.933315634727478, 0.9373911023139954, 0.9938444495201111, 0.9875495433807373, 0.9833862781524658, 0.9730636477470398, 0.9798874855041504, 0.9394650459289551, 0.9907452464103699, 0.9896548986434937, 0.9878962635993958, 0.9763216972351074, 0.9647001624107361, 0.9865625500679016, 0.9731994867324829, 0.9830271005630493, 0.9586747884750366, 0.9868134260177612, 0.9474694132804871, 0.9811674356460571, 0.9553032517433167, 0.9959539175033569, 0.9940074682235718, 0.9554567337036133, 0.9880306124687195, 0.9923052191734314, 0.9730463624000549, 0.9275698661804199, 0.9797151684761047, 0.9711458086967468, 0.9753112196922302, 0.9893122315406799, 0.9911172986030579, 0.9690856337547302, 0.9842606782913208, 0.9079278707504272, 0.9464480876922607, 0.9428319931030273, 0.9911313652992249, 0.9804376363754272, 0.9883837699890137, 0.9769365191459656, 0.9895486235618591, 0.9599980711936951, 0.9970513582229614, 0.9513927698135376, 0.9868252873420715, 0.990839421749115, 0.9655112028121948, 0.9943311214447021, 0.9820696711540222, 0.9916312098503113, 0.9803436398506165, 0.9932942986488342, 0.9625385999679565, 0.9568839073181152, 0.9907405376434326, 0.9828940629959106, 0.9866376519203186], \"Term\": [\"account\", \"accountant\", \"accounting\", \"achieve\", \"act\", \"actual\", \"addition\", \"additional\", \"address\", \"agree\", \"agreement\", \"agreement\", \"agreement\", \"agreement\", \"agreement\", \"agreement\", \"alliance\", \"allow\", \"already\", \"america\", \"analytic\", \"announce\", \"applicant\", \"applicant\", \"applicant\", \"applicant\", \"applicant\", \"applicant\", \"applicant\", \"applicant\", \"applicant\", \"application\", \"application\", \"application\", \"application\", \"application\", \"application\", \"application\", \"application\", \"application\", \"application\", \"apply\", \"area\", \"assist\", \"audit\", \"auditor\", \"australian\", \"available\", \"award\", \"bachelor\", \"bachelor\", \"bachelor\", \"bachelor\", \"bachelor\", \"bachelor\", \"bachelor\", \"bachelor\", \"bachelor\", \"bachelor\", \"back\", \"bank\", \"base\", \"become\", \"believe\", \"benefit\", \"big\", \"board\", \"body\", \"brand\", \"bring\", \"build\", \"building\", \"business\", \"campaign\", \"campus\", \"career\", \"case\", \"challenge\", \"child\", \"city\", \"claim\", \"clear\", \"client\", \"close\", \"co\", \"collaborate\", \"collaboration\", \"come\", \"commerce\", \"commitment\", \"committee\", \"community\", \"company\", \"competition\", \"complete\", \"comprise\", \"computer\", \"consider\", \"consultation\", \"continue\", \"corporate\", \"corporation\", \"cost\", \"country\", \"courage\", \"course\", \"create\", \"currently\", \"customer\", \"data_analytics\", \"data_analytics\", \"data_analytics\", \"data_analytics\", \"data_analytics\", \"data_analytics\", \"data_analytics\", \"data_analytics\", \"data_analytics\", \"date\", \"datum\", \"degree\", \"demonstrate\", \"describe\", \"detect\", \"detect\", \"detect\", \"detect\", \"determine\", \"develop\", \"development\", \"digital\", \"discipline\", \"document\", \"early\", \"education\", \"effort\", \"eligible\", \"employee\", \"employer\", \"encourage\", \"engage\", \"engagement\", \"engineering\", \"entrepreneur\", \"environment\", \"environmental\", \"equality\", \"equipment\", \"establish\", \"event\", \"everyone\", \"expect\", \"experience\", \"face\", \"fail\", \"fall\", \"field\", \"financial\", \"fine\", \"firm\", \"fitness\", \"focus\", \"follow\", \"form\", \"formal\", \"fraud\", \"free\", \"fund\", \"future\", \"gain\", \"get\", \"give\", \"global\", \"good\", \"government\", \"great\", \"grow\", \"growth\", \"head\", \"help\", \"high\", \"hold\", \"hope\", \"host\", \"hour\", \"idea\", \"impact\", \"important\", \"include\", \"increasingly\", \"industry\", \"information\", \"initiative\", \"integrate\", \"interest\", \"international\", \"investment\", \"involve\", \"issue\", \"item\", \"japan\", \"join\", \"judge\", \"june\", \"key\", \"kid\", \"kid\", \"kid\", \"kid\", \"large\", \"lead\", \"leader\", \"leadership\", \"learn\", \"least\", \"lehman\", \"lehman\", \"lehman\", \"lehman\", \"lehman\", \"lehman\", \"lehman\", \"lehman\", \"lehman\", \"lehman\", \"level\", \"life\", \"limited\", \"line\", \"list\", \"look\", \"make\", \"management\", \"manager\", \"market\", \"marketing\", \"mathematic\", \"matter\", \"mean\", \"melbourne\", \"member\", \"member_firm\", \"mentor\", \"model\", \"money\", \"month\", \"multinational\", \"must\", \"name\", \"national\", \"need\", \"network\", \"note\", \"october\", \"offer\", \"office\", \"operation\", \"opportunity\", \"organisation\", \"organization\", \"outcome\", \"panel\", \"part\", \"participant\", \"partner\", \"partnership\", \"past\", \"pay\", \"people\", \"perform\", \"period\", \"personal\", \"place\", \"plan\", \"postgraduate\", \"potential\", \"practice\", \"present\", \"price\", \"problem\", \"process\", \"professional\", \"professional_service\", \"program\", \"project\", \"provide\", \"purpose\", \"quality\", \"question\", \"raise\", \"range\", \"rank\", \"reach\", \"real\", \"receive\", \"regulator\", \"relationship\", \"report\", \"representative\", \"require\", \"research\", \"revenue\", \"risk\", \"role\", \"rule\", \"run\", \"scheme\", \"scholarship\", \"school\", \"science\", \"select\", \"selection\", \"selection\", \"selection\", \"selection\", \"selection\", \"selection\", \"selection\", \"selection\", \"selection\", \"selection\", \"semester\", \"september\", \"series\", \"service\", \"short\", \"show\", \"sign\", \"similar\", \"site\", \"skill\", \"social\", \"solution\", \"solve\", \"south\", \"sponsor\", \"staff\", \"standard\", \"start\", \"step\", \"strategic\", \"strategy\", \"structure\", \"student\", \"study\", \"subject\", \"success\", \"support\", \"survey\", \"survive\", \"sustainability\", \"sustainable\", \"take\", \"tax\", \"team\", \"technique\", \"technology\", \"thank\", \"thing\", \"think\", \"time\", \"top\", \"uk\", \"undergraduate\", \"understand\", \"unique\", \"university\", \"universum\", \"valuable\", \"value\", \"volunteer\", \"waste\", \"week\", \"win\", \"woman\", \"work\", \"working_world\", \"workplace\", \"world\", \"would\", \"year\"]}, \"R\": 30, \"lambda.step\": 0.01, \"plot.opts\": {\"xlab\": \"PC1\", \"ylab\": \"PC2\"}, \"topic.order\": [1, 2, 3, 4, 5, 6, 7, 8, 9, 10]};\n",
              "\n",
              "function LDAvis_load_lib(url, callback){\n",
              "  var s = document.createElement('script');\n",
              "  s.src = url;\n",
              "  s.async = true;\n",
              "  s.onreadystatechange = s.onload = callback;\n",
              "  s.onerror = function(){console.warn(\"failed to load library \" + url);};\n",
              "  document.getElementsByTagName(\"head\")[0].appendChild(s);\n",
              "}\n",
              "\n",
              "if(typeof(LDAvis) !== \"undefined\"){\n",
              "   // already loaded: just create the visualization\n",
              "   !function(LDAvis){\n",
              "       new LDAvis(\"#\" + \"ldavis_el1221398054185317204783138090\", ldavis_el1221398054185317204783138090_data);\n",
              "   }(LDAvis);\n",
              "}else if(typeof define === \"function\" && define.amd){\n",
              "   // require.js is available: use it to load d3/LDAvis\n",
              "   require.config({paths: {d3: \"https://cdnjs.cloudflare.com/ajax/libs/d3/3.5.5/d3.min\"}});\n",
              "   require([\"d3\"], function(d3){\n",
              "      window.d3 = d3;\n",
              "      LDAvis_load_lib(\"https://cdn.rawgit.com/bmabey/pyLDAvis/files/ldavis.v1.0.0.js\", function(){\n",
              "        new LDAvis(\"#\" + \"ldavis_el1221398054185317204783138090\", ldavis_el1221398054185317204783138090_data);\n",
              "      });\n",
              "    });\n",
              "}else{\n",
              "    // require.js not available: dynamically load d3 & LDAvis\n",
              "    LDAvis_load_lib(\"https://cdnjs.cloudflare.com/ajax/libs/d3/3.5.5/d3.min.js\", function(){\n",
              "         LDAvis_load_lib(\"https://cdn.rawgit.com/bmabey/pyLDAvis/files/ldavis.v1.0.0.js\", function(){\n",
              "                 new LDAvis(\"#\" + \"ldavis_el1221398054185317204783138090\", ldavis_el1221398054185317204783138090_data);\n",
              "            })\n",
              "         });\n",
              "}\n",
              "</script>"
            ],
            "text/plain": [
              "PreparedData(topic_coordinates=              x         y  topics  cluster       Freq\n",
              "topic                                                \n",
              "0      0.008250 -0.053890       1        1   7.854978\n",
              "1     -0.256039  0.190710       2        1  14.138171\n",
              "2      0.007897 -0.035174       3        1   8.542023\n",
              "3      0.002238 -0.101728       4        1  13.829665\n",
              "4      0.007748 -0.037660       5        1   6.496140\n",
              "5      0.001861 -0.086181       6        1  10.938071\n",
              "6      0.001237 -0.039847       7        1   7.420166\n",
              "7      0.008300 -0.032022       8        1   5.818283\n",
              "8     -0.004253 -0.030535       9        1  10.456817\n",
              "9      0.222761  0.226326      10        1  14.505684, topic_info=     Category        Freq          Term       Total  loglift  logprob\n",
              "0     Default  298.000000      business  298.000000  30.0000  30.0000\n",
              "137   Default  282.000000       student  282.000000  29.0000  29.0000\n",
              "107   Default  238.000000       program  238.000000  28.0000  28.0000\n",
              "194   Default  205.000000          firm  205.000000  27.0000  27.0000\n",
              "3628  Default  173.000000   scholarship  173.000000  26.0000  26.0000\n",
              "570   Default  142.000000          team  142.000000  25.0000  25.0000\n",
              "160   Default  188.000000          work  188.000000  24.0000  24.0000\n",
              "120   Default  166.000000       service  166.000000  23.0000  23.0000\n",
              "138   Default  162.000000    university  162.000000  22.0000  22.0000\n",
              "709   Default  107.000000  organisation  107.000000  21.0000  21.0000\n",
              "144   Default  150.000000          idea  150.000000  20.0000  20.0000\n",
              "262   Default  144.000000       company  144.000000  19.0000  19.0000\n",
              "265   Default  144.000000     financial  144.000000  18.0000  18.0000\n",
              "1271  Default  140.000000       project  140.000000  17.0000  17.0000\n",
              "2484  Default  106.000000           win  106.000000  16.0000  16.0000\n",
              "186   Default  135.000000           big  135.000000  15.0000  15.0000\n",
              "509   Default   99.000000   engineering   99.000000  14.0000  14.0000\n",
              "110   Default  123.000000          time  123.000000  13.0000  13.0000\n",
              "728   Default  123.000000   opportunity  123.000000  12.0000  12.0000\n",
              "90    Default   90.000000         world   90.000000  11.0000  11.0000\n",
              "580   Default   83.000000       partner   83.000000  10.0000  10.0000\n",
              "821   Default   95.000000         award   95.000000   9.0000   9.0000\n",
              "184   Default  108.000000        people  108.000000   8.0000   8.0000\n",
              "553   Default  104.000000      research  104.000000   7.0000   7.0000\n",
              "1130  Default   86.000000         skill   86.000000   6.0000   6.0000\n",
              "560   Default   70.000000        follow   70.000000   5.0000   5.0000\n",
              "57    Default   65.000000          head   65.000000   4.0000   4.0000\n",
              "356   Default   74.000000        client   74.000000   3.0000   3.0000\n",
              "784   Default   69.000000     encourage   69.000000   2.0000   2.0000\n",
              "510   Default   93.000000    experience   93.000000   1.0000   1.0000\n",
              "...       ...         ...           ...         ...      ...      ...\n",
              "262   Topic10  144.131195       company  144.904510   1.9253  -3.3935\n",
              "265   Topic10  143.953796     financial  144.727310   1.9253  -3.3947\n",
              "728   Topic10  122.829063   opportunity  123.602577   1.9244  -3.5534\n",
              "1285  Topic10   81.483978         audit   82.257423   1.9212  -3.9638\n",
              "233   Topic10   79.191879       include   79.965271   1.9209  -3.9924\n",
              "457   Topic10   79.655121       problem   80.445847   1.9208  -3.9865\n",
              "294   Topic10   75.105049      industry   75.878632   1.9204  -4.0453\n",
              "256   Topic10   68.971931           tax   69.745422   1.9195  -4.1305\n",
              "226   Topic10   66.877083          hold   67.650917   1.9191  -4.1614\n",
              "1675  Topic10   66.009598      analytic   66.783958   1.9190  -4.1744\n",
              "1161  Topic10   64.618179         study   65.391861   1.9187  -4.1957\n",
              "253   Topic10   60.918339         issue   61.691673   1.9180  -4.2547\n",
              "228   Topic10   58.842548        period   59.623016   1.9175  -4.2894\n",
              "219   Topic10   51.244247           top   52.017586   1.9157  -4.4276\n",
              "258   Topic10   50.521461    australian   51.295086   1.9154  -4.4418\n",
              "232   Topic10   47.164993         datum   47.938370   1.9144  -4.5106\n",
              "300   Topic10   45.009434         would   45.783165   1.9136  -4.5574\n",
              "235   Topic10   44.120621          mean   44.895939   1.9132  -4.5773\n",
              "1663  Topic10   42.618328          date   43.391895   1.9126  -4.6119\n",
              "243   Topic10   42.016430      national   42.790142   1.9124  -4.6262\n",
              "694   Topic10   38.664516       require   39.438534   1.9108  -4.7093\n",
              "247   Topic10   35.828938        become   36.602234   1.9093  -4.7855\n",
              "1412  Topic10   34.973846       address   35.747288   1.9088  -4.8096\n",
              "768   Topic10   33.964050          life   34.737488   1.9081  -4.8389\n",
              "1179  Topic10   33.207115   sustainable   33.980480   1.9076  -4.8615\n",
              "1104  Topic10   31.875765           pay   32.649120   1.9067  -4.9024\n",
              "1085  Topic10   31.624161       involve   32.397873   1.9065  -4.9103\n",
              "254   Topic10   31.424240           key   32.198067   1.9063  -4.9166\n",
              "248   Topic10   30.660612         close   31.435452   1.9057  -4.9412\n",
              "251   Topic10   28.245745    government   29.019228   1.9036  -5.0233\n",
              "\n",
              "[350 rows x 6 columns], token_table=      Topic      Freq           Term\n",
              "term                                \n",
              "1146      5  0.978650        account\n",
              "1612      3  0.989160     accountant\n",
              "354       5  0.983876     accounting\n",
              "361       9  0.965374        achieve\n",
              "944       1  0.932355            act\n",
              "1040      8  0.967845         actual\n",
              "1578      9  0.962615       addition\n",
              "612       1  0.967779     additional\n",
              "1412     10  0.979095        address\n",
              "1043      5  0.978947          agree\n",
              "1390      2  0.043685      agreement\n",
              "1390      4  0.021843      agreement\n",
              "1390      6  0.021843      agreement\n",
              "1390      8  0.043685      agreement\n",
              "1390      9  0.830019      agreement\n",
              "1390     10  0.021843      agreement\n",
              "1918      8  0.967310       alliance\n",
              "720       8  0.953895          allow\n",
              "1011      5  0.977218        already\n",
              "2318      3  0.954458        america\n",
              "1675     10  0.988261       analytic\n",
              "593       5  0.956251       announce\n",
              "3839      2  0.121621      applicant\n",
              "3839      3  0.012162      applicant\n",
              "3839      4  0.158107      applicant\n",
              "3839      5  0.036486      applicant\n",
              "3839      6  0.012162      applicant\n",
              "3839      7  0.012162      applicant\n",
              "3839      8  0.024324      applicant\n",
              "3839      9  0.595941      applicant\n",
              "...     ...       ...            ...\n",
              "1179     10  0.971146    sustainable\n",
              "1027      2  0.975311           take\n",
              "256      10  0.989312            tax\n",
              "570       7  0.991117           team\n",
              "3085      5  0.969086      technique\n",
              "19        4  0.984261     technology\n",
              "2352      7  0.907928          thank\n",
              "2516      7  0.946448          thing\n",
              "62        5  0.942832          think\n",
              "110       2  0.991131           time\n",
              "219      10  0.980438            top\n",
              "1337      2  0.988384             uk\n",
              "3126      4  0.976937  undergraduate\n",
              "740       4  0.989549     understand\n",
              "801       7  0.959998         unique\n",
              "138       4  0.997051     university\n",
              "3385      5  0.951393      universum\n",
              "857       6  0.986825       valuable\n",
              "377       7  0.990839          value\n",
              "1269      9  0.965511      volunteer\n",
              "2226      1  0.994331          waste\n",
              "36        5  0.982070           week\n",
              "2484      3  0.991631            win\n",
              "21        6  0.980344          woman\n",
              "160       2  0.993294           work\n",
              "749       6  0.962539  working_world\n",
              "3251      4  0.956884      workplace\n",
              "90        1  0.990741          world\n",
              "300      10  0.982894          would\n",
              "330       9  0.986638           year\n",
              "\n",
              "[381 rows x 3 columns], R=30, lambda_step=0.01, plot_opts={'xlab': 'PC1', 'ylab': 'PC2'}, topic_order=[1, 2, 3, 4, 5, 6, 7, 8, 9, 10])"
            ]
          },
          "metadata": {
            "tags": []
          },
          "execution_count": 29
        }
      ]
    },
    {
      "cell_type": "markdown",
      "metadata": {
        "id": "HmB7ZUQEYQyw",
        "colab_type": "text"
      },
      "source": [
        "# Conclusion\n",
        "\n",
        "The results of the Frequency Distribution and Word Cloud showed the keywords with the highest count, which could be a representation of the topics relevant to the EY documents. However, this is too high-level, and there could be more 'abstract' topic embedded in the EY documents.\n",
        "\n",
        "The top keywords from Frequency Distribution and Word Cloud are the following;\n",
        "* limit\n",
        "* service\n",
        "* business\n",
        "* audit\n",
        "* global\n",
        "* work\n",
        "* people\n",
        "* company\n",
        "* program\n",
        "* manage\n",
        "\n",
        "Implementing the LDA to identify the top ten topics showed that there are two distinct main topics among the ten topics determined by the model.\n",
        "The two distinct topics are Topic 2 and 10. \n",
        "\n",
        "Topic 2 consists of top 10 keywords such as 'program', 'firm', 'work', 'service', 'idea', 'big', 'time', 'people', 'global' and 'develop'. This topic could be around developing global programs or ideas around people and service.\n",
        "\n",
        "Topic 10's top keywords are 'company', 'financial', 'opportunity', 'audit', 'problem', 'include', 'industry', 'tax', 'hold', 'analytics'. This topic could mean that financial opportunities, audit, and analytics are also important with EY.\n",
        "\n",
        "The other eight topics are somehow overlapping, which meant that the topics could be related.\n"
      ]
    }
  ]
}
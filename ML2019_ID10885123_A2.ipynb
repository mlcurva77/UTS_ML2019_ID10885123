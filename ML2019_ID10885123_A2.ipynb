{
  "nbformat": 4,
  "nbformat_minor": 0,
  "metadata": {
    "kernelspec": {
      "display_name": "Python 3",
      "language": "python",
      "name": "python3"
    },
    "language_info": {
      "codemirror_mode": {
        "name": "ipython",
        "version": 3
      },
      "file_extension": ".py",
      "mimetype": "text/x-python",
      "name": "python",
      "nbconvert_exporter": "python",
      "pygments_lexer": "ipython3",
      "version": "3.7.1"
    },
    "colab": {
      "name": "ML2019_ID10885123_A2.ipynb",
      "version": "0.3.2",
      "provenance": [],
      "include_colab_link": true
    }
  },
  "cells": [
    {
      "cell_type": "markdown",
      "metadata": {
        "id": "view-in-github",
        "colab_type": "text"
      },
      "source": [
        "<a href=\"https://colab.research.google.com/github/mlcurva77/UTS_ML2019_ID10885123/blob/master/ML2019_ID10885123_A2.ipynb\" target=\"_parent\"><img src=\"https://colab.research.google.com/assets/colab-badge.svg\" alt=\"Open In Colab\"/></a>"
      ]
    },
    {
      "cell_type": "markdown",
      "metadata": {
        "id": "1q9AvPyWq-D2",
        "colab_type": "text"
      },
      "source": [
        "# Text Analytics and Topic Modelling"
      ]
    },
    {
      "cell_type": "markdown",
      "metadata": {
        "id": "RS0nj12pKdiR",
        "colab_type": "text"
      },
      "source": [
        "## 1. Overview"
      ]
    },
    {
      "cell_type": "markdown",
      "metadata": {
        "id": "zzACOeTFKkbP",
        "colab_type": "text"
      },
      "source": [
        "Any company or organisation generates a significant amount of documentation to record information about their business. The process of analysing the documents takes a lot of time and resources, which makes it slow and inefficient. Text Analytics helps to resolve this issue. Text Analytics is the automated process of analysing text documents and deriving meaningful information from unstructured data.\n",
        "\n",
        "This report aims to analyse a portfolio of documents from Ernst and Young (EY) to learn about the company’s values and what is important to them when working with other organisations.  Text Analytics and Topic Modelling will be used to examine and derive meaningful insights from the documents. The Natural Language Toolkit (NLTK) was used for performing Text Analytics and Gensim for Topic Modelling. "
      ]
    },
    {
      "cell_type": "markdown",
      "metadata": {
        "id": "4aIaT6pYKnP-",
        "colab_type": "text"
      },
      "source": [
        "## 2. Data Description"
      ]
    },
    {
      "cell_type": "markdown",
      "metadata": {
        "id": "Yq1AVhJgKpBT",
        "colab_type": "text"
      },
      "source": [
        "There were twenty-eight (28) text documents from EY with varying content and sizes. All documents were loaded in GoogleColab from the Google Drive directory. The list of files is shown below with the corresponding number of words per document.\n",
        "\n",
        "| Number of Words | File Name |\n",
        "|---| --- |\n",
        "| 713 | 01_AFR1.txt\n",
        "| 751\t| 01_AFR2.txt\n",
        "| 1360\t| 01_AFR3.txt\n",
        "| 906\t| 01_AFR4.txt\n",
        "| 399\t| 02_EY1.txt\n",
        "| 694\t| 02_EY2.txt\n",
        "| 3577\t| 02_EY3.txt\n",
        "| 12457\t| 02_EY4.txt\n",
        "| 6403\t| 02_EY5.txt\n",
        "| 7583\t| 02_EY6.txt\n",
        "| 14264\t| 02_EY7.txt\n",
        "| 821\t| 02_EY8.txt\n",
        "| 1460\t| 03_EY1.txt\n",
        "| 949\t| 03_EY10.txt\n",
        "| 1305\t| 03_EY2.txt\n",
        "| 1044\t| 03_EY3.txt\n",
        "| 515\t| 03_EY4.txt\n",
        "| 560\t| 03_EY5.txt\n",
        "| 865\t| 03_EY6.txt\n",
        "| 1371\t| 03_EY7.txt\n",
        "| 1245\t| 03_EY8.txt\n",
        "| 1201\t| 03_EY9.txt\n",
        "| 3603\t| 04_EY1.txt\n",
        "| 402\t| 05_UNSW1.txt\n",
        "| 1345\t| 05_UQ1.txt\n",
        "| 697\t| 05_USYD1.txt\n",
        "| 578\t| 05_UTS1.txt\n",
        "| 856\t| 05_UWA1.txt"
      ]
    },
    {
      "cell_type": "markdown",
      "metadata": {
        "id": "DG5X8kZcOg5n",
        "colab_type": "text"
      },
      "source": [
        "## 3. Text Analytics using NLTK"
      ]
    },
    {
      "cell_type": "markdown",
      "metadata": {
        "id": "VA7mEGiAOlQZ",
        "colab_type": "text"
      },
      "source": [
        "This section illustrates how to use the classes in NLTK for text transformation. \n",
        "\n",
        "All the documents are unstructured, which require to be transformed for analysis. NLTK was mainly used to explore and understand the datasets. \n",
        "\n",
        "Each document needs to be tokenised because the data is unstructured. Tokenisation is the process of breaking down a text paragraph into sentences or words. The following transformation was performed on the documents after the documents were tokenised.\n",
        "\n",
        "* Removal of punctuation using the string package.\n",
        "* Change words to lower case.\n",
        "* Removal of common English stopwords. Stopwords are considered noise in the data and do not add value to the analysis. Some examples of stopwords includes is, am, are, this, a, an, the, etc.\n",
        "* Stemming and Lemmatization. Stemming and Lemmatization are language normalisation process, which reduces words to their word root word."
      ]
    },
    {
      "cell_type": "markdown",
      "metadata": {
        "id": "CUIG-VN1tjq2",
        "colab_type": "text"
      },
      "source": [
        "### 3.1 Loading the Packages\n",
        "\n",
        "The following packages were used for Text Analytics and Topic Modelling;\n",
        "\n",
        "*   NLTK - The Natural Language Toolkit (NLTK) is an open source Python library for Natural Language Processing.\n",
        "*   re - This module provides regular expression matching operations similar to those found in Perl.\n",
        "* numpy - NumPy is the fundamental package for scientific computing with Python. \n",
        "* Gensim - Gensim is a Python library for topic modelling, document indexing and similarity retrieval with large corpora.\n",
        "* pyLDAvis - Python library for interactive topic model visualization.\n",
        "* matplotlib - plotting library for the Python programming language and its numerical mathematics extension NumPy.  \n",
        "* Using spaCy for POS tagging. spaCy is a package used for tagging, parsing and named entity recognition.\n",
        "\n"
      ]
    },
    {
      "cell_type": "code",
      "metadata": {
        "id": "47nF31JoWKLa",
        "colab_type": "code",
        "colab": {}
      },
      "source": [
        "#Loading NLTK\n",
        "import nltk\n",
        "!pip install -q nltk==3.4.3\n",
        "\n",
        "#nltk.download('punkt')\n",
        "nltk.download('stopwords')\n",
        "nltk.download('wordnet')\n",
        "from nltk.stem import WordNetLemmatizer, SnowballStemmer\n",
        "from nltk.stem.porter import *\n",
        "\n",
        "# spacy for lemmatization\n",
        "import spacy\n",
        "\n",
        "import re\n",
        "import numpy as np\n",
        "import pandas as pd\n",
        "from pprint import pprint\n",
        "\n",
        "# Gensim\n",
        "import gensim\n",
        "import gensim.corpora as corpora\n",
        "from gensim.utils import simple_preprocess\n",
        "from gensim.models import CoherenceModel\n",
        "\n",
        "# Plotting tools\n",
        "!pip install pyLDAvis\n",
        "import pyLDAvis\n",
        "import pyLDAvis.gensim  \n",
        "import matplotlib.pyplot as plt\n",
        "%matplotlib inline\n",
        "\n",
        "# Enable logging for gensim - optional\n",
        "#import logging\n",
        "#logging.basicConfig(format='%(asctime)s : %(levelname)s : %(message)s', level=logging.ERROR)\n",
        "\n",
        "#import warnings\n",
        "#warnings.filterwarnings(\"ignore\",category=DeprecationWarning)\n"
      ],
      "execution_count": 0,
      "outputs": []
    },
    {
      "cell_type": "markdown",
      "metadata": {
        "id": "t1wsEscBsXqH",
        "colab_type": "text"
      },
      "source": [
        "### 3.2 Connecting to GoogleColab and Google drive"
      ]
    },
    {
      "cell_type": "code",
      "metadata": {
        "id": "A5YqZBDBYjfE",
        "colab_type": "code",
        "outputId": "af08e568-575b-467c-9268-78eae7b40485",
        "colab": {
          "base_uri": "https://localhost:8080/",
          "height": 122
        }
      },
      "source": [
        "inGoogleColab = True\n",
        "\n",
        "from google.colab import drive\n",
        "drive.mount('/content/drive/')"
      ],
      "execution_count": 2,
      "outputs": [
        {
          "output_type": "stream",
          "text": [
            "Go to this URL in a browser: https://accounts.google.com/o/oauth2/auth?client_id=947318989803-6bn6qk8qdgf4n4g3pfee6491hc0brc4i.apps.googleusercontent.com&redirect_uri=urn%3Aietf%3Awg%3Aoauth%3A2.0%3Aoob&scope=email%20https%3A%2F%2Fwww.googleapis.com%2Fauth%2Fdocs.test%20https%3A%2F%2Fwww.googleapis.com%2Fauth%2Fdrive%20https%3A%2F%2Fwww.googleapis.com%2Fauth%2Fdrive.photos.readonly%20https%3A%2F%2Fwww.googleapis.com%2Fauth%2Fpeopleapi.readonly&response_type=code\n",
            "\n",
            "Enter your authorization code:\n",
            "··········\n",
            "Mounted at /content/drive/\n"
          ],
          "name": "stdout"
        }
      ]
    },
    {
      "cell_type": "markdown",
      "metadata": {
        "id": "r1hF3SSF32Vi",
        "colab_type": "text"
      },
      "source": [
        "### 3.3 Loading the EY documents for analysis and Topic Modelling."
      ]
    },
    {
      "cell_type": "code",
      "metadata": {
        "id": "7GzFKJEDWKLe",
        "colab_type": "code",
        "outputId": "089dc80b-1f53-42fd-99bf-30f8881a3b0f",
        "colab": {
          "base_uri": "https://localhost:8080/",
          "height": 34
        }
      },
      "source": [
        "import os\n",
        "from nltk.corpus import PlaintextCorpusReader\n",
        "\n",
        "# Setting the directory path to my google drive\n",
        "folderpath_base = '/content/drive/My Drive/Docs'\n",
        "\n",
        "# .txt file names as file IDs\n",
        "file_ids = \".*.txt\"\n",
        "corpus = nltk.corpus.reader.PlaintextCorpusReader(folderpath_base, file_ids,encoding='latin-1')\n",
        "\n",
        "#print(corpus.fileids())\n",
        "print(corpus)"
      ],
      "execution_count": 4,
      "outputs": [
        {
          "output_type": "stream",
          "text": [
            "<PlaintextCorpusReader in '/content/drive/My Drive/Docs'>\n"
          ],
          "name": "stdout"
        }
      ]
    },
    {
      "cell_type": "code",
      "metadata": {
        "id": "mnucOTi_WKLi",
        "colab_type": "code",
        "outputId": "3d93b1d7-cccc-45c6-d83d-963677402b2c",
        "colab": {
          "base_uri": "https://localhost:8080/",
          "height": 493
        }
      },
      "source": [
        "# for-loop through file IDs and print out word count. \n",
        "# Listing the EY filenames to be used for analysis.\n",
        "\n",
        "for f in corpus.fileids():\n",
        "    print(len(corpus.words(f)), f)"
      ],
      "execution_count": 5,
      "outputs": [
        {
          "output_type": "stream",
          "text": [
            "713 01_AFR1.txt\n",
            "751 01_AFR2.txt\n",
            "1360 01_AFR3.txt\n",
            "906 01_AFR4.txt\n",
            "399 02_EY1.txt\n",
            "694 02_EY2.txt\n",
            "3577 02_EY3.txt\n",
            "12457 02_EY4.txt\n",
            "6403 02_EY5.txt\n",
            "7583 02_EY6.txt\n",
            "14264 02_EY7.txt\n",
            "821 02_EY8.txt\n",
            "1460 03_EY1.txt\n",
            "949 03_EY10.txt\n",
            "1305 03_EY2.txt\n",
            "1044 03_EY3.txt\n",
            "515 03_EY4.txt\n",
            "560 03_EY5.txt\n",
            "865 03_EY6.txt\n",
            "1371 03_EY7.txt\n",
            "1245 03_EY8.txt\n",
            "1201 03_EY9.txt\n",
            "3603 04_EY1.txt\n",
            "402 05_UNSW1.txt\n",
            "1345 05_UQ1.txt\n",
            "697 05_USYD1.txt\n",
            "578 05_UTS1.txt\n",
            "856 05_UWA1.txt\n"
          ],
          "name": "stdout"
        }
      ]
    },
    {
      "cell_type": "code",
      "metadata": {
        "id": "TDmOW3EfWKLk",
        "colab_type": "code",
        "outputId": "492169c3-63ba-4e2a-999b-7cea249be44a",
        "colab": {
          "base_uri": "https://localhost:8080/",
          "height": 34
        }
      },
      "source": [
        "# Corpus size in number of words\n",
        "print(len(corpus.words()))"
      ],
      "execution_count": 6,
      "outputs": [
        {
          "output_type": "stream",
          "text": [
            "67924\n"
          ],
          "name": "stdout"
        }
      ]
    },
    {
      "cell_type": "markdown",
      "metadata": {
        "id": "se1qHlyeyahG",
        "colab_type": "text"
      },
      "source": [
        "### 3.4 Tokenisation\n",
        "The documents required to be tokenised to break down the paragraphs into sentences or words. The **words** and **sents** functionalities in NLTK are used to perform tokenization."
      ]
    },
    {
      "cell_type": "code",
      "metadata": {
        "id": "-89uK_2kWKLp",
        "colab_type": "code",
        "outputId": "dec8b6b5-abbf-40b1-e1a9-5308d41f0581",
        "colab": {
          "base_uri": "https://localhost:8080/",
          "height": 54
        }
      },
      "source": [
        "# Words breaks text paragraphs into words. Note that punctuations are treated as individual words in tokenization.\n",
        "\n",
        "tokenized_word = corpus.words()\n",
        "print(tokenized_word[:60])"
      ],
      "execution_count": 8,
      "outputs": [
        {
          "output_type": "stream",
          "text": [
            "['US', 'business', 'leader', 'Kay', 'Koplovitz', 'forges', 'new', 'ground', 'for', 'female', 'entrepreneurs', 'by', 'Joanne', 'Gray', 'Women', 'in', 'science', 'and', 'technology', 'are', 'gaining', 'a', 'higher', 'profile', 'in', 'Australia', 'as', 'entrepreneurs', ',', 'says', 'Kay', 'Koplovitz', ',', 'a', 'leading', 'successful', 'businesswoman', 'in', 'the', 'US', 'and', 'founder', 'of', 'USA', 'Network', '.', 'Her', 'successful', 'incubator', ',', 'Springboard', 'Enterprises', ',', 'launched', 'in', 'Australia', 'five', 'years', 'ago', ',']\n"
          ],
          "name": "stdout"
        }
      ]
    },
    {
      "cell_type": "markdown",
      "metadata": {
        "id": "Qj4NgYFD1B6f",
        "colab_type": "text"
      },
      "source": [
        "### 3.5 Removal of punctuation.\n",
        "Punctuations do not add value to the text analysis so these needed to be removed. The **string.punctuation** is a pre-initialized string used as string constant in Python. The **string.punctuation** will give all sets of punctuation."
      ]
    },
    {
      "cell_type": "code",
      "metadata": {
        "id": "262kQUoJzq7M",
        "colab_type": "code",
        "colab": {
          "base_uri": "https://localhost:8080/",
          "height": 71
        },
        "outputId": "ecdbbd01-dec9-4e67-9883-79d44f425420"
      },
      "source": [
        "#\n",
        "import string\n",
        "exclude = set(string.punctuation) \n",
        "print(exclude)\n",
        "\n",
        "nopunctuation_word=[]\n",
        "for w in tokenized_word:\n",
        "    if w not in exclude:\n",
        "        nopunctuation_word.append(w)\n",
        "        \n",
        "print(\"nopunctuation:\",nopunctuation_word[:60])"
      ],
      "execution_count": 10,
      "outputs": [
        {
          "output_type": "stream",
          "text": [
            "{'(', '*', \"'\", '&', '[', '`', '%', '.', '+', ',', '<', '/', '-', '?', '\\\\', '~', '!', '}', '@', ':', '|', '$', ')', '=', ']', '{', '\"', '^', '#', ';', '>', '_'}\n",
            "nopunctuation: ['US', 'business', 'leader', 'Kay', 'Koplovitz', 'forges', 'new', 'ground', 'for', 'female', 'entrepreneurs', 'by', 'Joanne', 'Gray', 'Women', 'in', 'science', 'and', 'technology', 'are', 'gaining', 'a', 'higher', 'profile', 'in', 'Australia', 'as', 'entrepreneurs', 'says', 'Kay', 'Koplovitz', 'a', 'leading', 'successful', 'businesswoman', 'in', 'the', 'US', 'and', 'founder', 'of', 'USA', 'Network', 'Her', 'successful', 'incubator', 'Springboard', 'Enterprises', 'launched', 'in', 'Australia', 'five', 'years', 'ago', 'trains', 'women', 'founders', 'with', 'potentially', 'high']\n"
          ],
          "name": "stdout"
        }
      ]
    },
    {
      "cell_type": "markdown",
      "metadata": {
        "id": "uC6k9h_OzKBv",
        "colab_type": "text"
      },
      "source": [
        "### 3.6 Frequency Distribution (before transformation)\n",
        "The FreqDist class is used to encode “frequency distributions”, which count the number of times that each outcome of an experiment occurs. I'm using FreqDist to plot the frequency distribution of the most common words prior to performing additional transformation in the text. The most common words are shown below. Notice that the common stopwords (i.e. the, and, to, etc.) appear in the list."
      ]
    },
    {
      "cell_type": "code",
      "metadata": {
        "id": "29Yr-ffwWKLr",
        "colab_type": "code",
        "outputId": "cf5ccf35-b854-43f9-aa60-b6c9ccb8cba1",
        "colab": {
          "base_uri": "https://localhost:8080/",
          "height": 204
        }
      },
      "source": [
        "from nltk.probability import FreqDist\n",
        "\n",
        "fdist = FreqDist(nopunctuation_word)\n",
        "print(fdist)\n",
        "fdist.most_common(10)"
      ],
      "execution_count": 12,
      "outputs": [
        {
          "output_type": "stream",
          "text": [
            "<FreqDist with 7473 samples and 60961 outcomes>\n"
          ],
          "name": "stdout"
        },
        {
          "output_type": "execute_result",
          "data": {
            "text/plain": [
              "[('the', 2501),\n",
              " ('and', 2416),\n",
              " ('to', 1785),\n",
              " ('of', 1748),\n",
              " ('in', 1046),\n",
              " ('a', 989),\n",
              " ('EY', 636),\n",
              " ('for', 593),\n",
              " ('\\x92', 539),\n",
              " ('is', 532)]"
            ]
          },
          "metadata": {
            "tags": []
          },
          "execution_count": 12
        }
      ]
    },
    {
      "cell_type": "code",
      "metadata": {
        "id": "U7NwxdCfWKLt",
        "colab_type": "code",
        "outputId": "518f607c-36ec-4afb-b9df-d3eb18d11ab7",
        "colab": {
          "base_uri": "https://localhost:8080/",
          "height": 310
        }
      },
      "source": [
        "# The graph below shows the most common words across all 28 documents prior to performing additional transformation in the text.\n",
        "\n",
        "import matplotlib.pyplot as plt\n",
        "fdist.plot(20,cumulative=False)\n",
        "plt.show()"
      ],
      "execution_count": 14,
      "outputs": [
        {
          "output_type": "display_data",
          "data": {
            "image/png": "[encoded data removed]",
            "text/plain": [
              "<Figure size 432x288 with 1 Axes>"
            ]
          },
          "metadata": {
            "tags": []
          }
        }
      ]
    },
    {
      "cell_type": "markdown",
      "metadata": {
        "id": "BXzVmkQY8Num",
        "colab_type": "text"
      },
      "source": [
        "### 3.7 Remove common english stopwords.\n",
        "Convert all words to lowercase. The lower() methods returns the lowercased string from the given string. It converts all uppercase characters to lowercase. Then, remove the common english stopwords to remove the noise from the data. Add any additional stopwords in your list as required."
      ]
    },
    {
      "cell_type": "code",
      "metadata": {
        "id": "P0ULf45kWKLx",
        "colab_type": "code",
        "outputId": "90202997-0c62-4f0e-8db5-1447143a03cf",
        "colab": {
          "base_uri": "https://localhost:8080/",
          "height": 105
        }
      },
      "source": [
        "from nltk.corpus import stopwords\n",
        "\n",
        "# Convert all words to lowercase.\n",
        "lower_word = [word.lower() for word in nopunctuation_word]\n",
        "print(\"lowercase:\", lower_word[:20])\n",
        "\n",
        "# Initialise stop_words to contain the commom english topwords.\n",
        "stop_words=stopwords.words(\"english\")\n",
        "print(\"stopwords:\", stop_words[:20])\n",
        "\n",
        "# Add additional words in the stopwords list that do not add value to the analysis.\n",
        "\n",
        "stop_words.extend([\"can\", \"say\",\"one\",\"way\",\"use\",\"here\",\"I\",\n",
        "                 \"also\",\"howev\",\"tell\",\"will\",\"help\",\"also\",\n",
        "                 \"much\",\"need\",\"take\",\"tend\",\"even\",\"us\",\"US\"\n",
        "                 \"like\",\"particular\",\"rather\",\"said\",\"EY\",\"ey\"\n",
        "                 \"get\",\"well\",\"make\",\"ask\",\"come\",\"end\",\n",
        "                 \"first\",\"two\",\"help\",\"often\",\"may\",\n",
        "                 \"might\",\"see\",\"someth\",\"thing\",\"point\",\n",
        "                 \"post\",\"look\",\"right\",\"now\",\"think\",\"'ve \",\n",
        "                 \"'re \",\"anoth\",\"put\",\"set\",\"new\",\"good\",\n",
        "                 \"want\",\"sure\",\"kind\",\"larg\",\"yes,\",\"day\",\"etc\",\n",
        "                 \"quit\",\"sinc\",\"attempt\",\"lack\",\"seen\",\"awar\",\n",
        "                 \"littl\",\"ever\",\"moreov\",\"though\",\"found\",\"abl\",\n",
        "                 \"enough\",\"far\",\"earli\",\"away\",\"achiev\",\"draw\",\n",
        "                 \"last\",\"never\",\"brief\",\"bit\",\"entir\",\"brief\",\n",
        "                 \"great\",\"lot\",\"include\",\"provide\",\"year\",\"new\",\"help\",\n",
        "                 \"includ\",\"one\",\"require\",\"use\",\"make\",\"better\",\n",
        "                 \"way\",\"like\",\"across\",\"valu\",\"provide\",\"young\",\"continu\",\n",
        "                 \"tropfest\",\"ernst\",\"four\",\"limit\",\"and\",\"however\", \"\\x92\", \"\\x93\",\"\\x94\",\n",
        "                 \"\\x95\",\"\\x96\",\"\\x97\",\"\\x98\",\"\\x99\",\"the\",\"in\",\"because\",\"includ\",\"this\",\"those\",\"where\",\"ey\",\"aaditya\",\n",
        "                  \"includ\",\"go\",\"get\",\"many\",\"less\",\"year\",\"number\",\"give\"])\n",
        "\n",
        "filtered_word=[]\n",
        "for w in lower_word:\n",
        "    if w not in stop_words:\n",
        "        filtered_word.append(w)\n",
        "\n",
        "print(\"nopunctuation:\",nopunctuation_word[:20])\n",
        "print(\"Filtered:\",filtered_word[:20])"
      ],
      "execution_count": 23,
      "outputs": [
        {
          "output_type": "stream",
          "text": [
            "lowercase: ['us', 'business', 'leader', 'kay', 'koplovitz', 'forges', 'new', 'ground', 'for', 'female', 'entrepreneurs', 'by', 'joanne', 'gray', 'women', 'in', 'science', 'and', 'technology', 'are']\n",
            "stopwords: ['i', 'me', 'my', 'myself', 'we', 'our', 'ours', 'ourselves', 'you', \"you're\", \"you've\", \"you'll\", \"you'd\", 'your', 'yours', 'yourself', 'yourselves', 'he', 'him', 'his']\n",
            "nopunctuation: ['US', 'business', 'leader', 'Kay', 'Koplovitz', 'forges', 'new', 'ground', 'for', 'female', 'entrepreneurs', 'by', 'Joanne', 'Gray', 'Women', 'in', 'science', 'and', 'technology', 'are']\n",
            "Filtered: ['business', 'leader', 'kay', 'koplovitz', 'forges', 'ground', 'female', 'entrepreneurs', 'joanne', 'gray', 'women', 'science', 'technology', 'gaining', 'higher', 'profile', 'australia', 'entrepreneurs', 'says', 'kay']\n"
          ],
          "name": "stdout"
        }
      ]
    },
    {
      "cell_type": "markdown",
      "metadata": {
        "id": "JXil8eWiBBiE",
        "colab_type": "text"
      },
      "source": [
        "### 3.8 Stemming and Lemmatization\n",
        "Stemming is a process of linguistic normalization, which reduces words to their word root word. Lemmatization reduces words to their base word, which transforms root word with the use of vocabulary and morphological analysis."
      ]
    },
    {
      "cell_type": "code",
      "metadata": {
        "id": "MMa79iy5WKL0",
        "colab_type": "code",
        "outputId": "fd09244f-ac66-40d6-f6d0-fa532521a2d0",
        "colab": {
          "base_uri": "https://localhost:8080/",
          "height": 71
        }
      },
      "source": [
        "# Use ps.stem for Stemming.\n",
        "\n",
        "from nltk.stem import PorterStemmer\n",
        "ps = PorterStemmer()\n",
        "\n",
        "stemmed_word=[]\n",
        "for w in filtered_word:\n",
        "    stemmed_word.append(ps.stem(w))\n",
        "\n",
        "print(\"filtered:\",filtered_word[:20])\n",
        "print(\"Stemmed:\",stemmed_word[:20])"
      ],
      "execution_count": 25,
      "outputs": [
        {
          "output_type": "stream",
          "text": [
            "filtered: ['business', 'leader', 'kay', 'koplovitz', 'forges', 'ground', 'female', 'entrepreneurs', 'joanne', 'gray', 'women', 'science', 'technology', 'gaining', 'higher', 'profile', 'australia', 'entrepreneurs', 'says', 'kay']\n",
            "Stemmed: ['busi', 'leader', 'kay', 'koplovitz', 'forg', 'ground', 'femal', 'entrepreneur', 'joann', 'gray', 'women', 'scienc', 'technolog', 'gain', 'higher', 'profil', 'australia', 'entrepreneur', 'say', 'kay']\n"
          ],
          "name": "stdout"
        }
      ]
    },
    {
      "cell_type": "code",
      "metadata": {
        "id": "IopnC8CCWKL5",
        "colab_type": "code",
        "outputId": "97b12a39-b37e-44f0-84ba-bf5e8fa13d2a",
        "colab": {
          "base_uri": "https://localhost:8080/",
          "height": 71
        }
      },
      "source": [
        "# Use lem.lemmatize for Lemmatization.\n",
        "\n",
        "from nltk.stem.wordnet import WordNetLemmatizer\n",
        "lem = WordNetLemmatizer()\n",
        "\n",
        "clean_word=[]\n",
        "for w in stemmed_word:\n",
        "    clean_word.append(lem.lemmatize(w,\"v\"))\n",
        "\n",
        "print(\"Stemmed:\",stemmed_word[:20])\n",
        "print(\"Lemmatized:\",clean_word[:20])"
      ],
      "execution_count": 27,
      "outputs": [
        {
          "output_type": "stream",
          "text": [
            "Stemmed: ['busi', 'leader', 'kay', 'koplovitz', 'forg', 'ground', 'femal', 'entrepreneur', 'joann', 'gray', 'women', 'scienc', 'technolog', 'gain', 'higher', 'profil', 'australia', 'entrepreneur', 'say', 'kay']\n",
            "Lemmatized: ['busi', 'leader', 'kay', 'koplovitz', 'forg', 'grind', 'femal', 'entrepreneur', 'joann', 'gray', 'women', 'scienc', 'technolog', 'gain', 'higher', 'profil', 'australia', 'entrepreneur', 'say', 'kay']\n"
          ],
          "name": "stdout"
        }
      ]
    },
    {
      "cell_type": "code",
      "metadata": {
        "id": "923Sah4oWKL7",
        "colab_type": "code",
        "colab": {}
      },
      "source": [
        "#clean_word = [word.lower() for word in lm_word]\n",
        "#print(clean_word[:100])"
      ],
      "execution_count": 0,
      "outputs": []
    },
    {
      "cell_type": "markdown",
      "metadata": {
        "id": "WJc8juPOC7pK",
        "colab_type": "text"
      },
      "source": [
        "### 3.9 Frequency Distribution (after transformation)\n",
        "The graph below shows the top 20 most common words found in the corpus. Noticed that the words shown are keywords that can provide some insights from the documents."
      ]
    },
    {
      "cell_type": "code",
      "metadata": {
        "id": "2icg2jiDWKL9",
        "colab_type": "code",
        "outputId": "9dbc0b03-70dc-4720-ed85-50f9f1def2e9",
        "colab": {
          "base_uri": "https://localhost:8080/",
          "height": 342
        }
      },
      "source": [
        "fdist = FreqDist(clean_word)\n",
        "print(fdist)\n",
        "fdist.most_common(20)\n",
        "\n",
        "import matplotlib.pyplot as plt\n",
        "fdist.plot(20,cumulative=False)\n",
        "plt.show()"
      ],
      "execution_count": 30,
      "outputs": [
        {
          "output_type": "stream",
          "text": [
            "<FreqDist with 4194 samples and 33517 outcomes>\n"
          ],
          "name": "stdout"
        },
        {
          "output_type": "display_data",
          "data": {
            "image/png": "[encoded data removed]",
            "text/plain": [
              "<Figure size 432x288 with 1 Axes>"
            ]
          },
          "metadata": {
            "tags": []
          }
        }
      ]
    },
    {
      "cell_type": "code",
      "metadata": {
        "id": "cTtA2FR2WKL_",
        "colab_type": "code",
        "outputId": "3d3264cf-ba21-4530-8a9d-84a39f5ae438",
        "colab": {
          "base_uri": "https://localhost:8080/",
          "height": 253
        }
      },
      "source": [
        "from nltk.corpus import webtext\n",
        "from nltk.probability import FreqDist\n",
        "from wordcloud import WordCloud\n",
        "import matplotlib.pyplot as plt\n",
        " \n",
        "nltk.download('webtext')\n",
        "#wt_words = webtext.words('testing.txt')  # Sample data\n",
        "data_analysis = nltk.FreqDist(clean_word)\n",
        " \n",
        "filter_words = dict([(m, n) for m, n in data_analysis.items() if len(m) > 1])\n",
        " \n",
        "wcloud = WordCloud().generate_from_frequencies(filter_words)\n",
        " \n",
        "# Plotting the wordcloud\n",
        "plt.imshow(wcloud, interpolation=\"bilinear\")\n",
        " \n",
        "plt.axis(\"on\")\n",
        "(-0.5, 499.5, 299.5, -0.5)\n",
        "plt.show()"
      ],
      "execution_count": 0,
      "outputs": [
        {
          "output_type": "stream",
          "text": [
            "[nltk_data] Downloading package webtext to /root/nltk_data...\n",
            "[nltk_data]   Package webtext is already up-to-date!\n"
          ],
          "name": "stderr"
        },
        {
          "output_type": "display_data",
          "data": {
            "image/png": "[encoded data removed]",
            "text/plain": [
              "<Figure size 432x288 with 1 Axes>"
            ]
          },
          "metadata": {
            "tags": []
          }
        }
      ]
    },
    {
      "cell_type": "markdown",
      "metadata": {
        "id": "NuwJiYPsYWuE",
        "colab_type": "text"
      },
      "source": [
        "#Gensim"
      ]
    },
    {
      "cell_type": "code",
      "metadata": {
        "id": "R_Ga5yjdWKLn",
        "colab_type": "code",
        "outputId": "2b388feb-b593-40eb-d063-8ba176cbe92d",
        "colab": {
          "base_uri": "https://localhost:8080/",
          "height": 54
        }
      },
      "source": [
        "#tokenized_sent = corpus.sents()\n",
        "#print(tokenized_sent)\n",
        "\n",
        "tokenized_sent = corpus.sents()\n",
        "print(tokenized_sent[0])"
      ],
      "execution_count": 0,
      "outputs": [
        {
          "output_type": "stream",
          "text": [
            "['US', 'business', 'leader', 'Kay', 'Koplovitz', 'forges', 'new', 'ground', 'for', 'female', 'entrepreneurs', 'by', 'Joanne', 'Gray', 'Women', 'in', 'science', 'and', 'technology', 'are', 'gaining', 'a', 'higher', 'profile', 'in', 'Australia', 'as', 'entrepreneurs', ',', 'says', 'Kay', 'Koplovitz', ',', 'a', 'leading', 'successful', 'businesswoman', 'in', 'the', 'US', 'and', 'founder', 'of', 'USA', 'Network', '.']\n"
          ],
          "name": "stdout"
        }
      ]
    },
    {
      "cell_type": "code",
      "metadata": {
        "id": "i1R_gMn58g6o",
        "colab_type": "code",
        "outputId": "266fa0a0-10c1-4fcb-9d8c-e9d1e0abbba4",
        "colab": {
          "base_uri": "https://localhost:8080/",
          "height": 54
        }
      },
      "source": [
        "def sent_to_words(sentences):\n",
        "    for sentence in sentences:\n",
        "        #print(sentence)\n",
        "        yield(gensim.utils.simple_preprocess(str(sentence), deacc=True))# deacc=True removes punctuations\n",
        "\n",
        "data_words = list(sent_to_words(tokenized_sent))\n",
        "\n",
        "print(data_words[:2])"
      ],
      "execution_count": 0,
      "outputs": [
        {
          "output_type": "stream",
          "text": [
            "[['us', 'business', 'leader', 'kay', 'koplovitz', 'forges', 'new', 'ground', 'for', 'female', 'entrepreneurs', 'by', 'joanne', 'gray', 'women', 'in', 'science', 'and', 'technology', 'are', 'gaining', 'higher', 'profile', 'in', 'australia', 'as', 'entrepreneurs', 'says', 'kay', 'koplovitz', 'leading', 'successful', 'businesswoman', 'in', 'the', 'us', 'and', 'founder', 'of', 'usa', 'network'], ['her', 'successful', 'incubator', 'springboard', 'enterprises', 'launched', 'in', 'australia', 'five', 'years', 'ago', 'trains', 'women', 'founders', 'with', 'potentially', 'high', 'growth', 'businesses', 'to', 'raise', 'venture', 'capital', 'with', 'week', 'course', 'and', 'two', 'day', 'boot', 'camp', 'which', 'runs', 'this', 'week']]\n"
          ],
          "name": "stdout"
        }
      ]
    },
    {
      "cell_type": "code",
      "metadata": {
        "id": "ckonue-E9Z6b",
        "colab_type": "code",
        "outputId": "d91db02d-1c21-436b-aa0e-df5e90596429",
        "colab": {
          "base_uri": "https://localhost:8080/",
          "height": 88
        }
      },
      "source": [
        "# Build the bigram and trigram models\n",
        "bigram = gensim.models.Phrases(data_words, min_count=5, threshold=100) # higher threshold fewer phrases.\n",
        "trigram = gensim.models.Phrases(bigram[data_words], threshold=100)  \n",
        "\n",
        "# Faster way to get a sentence clubbed as a trigram/bigram\n",
        "bigram_mod = gensim.models.phrases.Phraser(bigram)\n",
        "trigram_mod = gensim.models.phrases.Phraser(trigram)\n",
        "\n",
        "# See trigram example\n",
        "print(trigram_mod[bigram_mod[data_words[1]]])"
      ],
      "execution_count": 0,
      "outputs": [
        {
          "output_type": "stream",
          "text": [
            "/usr/local/lib/python3.6/dist-packages/gensim/models/phrases.py:598: UserWarning: For a faster implementation, use the gensim.models.phrases.Phraser class\n",
            "  warnings.warn(\"For a faster implementation, use the gensim.models.phrases.Phraser class\")\n"
          ],
          "name": "stderr"
        },
        {
          "output_type": "stream",
          "text": [
            "['her', 'successful', 'incubator', 'springboard', 'enterprises', 'launched', 'in', 'australia', 'five', 'years_ago', 'trains', 'women', 'founders', 'with', 'potentially', 'high', 'growth', 'businesses', 'to', 'raise', 'venture_capital', 'with', 'week', 'course', 'and', 'two', 'day', 'boot', 'camp', 'which', 'runs', 'this', 'week']\n"
          ],
          "name": "stdout"
        }
      ]
    },
    {
      "cell_type": "code",
      "metadata": {
        "id": "Q8OB2pUWWKLv",
        "colab_type": "code",
        "outputId": "77faa59c-4b43-47dc-8681-c44158c4f2a7",
        "colab": {
          "base_uri": "https://localhost:8080/",
          "height": 88
        }
      },
      "source": [
        "from nltk.corpus import stopwords\n",
        "stop_words=stopwords.words(\"english\")\n",
        "print(len(stop_words))\n",
        "\n",
        "stop_words.extend([\"can\", \"say\",\"one\",\"way\",\"use\",\"here\",\"I\",\n",
        "                 \"also\",\"howev\",\"tell\",\"will\",\"help\",\"also\",\n",
        "                 \"much\",\"need\",\"take\",\"tend\",\"even\",\"us\",\"US\"\n",
        "                 \"like\",\"particular\",\"rather\",\"said\",\"EY\",\"ey\"\n",
        "                 \"get\",\"well\",\"make\",\"ask\",\"come\",\"end\",\n",
        "                 \"first\",\"two\",\"help\",\"often\",\"may\",\n",
        "                 \"might\",\"see\",\"someth\",\"thing\",\"point\",\n",
        "                 \"post\",\"look\",\"right\",\"now\",\"think\",\"'ve \",\n",
        "                 \"'re \",\"anoth\",\"put\",\"set\",\"new\",\"good\",\n",
        "                 \"want\",\"sure\",\"kind\",\"larg\",\"yes,\",\"day\",\"etc\",\n",
        "                 \"quit\",\"sinc\",\"attempt\",\"lack\",\"seen\",\"awar\",\n",
        "                 \"littl\",\"ever\",\"moreov\",\"though\",\"found\",\"abl\",\n",
        "                 \"enough\",\"far\",\"earli\",\"away\",\"achiev\",\"draw\",\n",
        "                 \"last\",\"never\",\"brief\",\"bit\",\"entir\",\"brief\",\n",
        "                 \"great\",\"lot\",\"include\",\"provide\",\"year\",\"new\",\"help\",\n",
        "                 \"includ\",\"one\",\"require\",\"use\",\"make\",\"better\",\n",
        "                 \"way\",\"like\",\"across\",\"valu\",\"provide\",\"young\",\"continu\",\n",
        "                 \"tropfest\",\"ernst\",\"four\",\"limit\",\"and\",\"however\", \"\\x92\", \"\\x93\",\"\\x94\",\n",
        "                 \"\\x95\",\"\\x96\",\"\\x97\",\"\\x98\",\"\\x99\",\"the\",\"in\",\"because\",\"includ\",\"this\",\"those\",\"where\",\"ey\",\"aaditya\",\n",
        "                  \"includ\",\"go\",\"get\",\"many\",\"less\",\"year\",\"number\",\"give\"])\n",
        "print(len(stop_words))\n",
        "print(stop_words)"
      ],
      "execution_count": 0,
      "outputs": [
        {
          "output_type": "stream",
          "text": [
            "179\n",
            "313\n",
            "['i', 'me', 'my', 'myself', 'we', 'our', 'ours', 'ourselves', 'you', \"you're\", \"you've\", \"you'll\", \"you'd\", 'your', 'yours', 'yourself', 'yourselves', 'he', 'him', 'his', 'himself', 'she', \"she's\", 'her', 'hers', 'herself', 'it', \"it's\", 'its', 'itself', 'they', 'them', 'their', 'theirs', 'themselves', 'what', 'which', 'who', 'whom', 'this', 'that', \"that'll\", 'these', 'those', 'am', 'is', 'are', 'was', 'were', 'be', 'been', 'being', 'have', 'has', 'had', 'having', 'do', 'does', 'did', 'doing', 'a', 'an', 'the', 'and', 'but', 'if', 'or', 'because', 'as', 'until', 'while', 'of', 'at', 'by', 'for', 'with', 'about', 'against', 'between', 'into', 'through', 'during', 'before', 'after', 'above', 'below', 'to', 'from', 'up', 'down', 'in', 'out', 'on', 'off', 'over', 'under', 'again', 'further', 'then', 'once', 'here', 'there', 'when', 'where', 'why', 'how', 'all', 'any', 'both', 'each', 'few', 'more', 'most', 'other', 'some', 'such', 'no', 'nor', 'not', 'only', 'own', 'same', 'so', 'than', 'too', 'very', 's', 't', 'can', 'will', 'just', 'don', \"don't\", 'should', \"should've\", 'now', 'd', 'll', 'm', 'o', 're', 've', 'y', 'ain', 'aren', \"aren't\", 'couldn', \"couldn't\", 'didn', \"didn't\", 'doesn', \"doesn't\", 'hadn', \"hadn't\", 'hasn', \"hasn't\", 'haven', \"haven't\", 'isn', \"isn't\", 'ma', 'mightn', \"mightn't\", 'mustn', \"mustn't\", 'needn', \"needn't\", 'shan', \"shan't\", 'shouldn', \"shouldn't\", 'wasn', \"wasn't\", 'weren', \"weren't\", 'won', \"won't\", 'wouldn', \"wouldn't\", 'can', 'say', 'one', 'way', 'use', 'here', 'I', 'also', 'howev', 'tell', 'will', 'help', 'also', 'much', 'need', 'take', 'tend', 'even', 'us', 'USlike', 'particular', 'rather', 'said', 'EY', 'eyget', 'well', 'make', 'ask', 'come', 'end', 'first', 'two', 'help', 'often', 'may', 'might', 'see', 'someth', 'thing', 'point', 'post', 'look', 'right', 'now', 'think', \"'ve \", \"'re \", 'anoth', 'put', 'set', 'new', 'good', 'want', 'sure', 'kind', 'larg', 'yes,', 'day', 'etc', 'quit', 'sinc', 'attempt', 'lack', 'seen', 'awar', 'littl', 'ever', 'moreov', 'though', 'found', 'abl', 'enough', 'far', 'earli', 'away', 'achiev', 'draw', 'last', 'never', 'brief', 'bit', 'entir', 'brief', 'great', 'lot', 'include', 'provide', 'year', 'new', 'help', 'includ', 'one', 'require', 'use', 'make', 'better', 'way', 'like', 'across', 'valu', 'provide', 'young', 'continu', 'tropfest', 'ernst', 'four', 'limit', 'and', 'however', '\\x92', '\\x93', '\\x94', '\\x95', '\\x96', '\\x97', '\\x98', '\\x99', 'the', 'in', 'because', 'includ', 'this', 'those', 'where', 'ey', 'aaditya', 'includ', 'go', 'get', 'many', 'less', 'year', 'number', 'give']\n"
          ],
          "name": "stdout"
        }
      ]
    },
    {
      "cell_type": "code",
      "metadata": {
        "id": "AzJLBf4Q9uXI",
        "colab_type": "code",
        "colab": {}
      },
      "source": [
        "# Define functions for stopwords, bigrams, trigrams and lemmatization\n",
        "def remove_stopwords(texts):\n",
        "    return [[word for word in simple_preprocess(str(doc)) if word not in stop_words] for doc in texts]\n",
        "\n",
        "def make_bigrams(texts):\n",
        "    return [bigram_mod[doc] for doc in texts]\n",
        "\n",
        "def make_trigrams(texts):\n",
        "    return [trigram_mod[bigram_mod[doc]] for doc in texts]\n",
        "\n",
        "def lemmatization(texts, allowed_postags=['NOUN', 'ADJ', 'VERB', 'ADV']):\n",
        "    \"\"\"https://spacy.io/api/annotation\"\"\"\n",
        "    texts_out = []\n",
        "    for sent in texts:\n",
        "        doc = nlp(\" \".join(sent)) \n",
        "        texts_out.append([token.lemma_ for token in doc if token.pos_ in allowed_postags])\n",
        "    return texts_out"
      ],
      "execution_count": 0,
      "outputs": []
    },
    {
      "cell_type": "code",
      "metadata": {
        "id": "OqWzJKNg-JlD",
        "colab_type": "code",
        "outputId": "fbfcd35d-dc52-40a5-c0d2-aac95348bfaf",
        "colab": {
          "base_uri": "https://localhost:8080/",
          "height": 54
        }
      },
      "source": [
        "# Remove Stop Words\n",
        "data_words_nostops = remove_stopwords(data_words)\n",
        "\n",
        "# Form Bigrams\n",
        "data_words_bigrams = make_bigrams(data_words_nostops)\n",
        "\n",
        "# Initialize spacy 'en' model, keeping only tagger component (for efficiency)\n",
        "# python3 -m spacy download en\n",
        "nlp = spacy.load('en', disable=['parser', 'ner'])\n",
        "\n",
        "# Do lemmatization keeping only noun, adj, vb, adv\n",
        "data_lemmatized = lemmatization(data_words_bigrams, allowed_postags=['NOUN', 'ADJ', 'VERB', 'ADV'])\n",
        "\n",
        "print(data_lemmatized[:1])\n"
      ],
      "execution_count": 0,
      "outputs": [
        {
          "output_type": "stream",
          "text": [
            "[['business', 'leader', 'kay', 'koplovitz', 'forge', 'ground', 'female', 'entrepreneur', 'gray', 'woman', 'science', 'technology', 'gain', 'high', 'profile', 'australia', 'entrepreneur', 'say', 'kay', 'koplovitz', 'lead', 'successful', 'businesswoman', 'founder', 'usa', 'network']]\n"
          ],
          "name": "stdout"
        }
      ]
    },
    {
      "cell_type": "code",
      "metadata": {
        "id": "s1pNzHWJ-aXM",
        "colab_type": "code",
        "outputId": "c164fbeb-f158-4fb9-9557-338887d31f83",
        "colab": {
          "base_uri": "https://localhost:8080/",
          "height": 54
        }
      },
      "source": [
        "# Create Dictionary\n",
        "id2word = corpora.Dictionary(data_lemmatized)\n",
        "\n",
        "# Create Corpus\n",
        "texts = data_lemmatized\n",
        "\n",
        "# Term Document Frequency\n",
        "corpus = [id2word.doc2bow(text) for text in texts]\n",
        "\n",
        "# View\n",
        "print(corpus[:1])"
      ],
      "execution_count": 0,
      "outputs": [
        {
          "output_type": "stream",
          "text": [
            "[[(0, 1), (1, 1), (2, 1), (3, 2), (4, 1), (5, 1), (6, 1), (7, 1), (8, 1), (9, 1), (10, 1), (11, 2), (12, 2), (13, 1), (14, 1), (15, 1), (16, 1), (17, 1), (18, 1), (19, 1), (20, 1), (21, 1), (22, 1)]]\n"
          ],
          "name": "stdout"
        }
      ]
    },
    {
      "cell_type": "code",
      "metadata": {
        "id": "GDFGaAOr-fGd",
        "colab_type": "code",
        "outputId": "b0fc9bd2-7608-4c32-8084-730f92b06c7d",
        "colab": {
          "base_uri": "https://localhost:8080/",
          "height": 34
        }
      },
      "source": [
        "id2word[1]"
      ],
      "execution_count": 0,
      "outputs": [
        {
          "output_type": "execute_result",
          "data": {
            "text/plain": [
              "'business'"
            ]
          },
          "metadata": {
            "tags": []
          },
          "execution_count": 16
        }
      ]
    },
    {
      "cell_type": "code",
      "metadata": {
        "id": "T57DfcPD-j3Y",
        "colab_type": "code",
        "outputId": "7bc411dd-809a-494a-a1a6-24c963449d28",
        "colab": {
          "base_uri": "https://localhost:8080/",
          "height": 408
        }
      },
      "source": [
        "# Human readable format of corpus (term-frequency)\n",
        "[[(id2word[id], freq) for id, freq in cp] for cp in corpus[:1]]"
      ],
      "execution_count": 0,
      "outputs": [
        {
          "output_type": "execute_result",
          "data": {
            "text/plain": [
              "[[('australia', 1),\n",
              "  ('business', 1),\n",
              "  ('businesswoman', 1),\n",
              "  ('entrepreneur', 2),\n",
              "  ('female', 1),\n",
              "  ('forge', 1),\n",
              "  ('founder', 1),\n",
              "  ('gain', 1),\n",
              "  ('gray', 1),\n",
              "  ('ground', 1),\n",
              "  ('high', 1),\n",
              "  ('kay', 2),\n",
              "  ('koplovitz', 2),\n",
              "  ('lead', 1),\n",
              "  ('leader', 1),\n",
              "  ('network', 1),\n",
              "  ('profile', 1),\n",
              "  ('say', 1),\n",
              "  ('science', 1),\n",
              "  ('successful', 1),\n",
              "  ('technology', 1),\n",
              "  ('usa', 1),\n",
              "  ('woman', 1)]]"
            ]
          },
          "metadata": {
            "tags": []
          },
          "execution_count": 112
        }
      ]
    },
    {
      "cell_type": "code",
      "metadata": {
        "id": "jRX6eHXh-3D1",
        "colab_type": "code",
        "colab": {}
      },
      "source": [
        "# Build LDA model\n",
        "lda_model = gensim.models.ldamodel.LdaModel(corpus=corpus,\n",
        "                                           id2word=id2word,\n",
        "                                           num_topics=6, \n",
        "                                           random_state=100,\n",
        "                                           update_every=1,\n",
        "                                           chunksize=100,\n",
        "                                           passes=10,\n",
        "                                           alpha='auto',\n",
        "                                           per_word_topics=True)"
      ],
      "execution_count": 0,
      "outputs": []
    },
    {
      "cell_type": "code",
      "metadata": {
        "id": "BfI23JNZ-90A",
        "colab_type": "code",
        "outputId": "7f3b89ad-4a70-48d3-823a-08f86f443b4a",
        "colab": {
          "base_uri": "https://localhost:8080/",
          "height": 425
        }
      },
      "source": [
        "# Print the Keyword in the 4 topics\n",
        "pprint(lda_model.print_topics())\n",
        "doc_lda = lda_model[corpus]"
      ],
      "execution_count": 0,
      "outputs": [
        {
          "output_type": "stream",
          "text": [
            "[(0,\n",
            "  '0.040*\"business\" + 0.023*\"people\" + 0.023*\"work\" + 0.020*\"university\" + '\n",
            "  '0.019*\"idea\" + 0.014*\"organisation\" + 0.014*\"opportunity\" + 0.013*\"world\" + '\n",
            "  '0.012*\"support\" + 0.010*\"scholarship\"'),\n",
            " (1,\n",
            "  '0.033*\"research\" + 0.021*\"impact\" + 0.017*\"year\" + 0.015*\"australian\" + '\n",
            "  '0.014*\"change\" + 0.013*\"polson\" + 0.013*\"would\" + 0.013*\"accounting\" + '\n",
            "  '0.012*\"national\" + 0.011*\"investment\"'),\n",
            " (2,\n",
            "  '0.026*\"win\" + 0.023*\"project\" + 0.015*\"event\" + 0.014*\"equipment\" + '\n",
            "  '0.013*\"competition\" + 0.011*\"grow\" + 0.010*\"return\" + 0.010*\"social\" + '\n",
            "  '0.009*\"run\" + 0.009*\"engage\"'),\n",
            " (3,\n",
            "  '0.040*\"company\" + 0.028*\"global\" + 0.018*\"future\" + 0.017*\"firm\" + '\n",
            "  '0.016*\"employee\" + 0.011*\"tax\" + 0.011*\"australia\" + 0.011*\"large\" + '\n",
            "  '0.010*\"pitch\" + 0.009*\"sponsor\"'),\n",
            " (4,\n",
            "  '0.031*\"service\" + 0.020*\"big\" + 0.016*\"engineering\" + 0.015*\"analytic\" + '\n",
            "  '0.014*\"datum\" + 0.014*\"create\" + 0.014*\"client\" + 0.013*\"firm\" + '\n",
            "  '0.012*\"include\" + 0.012*\"provide\"'),\n",
            " (5,\n",
            "  '0.046*\"student\" + 0.037*\"program\" + 0.023*\"team\" + 0.022*\"financial\" + '\n",
            "  '0.018*\"bachelor\" + 0.017*\"professional\" + 0.017*\"time\" + 0.016*\"audit\" + '\n",
            "  '0.011*\"purpose\" + 0.011*\"problem\"')]\n"
          ],
          "name": "stdout"
        }
      ]
    },
    {
      "cell_type": "code",
      "metadata": {
        "id": "Ihk4OzdKApvf",
        "colab_type": "code",
        "outputId": "a703d31d-c938-4e34-8181-e2fd1cea498a",
        "colab": {
          "base_uri": "https://localhost:8080/",
          "height": 85
        }
      },
      "source": [
        "# Compute Perplexity\n",
        "print('\\nPerplexity: ', lda_model.log_perplexity(corpus))  # a measure of how good the model is. lower the better.\n",
        "\n",
        "# Compute Coherence Score\n",
        "coherence_model_lda = CoherenceModel(model=lda_model, texts=data_lemmatized, dictionary=id2word, coherence='c_v')\n",
        "coherence_lda = coherence_model_lda.get_coherence()\n",
        "print('\\nCoherence Score: ', coherence_lda)"
      ],
      "execution_count": 0,
      "outputs": [
        {
          "output_type": "stream",
          "text": [
            "\n",
            "Perplexity:  -8.137580497819279\n",
            "\n",
            "Coherence Score:  0.4378039257496782\n"
          ],
          "name": "stdout"
        }
      ]
    },
    {
      "cell_type": "code",
      "metadata": {
        "id": "IKe4dlKkBYsy",
        "colab_type": "code",
        "colab": {}
      },
      "source": [
        "# Visualize the topics\n",
        "pyLDAvis.enable_notebook()\n",
        "vis = pyLDAvis.gensim.prepare(lda_model, corpus, id2word)\n",
        "vis"
      ],
      "execution_count": 0,
      "outputs": []
    }
  ]
}
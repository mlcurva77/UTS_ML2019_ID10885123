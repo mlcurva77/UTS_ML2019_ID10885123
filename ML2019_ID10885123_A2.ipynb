{
  "nbformat": 4,
  "nbformat_minor": 0,
  "metadata": {
    "colab": {
      "name": "ML2019_ID10885123_A2.ipynb",
      "provenance": []
    },
    "kernelspec": {
      "display_name": "Python 3",
      "language": "python",
      "name": "python3"
    },
    "language_info": {
      "codemirror_mode": {
        "name": "ipython",
        "version": 3
      },
      "file_extension": ".py",
      "mimetype": "text/x-python",
      "name": "python",
      "nbconvert_exporter": "python",
      "pygments_lexer": "ipython3",
      "version": "3.7.3"
    }
  },
  "cells": [
    {
      "cell_type": "markdown",
      "metadata": {
        "colab_type": "text",
        "id": "1q9AvPyWq-D2"
      },
      "source": [
        "#  Data Analytics Project: Text Analytics and Topic Modelling\n",
        "\n",
        "https://github.com/mlcurva77/UTS_ML2019_ID10885123/blob/master/ML2019_ID10885123_A2.ipynb"
      ]
    },
    {
      "cell_type": "markdown",
      "metadata": {
        "colab_type": "text",
        "id": "RS0nj12pKdiR"
      },
      "source": [
        "## 1. Overview"
      ]
    },
    {
      "cell_type": "markdown",
      "metadata": {
        "colab_type": "text",
        "id": "zzACOeTFKkbP"
      },
      "source": [
        "Any company or organisation generates a significant amount of documentation to record information about their business. The process of analysing the documents takes a lot of time and resources, which makes it slow and inefficient. Text Analytics helps to resolve this issue. Text Analytics is the automated process of analysing text documents and deriving meaningful information from unstructured data.\n",
        "\n",
        "This report aims to analyse a portfolio of documents from Ernst and Young (EY) to learn about the company’s values and what is important to them when working with other organisations.  Text Analytics and Topic Modelling will be used to examine and derive meaningful insights from the documents. The Natural Language Toolkit (NLTK) was used for performing Text Analytics and Gensim for Topic Modelling. "
      ]
    },
    {
      "cell_type": "markdown",
      "metadata": {
        "colab_type": "text",
        "id": "4aIaT6pYKnP-"
      },
      "source": [
        "## 2. Data Description"
      ]
    },
    {
      "cell_type": "markdown",
      "metadata": {
        "colab_type": "text",
        "id": "Yq1AVhJgKpBT"
      },
      "source": [
        "There were twenty-eight (28) text documents from EY with varying content and sizes. All documents were loaded in GoogleColab from the Google Drive directory. The list of files is shown below with the corresponding number of words per document.\n",
        "\n",
        "| Number of Words | File Name |\n",
        "|---| --- |\n",
        "| 713 | 01_AFR1.txt\n",
        "| 751\t| 01_AFR2.txt\n",
        "| 1360\t| 01_AFR3.txt\n",
        "| 906\t| 01_AFR4.txt\n",
        "| 399\t| 02_EY1.txt\n",
        "| 694\t| 02_EY2.txt\n",
        "| 3577\t| 02_EY3.txt\n",
        "| 12457\t| 02_EY4.txt\n",
        "| 6403\t| 02_EY5.txt\n",
        "| 7583\t| 02_EY6.txt\n",
        "| 14264\t| 02_EY7.txt\n",
        "| 821\t| 02_EY8.txt\n",
        "| 1460\t| 03_EY1.txt\n",
        "| 949\t| 03_EY10.txt\n",
        "| 1305\t| 03_EY2.txt\n",
        "| 1044\t| 03_EY3.txt\n",
        "| 515\t| 03_EY4.txt\n",
        "| 560\t| 03_EY5.txt\n",
        "| 865\t| 03_EY6.txt\n",
        "| 1371\t| 03_EY7.txt\n",
        "| 1245\t| 03_EY8.txt\n",
        "| 1201\t| 03_EY9.txt\n",
        "| 3603\t| 04_EY1.txt\n",
        "| 402\t| 05_UNSW1.txt\n",
        "| 1345\t| 05_UQ1.txt\n",
        "| 697\t| 05_USYD1.txt\n",
        "| 578\t| 05_UTS1.txt\n",
        "| 856\t| 05_UWA1.txt"
      ]
    },
    {
      "cell_type": "markdown",
      "metadata": {
        "colab_type": "text",
        "id": "DG5X8kZcOg5n"
      },
      "source": [
        "## 3. Text Analytics using NLTK"
      ]
    },
    {
      "cell_type": "markdown",
      "metadata": {
        "colab_type": "text",
        "id": "VA7mEGiAOlQZ"
      },
      "source": [
        "This section illustrates how to use the classes in NLTK for text transformation. \n",
        "\n",
        "All the documents are unstructured, which require to be transformed for analysis. NLTK was mainly used to explore and understand the datasets. \n",
        "\n",
        "Each document needs to be tokenised because the data is unstructured. Tokenisation is the process of breaking down a text paragraph into sentences or words. The following transformation was performed on the documents after the documents were tokenised.\n",
        "\n",
        "* Removal of punctuation using the string package.\n",
        "* Change words to lower case.\n",
        "* Removal of common English stopwords. Stopwords are considered noise in the data and do not add value to the analysis. Some examples of stopwords includes is, am, are, this, a, an, the, etc.\n",
        "* Stemming and Lemmatization. Stemming and Lemmatization are language normalisation process, which reduces words to their word root word."
      ]
    },
    {
      "cell_type": "markdown",
      "metadata": {
        "colab_type": "text",
        "id": "CUIG-VN1tjq2"
      },
      "source": [
        "### 3.10 Loading the Packages\n",
        "\n",
        "The following packages were used for Text Analytics and Topic Modelling;\n",
        "\n",
        "*   NLTK - The Natural Language Toolkit (NLTK) is an open source Python library for Natural Language Processing.\n",
        "*   re - This module provides regular expression matching operations similar to those found in Perl.\n",
        "* numpy - NumPy is the fundamental package for scientific computing with Python. \n",
        "* Gensim - Gensim is a Python library for topic modelling, document indexing and similarity retrieval with large corpora.\n",
        "* pyLDAvis - Python library for interactive topic model visualization.\n",
        "* matplotlib - plotting library for the Python programming language and its numerical mathematics extension NumPy.  \n",
        "* Using spaCy for POS tagging. spaCy is a package used for tagging, parsing and named entity recognition.\n",
        "\n"
      ]
    },
    {
      "cell_type": "code",
      "metadata": {
        "colab_type": "code",
        "id": "47nF31JoWKLa",
        "colab": {}
      },
      "source": [
        "#Loading NLTK\n",
        "import nltk\n",
        "!pip install -q nltk==3.4.3\n",
        "\n",
        "nltk.download('punkt')\n",
        "nltk.download('stopwords')\n",
        "nltk.download('wordnet')\n",
        "from nltk.stem import WordNetLemmatizer, SnowballStemmer\n",
        "from nltk.stem.porter import *\n",
        "\n",
        "# spacy for lemmatization\n",
        "import spacy\n",
        "\n",
        "import re\n",
        "import numpy as np\n",
        "import pandas as pd\n",
        "from pprint import pprint\n",
        "\n",
        "# Gensim\n",
        "import gensim\n",
        "import gensim.corpora as corpora\n",
        "from gensim.utils import simple_preprocess\n",
        "from gensim.models import CoherenceModel\n",
        "\n",
        "# Plotting tools\n",
        "!pip install pyLDAvis\n",
        "import pyLDAvis\n",
        "import pyLDAvis.gensim  \n",
        "import matplotlib.pyplot as plt\n",
        "%matplotlib inline\n",
        "\n",
        "# Enable logging for gensim - optional\n",
        "import logging\n",
        "logging.basicConfig(format='%(asctime)s : %(levelname)s : %(message)s', level=logging.ERROR)\n",
        "\n",
        "import warnings\n",
        "warnings.filterwarnings(\"ignore\",category=DeprecationWarning)\n"
      ],
      "execution_count": 0,
      "outputs": []
    },
    {
      "cell_type": "markdown",
      "metadata": {
        "colab_type": "text",
        "id": "t1wsEscBsXqH"
      },
      "source": [
        "### 3.12 Connecting to GoogleColab and Google drive"
      ]
    },
    {
      "cell_type": "code",
      "metadata": {
        "colab_type": "code",
        "id": "A5YqZBDBYjfE",
        "outputId": "af08e568-575b-467c-9268-78eae7b40485",
        "colab": {
          "base_uri": "https://localhost:8080/",
          "height": 122
        }
      },
      "source": [
        "inGoogleColab = True\n",
        "\n",
        "from google.colab import drive\n",
        "drive.mount('/content/drive/')"
      ],
      "execution_count": 0,
      "outputs": [
        {
          "output_type": "stream",
          "text": [
            "Go to this URL in a browser: https://accounts.google.com/o/oauth2/auth?client_id=947318989803-6bn6qk8qdgf4n4g3pfee6491hc0brc4i.apps.googleusercontent.com&redirect_uri=urn%3Aietf%3Awg%3Aoauth%3A2.0%3Aoob&scope=email%20https%3A%2F%2Fwww.googleapis.com%2Fauth%2Fdocs.test%20https%3A%2F%2Fwww.googleapis.com%2Fauth%2Fdrive%20https%3A%2F%2Fwww.googleapis.com%2Fauth%2Fdrive.photos.readonly%20https%3A%2F%2Fwww.googleapis.com%2Fauth%2Fpeopleapi.readonly&response_type=code\n",
            "\n",
            "Enter your authorization code:\n",
            "··········\n",
            "Mounted at /content/drive/\n"
          ],
          "name": "stdout"
        }
      ]
    },
    {
      "cell_type": "markdown",
      "metadata": {
        "colab_type": "text",
        "id": "r1hF3SSF32Vi"
      },
      "source": [
        "### 3.13 Loading the EY documents for analysis and Topic Modelling."
      ]
    },
    {
      "cell_type": "code",
      "metadata": {
        "colab_type": "code",
        "id": "7GzFKJEDWKLe",
        "outputId": "089dc80b-1f53-42fd-99bf-30f8881a3b0f",
        "colab": {
          "base_uri": "https://localhost:8080/",
          "height": 34
        }
      },
      "source": [
        "import os\n",
        "from nltk.corpus import PlaintextCorpusReader\n",
        "\n",
        "# Setting the directory path to my google drive\n",
        "folderpath_base = '/content/drive/My Drive/Docs'\n",
        "\n",
        "# .txt file names as file IDs\n",
        "file_ids = \".*.txt\"\n",
        "corpus = nltk.corpus.reader.PlaintextCorpusReader(folderpath_base, file_ids,encoding='latin-1')\n",
        "\n",
        "#print(corpus.fileids())\n",
        "print(corpus)"
      ],
      "execution_count": 0,
      "outputs": [
        {
          "output_type": "stream",
          "text": [
            "<PlaintextCorpusReader in '/content/drive/My Drive/Docs'>\n"
          ],
          "name": "stdout"
        }
      ]
    },
    {
      "cell_type": "code",
      "metadata": {
        "colab_type": "code",
        "id": "mnucOTi_WKLi",
        "outputId": "3d93b1d7-cccc-45c6-d83d-963677402b2c",
        "colab": {
          "base_uri": "https://localhost:8080/",
          "height": 493
        }
      },
      "source": [
        "# for-loop through file IDs and print out word count. \n",
        "# Listing the EY filenames to be used for analysis.\n",
        "\n",
        "for f in corpus.fileids():\n",
        "    print(len(corpus.words(f)), f)"
      ],
      "execution_count": 0,
      "outputs": [
        {
          "output_type": "stream",
          "text": [
            "713 01_AFR1.txt\n",
            "751 01_AFR2.txt\n",
            "1360 01_AFR3.txt\n",
            "906 01_AFR4.txt\n",
            "399 02_EY1.txt\n",
            "694 02_EY2.txt\n",
            "3577 02_EY3.txt\n",
            "12457 02_EY4.txt\n",
            "6403 02_EY5.txt\n",
            "7583 02_EY6.txt\n",
            "14264 02_EY7.txt\n",
            "821 02_EY8.txt\n",
            "1460 03_EY1.txt\n",
            "949 03_EY10.txt\n",
            "1305 03_EY2.txt\n",
            "1044 03_EY3.txt\n",
            "515 03_EY4.txt\n",
            "560 03_EY5.txt\n",
            "865 03_EY6.txt\n",
            "1371 03_EY7.txt\n",
            "1245 03_EY8.txt\n",
            "1201 03_EY9.txt\n",
            "3603 04_EY1.txt\n",
            "402 05_UNSW1.txt\n",
            "1345 05_UQ1.txt\n",
            "697 05_USYD1.txt\n",
            "578 05_UTS1.txt\n",
            "856 05_UWA1.txt\n"
          ],
          "name": "stdout"
        }
      ]
    },
    {
      "cell_type": "code",
      "metadata": {
        "colab_type": "code",
        "id": "TDmOW3EfWKLk",
        "outputId": "492169c3-63ba-4e2a-999b-7cea249be44a",
        "colab": {
          "base_uri": "https://localhost:8080/",
          "height": 34
        }
      },
      "source": [
        "# Corpus size in number of words\n",
        "print(len(corpus.words()))"
      ],
      "execution_count": 0,
      "outputs": [
        {
          "output_type": "stream",
          "text": [
            "67924\n"
          ],
          "name": "stdout"
        }
      ]
    },
    {
      "cell_type": "markdown",
      "metadata": {
        "colab_type": "text",
        "id": "se1qHlyeyahG"
      },
      "source": [
        "### 3.14 Tokenisation\n",
        "The documents required to be tokenised to break down the paragraphs into sentences or words. The **words** and **sents** functionalities in NLTK are used to perform tokenization."
      ]
    },
    {
      "cell_type": "code",
      "metadata": {
        "colab_type": "code",
        "id": "-89uK_2kWKLp",
        "outputId": "dec8b6b5-abbf-40b1-e1a9-5308d41f0581",
        "colab": {
          "base_uri": "https://localhost:8080/",
          "height": 54
        }
      },
      "source": [
        "# Words breaks text paragraphs into words. Note that punctuations are treated as individual words in tokenization.\n",
        "\n",
        "tokenized_word = corpus.words()\n",
        "print(tokenized_word[:60])"
      ],
      "execution_count": 0,
      "outputs": [
        {
          "output_type": "stream",
          "text": [
            "['US', 'business', 'leader', 'Kay', 'Koplovitz', 'forges', 'new', 'ground', 'for', 'female', 'entrepreneurs', 'by', 'Joanne', 'Gray', 'Women', 'in', 'science', 'and', 'technology', 'are', 'gaining', 'a', 'higher', 'profile', 'in', 'Australia', 'as', 'entrepreneurs', ',', 'says', 'Kay', 'Koplovitz', ',', 'a', 'leading', 'successful', 'businesswoman', 'in', 'the', 'US', 'and', 'founder', 'of', 'USA', 'Network', '.', 'Her', 'successful', 'incubator', ',', 'Springboard', 'Enterprises', ',', 'launched', 'in', 'Australia', 'five', 'years', 'ago', ',']\n"
          ],
          "name": "stdout"
        }
      ]
    },
    {
      "cell_type": "markdown",
      "metadata": {
        "colab_type": "text",
        "id": "Qj4NgYFD1B6f"
      },
      "source": [
        "### 3.15 Removal of punctuation.\n",
        "Punctuations do not add value to the text analysis so these needed to be removed. The **string.punctuation** is a pre-initialized string used as string constant in Python. The **string.punctuation** will give all sets of punctuation."
      ]
    },
    {
      "cell_type": "code",
      "metadata": {
        "colab_type": "code",
        "id": "262kQUoJzq7M",
        "outputId": "ecdbbd01-dec9-4e67-9883-79d44f425420",
        "colab": {
          "base_uri": "https://localhost:8080/",
          "height": 71
        }
      },
      "source": [
        "#\n",
        "import string\n",
        "exclude = set(string.punctuation) \n",
        "print(exclude)\n",
        "\n",
        "nopunctuation_word=[]\n",
        "for w in tokenized_word:\n",
        "    if w not in exclude:\n",
        "        nopunctuation_word.append(w)\n",
        "        \n",
        "print(\"nopunctuation:\",nopunctuation_word[:60])"
      ],
      "execution_count": 0,
      "outputs": [
        {
          "output_type": "stream",
          "text": [
            "{'(', '*', \"'\", '&', '[', '`', '%', '.', '+', ',', '<', '/', '-', '?', '\\\\', '~', '!', '}', '@', ':', '|', '$', ')', '=', ']', '{', '\"', '^', '#', ';', '>', '_'}\n",
            "nopunctuation: ['US', 'business', 'leader', 'Kay', 'Koplovitz', 'forges', 'new', 'ground', 'for', 'female', 'entrepreneurs', 'by', 'Joanne', 'Gray', 'Women', 'in', 'science', 'and', 'technology', 'are', 'gaining', 'a', 'higher', 'profile', 'in', 'Australia', 'as', 'entrepreneurs', 'says', 'Kay', 'Koplovitz', 'a', 'leading', 'successful', 'businesswoman', 'in', 'the', 'US', 'and', 'founder', 'of', 'USA', 'Network', 'Her', 'successful', 'incubator', 'Springboard', 'Enterprises', 'launched', 'in', 'Australia', 'five', 'years', 'ago', 'trains', 'women', 'founders', 'with', 'potentially', 'high']\n"
          ],
          "name": "stdout"
        }
      ]
    },
    {
      "cell_type": "markdown",
      "metadata": {
        "colab_type": "text",
        "id": "uC6k9h_OzKBv"
      },
      "source": [
        "### 3.16 Frequency Distribution (before transformation)\n",
        "The FreqDist class is used to encode “frequency distributions”, which count the number of times that each outcome of an experiment occurs. I'm using FreqDist to plot the frequency distribution of the most common words prior to performing additional transformation in the text. The most common words are shown below. Notice that the common stopwords (i.e. the, and, to, etc.) appear in the list."
      ]
    },
    {
      "cell_type": "code",
      "metadata": {
        "colab_type": "code",
        "id": "29Yr-ffwWKLr",
        "outputId": "cf5ccf35-b854-43f9-aa60-b6c9ccb8cba1",
        "colab": {
          "base_uri": "https://localhost:8080/",
          "height": 204
        }
      },
      "source": [
        "from nltk.probability import FreqDist\n",
        "\n",
        "fdist = FreqDist(nopunctuation_word)\n",
        "print(fdist)\n",
        "fdist.most_common(10)"
      ],
      "execution_count": 0,
      "outputs": [
        {
          "output_type": "stream",
          "text": [
            "<FreqDist with 7473 samples and 60961 outcomes>\n"
          ],
          "name": "stdout"
        },
        {
          "output_type": "execute_result",
          "data": {
            "text/plain": [
              "[('the', 2501),\n",
              " ('and', 2416),\n",
              " ('to', 1785),\n",
              " ('of', 1748),\n",
              " ('in', 1046),\n",
              " ('a', 989),\n",
              " ('EY', 636),\n",
              " ('for', 593),\n",
              " ('\\x92', 539),\n",
              " ('is', 532)]"
            ]
          },
          "metadata": {
            "tags": []
          },
          "execution_count": 12
        }
      ]
    },
    {
      "cell_type": "code",
      "metadata": {
        "colab_type": "code",
        "id": "U7NwxdCfWKLt",
        "outputId": "518f607c-36ec-4afb-b9df-d3eb18d11ab7",
        "colab": {
          "base_uri": "https://localhost:8080/",
          "height": 310
        }
      },
      "source": [
        "# The graph below shows the most common words across all 28 documents prior to performing additional transformation in the text.\n",
        "\n",
        "import matplotlib.pyplot as plt\n",
        "fdist.plot(20,cumulative=False)\n",
        "plt.show()"
      ],
      "execution_count": 0,
      "outputs": [
        {
          "output_type": "display_data",
          "data": {
            "image/png": "[encoded data removed]",
            "text/plain": [
              "<Figure size 432x288 with 1 Axes>"
            ]
          },
          "metadata": {
            "tags": []
          }
        }
      ]
    },
    {
      "cell_type": "markdown",
      "metadata": {
        "colab_type": "text",
        "id": "BXzVmkQY8Num"
      },
      "source": [
        "### 3.17 Remove common english stopwords.\n",
        "Convert all words to lowercase. The lower() methods returns the lowercased string from the given string. It converts all uppercase characters to lowercase. Then, remove the common english stopwords to remove the noise from the data. Add any additional stopwords in your list as required."
      ]
    },
    {
      "cell_type": "code",
      "metadata": {
        "colab_type": "code",
        "id": "P0ULf45kWKLx",
        "outputId": "90202997-0c62-4f0e-8db5-1447143a03cf",
        "colab": {
          "base_uri": "https://localhost:8080/",
          "height": 105
        }
      },
      "source": [
        "from nltk.corpus import stopwords\n",
        "\n",
        "# Convert all words to lowercase.\n",
        "lower_word = [word.lower() for word in nopunctuation_word]\n",
        "print(\"lowercase:\", lower_word[:20])\n",
        "\n",
        "# Initialise stop_words to contain the commom english topwords.\n",
        "stop_words=stopwords.words(\"english\")\n",
        "print(\"stopwords:\", stop_words[:20])\n",
        "\n",
        "# Add additional words in the stopwords list that do not add value to the analysis.\n",
        "\n",
        "stop_words.extend([\"can\", \"say\",\"one\",\"way\",\"use\",\"here\",\"I\",\n",
        "                 \"also\",\"howev\",\"tell\",\"will\",\"help\",\"also\",\n",
        "                 \"much\",\"need\",\"take\",\"tend\",\"even\",\"us\",\"US\"\n",
        "                 \"like\",\"particular\",\"rather\",\"said\",\"EY\",\"ey\"\n",
        "                 \"get\",\"well\",\"make\",\"ask\",\"come\",\"end\",\n",
        "                 \"first\",\"two\",\"help\",\"often\",\"may\",\n",
        "                 \"might\",\"see\",\"someth\",\"thing\",\"point\",\n",
        "                 \"post\",\"look\",\"right\",\"now\",\"think\",\"'ve \",\n",
        "                 \"'re \",\"anoth\",\"put\",\"set\",\"new\",\"good\",\n",
        "                 \"want\",\"sure\",\"kind\",\"larg\",\"yes,\",\"day\",\"etc\",\n",
        "                 \"quit\",\"sinc\",\"attempt\",\"lack\",\"seen\",\"awar\",\n",
        "                 \"littl\",\"ever\",\"moreov\",\"though\",\"found\",\"abl\",\n",
        "                 \"enough\",\"far\",\"earli\",\"away\",\"achiev\",\"draw\",\n",
        "                 \"last\",\"never\",\"brief\",\"bit\",\"entir\",\"brief\",\n",
        "                 \"great\",\"lot\",\"include\",\"provide\",\"year\",\"new\",\"help\",\n",
        "                 \"includ\",\"one\",\"require\",\"use\",\"make\",\"better\",\n",
        "                 \"way\",\"like\",\"across\",\"valu\",\"provide\",\"young\",\"continu\",\n",
        "                 \"tropfest\",\"ernst\",\"four\",\"limit\",\"and\",\"however\", \"\\x92\", \"\\x93\",\"\\x94\",\n",
        "                 \"\\x95\",\"\\x96\",\"\\x97\",\"\\x98\",\"\\x99\",\"the\",\"in\",\"because\",\"includ\",\"this\",\"those\",\"where\",\"ey\",\"aaditya\",\n",
        "                  \"includ\",\"go\",\"get\",\"many\",\"less\",\"year\",\"number\",\"give\"])\n",
        "\n",
        "filtered_word=[]\n",
        "for w in lower_word:\n",
        "    if w not in stop_words:\n",
        "        filtered_word.append(w)\n",
        "\n",
        "print(\"nopunctuation:\",nopunctuation_word[:20])\n",
        "print(\"Filtered:\",filtered_word[:20])"
      ],
      "execution_count": 0,
      "outputs": [
        {
          "output_type": "stream",
          "text": [
            "lowercase: ['us', 'business', 'leader', 'kay', 'koplovitz', 'forges', 'new', 'ground', 'for', 'female', 'entrepreneurs', 'by', 'joanne', 'gray', 'women', 'in', 'science', 'and', 'technology', 'are']\n",
            "stopwords: ['i', 'me', 'my', 'myself', 'we', 'our', 'ours', 'ourselves', 'you', \"you're\", \"you've\", \"you'll\", \"you'd\", 'your', 'yours', 'yourself', 'yourselves', 'he', 'him', 'his']\n",
            "nopunctuation: ['US', 'business', 'leader', 'Kay', 'Koplovitz', 'forges', 'new', 'ground', 'for', 'female', 'entrepreneurs', 'by', 'Joanne', 'Gray', 'Women', 'in', 'science', 'and', 'technology', 'are']\n",
            "Filtered: ['business', 'leader', 'kay', 'koplovitz', 'forges', 'ground', 'female', 'entrepreneurs', 'joanne', 'gray', 'women', 'science', 'technology', 'gaining', 'higher', 'profile', 'australia', 'entrepreneurs', 'says', 'kay']\n"
          ],
          "name": "stdout"
        }
      ]
    },
    {
      "cell_type": "markdown",
      "metadata": {
        "colab_type": "text",
        "id": "JXil8eWiBBiE"
      },
      "source": [
        "### 3.18 Stemming and Lemmatization\n",
        "Stemming is a process of linguistic normalization, which reduces words to their word root word. Lemmatization reduces words to their base word, which transforms root word with the use of vocabulary and morphological analysis."
      ]
    },
    {
      "cell_type": "code",
      "metadata": {
        "colab_type": "code",
        "id": "MMa79iy5WKL0",
        "outputId": "fd09244f-ac66-40d6-f6d0-fa532521a2d0",
        "colab": {
          "base_uri": "https://localhost:8080/",
          "height": 71
        }
      },
      "source": [
        "# Use ps.stem for Stemming.\n",
        "\n",
        "from nltk.stem import PorterStemmer\n",
        "ps = PorterStemmer()\n",
        "\n",
        "stemmed_word=[]\n",
        "for w in filtered_word:\n",
        "    stemmed_word.append(ps.stem(w))\n",
        "\n",
        "print(\"filtered:\",filtered_word[:20])\n",
        "print(\"Stemmed:\",stemmed_word[:20])"
      ],
      "execution_count": 0,
      "outputs": [
        {
          "output_type": "stream",
          "text": [
            "filtered: ['business', 'leader', 'kay', 'koplovitz', 'forges', 'ground', 'female', 'entrepreneurs', 'joanne', 'gray', 'women', 'science', 'technology', 'gaining', 'higher', 'profile', 'australia', 'entrepreneurs', 'says', 'kay']\n",
            "Stemmed: ['busi', 'leader', 'kay', 'koplovitz', 'forg', 'ground', 'femal', 'entrepreneur', 'joann', 'gray', 'women', 'scienc', 'technolog', 'gain', 'higher', 'profil', 'australia', 'entrepreneur', 'say', 'kay']\n"
          ],
          "name": "stdout"
        }
      ]
    },
    {
      "cell_type": "code",
      "metadata": {
        "colab_type": "code",
        "id": "IopnC8CCWKL5",
        "outputId": "97b12a39-b37e-44f0-84ba-bf5e8fa13d2a",
        "colab": {
          "base_uri": "https://localhost:8080/",
          "height": 71
        }
      },
      "source": [
        "# Use lem.lemmatize for Lemmatization.\n",
        "\n",
        "from nltk.stem.wordnet import WordNetLemmatizer\n",
        "lem = WordNetLemmatizer()\n",
        "\n",
        "clean_word=[]\n",
        "for w in stemmed_word:\n",
        "    clean_word.append(lem.lemmatize(w,\"v\"))\n",
        "\n",
        "print(\"Stemmed:\",stemmed_word[:20])\n",
        "print(\"Lemmatized:\",clean_word[:20])"
      ],
      "execution_count": 0,
      "outputs": [
        {
          "output_type": "stream",
          "text": [
            "Stemmed: ['busi', 'leader', 'kay', 'koplovitz', 'forg', 'ground', 'femal', 'entrepreneur', 'joann', 'gray', 'women', 'scienc', 'technolog', 'gain', 'higher', 'profil', 'australia', 'entrepreneur', 'say', 'kay']\n",
            "Lemmatized: ['busi', 'leader', 'kay', 'koplovitz', 'forg', 'grind', 'femal', 'entrepreneur', 'joann', 'gray', 'women', 'scienc', 'technolog', 'gain', 'higher', 'profil', 'australia', 'entrepreneur', 'say', 'kay']\n"
          ],
          "name": "stdout"
        }
      ]
    },
    {
      "cell_type": "code",
      "metadata": {
        "colab_type": "code",
        "id": "923Sah4oWKL7",
        "colab": {}
      },
      "source": [
        "#clean_word = [word.lower() for word in lm_word]\n",
        "#print(clean_word[:100])"
      ],
      "execution_count": 0,
      "outputs": []
    },
    {
      "cell_type": "markdown",
      "metadata": {
        "colab_type": "text",
        "id": "WJc8juPOC7pK"
      },
      "source": [
        "### 3.19 Frequency Distribution (after transformation)\n",
        "The graph below shows the top 20 most common words found in the corpus. Noticed that the words shown are keywords that can provide some insights from the documents. The top five (5) topics are limit, service, business, audit and global."
      ]
    },
    {
      "cell_type": "code",
      "metadata": {
        "colab_type": "code",
        "id": "2icg2jiDWKL9",
        "outputId": "9dbc0b03-70dc-4720-ed85-50f9f1def2e9",
        "colab": {
          "base_uri": "https://localhost:8080/",
          "height": 342
        }
      },
      "source": [
        "fdist = FreqDist(clean_word)\n",
        "print(fdist)\n",
        "fdist.most_common(20)\n",
        "\n",
        "import matplotlib.pyplot as plt\n",
        "fdist.plot(20,cumulative=False)\n",
        "plt.show()"
      ],
      "execution_count": 0,
      "outputs": [
        {
          "output_type": "stream",
          "text": [
            "<FreqDist with 4194 samples and 33517 outcomes>\n"
          ],
          "name": "stdout"
        },
        {
          "output_type": "display_data",
          "data": {
            "image/png": "[encoded data removed]",
            "text/plain": [
              "<Figure size 432x288 with 1 Axes>"
            ]
          },
          "metadata": {
            "tags": []
          }
        }
      ]
    },
    {
      "cell_type": "markdown",
      "metadata": {
        "colab_type": "text",
        "id": "prAASls-FDGt"
      },
      "source": [
        "### 3.20 Plotting the word distribution using wordcloud.\n",
        "Wordcloud is just another way of visualising the top five(5) topics from the EY documents."
      ]
    },
    {
      "cell_type": "code",
      "metadata": {
        "colab_type": "code",
        "id": "cTtA2FR2WKL_",
        "outputId": "4a655afb-f5f4-4f60-db6b-fe5f22b1153b",
        "colab": {
          "base_uri": "https://localhost:8080/",
          "height": 253
        }
      },
      "source": [
        "from nltk.corpus import webtext\n",
        "from nltk.probability import FreqDist\n",
        "from wordcloud import WordCloud\n",
        "import matplotlib.pyplot as plt\n",
        "nltk.download('webtext')\n",
        " \n",
        "data_analysis = nltk.FreqDist(clean_word)\n",
        " \n",
        "filter_words = dict([(m, n) for m, n in data_analysis.items() if len(m) > 1])\n",
        " \n",
        "wcloud = WordCloud().generate_from_frequencies(filter_words)\n",
        " \n",
        "# Plotting the wordcloud\n",
        "plt.imshow(wcloud, interpolation=\"bilinear\")\n",
        " \n",
        "plt.axis(\"on\")\n",
        "(-0.5, 699.5, 499.5, -0.5)\n",
        "plt.show()"
      ],
      "execution_count": 0,
      "outputs": [
        {
          "output_type": "stream",
          "text": [
            "[nltk_data] Downloading package webtext to /root/nltk_data...\n",
            "[nltk_data]   Unzipping corpora/webtext.zip.\n"
          ],
          "name": "stdout"
        },
        {
          "output_type": "display_data",
          "data": {
            "image/png": "[encoded data removed]",
            "text/plain": [
              "<Figure size 432x288 with 1 Axes>"
            ]
          },
          "metadata": {
            "tags": []
          }
        }
      ]
    },
    {
      "cell_type": "markdown",
      "metadata": {
        "colab_type": "text",
        "id": "NuwJiYPsYWuE"
      },
      "source": [
        "## 4.0 Topic Modelling using Gensim\n",
        "Topic Modeling is a technique to extract the hidden topics from large volumes of text. Latent Dirichlet Allocation(LDA) is a popular algorithm for topic modeling with excellent implementations in the Python’s Gensim package.\n",
        "\n",
        "This section illustrates how to use Latent Dirichlet Allocation (LDA) from Gensim package to derive insights from the EY documents. The LDA algorithm considers each document as a collection of topics in a certain proportion. And each topic as a collection of keywords, again, in a certain proportion.\n",
        "\n",
        "Once you provide the algorithm with the number of topics, all it does is rearrange the topics distribution within the documents and keywords distribution within the topics to obtain a good composition of topic-keywords distribution."
      ]
    },
    {
      "cell_type": "markdown",
      "metadata": {
        "colab_type": "text",
        "id": "t9lF2s3sLvEJ"
      },
      "source": [
        "### 4.11 Tokenization into sentences and words."
      ]
    },
    {
      "cell_type": "code",
      "metadata": {
        "colab_type": "code",
        "id": "R_Ga5yjdWKLn",
        "outputId": "c9ed7aaf-1294-4d97-b948-7289a0770606",
        "colab": {
          "base_uri": "https://localhost:8080/",
          "height": 54
        }
      },
      "source": [
        "# Tokenized the text into sentences. The sents class in NLTK will create a list of a collection of sentences for each document.\n",
        "\n",
        "tokenized_sent = corpus.sents()\n",
        "print(tokenized_sent[0])"
      ],
      "execution_count": 0,
      "outputs": [
        {
          "output_type": "stream",
          "text": [
            "['US', 'business', 'leader', 'Kay', 'Koplovitz', 'forges', 'new', 'ground', 'for', 'female', 'entrepreneurs', 'by', 'Joanne', 'Gray', 'Women', 'in', 'science', 'and', 'technology', 'are', 'gaining', 'a', 'higher', 'profile', 'in', 'Australia', 'as', 'entrepreneurs', ',', 'says', 'Kay', 'Koplovitz', ',', 'a', 'leading', 'successful', 'businesswoman', 'in', 'the', 'US', 'and', 'founder', 'of', 'USA', 'Network', '.']\n"
          ],
          "name": "stdout"
        }
      ]
    },
    {
      "cell_type": "code",
      "metadata": {
        "colab_type": "code",
        "id": "i1R_gMn58g6o",
        "outputId": "b9acc11f-a921-4f08-be20-d4a1322dd490",
        "colab": {
          "base_uri": "https://localhost:8080/",
          "height": 54
        }
      },
      "source": [
        "# The logic below will create a list of words from the list of collection of sentences.\n",
        "\n",
        "def sent_to_words(sentences):\n",
        "    for sentence in sentences:\n",
        "        #print(sentence)\n",
        "        yield(gensim.utils.simple_preprocess(str(sentence), deacc=True))# deacc=True removes punctuations\n",
        "\n",
        "tokenized_words = list(sent_to_words(tokenized_sent))\n",
        "\n",
        "print(tokenized_words[:2])"
      ],
      "execution_count": 0,
      "outputs": [
        {
          "output_type": "stream",
          "text": [
            "[['us', 'business', 'leader', 'kay', 'koplovitz', 'forges', 'new', 'ground', 'for', 'female', 'entrepreneurs', 'by', 'joanne', 'gray', 'women', 'in', 'science', 'and', 'technology', 'are', 'gaining', 'higher', 'profile', 'in', 'australia', 'as', 'entrepreneurs', 'says', 'kay', 'koplovitz', 'leading', 'successful', 'businesswoman', 'in', 'the', 'us', 'and', 'founder', 'of', 'usa', 'network'], ['her', 'successful', 'incubator', 'springboard', 'enterprises', 'launched', 'in', 'australia', 'five', 'years', 'ago', 'trains', 'women', 'founders', 'with', 'potentially', 'high', 'growth', 'businesses', 'to', 'raise', 'venture', 'capital', 'with', 'week', 'course', 'and', 'two', 'day', 'boot', 'camp', 'which', 'runs', 'this', 'week']]\n"
          ],
          "name": "stdout"
        }
      ]
    },
    {
      "cell_type": "markdown",
      "metadata": {
        "colab_type": "text",
        "id": "Q8NKZzEIL9s6"
      },
      "source": [
        "### 4.12 Define Bigrams and Trigrams\n",
        "Bigrams are two words frequently occurring together in the document. Trigrams are 3 words frequently occurring.\n",
        "\n",
        "Gensim’s Phrases model can build and implement the bigrams, trigrams, quadgrams and more. The two important arguments to Phrases are min_count and threshold. The higher the values of these param, the harder it is for words to be combined to bigrams."
      ]
    },
    {
      "cell_type": "code",
      "metadata": {
        "colab_type": "code",
        "id": "ckonue-E9Z6b",
        "outputId": "881799a9-4eeb-40a9-ad6d-167a5272d2c5",
        "colab": {
          "base_uri": "https://localhost:8080/",
          "height": 68
        }
      },
      "source": [
        "# Build the bigram and trigram models\n",
        "bigram = gensim.models.Phrases(tokenized_words, min_count=5, threshold=30) # higher threshold fewer phrases.\n",
        "trigram = gensim.models.Phrases(bigram[tokenized_words], threshold=30)  \n",
        "\n",
        "# Faster way to get a sentence clubbed as a trigram/bigram\n",
        "bigram_mod = gensim.models.phrases.Phraser(bigram)\n",
        "trigram_mod = gensim.models.phrases.Phraser(trigram)\n",
        "\n",
        "# See trigram example\n",
        "print(trigram_mod[bigram_mod[tokenized_words[2]]])"
      ],
      "execution_count": 0,
      "outputs": [
        {
          "output_type": "stream",
          "text": [
            "/usr/local/lib/python3.6/dist-packages/gensim/models/phrases.py:598: UserWarning: For a faster implementation, use the gensim.models.phrases.Phraser class\n",
            "  warnings.warn(\"For a faster implementation, use the gensim.models.phrases.Phraser class\")\n"
          ],
          "name": "stderr"
        },
        {
          "output_type": "stream",
          "text": [
            "['women', 'are', 'coming', 'up', 'with', 'enormously', 'important', 'disruptive', 'technologies', 'in', 'science', 'she_said']\n"
          ],
          "name": "stdout"
        }
      ]
    },
    {
      "cell_type": "markdown",
      "metadata": {
        "colab_type": "text",
        "id": "jKWKnSl7NIbu"
      },
      "source": [
        "### 4.13 Remove common english stopwords, make bigrams and lemmatize.\n",
        "Remove the common english stopwords to remove the noise from the data. Add any additional stopwords in your list as required."
      ]
    },
    {
      "cell_type": "code",
      "metadata": {
        "colab_type": "code",
        "id": "Q8OB2pUWWKLv",
        "colab": {}
      },
      "source": [
        "from nltk.corpus import stopwords\n",
        "stop_words=stopwords.words(\"english\")\n",
        "\n",
        "stop_words.extend([\"can\", \"say\",\"one\",\"way\",\"use\",\"here\",\"I\",\n",
        "                 \"also\",\"howev\",\"tell\",\"will\",\"help\",\"also\",\n",
        "                 \"much\",\"need\",\"take\",\"tend\",\"even\",\"us\",\"US\"\n",
        "                 \"like\",\"particular\",\"rather\",\"said\",\"EY\",\"ey\"\n",
        "                 \"get\",\"well\",\"make\",\"ask\",\"come\",\"end\",\n",
        "                 \"first\",\"two\",\"help\",\"often\",\"may\",\n",
        "                 \"might\",\"see\",\"someth\",\"thing\",\"point\",\n",
        "                 \"post\",\"look\",\"right\",\"now\",\"think\",\"'ve \",\n",
        "                 \"'re \",\"anoth\",\"put\",\"set\",\"new\",\"good\",\n",
        "                 \"want\",\"sure\",\"kind\",\"larg\",\"yes,\",\"day\",\"etc\",\n",
        "                 \"quit\",\"sinc\",\"attempt\",\"lack\",\"seen\",\"awar\",\n",
        "                 \"littl\",\"ever\",\"moreov\",\"though\",\"found\",\"abl\",\n",
        "                 \"enough\",\"far\",\"earli\",\"away\",\"achiev\",\"draw\",\n",
        "                 \"last\",\"never\",\"brief\",\"bit\",\"entir\",\"brief\",\n",
        "                 \"great\",\"lot\",\"include\",\"provide\",\"year\",\"new\",\"help\",\n",
        "                 \"includ\",\"one\",\"require\",\"use\",\"make\",\"better\",\n",
        "                 \"way\",\"like\",\"across\",\"valu\",\"provide\",\"young\",\"continu\",\n",
        "                 \"tropfest\",\"ernst\",\"four\",\"limit\",\"and\",\"however\", \"\\x92\", \"\\x93\",\"\\x94\",\n",
        "                 \"\\x95\",\"\\x96\",\"\\x97\",\"\\x98\",\"\\x99\",\"the\",\"in\",\"because\",\"includ\",\"this\",\"those\",\"where\",\"ey\",\"aaditya\",\n",
        "                  \"includ\",\"go\",\"get\",\"many\",\"less\",\"year\",\"number\",\"give\",\"include\",\"return\",\n",
        "                  \"australia\",\"china\",\"give\"])"
      ],
      "execution_count": 0,
      "outputs": []
    },
    {
      "cell_type": "code",
      "metadata": {
        "colab_type": "code",
        "id": "AzJLBf4Q9uXI",
        "colab": {}
      },
      "source": [
        "# Define functions for stopwords, bigrams, trigrams and lemmatization\n",
        "def remove_stopwords(texts):\n",
        "    return [[word for word in simple_preprocess(str(doc)) if word not in stop_words] for doc in texts]\n",
        "\n",
        "def make_bigrams(texts):\n",
        "    return [bigram_mod[doc] for doc in texts]\n",
        "\n",
        "def make_trigrams(texts):\n",
        "    return [trigram_mod[bigram_mod[doc]] for doc in texts]\n",
        "\n",
        "def lemmatization(texts, allowed_postags=['NOUN', 'ADJ', 'VERB', 'ADV']):\n",
        "    \"\"\"https://spacy.io/api/annotation\"\"\"\n",
        "    texts_out = []\n",
        "    for sent in texts:\n",
        "        doc = nlp(\" \".join(sent)) \n",
        "        texts_out.append([token.lemma_ for token in doc if token.pos_ in allowed_postags])\n",
        "    return texts_out"
      ],
      "execution_count": 0,
      "outputs": []
    },
    {
      "cell_type": "code",
      "metadata": {
        "colab_type": "code",
        "id": "OqWzJKNg-JlD",
        "outputId": "7ca1be23-f42e-4552-f2eb-983f5c5ffae0",
        "colab": {
          "base_uri": "https://localhost:8080/",
          "height": 54
        }
      },
      "source": [
        "# Remove Stop Words\n",
        "tokenized_words_nostops = remove_stopwords(tokenized_words)\n",
        "\n",
        "# Form Bigrams\n",
        "tokenized_words_bigrams = make_bigrams(tokenized_words_nostops)\n",
        "\n",
        "# Initialize spacy 'en' model, keeping only tagger component (for efficiency)\n",
        "# python3 -m spacy download en\n",
        "nlp = spacy.load('en', disable=['parser', 'ner'])\n",
        "\n",
        "# Do lemmatization keeping only noun, adj, vb, adv\n",
        "clean_data = lemmatization(tokenized_words_bigrams, allowed_postags=['NOUN', 'ADJ', 'VERB', 'ADV'])\n",
        "\n",
        "print(clean_data[:1])\n"
      ],
      "execution_count": 0,
      "outputs": [
        {
          "output_type": "stream",
          "text": [
            "[['business', 'leader', 'kay', 'koplovitz', 'forge', 'ground', 'female', 'entrepreneur', 'gray', 'woman', 'science', 'technology', 'gain', 'high', 'profile', 'entrepreneur', 'say', 'kay', 'koplovitz', 'lead', 'successful', 'businesswoman', 'founder', 'usa', 'network']]\n"
          ],
          "name": "stdout"
        }
      ]
    },
    {
      "cell_type": "markdown",
      "metadata": {
        "colab_type": "text",
        "id": "wJyzlUULPT7c"
      },
      "source": [
        "### 4.14 Create Dictionary and Corpus for LDA model\n",
        "The two main inputs to the LDA topic model are the dictionary(id2word) and the corpus. Gensim creates a unique id for each word in the document. The produced corpus is a mapping of (word_id, word_frequency)."
      ]
    },
    {
      "cell_type": "code",
      "metadata": {
        "colab_type": "code",
        "id": "s1pNzHWJ-aXM",
        "outputId": "38e8e3f6-2cf4-4018-b35c-9198631dd891",
        "colab": {
          "base_uri": "https://localhost:8080/",
          "height": 71
        }
      },
      "source": [
        "# Create Dictionary\n",
        "id2word = corpora.Dictionary(clean_data)\n",
        "\n",
        "# Create Corpus\n",
        "texts = clean_data\n",
        "\n",
        "# Term Document Frequency\n",
        "corpus = [id2word.doc2bow(text) for text in texts]\n",
        "\n",
        "# Shows the mapping of (word_id, word_frequency).\n",
        "print(corpus[:3])\n",
        "print(len(corpus))"
      ],
      "execution_count": 0,
      "outputs": [
        {
          "output_type": "stream",
          "text": [
            "[[(0, 1), (1, 1), (2, 2), (3, 1), (4, 1), (5, 1), (6, 1), (7, 1), (8, 1), (9, 1), (10, 2), (11, 2), (12, 1), (13, 1), (14, 1), (15, 1), (16, 1), (17, 1), (18, 1), (19, 1), (20, 1), (21, 1)], [(0, 1), (5, 1), (9, 1), (18, 1), (21, 1), (22, 1), (23, 1), (24, 1), (25, 1), (26, 1), (27, 1), (28, 1), (29, 1), (30, 1), (31, 1), (32, 1), (33, 1), (34, 1), (35, 1), (36, 2)], [(17, 1), (19, 1), (21, 1), (37, 1), (38, 1), (39, 1), (40, 1)]]\n",
            "2337\n"
          ],
          "name": "stdout"
        }
      ]
    },
    {
      "cell_type": "code",
      "metadata": {
        "colab_type": "code",
        "id": "GDFGaAOr-fGd",
        "outputId": "85c1b1b6-41d3-4621-8b41-29bc466b6b09",
        "colab": {
          "base_uri": "https://localhost:8080/",
          "height": 408
        }
      },
      "source": [
        "# Print what word corresponds to a given id.\n",
        "print(id2word[1])\n",
        "\n",
        "# Human readable format of corpus (term-frequency)\n",
        "[[(id2word[id], freq) for id, freq in cp] for cp in corpus[:1]]"
      ],
      "execution_count": 0,
      "outputs": [
        {
          "output_type": "stream",
          "text": [
            "businesswoman\n"
          ],
          "name": "stdout"
        },
        {
          "output_type": "execute_result",
          "data": {
            "text/plain": [
              "[[('business', 1),\n",
              "  ('businesswoman', 1),\n",
              "  ('entrepreneur', 2),\n",
              "  ('female', 1),\n",
              "  ('forge', 1),\n",
              "  ('founder', 1),\n",
              "  ('gain', 1),\n",
              "  ('gray', 1),\n",
              "  ('ground', 1),\n",
              "  ('high', 1),\n",
              "  ('kay', 2),\n",
              "  ('koplovitz', 2),\n",
              "  ('lead', 1),\n",
              "  ('leader', 1),\n",
              "  ('network', 1),\n",
              "  ('profile', 1),\n",
              "  ('say', 1),\n",
              "  ('science', 1),\n",
              "  ('successful', 1),\n",
              "  ('technology', 1),\n",
              "  ('usa', 1),\n",
              "  ('woman', 1)]]"
            ]
          },
          "metadata": {
            "tags": []
          },
          "execution_count": 114
        }
      ]
    },
    {
      "cell_type": "markdown",
      "metadata": {
        "colab_type": "text",
        "id": "okU60jt9RmWO"
      },
      "source": [
        "### 4.15 Build the Topic Model using LDA.\n",
        "The corpus and dictionary are now ready to train the LDA model. In addition, the following needs to be provided;\n",
        "* number of topics\n",
        "* random state - either a randomState object or a seed to generate one. Useful for reproducibility.\n",
        "* alpha and eta hyperparameters for sparsity of the topics (both defaults to 1.0/num_topics prior )\n",
        "* chunksize - the number of documents to be used in each training chunk\n",
        "* update_every - determines how often the model parameters should be updated \n",
        "* passes - the total number of training passes."
      ]
    },
    {
      "cell_type": "code",
      "metadata": {
        "colab_type": "code",
        "id": "jRX6eHXh-3D1",
        "colab": {}
      },
      "source": [
        "# Build LDA model\n",
        "lda_model = gensim.models.ldamodel.LdaModel(corpus=corpus,\n",
        "                                           id2word=id2word,\n",
        "                                           num_topics=10, \n",
        "                                           random_state=100, \n",
        "                                           update_every=1,\n",
        "                                           chunksize=15,\n",
        "                                           passes=30,\n",
        "                                           alpha='auto',\n",
        "                                           per_word_topics=True)"
      ],
      "execution_count": 0,
      "outputs": []
    },
    {
      "cell_type": "markdown",
      "metadata": {
        "colab_type": "text",
        "id": "wlTdrpk-WJVS"
      },
      "source": [
        "### 4.16 View the keywords in the top 10 topics\n",
        "Below shows the top 6 topics where each topic is a combination of keywords and each keyword contributes a certain weightage to the topic.\n",
        "\n",
        "lda_model.print_topics() is used to show the keywords for each topic and the weightage(importance) of each keyword.\n",
        "\n",
        "Example:\n",
        "Topic 1 - shows that the keywords to this topic are business, opportunity, experience, company, include, community, apply, australia, issue and datum.\n",
        "The word \"business\" is the most important word with the highest weight of 0.062 among the keywords."
      ]
    },
    {
      "cell_type": "code",
      "metadata": {
        "colab_type": "code",
        "id": "BfI23JNZ-90A",
        "outputId": "804f313d-f4ad-4e2b-92b1-58c6b68d887f",
        "colab": {
          "base_uri": "https://localhost:8080/",
          "height": 697
        }
      },
      "source": [
        "# Print the Keyword in the 10 topics\n",
        "pprint(lda_model.print_topics())\n",
        "doc_lda = lda_model[corpus]"
      ],
      "execution_count": 0,
      "outputs": [
        {
          "output_type": "stream",
          "text": [
            "[(0,\n",
            "  '0.042*\"engineering\" + 0.039*\"world\" + 0.036*\"partner\" + '\n",
            "  '0.026*\"sustainability\" + 0.024*\"waste\" + 0.023*\"rank\" + 0.021*\"practice\" + '\n",
            "  '0.018*\"science\" + 0.017*\"mathematic\" + 0.014*\"corporation\"'),\n",
            " (1,\n",
            "  '0.057*\"program\" + 0.049*\"firm\" + 0.045*\"work\" + 0.040*\"service\" + '\n",
            "  '0.036*\"idea\" + 0.032*\"big\" + 0.029*\"time\" + 0.026*\"people\" + 0.020*\"global\" '\n",
            "  '+ 0.019*\"develop\"'),\n",
            " (2,\n",
            "  '0.042*\"win\" + 0.029*\"client\" + 0.024*\"professional\" + 0.022*\"career\" + '\n",
            "  '0.019*\"demonstrate\" + 0.019*\"step\" + 0.019*\"purpose\" + 0.017*\"discipline\" + '\n",
            "  '0.015*\"international\" + 0.014*\"solve\"'),\n",
            " (3,\n",
            "  '0.069*\"student\" + 0.040*\"university\" + 0.034*\"project\" + 0.025*\"research\" + '\n",
            "  '0.023*\"experience\" + 0.020*\"create\" + 0.017*\"technology\" + 0.014*\"support\" '\n",
            "  '+ 0.013*\"panel\" + 0.012*\"role\"'),\n",
            " (4,\n",
            "  '0.036*\"follow\" + 0.028*\"accounting\" + 0.028*\"week\" + 0.021*\"base\" + '\n",
            "  '0.021*\"consider\" + 0.020*\"information\" + 0.019*\"price\" + 0.017*\"offer\" + '\n",
            "  '0.016*\"relationship\" + 0.015*\"interest\"'),\n",
            " (5,\n",
            "  '0.092*\"business\" + 0.053*\"scholarship\" + 0.029*\"award\" + 0.020*\"lead\" + '\n",
            "  '0.018*\"employer\" + 0.016*\"sponsor\" + 0.016*\"show\" + 0.015*\"leader\" + '\n",
            "  '0.013*\"entrepreneur\" + 0.011*\"establish\"'),\n",
            " (6,\n",
            "  '0.064*\"team\" + 0.031*\"encourage\" + 0.026*\"benefit\" + 0.020*\"least\" + '\n",
            "  '0.020*\"apply\" + 0.019*\"large\" + 0.018*\"value\" + 0.017*\"similar\" + '\n",
            "  '0.015*\"member\" + 0.014*\"committee\"'),\n",
            " (7,\n",
            "  '0.062*\"organisation\" + 0.038*\"head\" + 0.028*\"report\" + 0.026*\"impact\" + '\n",
            "  '0.026*\"equipment\" + 0.023*\"must\" + 0.020*\"learn\" + 0.017*\"alliance\" + '\n",
            "  '0.016*\"month\" + 0.016*\"available\"'),\n",
            " (8,\n",
            "  '0.028*\"skill\" + 0.024*\"future\" + 0.023*\"provide\" + 0.022*\"event\" + '\n",
            "  '0.020*\"area\" + 0.020*\"build\" + 0.017*\"risk\" + 0.016*\"applicant\" + '\n",
            "  '0.015*\"list\" + 0.015*\"year\"'),\n",
            " (9,\n",
            "  '0.034*\"company\" + 0.034*\"financial\" + 0.029*\"opportunity\" + 0.019*\"audit\" + '\n",
            "  '0.019*\"problem\" + 0.018*\"include\" + 0.018*\"industry\" + 0.016*\"tax\" + '\n",
            "  '0.016*\"hold\" + 0.015*\"analytic\"')]\n"
          ],
          "name": "stdout"
        }
      ]
    },
    {
      "cell_type": "markdown",
      "metadata": {
        "colab_type": "text",
        "id": "YChZDDfUZl66"
      },
      "source": [
        "### 4.17 Compute Perplexity and Coherence Score\n",
        "Model perplexity and topic coherence provide a convenient measure to judge how good a given topic model is. I have tried different combinations and found that the highest coherence score that I can get is around 0.40."
      ]
    },
    {
      "cell_type": "code",
      "metadata": {
        "colab_type": "code",
        "id": "Ihk4OzdKApvf",
        "outputId": "1cae10a0-de2d-4b70-c70c-37756a35a94a",
        "scrolled": true,
        "colab": {
          "base_uri": "https://localhost:8080/",
          "height": 85
        }
      },
      "source": [
        "# Compute Perplexity\n",
        "print('\\nPerplexity: ', lda_model.log_perplexity(corpus))  # a measure of how good the model is. lower the better.\n",
        "\n",
        "# Compute Coherence Score\n",
        "coherence_model_lda = CoherenceModel(model=lda_model, texts=clean_data, dictionary=id2word, coherence='c_v')\n",
        "coherence_lda = coherence_model_lda.get_coherence()\n",
        "print('\\nCoherence Score: ', coherence_lda)"
      ],
      "execution_count": 0,
      "outputs": [
        {
          "output_type": "stream",
          "text": [
            "\n",
            "Perplexity:  -9.761178845433145\n",
            "\n",
            "Coherence Score:  0.46108675350301553\n"
          ],
          "name": "stdout"
        }
      ]
    },
    {
      "cell_type": "markdown",
      "metadata": {
        "colab_type": "text",
        "id": "I1Qkd1-2hGOV"
      },
      "source": [
        "### 4.18 Interactive visualisation of the topics.\n",
        "The topics from the EY documents were identified using LDA (Latent Dirichlet Allocation). The number of Topics was set to 10. The chart below shows the topic distribution across the entire Corpus. The most prevalent were topics two (2) and ten (10). Topic 2 is about program, firm, work, service and idea. Topic 10 is also about company, financial, opportunity, audit and problem. The rest of the topics are overlapping, which shows that these topics are interrelated."
      ]
    },
    {
      "cell_type": "code",
      "metadata": {
        "colab_type": "code",
        "id": "IKe4dlKkBYsy",
        "outputId": "e2496186-2c47-414f-a033-03e034efca76",
        "colab": {
          "base_uri": "https://localhost:8080/",
          "height": 997
        }
      },
      "source": [
        "# Visualize the topics\n",
        "# Note gensim starts indexing at 0 and pyLDAvis starts at 1. Therefore, topic 10 in pyLDAvis corresponds to topic 9 in Gensim (4.16).\n",
        "\n",
        "pyLDAvis.enable_notebook()\n",
        "vis = pyLDAvis.gensim.prepare(lda_model, corpus, id2word, sort_topics=False)\n",
        "vis"
      ],
      "execution_count": 0,
      "outputs": [
        {
          "output_type": "stream",
          "text": [
            "/usr/local/lib/python3.6/dist-packages/pyLDAvis/_prepare.py:257: FutureWarning: Sorting because non-concatenation axis is not aligned. A future version\n",
            "of pandas will change to not sort by default.\n",
            "\n",
            "To accept the future behavior, pass 'sort=False'.\n",
            "\n",
            "To retain the current behavior and silence the warning, pass 'sort=True'.\n",
            "\n",
            "  return pd.concat([default_term_info] + list(topic_dfs))\n"
          ],
          "name": "stderr"
        },
        {
          "output_type": "execute_result",
          "data": {
            "text/html": [
              "\n",
              "<link rel=\"stylesheet\" type=\"text/css\" href=\"https://cdn.rawgit.com/bmabey/pyLDAvis/files/ldavis.v1.0.0.css\">\n",
              "\n",
              "\n",
              "<div id=\"ldavis_el1171402763173494721946139048\"></div>\n",
              "<script type=\"text/javascript\">\n",
              "\n",
              "var ldavis_el1171402763173494721946139048_data = {\"mdsDat\": {\"x\": [0.00824982109761745, -0.2560394164776699, 0.007896695916716509, 0.0022383782976453134, 0.007747963205488564, 0.0018608413800893517, 0.0012372680523871542, 0.008300419333724787, -0.004253052473585967, 0.2227610816675867], \"y\": [-0.053889748301906765, 0.19071004227722632, -0.03517357252948618, -0.10172847018600632, -0.03766044856011915, -0.0861808144442012, -0.03984658381972807, -0.032022152630114695, -0.030534696627250682, 0.22632644482158631], \"topics\": [1, 2, 3, 4, 5, 6, 7, 8, 9, 10], \"cluster\": [1, 1, 1, 1, 1, 1, 1, 1, 1, 1], \"Freq\": [7.854969024658203, 14.138176918029785, 8.542011260986328, 13.829665184020996, 6.4961419105529785, 10.93807601928711, 7.420167446136475, 5.818289756774902, 10.456814765930176, 14.505682945251465]}, \"tinfo\": {\"Category\": [\"Default\", \"Default\", \"Default\", \"Default\", \"Default\", \"Default\", \"Default\", \"Default\", \"Default\", \"Default\", \"Default\", \"Default\", \"Default\", \"Default\", \"Default\", \"Default\", \"Default\", \"Default\", \"Default\", \"Default\", \"Default\", \"Default\", \"Default\", \"Default\", \"Default\", \"Default\", \"Default\", \"Default\", \"Default\", \"Default\", \"Topic1\", \"Topic1\", \"Topic1\", \"Topic1\", \"Topic1\", \"Topic1\", \"Topic1\", \"Topic1\", \"Topic1\", \"Topic1\", \"Topic1\", \"Topic1\", \"Topic1\", \"Topic1\", \"Topic1\", \"Topic1\", \"Topic1\", \"Topic1\", \"Topic1\", \"Topic1\", \"Topic1\", \"Topic1\", \"Topic1\", \"Topic1\", \"Topic1\", \"Topic1\", \"Topic1\", \"Topic1\", \"Topic1\", \"Topic1\", \"Topic1\", \"Topic1\", \"Topic1\", \"Topic1\", \"Topic2\", \"Topic2\", \"Topic2\", \"Topic2\", \"Topic2\", \"Topic2\", \"Topic2\", \"Topic2\", \"Topic2\", \"Topic2\", \"Topic2\", \"Topic2\", \"Topic2\", \"Topic2\", \"Topic2\", \"Topic2\", \"Topic2\", \"Topic2\", \"Topic2\", \"Topic2\", \"Topic2\", \"Topic2\", \"Topic2\", \"Topic2\", \"Topic2\", \"Topic2\", \"Topic2\", \"Topic2\", \"Topic2\", \"Topic2\", \"Topic2\", \"Topic3\", \"Topic3\", \"Topic3\", \"Topic3\", \"Topic3\", \"Topic3\", \"Topic3\", \"Topic3\", \"Topic3\", \"Topic3\", \"Topic3\", \"Topic3\", \"Topic3\", \"Topic3\", \"Topic3\", \"Topic3\", \"Topic3\", \"Topic3\", \"Topic3\", \"Topic3\", \"Topic3\", \"Topic3\", \"Topic3\", \"Topic3\", \"Topic3\", \"Topic3\", \"Topic3\", \"Topic3\", \"Topic3\", \"Topic3\", \"Topic3\", \"Topic4\", \"Topic4\", \"Topic4\", \"Topic4\", \"Topic4\", \"Topic4\", \"Topic4\", \"Topic4\", \"Topic4\", \"Topic4\", \"Topic4\", \"Topic4\", \"Topic4\", \"Topic4\", \"Topic4\", \"Topic4\", \"Topic4\", \"Topic4\", \"Topic4\", \"Topic4\", \"Topic4\", \"Topic4\", \"Topic4\", \"Topic4\", \"Topic4\", \"Topic4\", \"Topic4\", \"Topic4\", \"Topic4\", \"Topic4\", \"Topic4\", \"Topic4\", \"Topic4\", \"Topic5\", \"Topic5\", \"Topic5\", \"Topic5\", \"Topic5\", \"Topic5\", \"Topic5\", \"Topic5\", \"Topic5\", \"Topic5\", \"Topic5\", \"Topic5\", \"Topic5\", \"Topic5\", \"Topic5\", \"Topic5\", \"Topic5\", \"Topic5\", \"Topic5\", \"Topic5\", \"Topic5\", \"Topic5\", \"Topic5\", \"Topic5\", \"Topic5\", \"Topic5\", \"Topic5\", \"Topic5\", \"Topic5\", \"Topic5\", \"Topic5\", \"Topic5\", \"Topic6\", \"Topic6\", \"Topic6\", \"Topic6\", \"Topic6\", \"Topic6\", \"Topic6\", \"Topic6\", \"Topic6\", \"Topic6\", \"Topic6\", \"Topic6\", \"Topic6\", \"Topic6\", \"Topic6\", \"Topic6\", \"Topic6\", \"Topic6\", \"Topic6\", \"Topic6\", \"Topic6\", \"Topic6\", \"Topic6\", \"Topic6\", \"Topic6\", \"Topic6\", \"Topic6\", \"Topic6\", \"Topic6\", \"Topic6\", \"Topic6\", \"Topic7\", \"Topic7\", \"Topic7\", \"Topic7\", \"Topic7\", \"Topic7\", \"Topic7\", \"Topic7\", \"Topic7\", \"Topic7\", \"Topic7\", \"Topic7\", \"Topic7\", \"Topic7\", \"Topic7\", \"Topic7\", \"Topic7\", \"Topic7\", \"Topic7\", \"Topic7\", \"Topic7\", \"Topic7\", \"Topic7\", \"Topic7\", \"Topic7\", \"Topic7\", \"Topic7\", \"Topic7\", \"Topic7\", \"Topic7\", \"Topic7\", \"Topic7\", \"Topic7\", \"Topic8\", \"Topic8\", \"Topic8\", \"Topic8\", \"Topic8\", \"Topic8\", \"Topic8\", \"Topic8\", \"Topic8\", \"Topic8\", \"Topic8\", \"Topic8\", \"Topic8\", \"Topic8\", \"Topic8\", \"Topic8\", \"Topic8\", \"Topic8\", \"Topic8\", \"Topic8\", \"Topic8\", \"Topic8\", \"Topic8\", \"Topic8\", \"Topic8\", \"Topic8\", \"Topic8\", \"Topic8\", \"Topic8\", \"Topic8\", \"Topic8\", \"Topic8\", \"Topic8\", \"Topic9\", \"Topic9\", \"Topic9\", \"Topic9\", \"Topic9\", \"Topic9\", \"Topic9\", \"Topic9\", \"Topic9\", \"Topic9\", \"Topic9\", \"Topic9\", \"Topic9\", \"Topic9\", \"Topic9\", \"Topic9\", \"Topic9\", \"Topic9\", \"Topic9\", \"Topic9\", \"Topic9\", \"Topic9\", \"Topic9\", \"Topic9\", \"Topic9\", \"Topic9\", \"Topic9\", \"Topic9\", \"Topic9\", \"Topic9\", \"Topic9\", \"Topic9\", \"Topic10\", \"Topic10\", \"Topic10\", \"Topic10\", \"Topic10\", \"Topic10\", \"Topic10\", \"Topic10\", \"Topic10\", \"Topic10\", \"Topic10\", \"Topic10\", \"Topic10\", \"Topic10\", \"Topic10\", \"Topic10\", \"Topic10\", \"Topic10\", \"Topic10\", \"Topic10\", \"Topic10\", \"Topic10\", \"Topic10\", \"Topic10\", \"Topic10\", \"Topic10\", \"Topic10\", \"Topic10\", \"Topic10\", \"Topic10\"], \"Freq\": [298.0, 282.0, 238.0, 205.0, 173.0, 142.0, 188.0, 166.0, 162.0, 107.0, 150.0, 144.0, 144.0, 140.0, 106.0, 135.0, 99.0, 123.0, 123.0, 90.0, 83.0, 95.0, 108.0, 104.0, 86.0, 70.0, 65.0, 74.0, 69.0, 93.0, 90.0701904296875, 82.71131896972656, 59.45014572143555, 55.53915023803711, 52.294090270996094, 49.01487350463867, 42.51492691040039, 97.86965942382812, 39.16183853149414, 32.49970245361328, 30.809280395507812, 28.151554107666016, 30.311309814453125, 24.48325538635254, 24.23537826538086, 21.206937789916992, 19.368453979492188, 18.987789154052734, 22.825096130371094, 18.621824264526367, 18.992921829223633, 17.086034774780273, 15.744556427001953, 15.060821533203125, 14.930763244628906, 14.244145393371582, 13.800908088684082, 13.010612487792969, 12.659093856811523, 12.019423484802246, 27.534353256225586, 20.731395721435547, 18.730575561523438, 14.912904739379883, 237.26316833496094, 204.536865234375, 187.49134826660156, 165.25067138671875, 149.40785217285156, 134.61123657226562, 122.32046508789062, 107.31166076660156, 81.98193359375, 77.54029083251953, 49.679779052734375, 45.021507263183594, 44.84687805175781, 44.75408935546875, 43.94097900390625, 36.782596588134766, 32.76675796508789, 32.55874252319336, 30.2960147857666, 30.15423583984375, 29.7119197845459, 28.962987899780273, 28.886274337768555, 28.32403564453125, 27.567821502685547, 26.71120262145996, 24.873119354248047, 23.78053855895996, 23.88532829284668, 23.567176818847656, 55.62744140625, 106.0884017944336, 73.76986694335938, 60.39505386352539, 55.87050247192383, 48.522499084472656, 47.875431060791016, 47.393959045410156, 42.220455169677734, 37.06263732910156, 35.08277130126953, 33.481327056884766, 33.311866760253906, 32.384891510009766, 31.187040328979492, 29.561996459960938, 29.971603393554688, 26.071308135986328, 25.39674949645996, 24.527835845947266, 23.204566955566406, 22.638959884643555, 23.306203842163086, 20.553747177124023, 18.093435287475586, 17.46479034423828, 16.150510787963867, 15.615389823913574, 14.74019718170166, 15.244680404663086, 13.986604690551758, 14.112791061401367, 281.3654479980469, 161.70310974121094, 139.5234375, 103.57403564453125, 92.2707290649414, 81.2166748046875, 69.32749938964844, 57.67410659790039, 50.95320510864258, 50.10089111328125, 53.257652282714844, 46.49055099487305, 45.09165573120117, 44.26763916015625, 43.58707809448242, 38.963348388671875, 35.4561767578125, 34.59016799926758, 32.67802429199219, 32.46566390991211, 31.082677841186523, 30.72053337097168, 30.551673889160156, 29.49909210205078, 28.87586784362793, 27.02656364440918, 27.41042709350586, 25.611827850341797, 25.301898956298828, 24.312908172607422, 29.76134490966797, 33.2309455871582, 29.754180908203125, 69.58454132080078, 54.107479095458984, 53.19050216674805, 40.34077835083008, 39.504886627197266, 38.37165451049805, 36.43307113647461, 32.3437385559082, 30.254648208618164, 28.75093650817871, 27.83356475830078, 25.360822677612305, 24.760820388793945, 24.391813278198242, 24.191776275634766, 24.32380485534668, 22.51479148864746, 20.599184036254883, 15.713846206665039, 14.447671890258789, 16.95362663269043, 14.274011611938477, 14.123997688293457, 12.525193214416504, 12.64482593536377, 11.668954849243164, 11.42526912689209, 12.186101913452148, 10.890286445617676, 10.432394027709961, 20.394210815429688, 17.9226131439209, 297.9798583984375, 172.79449462890625, 94.94833374023438, 63.3681755065918, 56.65892028808594, 52.94837188720703, 52.1053466796875, 49.96549606323242, 41.27168655395508, 37.056400299072266, 35.89411163330078, 35.248355865478516, 35.04848861694336, 31.267255783081055, 30.909500122070312, 31.161151885986328, 27.548744201660156, 26.768552780151367, 26.014663696289062, 25.941818237304688, 25.669397354125977, 25.200090408325195, 25.09868049621582, 24.87360954284668, 24.65062713623047, 24.590476989746094, 24.55992889404297, 23.63489532470703, 22.61825942993164, 22.346202850341797, 24.338958740234375, 141.47967529296875, 69.05496215820312, 56.10164260864258, 44.528953552246094, 43.15269088745117, 40.67572784423828, 40.59531021118164, 33.39559555053711, 36.857173919677734, 30.91876983642578, 30.768938064575195, 30.5959529876709, 30.720462799072266, 27.737064361572266, 22.523359298706055, 20.748647689819336, 20.130971908569336, 19.996427536010742, 18.790802001953125, 17.89828872680664, 17.74513053894043, 15.57303524017334, 14.583918571472168, 13.23147964477539, 11.895166397094727, 11.71586799621582, 11.312088966369629, 10.936949729919434, 13.402774810791016, 10.18887710571289, 12.296693801879883, 22.467702865600586, 11.388548851013184, 106.38622283935547, 64.8885498046875, 48.733131408691406, 44.43762969970703, 39.80412673950195, 44.0436897277832, 34.459041595458984, 29.189611434936523, 28.23270606994629, 28.173070907592773, 25.709199905395508, 25.090665817260742, 23.719179153442383, 22.048442840576172, 20.781509399414062, 19.424755096435547, 18.997331619262695, 17.773466110229492, 17.14334487915039, 15.606039047241211, 14.909287452697754, 14.826316833496094, 14.707624435424805, 13.886791229248047, 13.07433032989502, 11.686360359191895, 8.467320442199707, 10.966437339782715, 7.7438836097717285, 7.501765727996826, 11.914825439453125, 14.159756660461426, 13.22690200805664, 86.0382080078125, 73.85064697265625, 70.19991302490234, 68.119384765625, 62.71366882324219, 61.61914825439453, 51.578407287597656, 47.1017951965332, 45.85806655883789, 40.933345794677734, 38.078102111816406, 36.873653411865234, 36.7545166015625, 34.979949951171875, 34.06861877441406, 34.125667572021484, 32.96046829223633, 31.516613006591797, 30.525875091552734, 30.04013442993164, 28.320310592651367, 28.645753860473633, 25.128177642822266, 23.89807891845703, 24.135391235351562, 23.059919357299805, 21.868751525878906, 21.697895050048828, 21.50246810913086, 21.05059051513672, 37.67194366455078, 48.6588249206543, 144.13116455078125, 143.95376586914062, 122.82904052734375, 81.48395538330078, 79.19185638427734, 79.65510559082031, 75.10503387451172, 68.97190856933594, 66.87706756591797, 66.00958251953125, 64.6181640625, 60.9183235168457, 58.842533111572266, 51.24423599243164, 50.52145004272461, 47.164981842041016, 45.009422302246094, 44.120609283447266, 42.61832046508789, 42.01641845703125, 38.66450500488281, 35.82892990112305, 34.973838806152344, 33.96404266357422, 33.20710754394531, 31.875757217407227, 31.62415313720703, 31.424232482910156, 30.66060447692871, 28.245738983154297], \"Term\": [\"business\", \"student\", \"program\", \"firm\", \"scholarship\", \"team\", \"work\", \"service\", \"university\", \"organisation\", \"idea\", \"company\", \"financial\", \"project\", \"win\", \"big\", \"engineering\", \"time\", \"opportunity\", \"world\", \"partner\", \"award\", \"people\", \"research\", \"skill\", \"follow\", \"head\", \"client\", \"encourage\", \"experience\", \"world\", \"partner\", \"sustainability\", \"waste\", \"rank\", \"practice\", \"science\", \"engineering\", \"mathematic\", \"corporation\", \"make\", \"investment\", \"june\", \"leadership\", \"integrate\", \"subject\", \"melbourne\", \"commerce\", \"additional\", \"city\", \"body\", \"look\", \"manager\", \"strategic\", \"structure\", \"act\", \"line\", \"multinational\", \"partnership\", \"series\", \"bank\", \"eligible\", \"bachelor\", \"lehman\", \"program\", \"firm\", \"work\", \"service\", \"idea\", \"big\", \"time\", \"people\", \"global\", \"develop\", \"potential\", \"give\", \"judge\", \"uk\", \"organization\", \"professional_service\", \"challenge\", \"course\", \"complete\", \"get\", \"management\", \"take\", \"back\", \"name\", \"success\", \"model\", \"free\", \"face\", \"sign\", \"need\", \"application\", \"win\", \"client\", \"professional\", \"career\", \"demonstrate\", \"step\", \"purpose\", \"discipline\", \"international\", \"solve\", \"growth\", \"focus\", \"receive\", \"come\", \"accountant\", \"mentor\", \"process\", \"grow\", \"continue\", \"plan\", \"item\", \"regulator\", \"matter\", \"america\", \"engagement\", \"board\", \"marketing\", \"formal\", \"september\", \"outcome\", \"courage\", \"student\", \"university\", \"project\", \"research\", \"experience\", \"create\", \"technology\", \"support\", \"role\", \"competition\", \"panel\", \"staff\", \"employee\", \"real\", \"community\", \"school\", \"market\", \"social\", \"engage\", \"october\", \"survey\", \"money\", \"understand\", \"initiative\", \"undergraduate\", \"place\", \"workplace\", \"environmental\", \"start\", \"collaboration\", \"postgraduate\", \"survive\", \"bachelor\", \"follow\", \"accounting\", \"week\", \"base\", \"consider\", \"information\", \"price\", \"offer\", \"relationship\", \"interest\", \"account\", \"announce\", \"agree\", \"form\", \"revenue\", \"campus\", \"fund\", \"bring\", \"technique\", \"raise\", \"universum\", \"determine\", \"site\", \"already\", \"scheme\", \"child\", \"comprise\", \"limited\", \"think\", \"join\", \"fine\", \"kid\", \"business\", \"scholarship\", \"award\", \"lead\", \"employer\", \"sponsor\", \"show\", \"leader\", \"entrepreneur\", \"establish\", \"good\", \"high\", \"participant\", \"help\", \"run\", \"equality\", \"office\", \"woman\", \"gain\", \"network\", \"building\", \"working_world\", \"degree\", \"co\", \"customer\", \"corporate\", \"valuable\", \"campaign\", \"auditor\", \"expect\", \"note\", \"team\", \"encourage\", \"benefit\", \"least\", \"apply\", \"large\", \"value\", \"member\", \"similar\", \"committee\", \"hope\", \"solution\", \"rule\", \"computer\", \"collaborate\", \"fail\", \"increasingly\", \"question\", \"cost\", \"reach\", \"personal\", \"important\", \"select\", \"effort\", \"thing\", \"unique\", \"thank\", \"believe\", \"representative\", \"past\", \"semester\", \"bachelor\", \"selection\", \"organisation\", \"head\", \"report\", \"impact\", \"must\", \"equipment\", \"learn\", \"alliance\", \"month\", \"available\", \"strategy\", \"currently\", \"claim\", \"education\", \"fraud\", \"everyone\", \"describe\", \"member_firm\", \"assist\", \"perform\", \"range\", \"digital\", \"actual\", \"allow\", \"operation\", \"clear\", \"hour\", \"consultation\", \"fitness\", \"south\", \"document\", \"detect\", \"data_analytics\", \"skill\", \"future\", \"provide\", \"event\", \"area\", \"build\", \"risk\", \"list\", \"year\", \"great\", \"development\", \"standard\", \"environment\", \"early\", \"part\", \"host\", \"case\", \"level\", \"brand\", \"present\", \"quality\", \"japan\", \"volunteer\", \"country\", \"field\", \"achieve\", \"commitment\", \"fall\", \"short\", \"addition\", \"agreement\", \"applicant\", \"company\", \"financial\", \"opportunity\", \"audit\", \"include\", \"problem\", \"industry\", \"tax\", \"hold\", \"analytic\", \"study\", \"issue\", \"period\", \"top\", \"australian\", \"datum\", \"would\", \"mean\", \"date\", \"national\", \"require\", \"become\", \"address\", \"life\", \"sustainable\", \"pay\", \"involve\", \"key\", \"close\", \"government\"], \"Total\": [298.0, 282.0, 238.0, 205.0, 173.0, 142.0, 188.0, 166.0, 162.0, 107.0, 150.0, 144.0, 144.0, 140.0, 106.0, 135.0, 99.0, 123.0, 123.0, 90.0, 83.0, 95.0, 108.0, 104.0, 86.0, 70.0, 65.0, 74.0, 69.0, 93.0, 90.84101104736328, 83.48218536376953, 60.22150421142578, 56.31918716430664, 53.06541442871094, 49.78610610961914, 43.28645324707031, 99.73031616210938, 39.97990417480469, 33.2706298828125, 31.580080032348633, 28.922863006591797, 31.173879623413086, 25.254194259643555, 25.006776809692383, 21.978988647460938, 20.145002365112305, 19.76424217224121, 23.765714645385742, 19.3946533203125, 19.784770965576172, 17.85701560974121, 16.515460968017578, 15.831625938415527, 15.701798439025879, 15.015717506408691, 14.571809768676758, 13.799070358276367, 13.429903030395508, 12.801469802856445, 29.533958435058594, 22.9831600189209, 139.3682403564453, 51.12763977050781, 238.03445434570312, 205.30804443359375, 188.26248168945312, 166.02200317382812, 150.17955017089844, 135.3824920654297, 123.0916748046875, 108.08273315429688, 82.75302124023438, 78.31150817871094, 50.451026916503906, 45.792972564697266, 45.62153625488281, 45.52888488769531, 44.712005615234375, 37.55393600463867, 33.53789138793945, 33.33042526245117, 31.068462371826172, 30.925336837768555, 30.483436584472656, 29.734106063842773, 29.658416748046875, 29.100502014160156, 28.339208602905273, 27.482311248779297, 25.645709991455078, 24.55209732055664, 24.664371490478516, 24.3386173248291, 71.43550872802734, 106.89442443847656, 74.53527069091797, 61.16061782836914, 56.63605499267578, 49.2889289855957, 48.6413459777832, 48.159427642822266, 43.009578704833984, 37.82843017578125, 35.848785400390625, 34.24683380126953, 34.07733917236328, 33.15044021606445, 31.95252227783203, 30.32872772216797, 30.788776397705078, 26.836761474609375, 26.162107467651367, 25.29343605041504, 23.969968795776367, 23.411479949951172, 24.115009307861328, 21.319435119628906, 18.85884666442871, 18.230796813964844, 16.91593360900879, 16.381135940551758, 15.505813598632812, 16.071712493896484, 14.752413749694824, 14.88891887664795, 282.14154052734375, 162.4790802001953, 140.32659912109375, 104.35004425048828, 93.04661560058594, 81.9924087524414, 70.1033706665039, 58.44974899291992, 51.72896194458008, 50.881385803222656, 54.119354248046875, 47.26676559448242, 45.86725997924805, 45.043949127197266, 44.36273193359375, 39.739280700683594, 36.231842041015625, 35.36585998535156, 33.45366668701172, 33.24702835083008, 31.85870361328125, 31.496374130249023, 31.327411651611328, 30.274860382080078, 29.684627532958984, 27.802217483520508, 28.216585159301758, 26.391094207763672, 26.077659606933594, 25.089025497436523, 31.197418212890625, 35.57683181762695, 139.3682403564453, 70.36168670654297, 54.88497543334961, 53.96766662597656, 41.11759948730469, 40.28546142578125, 39.14893341064453, 37.21901321411133, 33.12064743041992, 31.031572341918945, 29.529251098632812, 28.610851287841797, 26.143753051757812, 25.537654876708984, 25.168771743774414, 24.968538284301758, 25.141103744506836, 23.292049407958984, 21.376052856445312, 16.51041030883789, 15.224602699279785, 17.868541717529297, 15.051765441894531, 14.902098655700684, 13.303074836730957, 13.4472017288208, 12.451035499572754, 12.20258903503418, 13.019392013549805, 11.666979789733887, 11.209152221679688, 22.04083251953125, 21.40733528137207, 298.7528991699219, 173.62881469726562, 95.7217025756836, 64.14109802246094, 57.43274688720703, 53.721893310546875, 52.878517150878906, 50.73842239379883, 42.044593811035156, 37.82956314086914, 36.66705322265625, 36.02128219604492, 35.84946060180664, 32.040096282958984, 31.68276596069336, 31.942241668701172, 28.321758270263672, 27.541366577148438, 26.78803825378418, 26.714731216430664, 26.442373275756836, 25.97298812866211, 25.878236770629883, 25.64686393737793, 25.42375946044922, 25.363420486450195, 25.333768844604492, 24.412818908691406, 23.39211082458496, 23.120607376098633, 27.248197555541992, 142.26368713378906, 69.83905029296875, 56.88562774658203, 45.3155517578125, 43.936737060546875, 41.45948791503906, 41.37905502319336, 34.17947769165039, 37.759437561035156, 31.706207275390625, 31.554384231567383, 31.379810333251953, 31.530729293823242, 28.52327537536621, 23.310659408569336, 21.53863525390625, 20.915355682373047, 20.78013801574707, 19.57471466064453, 18.68240737915039, 18.529037475585938, 16.356712341308594, 15.368437767028809, 14.015192985534668, 12.678983688354492, 12.500024795532227, 12.115499496459961, 11.720569610595703, 14.378081321716309, 10.974424362182617, 13.410324096679688, 139.3682403564453, 53.059669494628906, 107.17678833007812, 65.68065643310547, 49.52316665649414, 45.22774887084961, 40.5943717956543, 44.92459487915039, 35.24917221069336, 29.98008155822754, 29.022775650024414, 28.963274002075195, 26.49907112121582, 25.881284713745117, 24.5100154876709, 22.838415145874023, 21.62580108642578, 20.21571159362793, 19.787702560424805, 18.563383102416992, 17.93338966369629, 16.397531509399414, 15.70011043548584, 15.61958122253418, 15.498356819152832, 14.676676750183105, 13.865187644958496, 12.476428985595703, 9.257938385009766, 12.0039701461792, 8.541147232055664, 8.292738914489746, 13.193984985351562, 19.917022705078125, 48.00958251953125, 86.80331420898438, 74.61553955078125, 70.96490478515625, 68.88447570800781, 63.478759765625, 62.38402557373047, 52.343624114990234, 47.86806869506836, 46.62297821044922, 41.698280334472656, 38.843040466308594, 37.638824462890625, 37.51967239379883, 35.74698257446289, 34.833465576171875, 34.89558029174805, 33.72585678100586, 32.28171157836914, 31.29077911376953, 30.8052921295166, 29.085222244262695, 29.439489364624023, 25.893009185791016, 24.66297721862793, 24.907926559448242, 23.82496452331543, 22.633729934692383, 22.46297836303711, 22.277355194091797, 21.81556510925293, 45.78205871582031, 82.22284698486328, 144.90447998046875, 144.72727966308594, 123.60255432128906, 82.25740051269531, 79.96524810791016, 80.44583129882812, 75.87861633300781, 69.74539947509766, 67.6509017944336, 66.78394317626953, 65.391845703125, 61.69165802001953, 59.62300109863281, 52.017574310302734, 51.295074462890625, 47.938358306884766, 45.78315353393555, 44.89592742919922, 43.39188766479492, 42.79012680053711, 39.43852233886719, 36.60222625732422, 35.74728012084961, 34.73748016357422, 33.980472564697266, 32.649112701416016, 32.397865295410156, 32.19805908203125, 31.435443878173828, 29.019222259521484], \"loglift\": [30.0, 29.0, 28.0, 27.0, 26.0, 25.0, 24.0, 23.0, 22.0, 21.0, 20.0, 19.0, 18.0, 17.0, 16.0, 15.0, 14.0, 13.0, 12.0, 11.0, 10.0, 9.0, 8.0, 7.0, 6.0, 5.0, 4.0, 3.0, 2.0, 1.0, 2.5355000495910645, 2.5346999168395996, 2.531100034713745, 2.530100107192993, 2.529400110244751, 2.52839994430542, 2.5260000228881836, 2.5251998901367188, 2.5232999324798584, 2.5206000804901123, 2.5192999839782715, 2.5169999599456787, 2.5160000324249268, 2.513000011444092, 2.512700080871582, 2.5083000659942627, 2.504699945449829, 2.5039000511169434, 2.5035998821258545, 2.5034000873565674, 2.503200054168701, 2.4999001026153564, 2.4962000846862793, 2.4941000938415527, 2.4937000274658203, 2.491300106048584, 2.4897000789642334, 2.4851999282836914, 2.4848999977111816, 2.4809999465942383, 2.473900079727173, 2.4409000873565674, 0.5371000170707703, 1.311900019645691, 1.9529999494552612, 1.9524999856948853, 1.9522000551223755, 1.9515999555587769, 1.9510999917984009, 1.950600028038025, 1.9500000476837158, 1.9491000175476074, 1.9469000101089478, 1.9464000463485718, 1.9408999681472778, 1.9392999410629272, 1.9392000436782837, 1.9391000270843506, 1.9388999938964844, 1.9355000257492065, 1.9329999685287476, 1.9328999519348145, 1.9311000108718872, 1.930999994277954, 1.9306999444961548, 1.9299999475479126, 1.929900050163269, 1.9292000532150269, 1.9286999702453613, 1.9278000593185425, 1.9256999492645264, 1.924399971961975, 1.9242000579833984, 1.9241000413894653, 1.7062000036239624, 2.4526000022888184, 2.449899911880493, 2.4475998878479004, 2.4465999603271484, 2.444499969482422, 2.4442999362945557, 2.444200038909912, 2.441699981689453, 2.43969988822937, 2.4386000633239746, 2.4375998973846436, 2.4375, 2.436800003051758, 2.4358999729156494, 2.4346001148223877, 2.433300018310547, 2.4312000274658203, 2.430500030517578, 2.4293999671936035, 2.4277000427246094, 2.4265999794006348, 2.426100015640259, 2.4235999584198, 2.4186999797821045, 2.4172000885009766, 2.4138998985290527, 2.4123001098632812, 2.4094998836517334, 2.4072999954223633, 2.406899929046631, 2.406599998474121, 1.975600004196167, 1.9736000299453735, 1.972599983215332, 1.970900058746338, 1.9700000286102295, 1.9687999486923218, 1.9672000408172607, 1.965000033378601, 1.9631999731063843, 1.9629000425338745, 1.9622999429702759, 1.9617999792099, 1.961300015449524, 1.9609999656677246, 1.9607000350952148, 1.9586000442504883, 1.9566999673843384, 1.9562000036239624, 1.9549000263214111, 1.9545999765396118, 1.9536999464035034, 1.9534000158309937, 1.9532999992370605, 1.9523999691009521, 1.950700044631958, 1.9500999450683594, 1.9493999481201172, 1.9484000205993652, 1.948199987411499, 1.9469000101089478, 1.9312000274658203, 1.910099983215332, 0.4341999888420105, 2.722899913787842, 2.7197000980377197, 2.7195000648498535, 2.714900016784668, 2.714400053024292, 2.713900089263916, 2.712599992752075, 2.710200071334839, 2.7086000442504883, 2.7072999477386475, 2.706399917602539, 2.7035999298095703, 2.7030999660491943, 2.7026000022888184, 2.702399969100952, 2.700900077819824, 2.700000047683716, 2.696899890899658, 2.684499979019165, 2.6816000938415527, 2.6814000606536865, 2.6809000968933105, 2.680299997329712, 2.6737000942230225, 2.6723999977111816, 2.669100046157837, 2.668100118637085, 2.667799949645996, 2.66510009765625, 2.662100076675415, 2.6563000679016113, 2.556299924850464, 2.2102999687194824, 2.2081000804901123, 2.2047998905181885, 2.2007999420166016, 2.199399948120117, 2.1984000205993652, 2.198199987411499, 2.1975998878479004, 2.1944000720977783, 2.1923000812530518, 2.1916000843048096, 2.191200017929077, 2.1902999877929688, 2.188499927520752, 2.188199996948242, 2.188199996948242, 2.1851999759674072, 2.184499979019165, 2.1835999488830566, 2.1835999488830566, 2.183300018310547, 2.1826999187469482, 2.182300090789795, 2.182300090789795, 2.181999921798706, 2.181999921798706, 2.1819000244140625, 2.180500030517578, 2.17930006980896, 2.1789000034332275, 2.0999999046325684, 2.595400094985962, 2.5896999835968018, 2.587100028991699, 2.5834999084472656, 2.5829999446868896, 2.581899881362915, 2.5817999839782715, 2.5778000354766846, 2.5768001079559326, 2.5757999420166016, 2.5757999420166016, 2.575700044631958, 2.574899911880493, 2.572999954223633, 2.5666000843048096, 2.5636000633239746, 2.562700033187866, 2.5625, 2.5601000785827637, 2.5580999851226807, 2.5576999187469482, 2.5518999099731445, 2.5485999584198, 2.5434000492095947, 2.5371999740600586, 2.5362000465393066, 2.532399892807007, 2.5318000316619873, 2.5306999683380127, 2.526700019836426, 2.5143001079559326, 0.7759000062942505, 1.0621999502182007, 2.8368000984191895, 2.8320000171661377, 2.8280999660491943, 2.8264999389648438, 2.82450008392334, 2.824399948120117, 2.821500062942505, 2.8173999786376953, 2.8166000843048096, 2.816499948501587, 2.8138999938964844, 2.8131000995635986, 2.8113999366760254, 2.809000015258789, 2.80430006980896, 2.80430006980896, 2.8034000396728516, 2.8006999492645264, 2.799099922180176, 2.7946999073028564, 2.7925000190734863, 2.7920000553131104, 2.791800022125244, 2.788800001144409, 2.785399913787842, 2.778700113296509, 2.7548999786376953, 2.7537999153137207, 2.7462000846862793, 2.7439000606536865, 2.7421998977661133, 2.503000020980835, 1.5549999475479126, 2.2490999698638916, 2.2476000785827637, 2.2471001148223877, 2.2467000484466553, 2.245800018310547, 2.2455999851226807, 2.2432000637054443, 2.24180006980896, 2.2414000034332275, 2.2393999099731445, 2.23799991607666, 2.2374000549316406, 2.237299919128418, 2.2362000942230225, 2.2356998920440674, 2.235599994659424, 2.234999895095825, 2.2339000701904297, 2.2332000732421875, 2.232800006866455, 2.231300115585327, 2.230600118637085, 2.2279000282287598, 2.2263998985290527, 2.2263998985290527, 2.2253000736236572, 2.2235000133514404, 2.223299980163574, 2.2225000858306885, 2.2221999168395996, 2.0629000663757324, 1.733299970626831, 1.9253000020980835, 1.9253000020980835, 1.924399971961975, 1.9212000370025635, 1.9208999872207642, 1.920799970626831, 1.9204000234603882, 1.9194999933242798, 1.919100046157837, 1.9190000295639038, 1.9186999797821045, 1.9179999828338623, 1.9175000190734863, 1.9156999588012695, 1.9154000282287598, 1.9143999814987183, 1.913599967956543, 1.9132000207901, 1.912600040435791, 1.9124000072479248, 1.9107999801635742, 1.9092999696731567, 1.9088000059127808, 1.9081000089645386, 1.9076000452041626, 1.9067000150680542, 1.906499981880188, 1.9062999486923218, 1.9056999683380127, 1.9035999774932861], \"logprob\": [30.0, 29.0, 28.0, 27.0, 26.0, 25.0, 24.0, 23.0, 22.0, 21.0, 20.0, 19.0, 18.0, 17.0, 16.0, 15.0, 14.0, 13.0, 12.0, 11.0, 10.0, 9.0, 8.0, 7.0, 6.0, 5.0, 4.0, 3.0, 2.0, 1.0, -3.250200033187866, -3.3355000019073486, -3.6656999588012695, -3.7337000370025635, -3.7939000129699707, -3.8587000370025635, -4.000999927520752, -3.1672000885009766, -4.083099842071533, -4.269599914550781, -4.322999954223633, -4.4131999015808105, -4.339300155639648, -4.552800178527832, -4.563000202178955, -4.696499824523926, -4.787199974060059, -4.807000160217285, -4.623000144958496, -4.826499938964844, -4.80679988861084, -4.912600040435791, -4.99429988861084, -5.038700103759766, -5.047399997711182, -5.0945000648498535, -5.126100063323975, -5.185100078582764, -5.212500095367432, -5.2642998695373535, -4.435400009155273, -4.719200134277344, -4.820700168609619, -5.048600196838379, -2.8694000244140625, -3.0178000926971436, -3.10479998588562, -3.231100082397461, -3.331899881362915, -3.436199903488159, -3.531899929046631, -3.6628000736236572, -3.9321000576019287, -3.987799882888794, -4.433000087738037, -4.531400203704834, -4.535299777984619, -4.537399768829346, -4.555699825286865, -4.733500003814697, -4.849100112915039, -4.855500221252441, -4.927499771118164, -4.932199954986572, -4.947000026702881, -4.972499847412109, -4.975200176239014, -4.994900226593018, -5.021900177001953, -5.053500175476074, -5.124800205230713, -5.1697001457214355, -5.165299892425537, -5.178699970245361, -4.319900035858154, -3.1703999042510986, -3.5336999893188477, -3.733799934387207, -3.8115999698638916, -3.952699899673462, -3.966099977493286, -3.9762001037597656, -4.091800212860107, -4.222099781036377, -4.2769999504089355, -4.323699951171875, -4.328800201416016, -4.35699987411499, -4.394700050354004, -4.448200225830078, -4.4344000816345215, -4.573800086975098, -4.600100040435791, -4.634900093078613, -4.690299987792969, -4.715000152587891, -4.685999870300293, -4.811600208282471, -4.9390997886657715, -4.9745001792907715, -5.052700042724609, -5.086400032043457, -5.144100189208984, -5.110400199890137, -5.196599960327148, -5.187600135803223, -2.676800012588501, -3.2307000160217285, -3.3782999515533447, -3.6761999130249023, -3.791800022125244, -3.9193999767303467, -4.077700138092041, -4.26170015335083, -4.3856000900268555, -4.402500152587891, -4.341400146484375, -4.477200031280518, -4.507800102233887, -4.526199817657471, -4.5416998863220215, -4.653900146484375, -4.748199939727783, -4.772900104522705, -4.829800128936768, -4.836299896240234, -4.879799842834473, -4.891600131988525, -4.89709997177124, -4.93209981918335, -4.953499794006348, -5.019700050354004, -5.0055999755859375, -5.073400020599365, -5.085599899291992, -5.125500202178955, -4.923299789428711, -4.813000202178955, -4.923500061035156, -3.3183000087738037, -3.5699000358581543, -3.5869998931884766, -3.8635001182556152, -3.884500026702881, -3.913599967956543, -3.965399980545044, -4.084499835968018, -4.151199817657471, -4.202199935913086, -4.234600067138672, -4.327700138092041, -4.351600170135498, -4.366600036621094, -4.374899864196777, -4.3694000244140625, -4.446700096130371, -4.535600185394287, -4.806300163269043, -4.890399932861328, -4.730400085449219, -4.902500152587891, -4.913000106811523, -5.033100128173828, -5.023600101470947, -5.104000091552734, -5.125100135803223, -5.0605998039245605, -5.172999858856201, -5.216000080108643, -4.545599937438965, -4.674799919128418, -2.3849000930786133, -2.929800033569336, -3.528599977493286, -3.933000087738037, -4.044899940490723, -4.112599849700928, -4.128699779510498, -4.170599937438965, -4.361800193786621, -4.4695000648498535, -4.501399993896484, -4.519499778747559, -4.525199890136719, -4.639400005340576, -4.650899887084961, -4.6427998542785645, -4.765999794006348, -4.7947001457214355, -4.823299884796143, -4.826099872589111, -4.836599826812744, -4.855100154876709, -4.859099864959717, -4.868100166320801, -4.877099990844727, -4.8796000480651855, -4.880799770355225, -4.9191999435424805, -4.963200092315674, -4.975299835205078, -4.889900207519531, -2.7416999340057373, -3.4590001106262207, -3.6666998863220215, -3.897700071334839, -3.9291000366210938, -3.988300085067749, -3.9902000427246094, -4.185500144958496, -4.0868000984191895, -4.262499809265137, -4.267399787902832, -4.2729997634887695, -4.269000053405762, -4.371099948883057, -4.5792999267578125, -4.661399841308594, -4.6915998458862305, -4.698299884796143, -4.760499954223633, -4.809199810028076, -4.817800045013428, -4.948299884796143, -5.013999938964844, -5.111299991607666, -5.217800140380859, -5.232900142669678, -5.26800012588501, -5.301700115203857, -5.098400115966797, -5.372600078582764, -5.184599876403809, -4.5817999839782715, -5.261300086975098, -2.783600091934204, -3.2780001163482666, -3.564300060272217, -3.656599998474121, -3.766700029373169, -3.6654999256134033, -3.910900115966797, -4.076900005340576, -4.110199928283691, -4.112299919128418, -4.203800201416016, -4.2281999588012695, -4.28439998626709, -4.357399940490723, -4.416600227355957, -4.484099864959717, -4.506400108337402, -4.572999954223633, -4.609099864959717, -4.703000068664551, -4.748700141906738, -4.754300117492676, -4.76230001449585, -4.819799900054932, -4.880000114440918, -4.992300033569336, -5.314499855041504, -5.055799961090088, -5.403800010681152, -5.4355998039245605, -4.972899913787842, -4.800300121307373, -4.8684000968933105, -3.5820999145507812, -3.7348999977111816, -3.785599946975708, -3.815700054168701, -3.898400068283081, -3.9159998893737793, -4.093800067901611, -4.184599876403809, -4.211400032043457, -4.324999809265137, -4.397299766540527, -4.4293999671936035, -4.432700157165527, -4.4822001457214355, -4.508600234985352, -4.506899833679199, -4.541600227355957, -4.586400032043457, -4.6184000968933105, -4.634399890899658, -4.693399906158447, -4.6819000244140625, -4.812900066375732, -4.863100051879883, -4.853300094604492, -4.898799896240234, -4.951900005340576, -4.959700107574463, -4.968800067901611, -4.989999771118164, -4.4079999923706055, -4.152100086212158, -3.3935000896453857, -3.394700050354004, -3.5534000396728516, -3.9637999534606934, -3.9923999309539795, -3.9865000247955322, -4.045300006866455, -4.130499839782715, -4.161399841308594, -4.1743998527526855, -4.195700168609619, -4.254700183868408, -4.289400100708008, -4.427599906921387, -4.441800117492676, -4.5106000900268555, -4.557400226593018, -4.577300071716309, -4.6118998527526855, -4.626200199127197, -4.7093000411987305, -4.7855000495910645, -4.809599876403809, -4.838900089263916, -4.861499786376953, -4.902400016784668, -4.910299777984619, -4.916600227355957, -4.941199779510498, -5.0233001708984375]}, \"token.table\": {\"Topic\": [5, 3, 5, 9, 1, 8, 9, 1, 10, 5, 2, 4, 6, 8, 9, 10, 8, 8, 5, 3, 10, 5, 2, 3, 4, 5, 6, 7, 8, 9, 10, 1, 2, 3, 4, 5, 6, 7, 8, 9, 10, 7, 9, 8, 10, 6, 10, 8, 6, 1, 2, 3, 4, 5, 6, 7, 8, 9, 10, 2, 1, 5, 10, 7, 7, 2, 3, 1, 9, 5, 9, 6, 6, 6, 5, 3, 9, 2, 5, 1, 8, 8, 3, 10, 6, 7, 4, 3, 1, 9, 7, 4, 10, 4, 2, 5, 7, 5, 8, 3, 6, 1, 7, 9, 3, 2, 4, 8, 6, 1, 2, 3, 4, 5, 7, 8, 9, 10, 10, 10, 6, 3, 8, 1, 3, 8, 10, 5, 2, 9, 8, 3, 8, 9, 8, 7, 1, 4, 6, 7, 4, 3, 1, 6, 9, 4, 6, 8, 6, 9, 8, 6, 4, 2, 7, 9, 9, 10, 5, 2, 8, 3, 5, 5, 3, 8, 2, 5, 9, 6, 2, 2, 2, 6, 10, 9, 3, 3, 8, 6, 6, 10, 7, 9, 8, 2, 8, 7, 10, 7, 10, 5, 4, 1, 5, 3, 1, 10, 10, 3, 9, 5, 2, 1, 10, 1, 3, 4, 5, 7, 6, 6, 1, 8, 7, 1, 2, 3, 4, 5, 6, 7, 8, 9, 10, 9, 10, 5, 1, 9, 1, 1, 2, 1, 4, 3, 1, 3, 10, 1, 7, 8, 3, 2, 4, 8, 1, 8, 2, 10, 2, 6, 6, 4, 5, 6, 8, 10, 8, 2, 3, 4, 9, 6, 1, 1, 7, 10, 2, 8, 10, 7, 4, 3, 4, 2, 1, 9, 5, 10, 3, 3, 2, 2, 4, 9, 3, 9, 7, 5, 8, 1, 7, 4, 3, 3, 5, 8, 7, 10, 4, 5, 9, 4, 7, 6, 5, 6, 4, 1, 7, 1, 2, 3, 4, 5, 6, 7, 8, 9, 10, 7, 3, 1, 2, 9, 6, 2, 7, 5, 9, 4, 7, 3, 8, 6, 4, 9, 4, 3, 1, 8, 1, 4, 10, 1, 2, 4, 4, 4, 1, 10, 2, 10, 7, 5, 4, 7, 7, 5, 2, 10, 2, 4, 4, 7, 4, 5, 6, 7, 9, 1, 5, 3, 6, 2, 6, 4, 1, 10, 9], \"Freq\": [0.9786496758460999, 0.9891611933708191, 0.9838758111000061, 0.9653739333152771, 0.9323563575744629, 0.967844545841217, 0.962615430355072, 0.9677807092666626, 0.979095458984375, 0.9789465665817261, 0.04368523508310318, 0.02184261754155159, 0.02184261754155159, 0.04368523508310318, 0.830019474029541, 0.02184261754155159, 0.9673089385032654, 0.9538944363594055, 0.9772176742553711, 0.9544591903686523, 0.9882615208625793, 0.9562513828277588, 0.12162069976329803, 0.012162069790065289, 0.15810690820217133, 0.03648620843887329, 0.012162069790065289, 0.012162069790065289, 0.024324139580130577, 0.595941424369812, 0.024324139580130577, 0.013998640701174736, 0.783923864364624, 0.013998640701174736, 0.027997281402349472, 0.013998640701174736, 0.027997281402349472, 0.04199592024087906, 0.027997281402349472, 0.013998640701174736, 0.027997281402349472, 0.978679895401001, 0.992457926273346, 0.947952389717102, 0.9847138524055481, 0.9832375049591064, 0.9942474961280823, 0.9667415618896484, 0.9924604296684265, 0.13632948696613312, 0.08610282838344574, 0.07175236195325851, 0.21525707840919495, 0.028700944036245346, 0.08610282838344574, 0.15785518288612366, 0.07892759144306183, 0.07175236195325851, 0.07175236195325851, 0.9778000116348267, 0.9480611681938171, 0.972819447517395, 0.9835467338562012, 0.9385209679603577, 0.9844314455986023, 0.9971747398376465, 0.9458537697792053, 0.9603345990180969, 0.9907072186470032, 0.9824077486991882, 0.9938441514968872, 0.9832702875137329, 0.9974798560142517, 0.9830901026725769, 0.9546120166778564, 0.9887694120407104, 0.9784777164459229, 0.9839617013931274, 0.9637752771377563, 0.9796514511108398, 0.9791915416717529, 0.9618136882781982, 0.9928185343742371, 0.9861479997634888, 0.9747780561447144, 0.9866730570793152, 0.9565935730934143, 0.9701894521713257, 0.9613320827484131, 0.9720006585121155, 0.9777265191078186, 0.9918234944343567, 0.9937580823898315, 0.9826776385307312, 0.9656094312667847, 0.9014480710029602, 0.9816544651985168, 0.9929140210151672, 0.9163634777069092, 0.9883987307548523, 0.9856714606285095, 0.9618092775344849, 0.9706399440765381, 0.9731185436248779, 0.9402965903282166, 0.9900863766670227, 0.9878963232040405, 0.9659489393234253, 0.9833321571350098, 0.06248752400279045, 0.10414587706327438, 0.020829174667596817, 0.06248752400279045, 0.020829174667596817, 0.14580422639846802, 0.2707792818546295, 0.06248752400279045, 0.2707792818546295, 0.990968644618988, 0.9804257154464722, 0.9660627245903015, 0.9941380620002747, 0.9601923227310181, 0.10041661560535431, 0.050208307802677155, 0.7029163241386414, 0.10041661560535431, 0.9301234483718872, 0.9960221648216248, 0.9782962203025818, 0.9603330492973328, 0.97652667760849, 0.9095053672790527, 0.9791036248207092, 0.9632892608642578, 0.927564799785614, 0.9137125015258789, 0.9810919761657715, 0.9924651384353638, 0.9879859685897827, 0.9864389300346375, 0.9324880242347717, 0.9826500415802002, 0.9751551151275635, 0.9861493110656738, 0.9851808547973633, 0.970501720905304, 0.979418933391571, 0.9780710339546204, 0.9871600270271301, 0.9398630261421204, 0.9515321254730225, 0.9887517094612122, 0.9775132536888123, 0.9749921560287476, 0.9793892502784729, 0.9635486602783203, 0.9949748516082764, 0.907406747341156, 0.9984995722770691, 0.9366423487663269, 0.9683854579925537, 0.9948596358299255, 0.9535626173019409, 0.967379093170166, 0.9710623025894165, 0.974821925163269, 0.9874613881111145, 0.9917505383491516, 0.9705824851989746, 0.9700783491134644, 0.982683539390564, 0.9909003973007202, 0.9818078279495239, 0.9648776650428772, 0.9832539558410645, 0.9555805325508118, 0.9635927081108093, 0.9896368980407715, 0.9675376415252686, 0.9716477990150452, 0.9903784990310669, 0.9824308156967163, 0.9743354320526123, 0.8641232848167419, 0.9921457171440125, 0.9728540778160095, 0.9781916737556458, 0.9879291653633118, 0.9562352299690247, 0.9884207844734192, 0.9706522226333618, 0.9578904509544373, 0.9597398638725281, 0.9820770621299744, 0.9781002998352051, 0.9680922627449036, 0.9877194166183472, 0.9887884855270386, 0.9824240207672119, 0.9850714206695557, 0.8921281099319458, 0.9863762259483337, 0.9623441100120544, 0.9627909660339355, 0.0467129610478878, 0.0467129610478878, 0.0467129610478878, 0.840833306312561, 0.9889171719551086, 0.9822095632553101, 0.9854465126991272, 0.9503371715545654, 0.9645616412162781, 0.9930365681648254, 0.29338338971138, 0.05867667868733406, 0.1760300248861313, 0.07823556661605835, 0.1369122415781021, 0.039117783308029175, 0.039117783308029175, 0.039117783308029175, 0.09779445827007294, 0.05867667868733406, 0.9912733435630798, 0.9787698984146118, 0.9217020273208618, 0.960759162902832, 0.981865406036377, 0.9520067572593689, 0.9816314578056335, 0.9841409921646118, 0.9687891602516174, 0.9660010933876038, 0.9767332673072815, 0.9754900932312012, 0.9850167036056519, 0.9800443649291992, 0.9431619644165039, 0.9654916524887085, 0.9696508646011353, 0.9743810296058655, 0.9824501276016235, 0.9842402935028076, 0.9647595286369324, 0.9420924782752991, 0.9853582978248596, 0.9621827006340027, 0.9815348386764526, 0.9860872626304626, 0.9732457995414734, 0.8807922005653381, 0.962492048740387, 0.9661647081375122, 0.9886391758918762, 0.9376000165939331, 0.9951250553131104, 0.9890201091766357, 0.9840757250785828, 0.9489972591400146, 0.9793169498443604, 0.9760728478431702, 0.9763047695159912, 0.9942240715026855, 0.9679891467094421, 0.9112095236778259, 0.9801185131072998, 0.9899823665618896, 0.9757566452026367, 0.9895510077476501, 0.9714481830596924, 0.9711455702781677, 0.9595339894294739, 0.9616180062294006, 0.9910600781440735, 0.9842103123664856, 0.973858654499054, 0.9672475457191467, 0.994458019733429, 0.968820333480835, 0.9810234308242798, 0.9852495789527893, 0.9956541657447815, 0.9976725578308105, 0.9864030480384827, 0.9759252071380615, 0.9626882076263428, 0.962457537651062, 0.9195642471313477, 0.9554073214530945, 0.9799225926399231, 0.9634732604026794, 0.9768237471580505, 0.9652963876724243, 0.9537628293037415, 0.9667573571205139, 0.9894359111785889, 0.9041540026664734, 0.9888808727264404, 0.9966455101966858, 0.9612096548080444, 0.9934352040290833, 0.985908031463623, 0.9831678867340088, 0.9784499406814575, 0.9667438864707947, 0.9963784217834473, 0.9813967347145081, 0.9933823943138123, 0.9760263562202454, 0.09423352777957916, 0.13192693889141083, 0.07538682222366333, 0.13192693889141083, 0.018846705555915833, 0.037693411111831665, 0.20731376111507416, 0.018846705555915833, 0.13192693889141083, 0.13192693889141083, 0.894832968711853, 0.9333168268203735, 0.9373923540115356, 0.9938441514968872, 0.987549901008606, 0.9833860993385315, 0.9730635285377502, 0.9798874855041504, 0.9394649863243103, 0.9907456040382385, 0.9896550178527832, 0.9878963232040405, 0.9763231873512268, 0.964699387550354, 0.9865623712539673, 0.9731996655464172, 0.9830275177955627, 0.958674967288971, 0.9868147969245911, 0.9474706053733826, 0.9811664819717407, 0.9553045630455017, 0.9959540367126465, 0.9940077066421509, 0.9554579854011536, 0.9880304336547852, 0.9923053979873657, 0.9730464816093445, 0.9275699257850647, 0.9797164797782898, 0.9711459875106812, 0.9753109812736511, 0.9893125891685486, 0.9911172986030579, 0.9690855741500854, 0.9842607975006104, 0.9079278707504272, 0.9464480876922607, 0.942831814289093, 0.9911311864852905, 0.9804378747940063, 0.9883835315704346, 0.9769366383552551, 0.9895487427711487, 0.9599980711936951, 0.9970514178276062, 0.9513927102088928, 0.986825168132782, 0.990839421749115, 0.9655115604400635, 0.9943325519561768, 0.9820694923400879, 0.9916326403617859, 0.9803435206413269, 0.9932940602302551, 0.962538480758667, 0.9568840265274048, 0.9907419681549072, 0.9828943014144897, 0.9866379499435425], \"Term\": [\"account\", \"accountant\", \"accounting\", \"achieve\", \"act\", \"actual\", \"addition\", \"additional\", \"address\", \"agree\", \"agreement\", \"agreement\", \"agreement\", \"agreement\", \"agreement\", \"agreement\", \"alliance\", \"allow\", \"already\", \"america\", \"analytic\", \"announce\", \"applicant\", \"applicant\", \"applicant\", \"applicant\", \"applicant\", \"applicant\", \"applicant\", \"applicant\", \"applicant\", \"application\", \"application\", \"application\", \"application\", \"application\", \"application\", \"application\", \"application\", \"application\", \"application\", \"apply\", \"area\", \"assist\", \"audit\", \"auditor\", \"australian\", \"available\", \"award\", \"bachelor\", \"bachelor\", \"bachelor\", \"bachelor\", \"bachelor\", \"bachelor\", \"bachelor\", \"bachelor\", \"bachelor\", \"bachelor\", \"back\", \"bank\", \"base\", \"become\", \"believe\", \"benefit\", \"big\", \"board\", \"body\", \"brand\", \"bring\", \"build\", \"building\", \"business\", \"campaign\", \"campus\", \"career\", \"case\", \"challenge\", \"child\", \"city\", \"claim\", \"clear\", \"client\", \"close\", \"co\", \"collaborate\", \"collaboration\", \"come\", \"commerce\", \"commitment\", \"committee\", \"community\", \"company\", \"competition\", \"complete\", \"comprise\", \"computer\", \"consider\", \"consultation\", \"continue\", \"corporate\", \"corporation\", \"cost\", \"country\", \"courage\", \"course\", \"create\", \"currently\", \"customer\", \"data_analytics\", \"data_analytics\", \"data_analytics\", \"data_analytics\", \"data_analytics\", \"data_analytics\", \"data_analytics\", \"data_analytics\", \"data_analytics\", \"date\", \"datum\", \"degree\", \"demonstrate\", \"describe\", \"detect\", \"detect\", \"detect\", \"detect\", \"determine\", \"develop\", \"development\", \"digital\", \"discipline\", \"document\", \"early\", \"education\", \"effort\", \"eligible\", \"employee\", \"employer\", \"encourage\", \"engage\", \"engagement\", \"engineering\", \"entrepreneur\", \"environment\", \"environmental\", \"equality\", \"equipment\", \"establish\", \"event\", \"everyone\", \"expect\", \"experience\", \"face\", \"fail\", \"fall\", \"field\", \"financial\", \"fine\", \"firm\", \"fitness\", \"focus\", \"follow\", \"form\", \"formal\", \"fraud\", \"free\", \"fund\", \"future\", \"gain\", \"get\", \"give\", \"global\", \"good\", \"government\", \"great\", \"grow\", \"growth\", \"head\", \"help\", \"high\", \"hold\", \"hope\", \"host\", \"hour\", \"idea\", \"impact\", \"important\", \"include\", \"increasingly\", \"industry\", \"information\", \"initiative\", \"integrate\", \"interest\", \"international\", \"investment\", \"involve\", \"issue\", \"item\", \"japan\", \"join\", \"judge\", \"june\", \"key\", \"kid\", \"kid\", \"kid\", \"kid\", \"large\", \"lead\", \"leader\", \"leadership\", \"learn\", \"least\", \"lehman\", \"lehman\", \"lehman\", \"lehman\", \"lehman\", \"lehman\", \"lehman\", \"lehman\", \"lehman\", \"lehman\", \"level\", \"life\", \"limited\", \"line\", \"list\", \"look\", \"make\", \"management\", \"manager\", \"market\", \"marketing\", \"mathematic\", \"matter\", \"mean\", \"melbourne\", \"member\", \"member_firm\", \"mentor\", \"model\", \"money\", \"month\", \"multinational\", \"must\", \"name\", \"national\", \"need\", \"network\", \"note\", \"october\", \"offer\", \"office\", \"operation\", \"opportunity\", \"organisation\", \"organization\", \"outcome\", \"panel\", \"part\", \"participant\", \"partner\", \"partnership\", \"past\", \"pay\", \"people\", \"perform\", \"period\", \"personal\", \"place\", \"plan\", \"postgraduate\", \"potential\", \"practice\", \"present\", \"price\", \"problem\", \"process\", \"professional\", \"professional_service\", \"program\", \"project\", \"provide\", \"purpose\", \"quality\", \"question\", \"raise\", \"range\", \"rank\", \"reach\", \"real\", \"receive\", \"regulator\", \"relationship\", \"report\", \"representative\", \"require\", \"research\", \"revenue\", \"risk\", \"role\", \"rule\", \"run\", \"scheme\", \"scholarship\", \"school\", \"science\", \"select\", \"selection\", \"selection\", \"selection\", \"selection\", \"selection\", \"selection\", \"selection\", \"selection\", \"selection\", \"selection\", \"semester\", \"september\", \"series\", \"service\", \"short\", \"show\", \"sign\", \"similar\", \"site\", \"skill\", \"social\", \"solution\", \"solve\", \"south\", \"sponsor\", \"staff\", \"standard\", \"start\", \"step\", \"strategic\", \"strategy\", \"structure\", \"student\", \"study\", \"subject\", \"success\", \"support\", \"survey\", \"survive\", \"sustainability\", \"sustainable\", \"take\", \"tax\", \"team\", \"technique\", \"technology\", \"thank\", \"thing\", \"think\", \"time\", \"top\", \"uk\", \"undergraduate\", \"understand\", \"unique\", \"university\", \"universum\", \"valuable\", \"value\", \"volunteer\", \"waste\", \"week\", \"win\", \"woman\", \"work\", \"working_world\", \"workplace\", \"world\", \"would\", \"year\"]}, \"R\": 30, \"lambda.step\": 0.01, \"plot.opts\": {\"xlab\": \"PC1\", \"ylab\": \"PC2\"}, \"topic.order\": [1, 2, 3, 4, 5, 6, 7, 8, 9, 10]};\n",
              "\n",
              "function LDAvis_load_lib(url, callback){\n",
              "  var s = document.createElement('script');\n",
              "  s.src = url;\n",
              "  s.async = true;\n",
              "  s.onreadystatechange = s.onload = callback;\n",
              "  s.onerror = function(){console.warn(\"failed to load library \" + url);};\n",
              "  document.getElementsByTagName(\"head\")[0].appendChild(s);\n",
              "}\n",
              "\n",
              "if(typeof(LDAvis) !== \"undefined\"){\n",
              "   // already loaded: just create the visualization\n",
              "   !function(LDAvis){\n",
              "       new LDAvis(\"#\" + \"ldavis_el1171402763173494721946139048\", ldavis_el1171402763173494721946139048_data);\n",
              "   }(LDAvis);\n",
              "}else if(typeof define === \"function\" && define.amd){\n",
              "   // require.js is available: use it to load d3/LDAvis\n",
              "   require.config({paths: {d3: \"https://cdnjs.cloudflare.com/ajax/libs/d3/3.5.5/d3.min\"}});\n",
              "   require([\"d3\"], function(d3){\n",
              "      window.d3 = d3;\n",
              "      LDAvis_load_lib(\"https://cdn.rawgit.com/bmabey/pyLDAvis/files/ldavis.v1.0.0.js\", function(){\n",
              "        new LDAvis(\"#\" + \"ldavis_el1171402763173494721946139048\", ldavis_el1171402763173494721946139048_data);\n",
              "      });\n",
              "    });\n",
              "}else{\n",
              "    // require.js not available: dynamically load d3 & LDAvis\n",
              "    LDAvis_load_lib(\"https://cdnjs.cloudflare.com/ajax/libs/d3/3.5.5/d3.min.js\", function(){\n",
              "         LDAvis_load_lib(\"https://cdn.rawgit.com/bmabey/pyLDAvis/files/ldavis.v1.0.0.js\", function(){\n",
              "                 new LDAvis(\"#\" + \"ldavis_el1171402763173494721946139048\", ldavis_el1171402763173494721946139048_data);\n",
              "            })\n",
              "         });\n",
              "}\n",
              "</script>"
            ],
            "text/plain": [
              "PreparedData(topic_coordinates=              x         y  topics  cluster       Freq\n",
              "topic                                                \n",
              "0      0.008250 -0.053890       1        1   7.854969\n",
              "1     -0.256039  0.190710       2        1  14.138177\n",
              "2      0.007897 -0.035174       3        1   8.542011\n",
              "3      0.002238 -0.101728       4        1  13.829665\n",
              "4      0.007748 -0.037660       5        1   6.496142\n",
              "5      0.001861 -0.086181       6        1  10.938076\n",
              "6      0.001237 -0.039847       7        1   7.420167\n",
              "7      0.008300 -0.032022       8        1   5.818290\n",
              "8     -0.004253 -0.030535       9        1  10.456815\n",
              "9      0.222761  0.226326      10        1  14.505683, topic_info=     Category        Freq          Term       Total  loglift  logprob\n",
              "0     Default  298.000000      business  298.000000  30.0000  30.0000\n",
              "137   Default  282.000000       student  282.000000  29.0000  29.0000\n",
              "107   Default  238.000000       program  238.000000  28.0000  28.0000\n",
              "194   Default  205.000000          firm  205.000000  27.0000  27.0000\n",
              "3628  Default  173.000000   scholarship  173.000000  26.0000  26.0000\n",
              "570   Default  142.000000          team  142.000000  25.0000  25.0000\n",
              "160   Default  188.000000          work  188.000000  24.0000  24.0000\n",
              "120   Default  166.000000       service  166.000000  23.0000  23.0000\n",
              "138   Default  162.000000    university  162.000000  22.0000  22.0000\n",
              "709   Default  107.000000  organisation  107.000000  21.0000  21.0000\n",
              "144   Default  150.000000          idea  150.000000  20.0000  20.0000\n",
              "262   Default  144.000000       company  144.000000  19.0000  19.0000\n",
              "265   Default  144.000000     financial  144.000000  18.0000  18.0000\n",
              "1271  Default  140.000000       project  140.000000  17.0000  17.0000\n",
              "2484  Default  106.000000           win  106.000000  16.0000  16.0000\n",
              "186   Default  135.000000           big  135.000000  15.0000  15.0000\n",
              "509   Default   99.000000   engineering   99.000000  14.0000  14.0000\n",
              "110   Default  123.000000          time  123.000000  13.0000  13.0000\n",
              "728   Default  123.000000   opportunity  123.000000  12.0000  12.0000\n",
              "90    Default   90.000000         world   90.000000  11.0000  11.0000\n",
              "580   Default   83.000000       partner   83.000000  10.0000  10.0000\n",
              "821   Default   95.000000         award   95.000000   9.0000   9.0000\n",
              "184   Default  108.000000        people  108.000000   8.0000   8.0000\n",
              "553   Default  104.000000      research  104.000000   7.0000   7.0000\n",
              "1130  Default   86.000000         skill   86.000000   6.0000   6.0000\n",
              "560   Default   70.000000        follow   70.000000   5.0000   5.0000\n",
              "57    Default   65.000000          head   65.000000   4.0000   4.0000\n",
              "356   Default   74.000000        client   74.000000   3.0000   3.0000\n",
              "784   Default   69.000000     encourage   69.000000   2.0000   2.0000\n",
              "510   Default   93.000000    experience   93.000000   1.0000   1.0000\n",
              "...       ...         ...           ...         ...      ...      ...\n",
              "262   Topic10  144.131165       company  144.904480   1.9253  -3.3935\n",
              "265   Topic10  143.953766     financial  144.727280   1.9253  -3.3947\n",
              "728   Topic10  122.829041   opportunity  123.602554   1.9244  -3.5534\n",
              "1285  Topic10   81.483955         audit   82.257401   1.9212  -3.9638\n",
              "233   Topic10   79.191856       include   79.965248   1.9209  -3.9924\n",
              "457   Topic10   79.655106       problem   80.445831   1.9208  -3.9865\n",
              "294   Topic10   75.105034      industry   75.878616   1.9204  -4.0453\n",
              "256   Topic10   68.971909           tax   69.745399   1.9195  -4.1305\n",
              "226   Topic10   66.877068          hold   67.650902   1.9191  -4.1614\n",
              "1675  Topic10   66.009583      analytic   66.783943   1.9190  -4.1744\n",
              "1161  Topic10   64.618164         study   65.391846   1.9187  -4.1957\n",
              "253   Topic10   60.918324         issue   61.691658   1.9180  -4.2547\n",
              "228   Topic10   58.842533        period   59.623001   1.9175  -4.2894\n",
              "219   Topic10   51.244236           top   52.017574   1.9157  -4.4276\n",
              "258   Topic10   50.521450    australian   51.295074   1.9154  -4.4418\n",
              "232   Topic10   47.164982         datum   47.938358   1.9144  -4.5106\n",
              "300   Topic10   45.009422         would   45.783154   1.9136  -4.5574\n",
              "235   Topic10   44.120609          mean   44.895927   1.9132  -4.5773\n",
              "1663  Topic10   42.618320          date   43.391888   1.9126  -4.6119\n",
              "243   Topic10   42.016418      national   42.790127   1.9124  -4.6262\n",
              "694   Topic10   38.664505       require   39.438522   1.9108  -4.7093\n",
              "247   Topic10   35.828930        become   36.602226   1.9093  -4.7855\n",
              "1412  Topic10   34.973839       address   35.747280   1.9088  -4.8096\n",
              "768   Topic10   33.964043          life   34.737480   1.9081  -4.8389\n",
              "1179  Topic10   33.207108   sustainable   33.980473   1.9076  -4.8615\n",
              "1104  Topic10   31.875757           pay   32.649113   1.9067  -4.9024\n",
              "1085  Topic10   31.624153       involve   32.397865   1.9065  -4.9103\n",
              "254   Topic10   31.424232           key   32.198059   1.9063  -4.9166\n",
              "248   Topic10   30.660604         close   31.435444   1.9057  -4.9412\n",
              "251   Topic10   28.245739    government   29.019222   1.9036  -5.0233\n",
              "\n",
              "[350 rows x 6 columns], token_table=      Topic      Freq           Term\n",
              "term                                \n",
              "1146      5  0.978650        account\n",
              "1612      3  0.989161     accountant\n",
              "354       5  0.983876     accounting\n",
              "361       9  0.965374        achieve\n",
              "944       1  0.932356            act\n",
              "1040      8  0.967845         actual\n",
              "1578      9  0.962615       addition\n",
              "612       1  0.967781     additional\n",
              "1412     10  0.979095        address\n",
              "1043      5  0.978947          agree\n",
              "1390      2  0.043685      agreement\n",
              "1390      4  0.021843      agreement\n",
              "1390      6  0.021843      agreement\n",
              "1390      8  0.043685      agreement\n",
              "1390      9  0.830019      agreement\n",
              "1390     10  0.021843      agreement\n",
              "1918      8  0.967309       alliance\n",
              "720       8  0.953894          allow\n",
              "1011      5  0.977218        already\n",
              "2318      3  0.954459        america\n",
              "1675     10  0.988262       analytic\n",
              "593       5  0.956251       announce\n",
              "3839      2  0.121621      applicant\n",
              "3839      3  0.012162      applicant\n",
              "3839      4  0.158107      applicant\n",
              "3839      5  0.036486      applicant\n",
              "3839      6  0.012162      applicant\n",
              "3839      7  0.012162      applicant\n",
              "3839      8  0.024324      applicant\n",
              "3839      9  0.595941      applicant\n",
              "...     ...       ...            ...\n",
              "1179     10  0.971146    sustainable\n",
              "1027      2  0.975311           take\n",
              "256      10  0.989313            tax\n",
              "570       7  0.991117           team\n",
              "3085      5  0.969086      technique\n",
              "19        4  0.984261     technology\n",
              "2352      7  0.907928          thank\n",
              "2516      7  0.946448          thing\n",
              "62        5  0.942832          think\n",
              "110       2  0.991131           time\n",
              "219      10  0.980438            top\n",
              "1337      2  0.988384             uk\n",
              "3126      4  0.976937  undergraduate\n",
              "740       4  0.989549     understand\n",
              "801       7  0.959998         unique\n",
              "138       4  0.997051     university\n",
              "3385      5  0.951393      universum\n",
              "857       6  0.986825       valuable\n",
              "377       7  0.990839          value\n",
              "1269      9  0.965512      volunteer\n",
              "2226      1  0.994333          waste\n",
              "36        5  0.982069           week\n",
              "2484      3  0.991633            win\n",
              "21        6  0.980344          woman\n",
              "160       2  0.993294           work\n",
              "749       6  0.962538  working_world\n",
              "3251      4  0.956884      workplace\n",
              "90        1  0.990742          world\n",
              "300      10  0.982894          would\n",
              "330       9  0.986638           year\n",
              "\n",
              "[381 rows x 3 columns], R=30, lambda_step=0.01, plot_opts={'xlab': 'PC1', 'ylab': 'PC2'}, topic_order=[1, 2, 3, 4, 5, 6, 7, 8, 9, 10])"
            ]
          },
          "metadata": {
            "tags": []
          },
          "execution_count": 120
        }
      ]
    },
    {
      "cell_type": "markdown",
      "metadata": {
        "id": "HmB7ZUQEYQyw",
        "colab_type": "text"
      },
      "source": [
        "# Conclusion --- EDIT\n",
        "\n",
        "The results of the Frequency Distribution, Word Cloud and LDA showed a similar result indicating that the organisation, company, business, brand and the people are vital to EY. The terms related to services such as public service, analytics, governance, audit and quality are not so much discussed in the documents provided. The disparity of the distribution of the terms could have influenced this result. It is recommended to increase the number of documents to be analysed to ensure more accurate results. Additional documents coming from different levels in the organisation would be ideal to make sure that the entire company is well represented. \n"
      ]
    }
  ]
}